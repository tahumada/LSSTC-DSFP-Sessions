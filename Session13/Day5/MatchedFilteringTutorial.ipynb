{
 "cells": [
  {
   "cell_type": "markdown",
   "metadata": {},
   "source": [
    "# Matched Filtering Tutorial"
   ]
  },
  {
   "cell_type": "markdown",
   "metadata": {},
   "source": [
    "This tutorial introduces matched filter in the context of detecting gravitational waves with LIGO. \n",
    "\n",
    "It borrows from a problem set developed by Christopher Berry.\n",
    "\n",
    "Author: Maya Fishbach"
   ]
  },
  {
   "cell_type": "code",
   "execution_count": null,
   "metadata": {},
   "outputs": [],
   "source": [
    "import numpy as np\n",
    "import matplotlib.pyplot as plt\n",
    "import pandas as pd\n",
    "\n",
    "%matplotlib inline"
   ]
  },
  {
   "cell_type": "markdown",
   "metadata": {},
   "source": [
    "Before we begin - download the [LIGO data](https://weinberg.northwestern.edu/about/events/leopold-lecture/index.html) necessary for this notebook. This download may take a bit of time."
   ]
  },
  {
   "cell_type": "markdown",
   "metadata": {},
   "source": [
    "## Problem 1) Detector Noise Curves\n",
    "\n",
    "Read in the Hanford (H1) and Livingston (L1) amplitude spectral densities (ASD) data files (`H1-ASD.txt`, `L1-ASD.txt`)."
   ]
  },
  {
   "cell_type": "code",
   "execution_count": null,
   "metadata": {},
   "outputs": [],
   "source": [
    "# Load the ASD data\n",
    "dir = './Matched_Filter_Data/' #point to your local directory containing the data files\n",
    "\n",
    "H1 = pd.read_csv(dir+'H1-ASD.txt', delim_whitespace=True)\n",
    "L1 = pd.read_csv(dir+'L1-ASD.txt', delim_whitespace=True)"
   ]
  },
  {
   "cell_type": "markdown",
   "metadata": {},
   "source": [
    "#### Problem 1a\n",
    "From the ASDs, calculate the power spectral densities (PSDs) $S_n(f)$."
   ]
  },
  {
   "cell_type": "code",
   "execution_count": null,
   "metadata": {},
   "outputs": [],
   "source": [
    "H1['PSD'] = #complete\n",
    "L1['PSD'] = #complete"
   ]
  },
  {
   "cell_type": "markdown",
   "metadata": {},
   "source": [
    "#### Problem 1b\n",
    "Plot the PSDs for Hanford and Livingston. "
   ]
  },
  {
   "cell_type": "code",
   "execution_count": null,
   "metadata": {},
   "outputs": [],
   "source": [
    "plt.loglog(#complete\n",
    "plt.loglog(#complete\n",
    "plt.ylabel(#complete\n",
    "plt.xlabel(#complete\n",
    "    \n",
    "plt.legend(loc = 'best')\n",
    "\n",
    "plt.xlim(10, 2000)\n",
    "plt.ylim(10**-47,10**-37)\n",
    "\n",
    "plt.show()"
   ]
  },
  {
   "cell_type": "markdown",
   "metadata": {},
   "source": [
    "#### Problem 1c\n",
    "\n",
    "(no code) Looking at your plot of the PSDs, at approximately what frequencies are the detectors most sensitive?"
   ]
  },
  {
   "cell_type": "markdown",
   "metadata": {},
   "source": [
    "Answer: "
   ]
  },
  {
   "cell_type": "markdown",
   "metadata": {},
   "source": [
    "#### Problem 1d\n",
    "These ASDs have been calculated from data sampled in the time domain. What is the maximum frequency of the ASDs? What does this imply for the minimum sampling rate for the time domain data? Explain why.\n",
    "\n",
    "##### Hint: You can find the actual sampling rate in the [GWOSC Open Data paper](https://arxiv.org/abs/1912.11716). "
   ]
  },
  {
   "cell_type": "code",
   "execution_count": null,
   "metadata": {},
   "outputs": [],
   "source": [
    "min_sampling_rate = #complete \n",
    "\n",
    "print('The minimum sampling rate is %.f'%(min_sampling_rate))"
   ]
  },
  {
   "cell_type": "markdown",
   "metadata": {},
   "source": [
    "Answer: "
   ]
  },
  {
   "cell_type": "markdown",
   "metadata": {},
   "source": [
    "## Problem 2) datastreams and template waveforms\n",
    "\n",
    "You have been given three noisy datastreams $h(t)$, each 600 seconds long, for the Hanford and Livingston detectors: `*1-a.txt`, `*1-b.txt` and `*1-c.txt`, where `*` is `H` for Hanford and `L` for Livingston.\n",
    "\n",
    "These data streams all contain Gaussian noise drawn from the PSDs in Problem 1. They may additionally contain signals from compact binary inspirals.  "
   ]
  },
  {
   "cell_type": "code",
   "execution_count": null,
   "metadata": {},
   "outputs": [],
   "source": [
    "# load the data\n",
    "H1a = pd.read_csv(dir+'H1-a.txt', delim_whitespace=True)\n",
    "H1b = pd.read_csv(dir+'H1-b.txt', delim_whitespace=True)\n",
    "H1c = pd.read_csv(dir+'H1-c.txt', delim_whitespace=True)\n",
    "L1a = pd.read_csv(dir+'L1-a.txt', delim_whitespace=True)\n",
    "L1b = pd.read_csv(dir+'L1-b.txt', delim_whitespace=True)\n",
    "L1c = pd.read_csv(dir+'L1-c.txt', delim_whitespace=True)"
   ]
  },
  {
   "cell_type": "markdown",
   "metadata": {},
   "source": [
    "You have also been given template waveforms $T(t)$ for a binary black hole, neutron star black hole, and binary neutron star coalescence: `bbh-waveform.txt`, `nsbh-waveform.txt` and `bns-waveform.txt`."
   ]
  },
  {
   "cell_type": "code",
   "execution_count": null,
   "metadata": {},
   "outputs": [],
   "source": [
    "#load the waveform templates\n",
    "bbh = pd.read_csv(dir+'bbh_waveform.txt', delim_whitespace=True)\n",
    "nsbh = pd.read_csv(dir+'nsbh_waveform.txt', delim_whitespace=True)\n",
    "bns = pd.read_csv(dir+'bns_waveform.txt', delim_whitespace=True)"
   ]
  },
  {
   "cell_type": "markdown",
   "metadata": {},
   "source": [
    "#### Problem 2a\n",
    "Plot the template waveforms $T(t)$. Try zooming into the last one or two seconds before merger (time = 0)."
   ]
  },
  {
   "cell_type": "code",
   "execution_count": null,
   "metadata": {},
   "outputs": [],
   "source": [
    "templates = [bbh, nsbh, bns]\n",
    "\n",
    "for i, T in enumerate(templates):\n",
    "    plt.plot(#complete\n",
    "\n",
    "plt.legend(loc = 'best')\n",
    "    \n",
    "plt.xlabel(#complete\n",
    "plt.ylabel(#complete\n",
    "\n",
    "#plt.xlim(-0.5, 0) #zoom into the last half second before merger\n",
    "\n",
    "plt.show()"
   ]
  },
  {
   "cell_type": "markdown",
   "metadata": {},
   "source": [
    "#### Problem 2b\n",
    "Plot the datastreams $h(t)$."
   ]
  },
  {
   "cell_type": "code",
   "execution_count": null,
   "metadata": {},
   "outputs": [],
   "source": [
    "H1_data = [H1a,H1b,H1c]\n",
    "L1_data = [L1a,L1b,L1c]\n",
    "labels = ['a','b','c']\n",
    "\n",
    "# plot the strain data\n",
    "f, axs = plt.subplots(nrows=3, ncols=2, sharex=True, figsize=(16,12))\n",
    "\n",
    "# label plots\n",
    "axs[0,0].set_title('Hanford', fontsize=20)\n",
    "axs[0,1].set_title('Livingston', fontsize=20)\n",
    "\n",
    "axs[2,0].set_xlabel('time (s)', fontsize=15)\n",
    "axs[2,1].set_xlabel('time (s)', fontsize=15)\n",
    "\n",
    "axs[0,0].set_ylabel('strain', fontsize=15)\n",
    "axs[1,0].set_ylabel('strain', fontsize=15)\n",
    "axs[2,0].set_ylabel('strain', fontsize=15)\n",
    "\n",
    "###complete"
   ]
  },
  {
   "cell_type": "markdown",
   "metadata": {},
   "source": [
    "Can you identify the presence of signals by eye?\n",
    "\n",
    "Answer:"
   ]
  },
  {
   "cell_type": "markdown",
   "metadata": {},
   "source": [
    "## Problem 3) Matched filter signal-to-noise ratio (SNR) time series\n",
    "\n",
    "Using template waveforms $T(t)$, we will calculate and plot the matched filter SNR  as a function of the time shift $\\tau$ between the template $T(t)$ and the data $h(t)$. We will repeat this for each of the three templates in each of the three datastreams, looking for peaks in the SNR time series that indicate the presence of gravitational-wave signals."
   ]
  },
  {
   "cell_type": "markdown",
   "metadata": {},
   "source": [
    "#### NOTE 1: \n",
    "We will first need to Fourier transform both the template $T(t)$ and the data $h(t)$. Do not worry about normalizing your Fourier transforms, as we are only interested in qualitative results here.\n",
    "\n",
    "##### NOTE 2: \n",
    "To do the SNR calculation as a function of the time shift $\\tau$, we will need the template to be the same length of the time as the data. There are two ways to achieve this: \n",
    "\n",
    "OPTION A: Artificially increase the length of the template waveform by zero-padding the template, such that the template is the same length of time as the data.\n",
    "\n",
    "OPTION B: Look at a small chunk of data at a time, taking chunks of the data with time durations equal to the template. Perform the SNR calculation by \"sliding\" the template across the shortened data. \n",
    "\n",
    "##### Here, we will go with the method in which we zero-pad the template"
   ]
  },
  {
   "cell_type": "markdown",
   "metadata": {},
   "source": [
    "#### Problem 3a\n",
    "Zero-pad the BBH, NSBH, and BNS templates so that the templates are the same length as the H1-(a,b,c) & L1-(a,b,c) datastreams. The data from H1-(a,b,c) & L1-(a,b,c) are the same size, so the padding on each template is the same regardless of the datastream."
   ]
  },
  {
   "cell_type": "code",
   "execution_count": null,
   "metadata": {},
   "outputs": [],
   "source": [
    "#Here we pad the template by placing zeros at the end\n",
    "\n",
    "def pad_template(template):\n",
    "    #complete\n",
    "    \n",
    "padded_bbh = pad_template(bbh)\n",
    "padded_bns = pad_template(bns)\n",
    "padded_nsbh = pad_template(nsbh)"
   ]
  },
  {
   "cell_type": "markdown",
   "metadata": {},
   "source": [
    "#### Problem 3b\n",
    "\n",
    "Compute the Fourier transform the templates and plot the Fourier-transformed templates $\\tilde{T}(f)$ as a function of frequency. Since the templates are all real, you only need to plot the positive Fourier frequencies and the magnitude of the Fourier transform.\n",
    "\n",
    "Notice that the sampling rate is the same for all the templates (and all the timestreams), so the sampled frequencies are the same. (In other words, since the time bins are the same, the frequency bins are the same.)"
   ]
  },
  {
   "cell_type": "code",
   "execution_count": null,
   "metadata": {},
   "outputs": [],
   "source": [
    "#first compute the corresponding frequency bins for the Fourier transform\n",
    "\n",
    "sample_spacing = #complete\n",
    "window_length = #complete\n",
    "freq = np.fft.fftfreq(window_length, d=sample_spacing)\n",
    "\n",
    "#now take the Fourier transforms of the templates\n",
    "\n",
    "Tf_bbh = np.fft.fft(padded_bbh) #Fourier transform of the BBH padded template\n",
    "Tf_nsbh = #complete #Fourier transform of the NSBH padded template\n",
    "Tf_bns = #complete #Fourier transform of the BNS padded template\n",
    "\n",
    "#select the positive frequencies and plot in log-log space\n",
    "\n",
    "sel = freq > 0\n",
    "\n",
    "labels = ['BBH', 'NSBH', 'BNS']\n",
    "for i, Tf in enumerate([Tf_bbh, Tf_nsbh, Tf_bns]):\n",
    "    plt.loglog(freq[sel], np.abs(Tf[sel]), label = labels[i])\n",
    "\n",
    "plt.legend(loc = 'best')\n",
    "\n",
    "plt.ylabel(#complete\n",
    "plt.xlabel(#complete\n",
    "plt.show()"
   ]
  },
  {
   "cell_type": "markdown",
   "metadata": {},
   "source": [
    "#### Problem 3c\n",
    "\n",
    "Compute the matched filter signal-to-noise ratio timeseries between the templates and the datastreams. Start by computing the matched filter SNR timeseries between the BBH template and the \"(a) datastream\" in the Hanford detector (H1-a).\n",
    "\n",
    "##### Note: we need to interpolate the PSDs so that we can evaluate them at the same frequencies as the templates and datastreams."
   ]
  },
  {
   "cell_type": "markdown",
   "metadata": {},
   "source": [
    "Recall that one can calculate the matched filter signal-to-noise ratio timeseries by taking the inverse Fourier transform of \n",
    "$$\n",
    "\\frac{\\tilde{T}^*(f) \\tilde{h}(f)}{S_n(f)}\n",
    "$$\n",
    "\n",
    "where $\\tilde{T}^*(f)$ is the complex conjugate of the template in the frequency domain, $\\tilde{h}(f)$ is the datastream in the frequency domain, and $S_n(f)$ is the PSD."
   ]
  },
  {
   "cell_type": "code",
   "execution_count": null,
   "metadata": {},
   "outputs": [],
   "source": [
    "def matched_filter_snr(template_Tf, freq_sampled, data_ht, psd):\n",
    "    \"\"\" Compute the matched filter SNR time series\n",
    "    template_Tf: waveform template in the frequency domain (Tf_bbh, Tf_nsbh, or Tf_bns from Problem 2)\n",
    "    freq_sampled: frequency bins corresponding to template_Tf, (freq from Problem 2)\n",
    "    data_ht: the datastream in the time domain, e.g. H1-a, L1-b\n",
    "    psd: the dataset containing the PSD data from problem 1, either H1 or L1.\n",
    "    returns: time, SNR values\n",
    "    \"\"\"\n",
    "    \n",
    "    #evaluate the PSD at the sampled frequencies: \n",
    "    #because we are working only with real timeseries, the negative frequencies are the same as the positive frequencies\n",
    "    \n",
    "    psd_interp = np.interp(np.abs(freq_sampled), #complete\n",
    "    \n",
    "    #Fourier transform the strain data to the frequency domain\n",
    "    data_hf = #complete\n",
    "    \n",
    "    #compute (unnormalized) matched filter SNR from template_Tf, data_hf, and psd_interp, in the frequency domain\n",
    "    snr_freq = #complete\n",
    "    \n",
    "    #inverse Fourier transform snr_freq to the time domain\n",
    "    snr_time = #complete\n",
    "    \n",
    "    return data_ht['time(s)'], np.abs(snr_time)\n",
    "\n"
   ]
  },
  {
   "cell_type": "code",
   "execution_count": null,
   "metadata": {},
   "outputs": [],
   "source": [
    "#compute the matched-filter SNR timeseries between the BBH template and H1-a\n",
    "\n",
    "time, snr_time = matched_filter_snr(#complete\n",
    "\n",
    "#plot the timeseries\n",
    "plt.plot(time, snr_time)\n",
    "\n",
    "plt.xlabel(#complete\n",
    "plt.ylabel(#complete\n",
    "plt.show()"
   ]
  },
  {
   "cell_type": "markdown",
   "metadata": {},
   "source": [
    "#### Problem 3d\n",
    "Plot the SNR timeseries for each template in each of the (a), (b) and (c) datastreams, in each detector (18 combinations total). Do you see spikes in the SNR value as a function of the time shift? Which waveform signals are embedded within which datastreams? \n",
    "\n",
    "##### Note: each datastream may contain multiple signals."
   ]
  },
  {
   "cell_type": "code",
   "execution_count": null,
   "metadata": {},
   "outputs": [],
   "source": [
    "#complete"
   ]
  },
  {
   "cell_type": "markdown",
   "metadata": {},
   "source": [
    "Which waveform signals are embedded within which datastreams? \n",
    "\n",
    "Answer:"
   ]
  },
  {
   "cell_type": "markdown",
   "metadata": {},
   "source": [
    "#### Problem 3e\n",
    "Using the results from part (d), overplot the signal time-domain waveforms over the datastreams that contain them. You can do this just for H1 datastreams, and just for one signal in each datastream. Your results should illustrate the power of matched filtering.  \n",
    "\n",
    "##### Note: think about how the zero time $\\tau = 0$ is defined. "
   ]
  },
  {
   "cell_type": "code",
   "execution_count": null,
   "metadata": {},
   "outputs": [],
   "source": [
    "# first we need to calculate the time at which the SNR timeseries peaks. We pick the loudest peak.\n",
    "\n",
    "def calculate_tau_maxSNR(#complete\n",
    "    \n",
    "    return tau\n",
    "    \n",
    "tau_a = calculate_tau_maxSNR(#complete #time at which the correct template peaks in the H1a datastream\n",
    "\n",
    "tau_b = calculate_tau_maxSNR(#complete #time at which the correct template peaks in the H1b datastream\n",
    "\n",
    "tau_c = calculate_tau_maxSNR(#complete #time at which the correct template peaks in the H1c datastream"
   ]
  },
  {
   "cell_type": "code",
   "execution_count": null,
   "metadata": {},
   "outputs": [],
   "source": [
    "times = H1a['time(s)']\n",
    "\n",
    "#make the plot for H1-a\n",
    "plt.title(\"Datastream a\")\n",
    "\n",
    "plt.plot(times, H1a['strain']) #plot the datastream\n",
    "plt.plot(#complete #overplot the correct template with the correct timelag \n",
    "plt.xlabel(#complete\n",
    "plt.ylabel(#complete\n",
    "plt.xlim(0, 600)\n",
    "plt.show()\n",
    "\n",
    "#make the plot for H1-b\n",
    "plt.title(\"Datastream b\")\n",
    "plt.plot(times, H1b['strain'])\n",
    "plt.plot(#complete #overplot the correct template with the correct timelag \n",
    "plt.xlabel(#complete\n",
    "plt.ylabel(#complete\n",
    "plt.xlim(0, 600)\n",
    "plt.show()\n",
    "\n",
    "#make the plot for H1-c\n",
    "plt.title(\"Datastream c\")\n",
    "plt.plot(times, H1c['strain'])\n",
    "plt.plot(#complete #overplot the correct template with the correct timelag \n",
    "plt.xlabel(#complete\n",
    "plt.ylabel(#complete\n",
    "plt.xlim(0, 600)\n",
    "plt.show()"
   ]
  },
  {
   "cell_type": "markdown",
   "metadata": {},
   "source": [
    "### Problem 4 (challenge): visualize data\n",
    "\n",
    "Experiment with whitening and bandpassing the data. This can make signals easier to see (for visualization purposes, as our eyes are not as good as matched filtering). As an example, have a look at Figure 3 of the [LIGO & Virgo Data Analysis Guide](https://arxiv.org/abs/1908.11170)."
   ]
  },
  {
   "cell_type": "markdown",
   "metadata": {},
   "source": [
    "#### Problem 4a \n",
    "Remake the plots from Problem 3e using whitened data."
   ]
  },
  {
   "cell_type": "code",
   "execution_count": null,
   "metadata": {},
   "outputs": [],
   "source": [
    "#complete"
   ]
  },
  {
   "cell_type": "markdown",
   "metadata": {},
   "source": [
    "#### Problem 4b\n",
    "Experiment with bandpassing the whitened data (e.g. using a Butterworth filter) to remove the noisiest frequencies, and remake some plots from Problem 3e."
   ]
  },
  {
   "cell_type": "code",
   "execution_count": null,
   "metadata": {},
   "outputs": [],
   "source": [
    "#complete"
   ]
  },
  {
   "cell_type": "markdown",
   "metadata": {},
   "source": [
    "#### Problem 4c\n",
    "Experiment with making time-frequency spectograms to visualize the data. Check out the [Q-transform](https://gwpy.github.io/docs/stable/examples/timeseries/qscan.html) from `gwpy`. "
   ]
  },
  {
   "cell_type": "code",
   "execution_count": null,
   "metadata": {},
   "outputs": [],
   "source": [
    "#complete"
   ]
  }
 ],
 "metadata": {
  "kernelspec": {
   "display_name": "Python 3 (ipykernel)",
   "language": "python",
   "name": "python3"
  },
  "language_info": {
   "codemirror_mode": {
    "name": "ipython",
    "version": 3
   },
   "file_extension": ".py",
   "mimetype": "text/x-python",
   "name": "python",
   "nbconvert_exporter": "python",
   "pygments_lexer": "ipython3",
   "version": "3.8.12"
  }
 },
 "nbformat": 4,
 "nbformat_minor": 2
}
