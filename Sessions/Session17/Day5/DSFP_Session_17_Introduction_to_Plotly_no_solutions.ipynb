{
 "cells": [
  {
   "cell_type": "markdown",
   "id": "98faf5c0",
   "metadata": {},
   "source": [
    "# DSFP Session 17 Introduction to Plotly\n",
    "\n",
    "### Based on a Tutorial by Aaron Geller (CIERA/Northwestern). \n",
    "\n",
    "Some wisdom from Aaron:\n",
    "\n",
    "If you already know Python and you don't really want to learn another coding language, but you do want to create interactive figures (e.g., within a Jupyter notebook and/or for use on a website), you should look into Plotly.  \n",
    "\n",
    "In particular, [Plotly express](https://plotly.com/python/plotly-express/) is a fantastic tool for generating quick interactive figures without much code.  Plotly express covers a good amount of ground, and you may be able to do all/most your work within Plotly express, depending on your specific needs.  In this workshop, I'll show you Plotly express, but then move beyond it for the majority of the content.  \n",
    "\n",
    "Though you can do a lot with Plotly, it definitely has limitations (some of which we'll see in this workshop). Also, as with all of the ready-made interactive plot solutions (e.g., [Bokeh](https://docs.bokeh.org/en/latest/), [Altair](https://altair-viz.github.io/), [Glue](https://glueviz.org/), etc.), Plotly has a specific look, which can only be tweaked to a certain extent.  If you like the look well enough and you don't mind the limitations, then it's a good choice. "
   ]
  },
  {
   "cell_type": "code",
   "execution_count": null,
   "id": "cb50fad7",
   "metadata": {},
   "outputs": [],
   "source": [
    "## Preliminaries\n",
    "\n",
    "import pandas as pd\n",
    "import numpy as np\n",
    "import scipy.stats\n",
    "\n",
    "import plotly.graph_objects as go\n",
    "from plotly.subplots import make_subplots\n",
    "import plotly.express as px"
   ]
  },
  {
   "cell_type": "markdown",
   "id": "0f69e12d",
   "metadata": {},
   "source": [
    "In the Session 17/Day 4 repository you will find three data files, we will use all three in this exercise. They are:\n",
    "\n",
    "1. plasticc_train_metadata.csv\n",
    "2. CTA_-_Ridership_-__L__Station_Entries_-_Daily_Totals.csv\n",
    "3. climate_data.csv"
   ]
  },
  {
   "cell_type": "markdown",
   "id": "845cc13c",
   "metadata": {},
   "source": [
    "## 1: Simulated Rubin Dataset \n",
    "\n",
    "We will start with using plotly express to generate plots of simulated Rubin data. \n",
    "\n",
    "Create a couple simple Plotly figures using [Plotly express](https://plotly.com/python/plotly-express/).\n",
    "\n",
    "Plotly express is a simplified version of the Plotly interface for Python that allows users to create many types of Plotly figures with single lines of code.  This greatly simplifies the workflow for some kinds of Plotly figures.  We will start with Plotly express (and for some of your use cases, that may be enough), but we will move on to full blown Plotly for the rest of this tutorial."
   ]
  },
  {
   "cell_type": "markdown",
   "id": "f7cfbba0",
   "metadata": {},
   "source": [
    "## 0) read in the data and examine it as a table"
   ]
  },
  {
   "cell_type": "markdown",
   "id": "8c9f8c8d",
   "metadata": {},
   "source": [
    "## a) Create a photo-z spec-z scatter plot with px.scatter(data, x = \"\", y = \"\")"
   ]
  },
  {
   "cell_type": "code",
   "execution_count": null,
   "id": "461ee5fc",
   "metadata": {},
   "outputs": [],
   "source": [
    "fig = px.scatter(, x = '', y = '',)\n",
    "fig.show()"
   ]
  },
  {
   "cell_type": "markdown",
   "id": "9b2b144f",
   "metadata": {},
   "source": [
    "## b) Now pick a graphical encoding s.t. that your data points express some feature of the dataset. Express supports size and color (or both)"
   ]
  },
  {
   "cell_type": "code",
   "execution_count": null,
   "id": "3294ca13",
   "metadata": {},
   "outputs": [],
   "source": [
    "encoding = ## encoding goes here \n",
    "fig = px.scatter()\n",
    "fig.show()"
   ]
  },
  {
   "cell_type": "markdown",
   "id": "806c582a",
   "metadata": {},
   "source": [
    "## c) Now add a hover menu that will display some properties of the data as you move over datapoints. You can do this with \"hover_name = \" and \"hover_data = \""
   ]
  },
  {
   "cell_type": "code",
   "execution_count": null,
   "id": "669cdf2b",
   "metadata": {},
   "outputs": [],
   "source": [
    "fig = px.scatter(, \n",
    "    hover_name = \n",
    "    hover_data = [\n",
    "    ]\n",
    ")\n",
    "\n",
    "fig.show()"
   ]
  },
  {
   "cell_type": "markdown",
   "id": "cd89fbc4",
   "metadata": {},
   "source": [
    "## d) change the data range with range = [min, max] in  fig.update_xaxes/fig.update_axes"
   ]
  },
  {
   "cell_type": "code",
   "execution_count": null,
   "id": "e1dc619a",
   "metadata": {},
   "outputs": [],
   "source": [
    "xmin, xmax = \n",
    "ymin, ymax = \n",
    "\n",
    "fig.update_xaxes(title = range = [xmin, xmax])\n",
    "fig.update_yaxes(title = range = [xmin, xmax])"
   ]
  },
  {
   "cell_type": "markdown",
   "id": "3710c3e6",
   "metadata": {},
   "source": [
    "## e) Now create a bar chart/histogram of some of the meta variables with px.histogram(data, x=\"\",...)\n",
    "Pick a color encoding s.t. that your histogram conveys a meaningful message about the types of sources in the plasticc dataset"
   ]
  },
  {
   "cell_type": "code",
   "execution_count": null,
   "id": "4642b798",
   "metadata": {},
   "outputs": [],
   "source": [
    "fig = px.histogram()\n",
    "fig.show()"
   ]
  },
  {
   "cell_type": "markdown",
   "id": "88ff7759",
   "metadata": {},
   "source": [
    "## f) Create the plot using the standard Plotly [Graph Object](https://plotly.com/python/graph-objects/).\n",
    "\n",
    "For the remainder of the tutorial we will use Graph Objects for our Plotly figures.  One motivation here is so that I can create multiple panels in one figure, which can be downloaded to an html file.  (Plotly express will only make an individual figure, and does not support arbitrary subplots.) \n",
    "\n",
    "First you create a <b>\"trace\"</b>, which holds the data.  There are many kinds of traces available in Plotly. (e.g., bar, scatter, etc.).  For this example, we will use a scatter trace.  (Interestingly, the scatter trace object also includes line traces, accessed by changing the \"mode\" key.  I will show the line version later on.)\n",
    "\n",
    "Then you create a figure and add the trace to that figure.  A single figure can have multiple traces."
   ]
  },
  {
   "cell_type": "code",
   "execution_count": null,
   "id": "daa1b03e",
   "metadata": {},
   "outputs": [],
   "source": [
    "# Create a plot using Plotly Graph Objects(s)\n",
    "\n",
    "# Note: We imported the plotly.graph_objects as go.\n",
    "# create the trace\n",
    "trace1 = go.Scatter(x = , y = , # x and y values for the plot\n",
    "    mode = '', # setting mode to markers produces a typical scatter plot\n",
    ")\n",
    "\n",
    "# create the figure \n",
    "fig = go.Figure()\n",
    "\n",
    "# add the trace and update a few parameters for the axes\n",
    "fig.add_trace(trace1)\n",
    "fig.update_xaxes()\n",
    "fig.update_yaxes()\n",
    "\n",
    "fig.show()"
   ]
  },
  {
   "cell_type": "markdown",
   "id": "d8f9cf46",
   "metadata": {},
   "source": [
    "# Part 2: Chicago Transit Authority Dataset\n",
    "\n",
    "In this part, we will explore a time-series dataset over multiple populations or clusters."
   ]
  },
  {
   "cell_type": "markdown",
   "id": "c3253b78",
   "metadata": {},
   "source": [
    "## 0) read in the data and visualize as a table\n",
    "Hint: for the next part to work, you will need to convert the dates in the table using the pd.to_datetime() method."
   ]
  },
  {
   "cell_type": "markdown",
   "id": "59e35126",
   "metadata": {},
   "source": [
    "## a) Create time series traces (entries over time) for entries at stations 42180 (blue) and 40900 (red) organized by daytype.\n",
    "\n",
    "Pick a reasonable color mapping for your data markers, and define a hovertemplate that provides the date, station name, and daytype when you hover over each point. Then create two plots side by side that enable comparison of the ridership data at both stations."
   ]
  },
  {
   "cell_type": "code",
   "execution_count": null,
   "id": "76173b8c",
   "metadata": {},
   "outputs": [],
   "source": [
    "# do this for the first station \n",
    "# you may need pandas df.loc, something like data.loc[data['feature'] == #####]\n",
    "\n",
    "trace_CTA = go.Scatter(x = , \n",
    "                y = , \n",
    "                \n",
    "                hovertemplate = ,\n",
    "                text = ,\n",
    "                hoverlabel=dict(\n",
    "                bgcolor = 'white',\n",
    "    )\n",
    "\n"
   ]
  },
  {
   "cell_type": "code",
   "execution_count": null,
   "id": "4280e13a",
   "metadata": {},
   "outputs": [],
   "source": [
    "# Create the trace(s) for the 2nd station"
   ]
  },
  {
   "cell_type": "markdown",
   "id": "38123fdb",
   "metadata": {},
   "source": [
    "## b) Now create a side-by-side figure showing the data with a shared y-axis"
   ]
  },
  {
   "cell_type": "code",
   "execution_count": null,
   "id": "55f8d977",
   "metadata": {},
   "outputs": [],
   "source": [
    "# Create the figure and add the traces\n",
    "# I will use Plotly's \"make_subplots\" method (imported above).\n",
    "# Define the number of rows and columns, the column_widths, spacing, and here I will share the y axis.\n",
    "\n",
    "# Sharing the y axis means that if you zoom/pan on one plot, the other will also zoom/pan.\n",
    "fig = make_subplots(rows = , cols = , column_widths = , horizontal_spacing = , shared_yaxes = True)\n",
    "\n",
    "# Add the first trace and update the axes.\n",
    "# Note that I specify which row and column within each of these commands.\n",
    "fig.add_trace(, row = 1, col = 1)\n",
    "\n",
    "fig.update_xaxes(title = 'Date', row = 1, col = 1)\n",
    "fig.update_yaxes(title = 'Entries', row = 1, col = 1)\n",
    "\n",
    "# Add the second trace and update the axes.\n",
    "\n",
    "\n",
    "# Provide an overall title to the figure.\n",
    "fig.update_layout(title_text = 'Blue Line (Jefferson Park Branch) Terminus vs Red (North Side) Terminus')\n",
    "\n",
    "# Show the final result\n",
    "fig.show()"
   ]
  },
  {
   "cell_type": "markdown",
   "id": "35a3f458",
   "metadata": {},
   "source": [
    "## c) What trends do you notice over time and by datetype?"
   ]
  },
  {
   "cell_type": "markdown",
   "id": "27c2d92b",
   "metadata": {},
   "source": [
    "## Part 3: Climate Data"
   ]
  },
  {
   "cell_type": "markdown",
   "id": "c281d568",
   "metadata": {},
   "source": [
    "## 0) Read in the data \n",
    "\n",
    "\"visualize it as a table\""
   ]
  },
  {
   "cell_type": "markdown",
   "id": "38a9b18b",
   "metadata": {},
   "source": [
    "## b) create two functions, createTraces and createButtons that will loop through the data in our dataset and allow you to select which is plotted."
   ]
  },
  {
   "cell_type": "code",
   "execution_count": null,
   "id": "086e437c",
   "metadata": {},
   "outputs": [],
   "source": [
    "columns = []\n",
    "region = 'Southwest'\n",
    "rollingAve = 3\n",
    "\n",
    "regional_data = # subselect the data to one region\n",
    "\n",
    "#I'm going to write this as a function so that I can reuse it below\n",
    "def createTraces(columns):\n",
    "    # For this scenario, I am going to add each of the 4 traces to the plot but only show one at a time\n",
    "    # Add traces for each column\n",
    "    \n",
    "    traces = [\n",
    "        go.Scatter(x = , y = .rolling(2).mean(), #rolling mean here improves the visualization\n",
    "            mode = 'lines', # Set the mode the lines (rather than markers) to show a line.\n",
    "            opacity = 1, \n",
    "            marker_color = 'black',\n",
    "            fill = 'tozeroy',  # This will fill between the line and y=0.\n",
    "            showlegend = False,\n",
    "            name = 'Climate Metric',\n",
    "            hovertemplate = 'Date: %{x}<br>Value: %{y}<extra></extra>', #Note: the <extra></extra> removes the trace label.\n",
    "            visible = i == 0\n",
    "        ) for i, c in enumerate(columns)\n",
    "    ]\n",
    "\n",
    "    \n",
    "    return traces\n",
    "\n",
    "\n",
    "# I'm going to write this as a function so that I can reuse it below\n",
    "# x,y args to position the buttons\n",
    "def createButtons(columns, x = 0.0, y = 1.13):\n",
    "    # create an \"updatemenu\" with buttons for choosing the data to plot that I will add to the figure later\n",
    "\n",
    "    updatemenu = dict(\n",
    "            type = 'buttons',\n",
    "            direction = 'left', # This defines what orientation to include all buttons.  'left' shows them in one row.\n",
    "            buttons = list([\n",
    "                dict(\n",
    "                    # 'args' tells the button what to do when clicked.  \n",
    "                    #     In this case it will change the visibility of the traces\n",
    "                    # 'label' is the text that will be displayed on the button\n",
    "                    # 'method' is the type of action the button will take.\n",
    "                    #    method = 'restyle' allows you to redefine certain preset plot styles (including the visible key).  \n",
    "                    #    See  https://plotly.com/python/custom-buttons/ for different methods and their uses\n",
    "                    args = [{'visible': [i == j for j in range(len(columns))]}], \n",
    "                    label = label.replace('_',' '),\n",
    "                    method = 'restyle' \n",
    "                ) for i, label in enumerate(columns)]),\n",
    "        \n",
    "            showactive = True, # Highlight the active button\n",
    "            # Below is for positioning\n",
    "            x = x, \n",
    "            xanchor = 'left',\n",
    "            y = y,\n",
    "            yanchor = 'top'\n",
    "        )\n",
    "    \n",
    "    return updatemenu"
   ]
  },
  {
   "cell_type": "markdown",
   "id": "7e934aec",
   "metadata": {},
   "source": [
    "## c) Now create the figure"
   ]
  },
  {
   "cell_type": "code",
   "execution_count": null,
   "id": "95da7f72",
   "metadata": {},
   "outputs": [],
   "source": [
    "# Create the figure.\n",
    "fig = go.Figure()\n",
    "\n",
    "# create the traces\n",
    "traces = createTraces(columns)\n",
    "\n",
    "# add the traces to the figure\n",
    "for t in traces:\n",
    "    fig.add_trace(t)\n",
    "    \n",
    "# create the buttons and add them to the figure below\n",
    "buttons = createButtons(columns)\n",
    "\n",
    "# Update a few parameters for the axes and add the buttons\n",
    "#   Note: I added a margin to the top ('t') of the plot within fig.update_layout to make room for the buttons.\n",
    "fig.update_xaxes(title = 'Date')#, range = [np.datetime64('2020-03-01'), np.datetime64('2022-01-12')])\n",
    "fig.update_yaxes(title = 'Value/Temp/Index')\n",
    "fig.update_layout(\n",
    "    title_text = 'Climate Data Explorer : '+ region + '<br>(' + 'July-to-July ' + str(rollingAve) +'-year rolling average)',\n",
    "    margin = dict(t = 150),\n",
    "    updatemenus = [buttons]\n",
    ")\n",
    "\n",
    "fig.show()"
   ]
  },
  {
   "cell_type": "markdown",
   "id": "fb263544",
   "metadata": {},
   "source": [
    "## d) Now add a drop down that allows you to change between the regions. Call this createDropdown"
   ]
  },
  {
   "cell_type": "code",
   "execution_count": null,
   "id": "bc5094c4",
   "metadata": {},
   "outputs": [],
   "source": [
    "# I am going to create the dropdown list here and then add it to the figure below\n",
    "# I will need to update the x and y data for the time series plot \n",
    "\n",
    "# Identify the countries to use \n",
    "# I will but The United States of America first so that it can be the default country on load (the first button)\n",
    "availableRegions = # get a list of the unique regions \n",
    "# availableRegions.insert(0, availableCountries.pop(availableCountries.index('United States of America'))) \n",
    "\n",
    "# I will write this as a function as well and then create a new figure in the next cell that uses this function\n",
    "# x,y args to position the dropdown\n",
    "def createDropdown(availableRegions, columns, x = 0.0, y = 1.1):\n",
    "    # create an \"updatemenu\" with a dropdown for choosing the data to plot that I will add to the figure later\n",
    "\n",
    "    dropdown = []\n",
    "    for c in availableRegions:\n",
    "        if (c in 'regions'):\n",
    "            dropdown.append(dict(\n",
    "                args = [{'x': [\"replace this with the appropriate column\" == c]['Date']]*len(columns), # the same x values for each trace\n",
    "                         'y': [\"replace this with the appropirate column\" == c][col].rolling(rollingAve).mean() for col in columns],\n",
    "                }],\n",
    "                label = c,\n",
    "                method = 'update'\n",
    "            ))\n",
    "\n",
    "    updatemenu = dict(\n",
    "        buttons = dropdown,\n",
    "            direction = 'down',\n",
    "            showactive = True,\n",
    "            x = x,\n",
    "            xanchor = 'left',\n",
    "            y = y,\n",
    "            yanchor = 'top'\n",
    "        )\n",
    "        \n",
    "\n",
    "    return updatemenu"
   ]
  },
  {
   "cell_type": "code",
   "execution_count": null,
   "id": "0a366e50",
   "metadata": {},
   "outputs": [],
   "source": [
    "# Create the figure.\n",
    "fig = go.Figure()\n",
    "\n",
    "# create the traces\n",
    "traces = createTraces(columns)\n",
    "\n",
    "# add the traces to the figure\n",
    "for t in traces:\n",
    "    fig.add_trace(t)\n",
    "\n",
    "# generate the menus to be added to the figure below\n",
    "updatemenus = [createButtons(columns, 0, 1.3), createDropdown(availableRegions, columns, 0, 1.15)]\n",
    "\n",
    "# Update a few parameters for the axes and add the buttons and dropdown\n",
    "fig.update_xaxes(title = 'Date')#, range = [np.datetime64('2020-03-01'), np.datetime64('2022-01-12')])\n",
    "fig.update_yaxes(title = 'Value/Temp/Index')\n",
    "fig.update_layout(\n",
    "    title_text = 'Climate Explorer : '+ region + '<br>(' + str(rollingAve) +'-year rolling average)',\n",
    "    title_y = 0.97,\n",
    "    margin = dict(t = 140),\n",
    "    updatemenus = updatemenus\n",
    ")\n",
    "\n",
    "fig.show()"
   ]
  },
  {
   "cell_type": "markdown",
   "id": "a9fe7d5c",
   "metadata": {},
   "source": [
    "## Optional Problem\n",
    "\n",
    "### Create Derived Features from the information in the meta-data. Use these derived features to visualize class boundaries.\n"
   ]
  },
  {
   "cell_type": "code",
   "execution_count": null,
   "id": "1ed7031e",
   "metadata": {},
   "outputs": [],
   "source": []
  }
 ],
 "metadata": {
  "kernelspec": {
   "display_name": "Python 3 (ipykernel)",
   "language": "python",
   "name": "python3"
  },
  "language_info": {
   "codemirror_mode": {
    "name": "ipython",
    "version": 3
   },
   "file_extension": ".py",
   "mimetype": "text/x-python",
   "name": "python",
   "nbconvert_exporter": "python",
   "pygments_lexer": "ipython3",
   "version": "3.9.12"
  }
 },
 "nbformat": 4,
 "nbformat_minor": 5
}
