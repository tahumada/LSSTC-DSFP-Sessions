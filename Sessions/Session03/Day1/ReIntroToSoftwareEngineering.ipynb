{
 "cells": [
  {
   "cell_type": "code",
   "execution_count": null,
   "metadata": {
    "collapsed": true,
    "slideshow": {
     "slide_type": "skip"
    }
   },
   "outputs": [],
   "source": [
    "from __future__ import print_function, absolute_import, division"
   ]
  },
  {
   "cell_type": "markdown",
   "metadata": {
    "slideshow": {
     "slide_type": "slide"
    }
   },
   "source": [
    "# Re-Introduction to Software Engineering:\n",
    "The initial chain of software development\n",
    "========\n",
    "\n",
    "#### Version 0.1\n",
    "\n",
    "***\n",
    "By AA Miller 2017 Apr 21\n",
    "\n",
    "\n"
   ]
  },
  {
   "cell_type": "markdown",
   "metadata": {
    "slideshow": {
     "slide_type": "subslide"
    }
   },
   "source": [
    "During the first session of the DSFP spent a significant amount of time learning about version control and `git`/`github`. As we have continued to use `git` as the software management system for the LSSTC DSFP, we will not be reviewing that material at this time. "
   ]
  },
  {
   "cell_type": "markdown",
   "metadata": {
    "slideshow": {
     "slide_type": "subslide"
    }
   },
   "source": [
    "Instead we are going to review the basic elements of software engineering as introduced to us by Jake VanderPlas. The four steps are (and note that I've omitted step 0, which is to use `git` for version control throughout this process):\n",
    "\n",
    "1. Begin the project in Jupyter notebook (this is best for exploration/before you know the final library structure) \n",
    "2. Create a python directory for the library (most important is an __init__.py file so you can import your library).\n",
    "3. Build unit tests (ensure that the library is portable/not broken)\n",
    "4. Develop a platform for continuous integration, e.g. [Travis-CI](https://travis-ci.org)"
   ]
  },
  {
   "cell_type": "markdown",
   "metadata": {
    "slideshow": {
     "slide_type": "slide"
    }
   },
   "source": [
    "Before we begin with the actual exercise, a quick aside. \n",
    "\n",
    "A quick note on modular programming. [Previously we urged you to build talks in a modular fashion - the idea here is similar but not exactly the same.] \n",
    "\n",
    "The idea - each individual \"idea\" should be contained within a single module. This does not mean every call to `NumPy` should \n"
   ]
  },
  {
   "cell_type": "markdown",
   "metadata": {
    "slideshow": {
     "slide_type": "subslide"
    }
   },
   "source": [
    "The basic appeal -- modular progamming improves:\n",
    "\n",
    "  * Readability - for the benefit of you(!) and others\n",
    "  * Reproducibility - our work is built on foundation of reproducibility [documentation also important]\n",
    "  * Easier to profile - easier to improve speed of modular programs"
   ]
  },
  {
   "cell_type": "markdown",
   "metadata": {
    "slideshow": {
     "slide_type": "slide"
    }
   },
   "source": [
    "## Problem 1) Develop the Code in Jupyter Notebook\n",
    "\n",
    "For this problem we are going to focus on the steps associated with development, and skip (most of) the nitty gritty for writing the code for this problem. We will start by creating a Jupyter notebook with the basics of our software. The is realtively simple: we will develop a script to retrieve the last $N$ tweets from any specified twitter user. The basics of such a script are as follows: \n",
    "\n",
    "    import tweepy\n",
    "\n",
    "    consumer_key = \"bhzpKBdspYr2xSDb0RxpI586q\"\n",
    "    consumer_secret = \"FfddeX3qatIeXoA51LJbgHs4qNsYAoNoWIqnlMISr3E7P4x03L\"\n",
    "    access_key = \"855466876364877825-pUkJcfH48x3rEnlFKvSLJaWZ0jzg6Nc\"\n",
    "    access_secret = \"9JHPalnxb6PVineBeCFFU5L98PD7EMOUBuwemM8vj8hA9\"\n",
    "\n",
    "    auth = tweepy.OAuthHandler(consumer_key, consumer_secret)\n",
    "    auth.set_access_token(access_key, access_secret)\n",
    "    api = tweepy.API(auth)\n",
    "\n",
    "    tweets = api.user_timeline(screen_name = twitter_acct ,count = Ntweets)\n",
    "    \n",
    "    return [tweet[0].text for tweet in tweets]\n",
    "    \n",
    "*Note 1* - you likely need to `pip install tweepy`. You may also need to restart your kernel after that installation.\n",
    "\n",
    "*Note 2* - I have created a dummy twitter account to provide keys and secret codes to use the `twitter` API. I will change those keys after Monday. It goes without saying that secret keys should not be uploaded to `github`. "
   ]
  },
  {
   "cell_type": "markdown",
   "metadata": {
    "slideshow": {
     "slide_type": "subslide"
    }
   },
   "source": [
    "**Problem 1a**\n",
    "\n",
    "Create a notebook with a function `get_recent_tweets` that returns the last $N$ tweets from any specified twitter user. \n",
    "\n",
    "Test the function by retrieving tweets. If you don't have a favorite twitter user, you can check my account, MillerAdamA (likely boring), or Lucianne's account, shaka_lulu (probably more interesting).\n",
    "\n",
    "*Hint* - only a small modification is needed to the example code given above."
   ]
  },
  {
   "cell_type": "code",
   "execution_count": null,
   "metadata": {
    "collapsed": false,
    "slideshow": {
     "slide_type": "subslide"
    }
   },
   "outputs": [],
   "source": []
  },
  {
   "cell_type": "markdown",
   "metadata": {
    "slideshow": {
     "slide_type": "slide"
    }
   },
   "source": [
    "## Problem 2) Create Python Library\n",
    "\n",
    "Create a directory `retrieve_tweets/` which will serve as your new Python library to retrieve tweets from twitter.\n",
    "\n",
    "Create an `__init__.py` file in `retrieve_tweets/`. The contents of this file can be empty.\n",
    "\n",
    "Create the file `get_recent_tweets.py` in `retrieve_tweets/`, and include the `get_recent_tweets` function that you previously developed in a Jupyter notebook as the contents of this file. \n",
    "\n",
    "**Problem 2a**\n",
    "\n",
    "Check your work by importing the `retrieve_tweets` library and running the `get_recent_tweets` function from that library. \n",
    "\n",
    "Use `github` to store the results of your work. "
   ]
  },
  {
   "cell_type": "markdown",
   "metadata": {
    "slideshow": {
     "slide_type": "slide"
    }
   },
   "source": [
    "## Problem 3) Create a Unit Test\n",
    "\n",
    "Create a directory `tests/` in `retrieve_tweets/`. In `tests/`, create an `__init__.py` file, and a `test_get_recent_tweets.py` file.\n",
    "\n",
    "**Problem 3a** \n",
    "\n",
    "Write a unit test for `get_recent_tweets.py` in `test_get_recent_tweets.py`.\n",
    "\n",
    "Run your unit test to make sure your software is working. \n",
    "\n",
    "*Hint* - Recall that `nosetests` is a great package for executing your unit tests."
   ]
  },
  {
   "cell_type": "markdown",
   "metadata": {
    "slideshow": {
     "slide_type": "slide"
    }
   },
   "source": [
    "## Challenge Problem) Continuous Integration\n",
    "\n",
    "Complete continuous integration of your library with `Travis-CI`."
   ]
  },
  {
   "cell_type": "code",
   "execution_count": null,
   "metadata": {
    "collapsed": true
   },
   "outputs": [],
   "source": []
  }
 ],
 "metadata": {
  "kernelspec": {
   "display_name": "Python 3",
   "language": "python",
   "name": "python3"
  },
  "language_info": {
   "codemirror_mode": {
    "name": "ipython",
    "version": 3
   },
   "file_extension": ".py",
   "mimetype": "text/x-python",
   "name": "python",
   "nbconvert_exporter": "python",
   "pygments_lexer": "ipython3",
   "version": "3.5.2"
  }
 },
 "nbformat": 4,
 "nbformat_minor": 2
}
