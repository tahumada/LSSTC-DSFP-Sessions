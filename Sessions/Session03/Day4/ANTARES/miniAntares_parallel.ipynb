{
 "cells": [
  {
   "cell_type": "code",
   "execution_count": null,
   "metadata": {
    "collapsed": true
   },
   "outputs": [],
   "source": [
    "from __future__ import absolute_import, print_function, division"
   ]
  },
  {
   "cell_type": "markdown",
   "metadata": {},
   "source": [
    "# Putting what you've learnt together:\n",
    "\n",
    "### Building an mini-ANTARES (ish) Pipeline for Data Management and Discovery\n",
    "========\n",
    "\n",
    "#### Version 0.2\n",
    "\n",
    "***\n",
    "By AA Miller 2017 Apr 10\n",
    "\n",
    "Edited G. Narayan 2017 Apr 26"
   ]
  },
  {
   "cell_type": "markdown",
   "metadata": {},
   "source": [
    "As we just saw LSST will produce an unprecedented volume of time-domain information for the astronomical sky. $>37$ trillion individual photometric measurements will be recorded. While the vast, vast majority of these measurements will simply confirm the status quo, some will represent rarities that have never been seen before (e.g., LSST may be the first telescope to discover the electromagnetic counterpart to a LIGO graviational wave event), which the community will need to know about in ~real time. \n",
    "\n",
    "Storing, filtering, and serving this data is going to be a huge <del>nightmare</del> challenge. ANTARES is one proposed solution to this challenge. In this exercise you will build a miniature version of ANTARES, which will require the application of several of the lessons from earlier this week. \n",
    "\n",
    "\n",
    "Many of the difficult, and essential, steps necessary for ANTARES will be skipped here as they are too time consuming or beyond the scope of what we have previously covered. We will point out these challenges are we come across them."
   ]
  },
  {
   "cell_type": "markdown",
   "metadata": {},
   "source": [
    "---\n",
    "\n",
    "## 0) There is a README.MD file along with this notebook.\n",
    "\n",
    "Before running this notebook you will need to follow the instructions in the README to setup your notebook and download the data.\n",
    "\n",
    "---"
   ]
  },
  {
   "cell_type": "markdown",
   "metadata": {},
   "source": [
    "If everything worked OK up to this point, congratulations! You now have access to a (mini) parallel computing environment of your own."
   ]
  },
  {
   "cell_type": "code",
   "execution_count": null,
   "metadata": {
    "collapsed": true
   },
   "outputs": [],
   "source": [
    "# first we need to construct a client that will interface with our cluster\n",
    "from ipyparallel import Client, require\n",
    "worker = Client()"
   ]
  },
  {
   "cell_type": "code",
   "execution_count": null,
   "metadata": {
    "collapsed": false
   },
   "outputs": [],
   "source": [
    "# once we create a client, we can decide how to allocate tasks across the cluster\n",
    "# we've got however many 'engines' you started in the cluster\n",
    "# lets just use all of them\n",
    "\n",
    "lview = worker[:]\n",
    "\n",
    "# now if you want to import packages, you can import them across all the 'engines'\n",
    "with lview.sync_imports():    \n",
    "    import numpy as np\n",
    "    import scipy.stats as spstat\n",
    "    import pandas as pd\n",
    "    import os\n",
    "\n",
    "# there's not much point in creating plots on the engines - we want to actually see them presumably\n",
    "import matplotlib.pyplot as plt\n",
    "%matplotlib notebook\n",
    "\n",
    "# If everything has worked so far, you should see a list of worker IDs, and a corresponding list of process IDs.\n",
    "# You can verify it with a `ps`\n",
    "ar = lview.apply_async(os.getpid)\n",
    "print(\"Engine ID:PID mapping: \", ar.get_dict())"
   ]
  },
  {
   "cell_type": "markdown",
   "metadata": {},
   "source": [
    "## Problem 1) Light Curve Data\n",
    "\n",
    "We begin by ignoring the streaming aspect of the problem and instead we will work with full light curves. One way of thinking about this is that we're working in a mode where LSST has been imaging this field at least a few times, so we have some historical data on it, which we've already associated with an alert from LSST.\n",
    "\n",
    "The collection of light curves has been curated by Gautham, and like LSST, it features objects of different types covering a large range in brightness and observations in multiple filters taken at different cadences.\n",
    "\n",
    "As the focus of this exercise is the construction of a data management pipeline, we have already created a Python `class` to read in the data and store light curves as objects. The data are stored in flat text files with the following format:\n",
    "\n",
    "|t               |pb   |flux        |dflux       |\n",
    "|:--------------:|:---:|:----------:|-----------:|\n",
    "|   56254.160000 |  i  |   6.530000 |   4.920000 |\n",
    "|   56254.172000 |  z  |   4.113000 |   4.018000 |\n",
    "|   56258.125000 |  g  |   5.077000 |  10.620000 |\n",
    "|   56258.141000 |  r  |   6.963000 |   5.060000 |\n",
    "|       .        |  .  |     .      |      .     |\n",
    "|       .        |  .  |     .      |      .     |\n",
    "|       .        |  .  |     .      |      .     |\n",
    "\n",
    "and names `FAKE0XX.dat` where the `XX` is a running index from `01` to `99`. "
   ]
  },
  {
   "cell_type": "markdown",
   "metadata": {},
   "source": [
    "**Problem 1a**\n",
    "\n",
    "Read in the data for the first light curve file and plot the $g'$ light curve for that source.\n",
    "\n",
    "*Hint* - Use `pandas` or `numpy`."
   ]
  },
  {
   "cell_type": "code",
   "execution_count": null,
   "metadata": {
    "collapsed": false
   },
   "outputs": [],
   "source": [
    "# execute this cell\n",
    "\n",
    "lc = pd.read_csv('training_set_for_LSST_DSFP/FAKE001.dat', delim_whitespace=True, comment = '#')\n",
    "\n",
    "plt.errorbar(np.array(lc['t'].ix[lc['pb'] == 'g']), \n",
    "             np.array(lc['flux'].ix[lc['pb'] == 'g']), \n",
    "             np.array(lc['dflux'].ix[lc['pb'] == 'g']), fmt = 'o', color = 'green')\n",
    "plt.xlabel('MJD')\n",
    "plt.ylabel('flux')"
   ]
  },
  {
   "cell_type": "markdown",
   "metadata": {},
   "source": [
    "As we have many light curve files (in principle as many as 37 billion...), we will define a light curve class to ease our handling of the data.\n",
    "\n",
    "** Problem 1b** \n",
    "\n",
    "Fix the `lc` class definition below.\n",
    "\n",
    "*Hint* - the only purpose of this problem is to make sure you actually read each line of code below, it is not intended to be difficult."
   ]
  },
  {
   "cell_type": "code",
   "execution_count": null,
   "metadata": {
    "collapsed": true
   },
   "outputs": [],
   "source": [
    "class ANTARESlc():\n",
    "    '''Light curve object for NOAO formatted data'''\n",
    "    \n",
    "    def __init__(self, filename):\n",
    "        DFlc = pd.read_csv(filename, delim_whitespace=True, comment = '#')\n",
    "        self.DFlc = DFlc\n",
    "        self.filename = filename\n",
    "        \n",
    "    def plot_multicolor_lc(self):\n",
    "        '''Plot the 4 band light curve'''\n",
    "        fig, ax = plt.subplots()\n",
    "        g = ax.plot_the_errorbars_please(self.DFlc['t'].ix[self.DFlc['pb'] == 'g'], \n",
    "                     self.DFlc['flux'].ix[self.DFlc['pb'] == 'g'],\n",
    "                     self.DFlc['dflux'].ix[self.DFlc['pb'] == 'g'],\n",
    "                     fmt = 'o', color = '#78A5A3', label = r\"$g'$\")\n",
    "        r = ax.plot_the_errorbars_please(self.DFlc['t'].ix[self.DFlc['pb'] == 'r'], \n",
    "                     self.DFlc['flux'].ix[self.DFlc['pb'] == 'r'],\n",
    "                     self.DFlc['dflux'].ix[self.DFlc['pb'] == 'r'],\n",
    "                     fmt = 'o', color = '#CE5A57', label = r\"$r'$\")\n",
    "        i = ax.plot_the_errorbars_please(self.DFlc['t'].ix[self.DFlc['pb'] == 'i'], \n",
    "                     self.DFlc['flux'].ix[self.DFlc['pb'] == 'i'],\n",
    "                     self.DFlc['dflux'].ix[self.DFlc['pb'] == 'i'],\n",
    "                     fmt = 'o', color = '#E1B16A', label = r\"$i'$\")\n",
    "        z = ax.plot_the_errorbars_please(self.DFlc['t'].ix[self.DFlc['pb'] == 'z'], \n",
    "                     self.DFlc['flux'].ix[self.DFlc['pb'] == 'z'],\n",
    "                     self.DFlc['dflux'].ix[self.DFlc['pb'] == 'z'],\n",
    "                     fmt = 'o', color = '#444C5C', label = r\"$z'$\")\n",
    "        ax.legend(fancybox = True)\n",
    "        ax.set_xlabel(r\"$\\mathrm{MJD}$\")\n",
    "        ax.set_ylabel(r\"$\\mathrm{flux}$\")"
   ]
  },
  {
   "cell_type": "markdown",
   "metadata": {},
   "source": [
    "**Problem 1c**\n",
    "\n",
    "Confirm the corrections made in **1b** by plotting the multiband light curve for the source `FAKE010`."
   ]
  },
  {
   "cell_type": "code",
   "execution_count": null,
   "metadata": {
    "collapsed": false
   },
   "outputs": [],
   "source": [
    "lc = # complete\n",
    "\n",
    "lc. # complete"
   ]
  },
  {
   "cell_type": "markdown",
   "metadata": {},
   "source": [
    "One thing that we brushed over previously is that the brightness measurements have units of flux, rather than the traditional use of magnitudes. The reason for this is that LSST will measure flux variations via image differencing, which will for some sources in some filters result in a measurement of *negative flux*. (You may have already noticed this in **1a**.) Statistically there is nothing wrong with such a measurement, but it is impossible to convert a negative flux into a magnitude. Thus we will use flux measurements throughout this exercise. \n",
    "\n",
    "[Aside - if you are bored during the next break, I'd be happy to rant about why we should have ditched the magnitude system years ago.]\n",
    "\n",
    "Using flux measurements will allow us to make unbiased measurements of the statistical distributions of the variations of the sources we care about. \n",
    "\n",
    "**Problem 1d**\n",
    "\n",
    "What is `FAKE010` the source that is plotted above?\n",
    "\n",
    "*Hint 1* - \"That's no moon!\".\n",
    "\n",
    "*Hint 2* - ask Szymon or Tomas... "
   ]
  },
  {
   "cell_type": "markdown",
   "metadata": {},
   "source": [
    "**Solution 1d**\n",
    "\n",
    "*Write your solution to 1d here*"
   ]
  },
  {
   "cell_type": "markdown",
   "metadata": {},
   "source": [
    "**Problem 1e**\n",
    "\n",
    "To get a better sense of the data, plot the multiband light curves for sources `FAKE060` and `FAKE073`."
   ]
  },
  {
   "cell_type": "code",
   "execution_count": null,
   "metadata": {
    "collapsed": false
   },
   "outputs": [],
   "source": [
    "lc60 # complete\n",
    "lc60 # complete\n",
    "\n",
    "lc73 # complete\n",
    "lc73 # complete "
   ]
  },
  {
   "cell_type": "markdown",
   "metadata": {},
   "source": [
    "## Problem 2) Data Preparation\n",
    "\n",
    "While we could create a database table that includes every single photometric measurement made by LSST, this ~37 trillion row db would be enormous without providing a lot of added value beyond the raw flux measurements [while this table is necessary, alternative tables may provide more useful]. Furthermore, extracting individual light curves from such a database will be slow. Instead, we are going to develop summary statistics for every source which will make it easier to select individual sources and develop classifiers to identify objects of interest.  \n",
    "\n",
    "Below we will redefine the `ANTARESlc` class to include additional methods so we can (eventually) store summary statistics in a database table. In the interest of time, we limit the summary statistics to a relatively small list all of which have been shown to be useful for classification (see [Richards et al. 2011](http://iopscience.iop.org/article/10.1088/0004-637X/733/1/10/meta) for further details). The statistics that we include (for now) are: \n",
    "\n",
    "1. `Std` -- the standard deviation of the flux measurements \n",
    "2. `Amp` -- the amplitude of flux deviations\n",
    "3. `MAD` -- the median absolute deviation of the flux measurements\n",
    "4. `beyond1std` -- the fraction of flux measurements beyond 1 standard deviation\n",
    "5. the mean $g' - r'$, $r' - i'$, and $i' - z'$ color\n"
   ]
  },
  {
   "cell_type": "markdown",
   "metadata": {},
   "source": [
    "**Problem 2a**\n",
    "\n",
    "Read through the expandanded definition of the `ANTARESlc` class. Feel free to improve the doc strings.\n",
    "\n",
    "*food for thought* - if a source is observed in different filters but the observations are not simultaneous (or quasi-simultaneous), what is the meaning of a \"mean color\"?\n",
    "\n",
    "*Solution to food for thought* - in this case we simply want to take the mean flux in each filter and create a statistic that is $-2.5 \\log \\frac{\\langle f_X \\rangle}{\\langle f_{Y} \\rangle}$, where ${\\langle f_{Y} \\rangle}$ is the mean flux in band $Y$, while $\\langle f_X \\rangle$ is the mean flux in band $X$, which can be $g', r', i', z'$. Note that our use of image-difference flux measurements, which can be negative, means you'll need to add some form a case excpetion if $\\langle f_X \\rangle$ or $\\langle f_Y \\rangle$ is negative. In these cases set the color to -999."
   ]
  },
  {
   "cell_type": "code",
   "execution_count": null,
   "metadata": {
    "collapsed": true
   },
   "outputs": [],
   "source": [
    "class ANTARESlc():\n",
    "    '''Light curve object for NOAO formatted data'''\n",
    "    \n",
    "    def __init__(self, filename):\n",
    "        '''Read in light curve data'''\n",
    "        DFlc = pd.read_csv(filename, delim_whitespace=True, comment = '#')\n",
    "        self.DFlc = DFlc\n",
    "        self.filename = filename\n",
    "        self.filter_flux()\n",
    "        \n",
    "    def plot_multicolor_lc(self):\n",
    "        '''Plot the 4 band light curve'''\n",
    "        fig, ax = plt.subplots()\n",
    "        g = ax.errorbar(self.DFlc['t'].ix[self.DFlc['pb'] == 'g'], \n",
    "                     self.DFlc['flux'].ix[self.DFlc['pb'] == 'g'],\n",
    "                     self.DFlc['dflux'].ix[self.DFlc['pb'] == 'g'],\n",
    "                     fmt = 'o', color = '#78A5A3', label = r\"$g'$\")\n",
    "        r = ax.errorbar(self.DFlc['t'].ix[self.DFlc['pb'] == 'r'], \n",
    "                     self.DFlc['flux'].ix[self.DFlc['pb'] == 'r'],\n",
    "                     self.DFlc['dflux'].ix[self.DFlc['pb'] == 'r'],\n",
    "                     fmt = 'o', color = '#CE5A57', label = r\"$r'$\")\n",
    "        i = ax.errorbar(self.DFlc['t'].ix[self.DFlc['pb'] == 'i'], \n",
    "                     self.DFlc['flux'].ix[self.DFlc['pb'] == 'i'],\n",
    "                     self.DFlc['dflux'].ix[self.DFlc['pb'] == 'i'],\n",
    "                     fmt = 'o', color = '#E1B16A', label = r\"$i'$\")\n",
    "        z = ax.errorbar(self.DFlc['t'].ix[self.DFlc['pb'] == 'z'], \n",
    "                     self.DFlc['flux'].ix[self.DFlc['pb'] == 'z'],\n",
    "                     self.DFlc['dflux'].ix[self.DFlc['pb'] == 'z'],\n",
    "                     fmt = 'o', color = '#444C5C', label = r\"$z'$\")\n",
    "        ax.legend(fancybox = True)\n",
    "        ax.set_xlabel(r\"$\\mathrm{MJD}$\")\n",
    "        ax.set_ylabel(r\"$\\mathrm{flux}$\")\n",
    "        \n",
    "    def filter_flux(self):\n",
    "        '''Store individual passband fluxes as object attributes'''\n",
    "        \n",
    "        self.gtime = self.DFlc['t'].ix[self.DFlc['pb'] == 'g']\n",
    "        self.gFlux = self.DFlc['flux'].ix[self.DFlc['pb'] == 'g']\n",
    "        self.gFluxUnc = self.DFlc['dflux'].ix[self.DFlc['pb'] == 'g']\n",
    "\n",
    "        self.rtime = self.DFlc['t'].ix[self.DFlc['pb'] == 'r']\n",
    "        self.rFlux = self.DFlc['flux'].ix[self.DFlc['pb'] == 'r']\n",
    "        self.rFluxUnc = self.DFlc['dflux'].ix[self.DFlc['pb'] == 'r']\n",
    "\n",
    "        self.itime = self.DFlc['t'].ix[self.DFlc['pb'] == 'i']\n",
    "        self.iFlux = self.DFlc['flux'].ix[self.DFlc['pb'] == 'i']\n",
    "        self.iFluxUnc = self.DFlc['dflux'].ix[self.DFlc['pb'] == 'i']\n",
    "\n",
    "        self.ztime = self.DFlc['t'].ix[self.DFlc['pb'] == 'z']\n",
    "        self.zFlux = self.DFlc['flux'].ix[self.DFlc['pb'] == 'z']\n",
    "        self.zFluxUnc = self.DFlc['dflux'].ix[self.DFlc['pb'] == 'z']\n",
    "\n",
    "    def weighted_mean_flux(self):\n",
    "        '''Measure (SNR weighted) mean flux in griz'''\n",
    "            \n",
    "        weighted_mean = lambda flux, dflux: np.sum(flux*(flux/dflux)**2)/np.sum((flux/dflux)**2)\n",
    "        \n",
    "        self.gMean = weighted_mean(self.gFlux, self.gFluxUnc)\n",
    "        self.rMean = weighted_mean(self.rFlux, self.rFluxUnc)\n",
    "        self.iMean = weighted_mean(self.iFlux, self.iFluxUnc)\n",
    "        self.zMean = weighted_mean(self.zFlux, self.zFluxUnc)\n",
    "\n",
    "    def normalized_flux_std(self):\n",
    "        '''Measure standard deviation of flux in griz'''\n",
    "\n",
    "        if not hasattr(self, 'gMean'):\n",
    "            self.weighted_mean_flux()\n",
    "        \n",
    "        normalized_flux_std = lambda flux, wMeanFlux: np.std(flux/wMeanFlux, ddof = 1) \n",
    "        \n",
    "        self.gStd = normalized_flux_std(self.gFlux, self.gMean) if len(self.gFlux) > 1 else -999\n",
    "        self.rStd = normalized_flux_std(self.rFlux, self.rMean) if len(self.iFlux) > 1 else -999\n",
    "        self.iStd = normalized_flux_std(self.iFlux, self.iMean) if len(self.rFlux) > 1 else -999\n",
    "        self.zStd = normalized_flux_std(self.zFlux, self.zMean) if len(self.zFlux) > 1 else -999\n",
    "\n",
    "    def normalized_amplitude(self):\n",
    "        '''Measure the normalized amplitude of variations in griz'''\n",
    "\n",
    "        if not hasattr(self, 'gMean'):\n",
    "            self.weighted_mean_flux()\n",
    "\n",
    "        normalized_amplitude = lambda flux, wMeanFlux: (np.max(flux) - np.min(flux))/wMeanFlux\n",
    "        \n",
    "        self.gAmp = normalized_amplitude(self.gFlux, self.gMean)\n",
    "        self.rAmp = normalized_amplitude(self.rFlux, self.rMean)\n",
    "        self.iAmp = normalized_amplitude(self.iFlux, self.iMean)\n",
    "        self.zAmp = normalized_amplitude(self.zFlux, self.zMean)\n",
    "\n",
    "    def normalized_MAD(self):\n",
    "        '''Measure normalized Median Absolute Deviation (MAD) in griz'''\n",
    "\n",
    "        if not hasattr(self, 'gMean'):\n",
    "            self.weighted_mean_flux()\n",
    "\n",
    "        normalized_MAD = lambda flux, wMeanFlux: np.median(np.abs((flux - np.median(flux))/wMeanFlux))\n",
    "        \n",
    "        self.gMAD = normalized_MAD(self.gFlux, self.gMean)\n",
    "        self.rMAD = normalized_MAD(self.rFlux, self.rMean)\n",
    "        self.iMAD = normalized_MAD(self.iFlux, self.iMean)\n",
    "        self.zMAD = normalized_MAD(self.zFlux, self.zMean)\n",
    "\n",
    "    def normalized_beyond_1std(self):\n",
    "        '''Measure fraction of flux measurements beyond 1 std'''\n",
    "\n",
    "        if not hasattr(self, 'gMean'):\n",
    "            self.weighted_mean_flux()\n",
    "        \n",
    "        beyond_1std = lambda flux, wMeanFlux: sum(np.abs(flux - wMeanFlux) > np.std(flux, ddof = 1))/len(flux)\n",
    "        \n",
    "        self.gBeyond = beyond_1std(self.gFlux, self.gMean)\n",
    "        self.rBeyond = beyond_1std(self.rFlux, self.rMean)\n",
    "        self.iBeyond = beyond_1std(self.iFlux, self.iMean)\n",
    "        self.zBeyond = beyond_1std(self.zFlux, self.zMean)\n",
    "    \n",
    "    def skew(self):\n",
    "        '''Measure the skew of the flux measurements'''\n",
    "            \n",
    "        skew = lambda flux: spstat.skew(flux) \n",
    "        \n",
    "        self.gSkew = skew(self.gFlux)\n",
    "        self.rSkew = skew(self.rFlux)\n",
    "        self.iSkew = skew(self.iFlux)\n",
    "        self.zSkew = skew(self.zFlux)\n",
    "        \n",
    "    def mean_colors(self):\n",
    "        '''Measure the mean g-r, g-i, and g-z colors'''\n",
    "\n",
    "        if not hasattr(self, 'gMean'):\n",
    "            self.weighted_mean_flux()\n",
    "        \n",
    "        self.gMinusR = -2.5*np.log10(self.gMean/self.rMean) if self.gMean> 0 and self.rMean > 0 else -999\n",
    "        self.rMinusI = -2.5*np.log10(self.rMean/self.iMean) if self.rMean> 0 and self.iMean > 0 else -999\n",
    "        self.iMinusZ = -2.5*np.log10(self.iMean/self.zMean) if self.iMean> 0 and self.zMean > 0 else -999"
   ]
  },
  {
   "cell_type": "markdown",
   "metadata": {},
   "source": [
    "**Problem 2b**\n",
    "\n",
    "Confirm your solution to **2a** by measuring the mean colors of source `FAKE010`. Does your measurement make sense given the plot you made in **1c**?"
   ]
  },
  {
   "cell_type": "code",
   "execution_count": null,
   "metadata": {
    "collapsed": false
   },
   "outputs": [],
   "source": [
    "lc = # complete\n",
    "\n",
    "lc. # complete\n",
    "\n",
    "print(\"The g'-r', r'-i', and 'i-z' colors are:\\\n",
    "    {:.3f}, {:.3f}, and {:.3f}, respectively.\". format( # complete"
   ]
  },
  {
   "cell_type": "markdown",
   "metadata": {},
   "source": [
    "## Problem 3) Store the sources in a database\n",
    "\n",
    "Building (and managing) a database from scratch is a challenging task. For (very) small projects one solution to this problem is to use [`SQLite`](http://sqlite.org/), which is a self-contained, publicly available SQL engine. One of the primary advantages of `SQLite` is that no server setup is required, unlike other popular tools such as postgres and MySQL. In fact, `SQLite` is already integrated with python so everything we want to do (create database, add tables, load data, write queries, etc.) can be done within Python.\n",
    "\n",
    "Without diving too deep into the details, here are situations where `SQLite` has advantages and disadvantages [according to their own documentation](http://sqlite.org/whentouse.html):\n",
    "\n",
    "*Advantages*\n",
    "\n",
    "1. Situations where expert human support is not needed\n",
    "2. For basic data analysis (`SQLite` is easy to install and manage for new projects)\n",
    "3. Education and training\n",
    "\n",
    "*Disadvantages*\n",
    "\n",
    "1. Client/Server applications (`SQLite` does not behave well if multiple systems need to access db at the same time)\n",
    "2. Very large data sets (`SQLite` stores entire db in a single disk file, other solutions can store data across multiple files/volumes)\n",
    "3. High concurrency (Only 1 writer allowed at a time for `SQLite`)\n",
    "\n",
    "From the (limited) lists above, you can see that while `SQLite` is perfect for our application right now, if you were building an actual ANTARES-like system a more sophisticated database solution would be required.  "
   ]
  },
  {
   "cell_type": "markdown",
   "metadata": {},
   "source": [
    "**Problem 3a**\n",
    "\n",
    "Import sqlite3 into the notebook. \n",
    "\n",
    "*Hint* - if this doesn't work, you may need to `conda install sqlite3` or `pip install sqlite3`."
   ]
  },
  {
   "cell_type": "code",
   "execution_count": null,
   "metadata": {
    "collapsed": true
   },
   "outputs": [],
   "source": [
    "import sqlite3"
   ]
  },
  {
   "cell_type": "markdown",
   "metadata": {},
   "source": [
    "Following the `sqlite3` import, we must first connect to the database. If we attempt a connection to a database that does not exist, then a new database is created. Here we will create a new database file, called `miniANTARES.db`."
   ]
  },
  {
   "cell_type": "code",
   "execution_count": null,
   "metadata": {
    "collapsed": true
   },
   "outputs": [],
   "source": [
    "conn = sqlite3.connect(\"miniANTARES.db\")"
   ]
  },
  {
   "cell_type": "markdown",
   "metadata": {},
   "source": [
    "We now have a database connection object, `conn`. To interact with the database (create tables, load data, write queries) we need a cursor object."
   ]
  },
  {
   "cell_type": "code",
   "execution_count": null,
   "metadata": {
    "collapsed": true
   },
   "outputs": [],
   "source": [
    "cur = conn.cursor()"
   ]
  },
  {
   "cell_type": "markdown",
   "metadata": {},
   "source": [
    "Now that we have a cursor object, we can populate the database. As an example we will start by creating a table to hold all the raw photometry (though ultimately we will not use this table for analysis).\n",
    "\n",
    "*Note* - there are many cursor methods capable of interacting with the database. The most common, [`execute`](https://docs.python.org/3/library/sqlite3.html#sqlite3.Cursor.execute), takes a single `SQL` command as its argument and executes that command. Other useful methods include [`executemany`](https://docs.python.org/3/library/sqlite3.html#sqlite3.Cursor.executemany), which is useful for inserting data into the database, and [`executescript`](https://docs.python.org/3/library/sqlite3.html#sqlite3.Cursor.executescript), which take an `SQL` script as its argument and executes the script.\n",
    "\n",
    "In many cases, as below, it will be useful to use triple quotes in order to improve the legibility of your code."
   ]
  },
  {
   "cell_type": "code",
   "execution_count": null,
   "metadata": {
    "collapsed": false
   },
   "outputs": [],
   "source": [
    "cur.execute(\"\"\"drop table if exists rawPhot\"\"\") # drop the table if is already exists\n",
    "cur.execute(\"\"\"create table rawPhot(\n",
    "                id integer primary key,\n",
    "                objId int,\n",
    "                t float, \n",
    "                pb varchar(1),\n",
    "                flux float,\n",
    "                dflux float) \n",
    "\"\"\")"
   ]
  },
  {
   "cell_type": "markdown",
   "metadata": {},
   "source": [
    "Let's unpack everything that happened in these two commands. First - if the table `rawPhot` already exists, we drop it to start over from scratch. (this is useful here, but should not be adopted as general practice)\n",
    "\n",
    "Second - we create the new table `rawPhot`, which has 6 columns: `id` - a running index for every row in the table, `objId` - an ID to identify which source the row belongs to, `t` - the time of observation in MJD, `pb` - the passband of the observation, `flux` the observation flux, and `dflux` the uncertainty on the flux measurement. In addition to naming the columns, we also must declare their type. We have declared `id` as the primary key, which means this value will automatically be assigned and incremented for all data inserted into the database. We have also declared `pb` as a variable character of length 1, which is more useful and restrictive than simply declaring `pb` as `text`, which allows any freeform string.\n",
    "\n",
    "Now we need to insert the raw flux measurements into the database. To do so, we will use the `ANTARESlc` class that we created earlier. As an initial example, we will insert the first 3 observations from the source `FAKE010`."
   ]
  },
  {
   "cell_type": "code",
   "execution_count": null,
   "metadata": {
    "collapsed": false
   },
   "outputs": [],
   "source": [
    "filename = \"training_set_for_LSST_DSFP/FAKE001.dat\"\n",
    "lc = ANTARESlc(filename)\n",
    "\n",
    "objId = int(filename.split('FAKE')[1].split(\".dat\")[0])\n",
    "\n",
    "cur.execute(\"\"\"insert into rawPhot(objId, t, pb, flux, dflux) values {}\"\"\".format((objId,) + tuple(lc.DFlc.ix[0])))\n",
    "cur.execute(\"\"\"insert into rawPhot(objId, t, pb, flux, dflux) values {}\"\"\".format((objId,) + tuple(lc.DFlc.ix[1])))\n",
    "cur.execute(\"\"\"insert into rawPhot(objId, t, pb, flux, dflux) values {}\"\"\".format((objId,) + tuple(lc.DFlc.ix[2])))"
   ]
  },
  {
   "cell_type": "markdown",
   "metadata": {},
   "source": [
    "There are two things to highlight above: (1) we do not specify an id for the data as this is automatically generated, and (2) the data insertion happens via a tuple. In this case, we are taking advantage of the fact that a Python tuple is can be concatenated:\n",
    "\n",
    "    (objId,) + tuple(lc10.DFlc.ix[0]))\n",
    "    \n",
    "While the above example demonstrates the insertion of a single row to the database, it is far more efficient to bulk load the data. To do so we will delete, i.e. `DROP`, the rawPhot table and use some `pandas` manipulation to load the contents of an entire file at once via [`executemany`](https://docs.python.org/3/library/sqlite3.html#sqlite3.Cursor.executemany)."
   ]
  },
  {
   "cell_type": "code",
   "execution_count": null,
   "metadata": {
    "collapsed": false
   },
   "outputs": [],
   "source": [
    "cur.execute(\"\"\"drop table if exists rawPhot\"\"\") # drop the table if it already exists\n",
    "cur.execute(\"\"\"create table rawPhot(\n",
    "                id integer primary key,\n",
    "                objId int,\n",
    "                t float, \n",
    "                pb varchar(1),\n",
    "                flux float,\n",
    "                dflux float) \n",
    "\"\"\")\n",
    "\n",
    "# next 3 lines are already in name space; repeated for clarity\n",
    "filename = \"training_set_for_LSST_DSFP/FAKE001.dat\"\n",
    "lc = ANTARESlc(filename)\n",
    "objId = int(filename.split('FAKE')[1].split(\".dat\")[0])\n",
    "\n",
    "data = [(objId,) + tuple(x) for x in lc.DFlc.values] # array of tuples\n",
    "\n",
    "cur.executemany(\"\"\"insert into rawPhot(objId, t, pb, flux, dflux) values (?,?,?,?,?)\"\"\", data)\n"
   ]
  },
  {
   "cell_type": "markdown",
   "metadata": {},
   "source": [
    "Load all of the raw photometric observations into the `rawPhot` table in the database.\n",
    "Normally, you'd load these files one by one in serial, looping over each file. This is what happens in `miniAntares_serial.ipynb`. Instead, we're going to use our cluster to parallelize this operation."
   ]
  },
  {
   "cell_type": "markdown",
   "metadata": {},
   "source": [
    "**Problem 3b**\n",
    "First, build a list of filenames:  \n",
    "\n",
    "*Hint* - you can use [`glob`](https://docs.python.org/3/library/glob.html) to select all of the files being loaded.\n",
    "\n",
    "*Hint 2* - you have already loaded the data from `FAKE001` into the table."
   ]
  },
  {
   "cell_type": "code",
   "execution_count": null,
   "metadata": {
    "collapsed": true
   },
   "outputs": [],
   "source": [
    "# build your list of filenames here\n",
    "import glob\n",
    "filenames = # complete"
   ]
  },
  {
   "cell_type": "code",
   "execution_count": null,
   "metadata": {
    "collapsed": true
   },
   "outputs": [],
   "source": [
    "# execute this\n",
    "@require(ANTARESlc, 'pandas as pd')\n",
    "def load_data(filename):\n",
    "    lc = ANTARESlc(filename)\n",
    "    objId = int(filename.split('FAKE')[1].split(\".dat\")[0])\n",
    "    data = [(objId,) + tuple(x) for x in lc.DFlc.values] # array of tuples\n",
    "    return data"
   ]
  },
  {
   "cell_type": "markdown",
   "metadata": {},
   "source": [
    "Now, figure out how to use the `DirectView` access to the cluster to map this function on to all the filenames, and get the results. Examine a few of them."
   ]
  },
  {
   "cell_type": "code",
   "execution_count": null,
   "metadata": {
    "collapsed": true
   },
   "outputs": [],
   "source": [
    "result = lview.map(load_data, filenames[1:])\n",
    "all_data = result.get()"
   ]
  },
  {
   "cell_type": "markdown",
   "metadata": {},
   "source": [
    "And now that you have results, load them in the database as before."
   ]
  },
  {
   "cell_type": "code",
   "execution_count": null,
   "metadata": {
    "collapsed": true
   },
   "outputs": [],
   "source": [
    "for data in all_data: \n",
    "    cur.executemany(\"\"\"insert into rawPhot(objId, t, pb, flux, dflux) values (?,?,?,?,?)\"\"\", data)"
   ]
  },
  {
   "cell_type": "markdown",
   "metadata": {},
   "source": [
    "**Problem 3c**\n",
    "\n",
    "To ensure the data have been loaded properly, select the $g'$ light curve for source `FAKE061` from the `rawPhot` table and plot the results. Does it match the plot from **1c**?"
   ]
  },
  {
   "cell_type": "code",
   "execution_count": null,
   "metadata": {
    "collapsed": false
   },
   "outputs": [],
   "source": [
    "cur.execute( # complete\n",
    "\n",
    "data = cur.fetchall()\n",
    "data = np.array(data)\n",
    "\n",
    "fig, ax = plt.subplots()\n",
    "ax.errorbar( # complete\n",
    "ax.set_xlabel(r\"$\\mathrm{MJD}$\")\n",
    "ax.set_ylabel(r\"$\\mathrm{flux}$\")"
   ]
  },
  {
   "cell_type": "markdown",
   "metadata": {},
   "source": [
    "Now that we have loaded the raw observations, we need to create a new table to store summary statistics for each object. This table will include everything we've added to the `ANTARESlc` class. "
   ]
  },
  {
   "cell_type": "code",
   "execution_count": null,
   "metadata": {
    "collapsed": false
   },
   "outputs": [],
   "source": [
    "cur.execute(\"\"\"drop table if exists lcFeats\"\"\") # drop the table if it already exists\n",
    "cur.execute(\"\"\"create table lcFeats(\n",
    "                id integer primary key,\n",
    "                objId int,\n",
    "                gStd float,\n",
    "                rStd float,\n",
    "                iStd float,\n",
    "                zStd float,\n",
    "                gAmp float, \n",
    "                rAmp float, \n",
    "                iAmp float, \n",
    "                zAmp float, \n",
    "                gMAD float,\n",
    "                rMAD float,\n",
    "                iMAD float,                \n",
    "                zMAD float,                \n",
    "                gBeyond float,\n",
    "                rBeyond float,\n",
    "                iBeyond float,\n",
    "                zBeyond float,\n",
    "                gSkew float,\n",
    "                rSkew float,\n",
    "                iSkew float,\n",
    "                zSkew float,\n",
    "                gMinusR float,\n",
    "                rMinusI float,\n",
    "                iMinusZ float,\n",
    "                FOREIGN KEY(objId) REFERENCES rawPhot(objId)\n",
    "                ) \n",
    "\"\"\")"
   ]
  },
  {
   "cell_type": "markdown",
   "metadata": {},
   "source": [
    "This procedure should look familiar to above, with one exception: the addition of the `foreign key` in the `lcFeats` table. The inclusion of the `foreign key` ensures a connected relationship between `rawPhot` and `lcFeats`. In brief, a row cannot be inserted into `lcFeats` unless a corresponding row, i.e. `objId`, exists in `rawPhot`. Additionally, rows in `rawPhot` cannot be deleted if there are dependent rows in `lcFeats`. "
   ]
  },
  {
   "cell_type": "markdown",
   "metadata": {},
   "source": [
    "**Problem 3d**\n",
    "\n",
    "Calculate features for every source in `rawPhot` and insert those features into the `lcFeats` table. You'll first need a function to calculate the features."
   ]
  },
  {
   "cell_type": "code",
   "execution_count": null,
   "metadata": {
    "collapsed": true
   },
   "outputs": [],
   "source": [
    "# just like last time, we'll define a function to calculate the features for one lightcurve\n",
    "# execute this\n",
    "\n",
    "@require(ANTARESlc, 'pandas as pd', 'numpy as np', 'scipy.stats as spstat')\n",
    "def calculate_features(filename):\n",
    "    lc = ANTARESlc(filename)\n",
    "    objId = int(filename.split('FAKE')[1].split(\".dat\")[0])\n",
    "    lc.weighted_mean_flux()\n",
    "    lc.normalized_flux_std()\n",
    "    lc.normalized_amplitude()\n",
    "    lc.normalized_MAD()\n",
    "    lc.normalized_beyond_1std()\n",
    "    lc.skew()\n",
    "    lc.mean_colors()\n",
    "    feats = (objId, lc.gStd, lc.rStd, lc.iStd, lc.zStd, \n",
    "            lc.gAmp,  lc.rAmp,  lc.iAmp,  lc.zAmp,  \n",
    "            lc.gMAD, lc.rMAD, lc.iMAD, lc.zMAD, \n",
    "            lc.gBeyond, lc.rBeyond, lc.iBeyond, lc.zBeyond,\n",
    "            lc.gSkew, lc.rSkew, lc.iSkew, lc.zSkew, \n",
    "            lc.gMinusR, lc.rMinusI, lc.iMinusZ)\n",
    "    return feats"
   ]
  },
  {
   "cell_type": "markdown",
   "metadata": {},
   "source": [
    "And again, map the function onto the filenames, and load the results into the table."
   ]
  },
  {
   "cell_type": "code",
   "execution_count": null,
   "metadata": {
    "collapsed": true,
    "scrolled": true
   },
   "outputs": [],
   "source": [
    "# and then lets map the function onto all the data\n",
    "result = lview.map(calculate_features, filenames)\n",
    "\n",
    "# and get the result\n",
    "all_feats = result.get()\n",
    "\n",
    "# and now load it all into our table\n",
    "for feats in all_feats:\n",
    "    cur.execute(\"\"\"insert into lcFeats(objId, \n",
    "                                       gStd, rStd, iStd, zStd, \n",
    "                                       gAmp,  rAmp,  iAmp,  zAmp,  \n",
    "                                       gMAD, rMAD, iMAD, zMAD, \n",
    "                                       gBeyond, rBeyond, iBeyond, zBeyond,\n",
    "                                       gSkew, rSkew, iSkew, zSkew,\n",
    "                                       gMinusR, rMinusI, iMinusZ) values {}\"\"\".format(feats))"
   ]
  },
  {
   "cell_type": "markdown",
   "metadata": {},
   "source": [
    "**Problem 3e**\n",
    "\n",
    "Confirm that the data loaded correctly by counting the number of sources with `gAmp` > 2.\n",
    "\n",
    "How many sources have `gMinusR` = -999?\n",
    "\n",
    "*Hint* - you should find 9 and 2, respectively."
   ]
  },
  {
   "cell_type": "code",
   "execution_count": null,
   "metadata": {
    "collapsed": false
   },
   "outputs": [],
   "source": [
    "cur.execute( # complete\n",
    "\n",
    "nAmp2 = # complete\n",
    "\n",
    "cur.execute( # complete\n",
    "nNoColor = # complete\n",
    "\n",
    "print(\"There are {:d} sources with gAmp > 2\".format( # complete\n",
    "print(\"There are {:d} sources with no measured i' - z' color\".format( # complete"
   ]
  },
  {
   "cell_type": "markdown",
   "metadata": {},
   "source": [
    "Finally, we close by commiting the changes we made to the database.\n",
    "\n",
    "Note that strictly speaking this is not needed, however, were we to update any values in the database then we would need to commit those changes."
   ]
  },
  {
   "cell_type": "code",
   "execution_count": null,
   "metadata": {
    "collapsed": true
   },
   "outputs": [],
   "source": [
    "conn.commit()"
   ]
  },
  {
   "cell_type": "markdown",
   "metadata": {},
   "source": [
    "**mini Challenge Problem**\n",
    "\n",
    "If there is less than 45 min to go, please skip this part. \n",
    "\n",
    "Earlier it was claimed that bulk loading the data is faster than loading it line by line. For this problem - prove this assertion, use `%%timeit` to \"profile\" the two different options (bulk load with `executemany` and loading one photometric measurement at a time via for loop).\n",
    "\n",
    "Compare both serial solutions, to load the data in parallel.\n",
    "\n",
    "*Hint* - to avoid corruption of your current working database, `miniANTARES.db`, create a new temporary database for the pupose of running this test. Also be careful with the names of your connection and cursor variables."
   ]
  },
  {
   "cell_type": "code",
   "execution_count": null,
   "metadata": {
    "collapsed": false
   },
   "outputs": [],
   "source": [
    "%%timeit\n",
    "# bulk load solution\n",
    "\n",
    "tmp_conn = # complete\n",
    "tmp_cur = # complete\n",
    "\n",
    "tmp_cur.execute( # complete\n",
    "\n",
    "for filename in filenames: \n",
    "    # complete\n",
    "    # complete\n",
    "    # complete\n",
    "    # complete\n",
    "    # complete"
   ]
  },
  {
   "cell_type": "code",
   "execution_count": null,
   "metadata": {
    "collapsed": false
   },
   "outputs": [],
   "source": [
    "%%timeit\n",
    "# bulk load solution\n",
    "\n",
    "tmp_conn = # complete\n",
    "tmp_cur = # complete\n",
    "\n",
    "tmp_cur.execute( # complete\n",
    "\n",
    "for filename in filenames: \n",
    "    # complete\n",
    "    # complete\n",
    "    # complete\n",
    "    # complete\n",
    "    # complete"
   ]
  },
  {
   "cell_type": "markdown",
   "metadata": {},
   "source": [
    "## Problem 4) Build a Classification Model\n",
    "\n",
    "One of the primary goals for ANTARES is to separate the Wheat from the Chaff, in other words, given that ~10 million alerts will be issued by LSST on a nightly basis, what is the single (or 10, or 100) most interesting alert.\n",
    "\n",
    "Here we will build on the skills developed during the DSFP Session 2 to construct a machine-learning model to classify new light curves. \n",
    "\n",
    "Fortunately - the data that has already been loaded to miniANTARES.db is a suitable training set for the classifier (we simply haven't provided you with labels just yet). Execute the cell below to add a new table to the database which includes the appropriate labels."
   ]
  },
  {
   "cell_type": "code",
   "execution_count": null,
   "metadata": {
    "collapsed": false
   },
   "outputs": [],
   "source": [
    "cur.execute(\"\"\"drop table if exists lcLabels\"\"\") # drop the table if it already exists\n",
    "cur.execute(\"\"\"create table lcLabels(\n",
    "               objId int,\n",
    "               label int, \n",
    "               foreign key(objId) references rawPhot(objId)\n",
    "               )\"\"\")\n",
    "\n",
    "labels = np.zeros(100)\n",
    "labels[20:60] = 1\n",
    "labels[60:] = 2\n",
    "\n",
    "data = np.append(np.arange(1,101)[np.newaxis].T, labels[np.newaxis].T, axis = 1)\n",
    "tup_data = [tuple(x) for x in data]\n",
    "\n",
    "cur.executemany(\"\"\"insert into lcLabels(objId, label) values (?,?)\"\"\", tup_data)"
   ]
  },
  {
   "cell_type": "markdown",
   "metadata": {},
   "source": [
    "For now - don't worry about what the labels mean (though if you inspect the light curves you may be able to figure this out...)\n",
    "\n",
    "**Problem 4a**\n",
    "\n",
    "Query the database to select features and labels for the light curves in your training set. Store the results of these queries in `numpy` arrays, `X` and `y`, respectively, which are suitable for the various `scikit-learn` machine learning algorithms.\n",
    "\n",
    "*Hint* - recall that databases do not store ordered results.\n",
    "\n",
    "*Hint 2* - recall that `scikit-learn` expects `y` to be a 1d array. You will likely need to convert a 2d array to 1d. "
   ]
  },
  {
   "cell_type": "code",
   "execution_count": null,
   "metadata": {
    "collapsed": true
   },
   "outputs": [],
   "source": [
    "cur.execute( # complete\n",
    "y = # complete\n",
    "\n",
    "cur.execute(# complete\n",
    "    \n",
    "X = # complete"
   ]
  },
  {
   "cell_type": "markdown",
   "metadata": {},
   "source": [
    "**Problem 4b**\n",
    "\n",
    "Train a SVM model ([`SVC`](http://scikit-learn.org/stable/modules/generated/sklearn.svm.SVC.html#sklearn.svm.SVC) in `scikit-learn`) using a radial basis function (RBF) kernel with penalty parameter, $C = 1$, and kernel coefficient, $\\gamma = 0.1$.\n",
    "\n",
    "Evaluate the accuracy of the model via $k = 5$ fold cross validation. \n",
    "\n",
    "*Hint* - you may find the [`model_selection`](http://scikit-learn.org/stable/modules/generated/sklearn.model_selection.cross_val_score.html#sklearn.model_selection.cross_val_score) module helpful."
   ]
  },
  {
   "cell_type": "code",
   "execution_count": null,
   "metadata": {
    "collapsed": false
   },
   "outputs": [],
   "source": [
    "from sklearn.svm import SVC\n",
    "from sklearn.model_selection import cross_val_score\n",
    "\n",
    "cv_scores = # complete\n",
    "\n",
    "print(\"The SVM model produces a CV accuracy of {:.4f}\".format( # complete"
   ]
  },
  {
   "cell_type": "markdown",
   "metadata": {},
   "source": [
    "The SVM model does a decent job of classifying the data. However - we are going to have 10 million alerts every night. Therefore, we need something that runs quickly. For most ML models the training step is slow, while predictions (relatively) are fast. \n",
    "\n",
    "**Problem 4c**\n",
    "\n",
    "Pick any other [classification model from `scikit-learn`](http://scikit-learn.org/stable/supervised_learning.html), and \"profile\" the time it takes to train that model vs. the time it takes to train an SVM model.\n",
    "\n",
    "Is the model that you have selected faster than SVM?\n",
    "\n",
    "*Hint* - you should import the model outside your timing loop as we only care about the training step in this case."
   ]
  },
  {
   "cell_type": "code",
   "execution_count": null,
   "metadata": {
    "collapsed": true
   },
   "outputs": [],
   "source": [
    "from sklearn.ensemble import RandomForestClassifier\n",
    "rf_clf = # complete\n",
    "svm_clf = # complete"
   ]
  },
  {
   "cell_type": "code",
   "execution_count": null,
   "metadata": {
    "collapsed": false
   },
   "outputs": [],
   "source": [
    "%%timeit\n",
    "# timing solution for RF model\n",
    "# complete"
   ]
  },
  {
   "cell_type": "code",
   "execution_count": null,
   "metadata": {
    "collapsed": false
   },
   "outputs": [],
   "source": [
    "%%timeit\n",
    "# timing solution for SVM model\n",
    "# complete"
   ]
  },
  {
   "cell_type": "markdown",
   "metadata": {},
   "source": [
    "**Problem 4d**\n",
    "\n",
    "Does the model you selected perform better than the SVM model? Perform a $k = 5$ fold cross validation to determine which model provides superior accuracy."
   ]
  },
  {
   "cell_type": "code",
   "execution_count": null,
   "metadata": {
    "collapsed": false
   },
   "outputs": [],
   "source": [
    "cv_scores = cross_val_score( # complete\n",
    "    \n",
    "print(\"The RF model produces a CV accuracy of {:.4f}\".format( # complete"
   ]
  },
  {
   "cell_type": "markdown",
   "metadata": {},
   "source": [
    "**Problem 4e**\n",
    "\n",
    "Which model are you going to use in your miniANTARES? Justify your answer. "
   ]
  },
  {
   "cell_type": "markdown",
   "metadata": {},
   "source": [
    "*Write solution to **4e** here*\n"
   ]
  },
  {
   "cell_type": "markdown",
   "metadata": {},
   "source": [
    "## Problem 5) Class Predictions for New Sources\n",
    "\n",
    "Now that we have developed a basic infrastructure for dealing with streaming data, we may reap the rewards of our efforts. We will use our ANTARES-like software to classify newly observed sources."
   ]
  },
  {
   "cell_type": "markdown",
   "metadata": {},
   "source": [
    "**Problem 5a**\n",
    "\n",
    "Load the light curves and features for the new observations (found in `full_testset_for_LSST_DSP`) into new tables, called `testPhot` and `testFeats`, respectively, in the database. "
   ]
  },
  {
   "cell_type": "code",
   "execution_count": null,
   "metadata": {
    "collapsed": false
   },
   "outputs": [],
   "source": [
    "cur.execute(\"\"\"drop table if exists testPhot\"\"\") # drop the table if is already exists\n",
    "cur.execute( # complete\n",
    "cur.execute(\"\"\"drop table if exists testFeats\"\"\") # drop the table if it already exists\n",
    "cur.execute( # complete"
   ]
  },
  {
   "cell_type": "code",
   "execution_count": null,
   "metadata": {
    "collapsed": true
   },
   "outputs": [],
   "source": [
    "new_obs_filenames = glob.glob(\"test_set_for_LSST_DSFP/FAKE*.dat\")\n",
    "\n",
    "result = lview.map(load_data, new_obs_filenames)\n",
    "all_data = result.get()"
   ]
  },
  {
   "cell_type": "code",
   "execution_count": null,
   "metadata": {
    "collapsed": true
   },
   "outputs": [],
   "source": [
    "for data in all_data: \n",
    "    cur.executemany(\"\"\"insert into rawPhot(objId, t, pb, flux, dflux) values (?,?,?,?,?)\"\"\", data)"
   ]
  },
  {
   "cell_type": "markdown",
   "metadata": {},
   "source": [
    "**Problem 5b**\n",
    "\n",
    "Calculate features for the new observations and insert those features into a database table."
   ]
  },
  {
   "cell_type": "code",
   "execution_count": null,
   "metadata": {
    "collapsed": true
   },
   "outputs": [],
   "source": [
    "result = lview.map( # complete\n",
    "all_feats = result.get()"
   ]
  },
  {
   "cell_type": "code",
   "execution_count": null,
   "metadata": {
    "collapsed": true
   },
   "outputs": [],
   "source": [
    "for feats in all_feats: \n",
    "    cur.execute(\"\"\"insert into testFeats(objId, \n",
    "                                       gStd, rStd, iStd, zStd, \n",
    "                                       gAmp,  rAmp,  iAmp,  zAmp,  \n",
    "                                       gMAD, rMAD, iMAD, zMAD, \n",
    "                                       gBeyond, rBeyond, iBeyond, zBeyond,\n",
    "                                       gSkew, rSkew, iSkew, zSkew,\n",
    "                                       gMinusR, rMinusI, iMinusZ) values {}\"\"\".format(feats))"
   ]
  },
  {
   "cell_type": "markdown",
   "metadata": {},
   "source": [
    "**Problem 5c**\n",
    "\n",
    "Train the model that you adopted in **4e** on the training set, and produce predictions for the newly observed sources.\n",
    "\n",
    "What is the class distribution for the newly detected sources?\n",
    "\n",
    "*Hint* - the training set was constructed to have a nearly uniform class distribution, that may not be the case for the actual observed distribution of sources."
   ]
  },
  {
   "cell_type": "code",
   "execution_count": null,
   "metadata": {
    "collapsed": false
   },
   "outputs": [],
   "source": [
    "svm_clf = SVC(C=1.0, gamma = 0.1, kernel = 'rbf').fit( # complete\n",
    "\n",
    "cur.execute( # complete\n",
    "X_new = # complete\n",
    "\n",
    "y_preds = # complete\n",
    "\n",
    "print(\"\"\"There are {:d}, {:d}, and {:d} sources \n",
    "         in classes 1, 2, 3, respectively\"\"\".format(*list(np.bincount(y_preds)))) # be careful using bincount"
   ]
  },
  {
   "cell_type": "markdown",
   "metadata": {},
   "source": [
    "**Problem 5d**\n",
    "\n",
    "This classification performance isn't great... Lets take a look at the actual class labels, since we sneakily left them in the file headers"
   ]
  },
  {
   "cell_type": "code",
   "execution_count": null,
   "metadata": {
    "collapsed": false
   },
   "outputs": [],
   "source": [
    " ! grep label test_set_for_LSST_DSFP/*dat | sed -e 's/label:/ /' | awk '{print $2+1}' | sort | uniq -c"
   ]
  },
  {
   "cell_type": "markdown",
   "metadata": {},
   "source": [
    "One thing you've probably noticed is that there are observations that have very large uncertainties, and our features (which are really just moments of the flux distribution) aren't really all that robust to outliers.\n",
    "\n",
    "Let's try a more complex description of the shape of the light curves with a Gaussian process regression.\n",
    "We'll need the `sklearn.gaussian_process` module"
   ]
  },
  {
   "cell_type": "code",
   "execution_count": null,
   "metadata": {
    "collapsed": true
   },
   "outputs": [],
   "source": [
    "import sklearn.gaussian_process as gp"
   ]
  },
  {
   "cell_type": "code",
   "execution_count": null,
   "metadata": {
    "collapsed": true
   },
   "outputs": [],
   "source": [
    "# we'll create a function that just fits the g band lightcurve\n",
    "def calculate_gpfit(filename):\n",
    "    \"\"\"\n",
    "    Do a quick gaussian process regression of just g-band lightcurve to get a smooth representation\n",
    "    This should be more robust to outliers\n",
    "    \"\"\"\n",
    "    lc = ANTARESlc(filename)\n",
    "    t = lc.gtime.values\n",
    "    y = lc.gFlux.values\n",
    "    dy = lc.gFluxUnc.values\n",
    "    t = t.reshape(-1, 1)\n",
    "    objId = int(filename.split('FAKE')[1].split(\".dat\")[0])\n",
    "    \n",
    "    # a Gaussian Process is defined by a correlation function that relates each point to each other\n",
    "    # I've chosen a simple common kernel - the Matern kernel. \n",
    "    # It has a nice property in that it is 'stationary' - the covariance between points \n",
    "    # only depends on their separation\n",
    "    \n",
    "    base_kernel = gp.kernels.Matern(length_scale=10.,nu=2.5, length_scale_bounds=(1.,20.))\n",
    "    gkernel = 0.5*(np.median(dy)**2.)*base_kernel\n",
    "    \n",
    "    # the second thing you need to define a Gaussian Process is a mean function, which in our case is \n",
    "    # implictly zero (this is fine for transients - they spend most of eternity at the background!)\n",
    "    gband = gp.GaussianProcessRegressor(kernel=gkernel, alpha=dy**2.).fit(t, y)\n",
    "    \n",
    "    # now lets use the Gaussian process to predict the lightcurve on an evenly sampled grid\n",
    "    # this is appropriate for Wavelets, or generally robust feature extraction\n",
    "    \n",
    "    newtime = np.linspace(t.min(), t.max(), 200, endpoint=True)\n",
    "    newtime = newtime.reshape(-1, 1)\n",
    "    gnew = gband.predict(newtime, return_cov=False)\n",
    "    return (t, y , dy, newtime, gnew)"
   ]
  },
  {
   "cell_type": "markdown",
   "metadata": {},
   "source": [
    "Lets look at one fit to see what's happening:"
   ]
  },
  {
   "cell_type": "code",
   "execution_count": null,
   "metadata": {
    "collapsed": false
   },
   "outputs": [],
   "source": [
    "ftest = filenames[0:20]\n",
    "gtime, gflux, gdflux, gnewtime, gnewflux = calculate_gpfit(ftest[3])\n",
    "\n",
    "fig, ax = plt.subplots()\n",
    "ax.errorbar(gtime, gflux, gdflux, fmt = 'o', color = '#78A5A3')\n",
    "ax.plot(gnewtime, gnewflux, 'k-')\n",
    "ax.set_xlabel(r\"$\\mathrm{MJD}$\")\n",
    "ax.set_ylabel(r\"$\\mathrm{flux}$\")"
   ]
  },
  {
   "cell_type": "markdown",
   "metadata": {},
   "source": [
    "OH YAY! That's much better a more robust to noisy ratty data, the likes of which you will get all the darn time in astronomy!\n",
    "\n",
    "Except, is this feasible to run?? Can we practically do it on 10^4--5 alerts every 37 seconds for `ANTARES`??\n",
    "\n",
    "Well you have the tools to examine this! Let's profile the Gaussian Processes vs all the features"
   ]
  },
  {
   "cell_type": "code",
   "execution_count": null,
   "metadata": {
    "collapsed": true
   },
   "outputs": [],
   "source": [
    "import cProfile\n",
    "def dummy_func():\n",
    "    \n",
    "    all_fits = []\n",
    "    all_feats = []\n",
    "    for filename in ftest: \n",
    "        result  = calculate_gpfit(filename)\n",
    "        result2 = calculate_features(filename)\n",
    "        all_feats.append(result2)\n",
    "        all_fits.append(result)\n",
    "    \n",
    "! rm -f gpstats.cprof    \n",
    "cProfile.run('dummy_func()','gpstats.cprof')"
   ]
  },
  {
   "cell_type": "markdown",
   "metadata": {},
   "source": [
    "Now let's see how long that took"
   ]
  },
  {
   "cell_type": "code",
   "execution_count": null,
   "metadata": {
    "collapsed": false
   },
   "outputs": [],
   "source": [
    "%load_ext snakeviz\n",
    "%snakeviz dummy_func()"
   ]
  },
  {
   "cell_type": "markdown",
   "metadata": {},
   "source": [
    "Eeek. That's way slower than the regular feature computation!\n",
    "It actually turns out that this is OK for us, because the implementation of Gaussian Process Regression in sklearn is pretty slow, and there are various better packages and approximations we can make to speed things up dramatically.\n",
    "\n",
    "For the purposes of this exercise though, we'll stop here, since it's no fun to run these GPs on 5000 lightcurves (and our implementation isn't really robust either)."
   ]
  },
  {
   "cell_type": "markdown",
   "metadata": {},
   "source": [
    "## Problem 6) Anomaly Detection\n",
    "\n",
    "As we learned earlier - one of the primary goals of ANTARES is to reduce the stream of 10 million alerts on any given night to the single (or 10, or 100) most interesting objects. One possible definition of \"interesting\" is rarity - in which case it would be useful to add some form of anomaly detection to the pipeline. `scikit-learn` has [several different algorithms](http://scikit-learn.org/stable/auto_examples/covariance/plot_outlier_detection.html#sphx-glr-auto-examples-covariance-plot-outlier-detection-py) that can be used for anomaly detection. Here we will employ [isolation forest](http://scikit-learn.org/stable/modules/generated/sklearn.ensemble.IsolationForest.html) which has many parallels to random forests, which we have previously learned about.\n",
    "\n",
    "In brief, isolation forest builds an ensemble of decision trees where the splitting parameter in each node of the tree is selected randomly. In each tree the number of branches necessary to isolate each source is measured - outlier sources will, on average, require fewer splittings to be isolated than sources in high-density regions of the feature space. Averaging the number of branchings over many trees results in a relative ranking of the anomalousness (*yes, I just made up a word*) of each source."
   ]
  },
  {
   "cell_type": "markdown",
   "metadata": {},
   "source": [
    "**Problem 6a**\n",
    "\n",
    "Using [`IsolationForest`](http://scikit-learn.org/stable/modules/generated/sklearn.ensemble.IsolationForest.html) in `sklearn.ensemble` - determine the 10 most isolated sources in the data set.\n",
    "\n",
    "*Hint* - for `IsolationForest` you will want to use the `decision_function()` method rather than `predict_proba()`, which is what we have previously used with `sklearn.ensemble` models to get relative rankings from the model."
   ]
  },
  {
   "cell_type": "code",
   "execution_count": null,
   "metadata": {
    "collapsed": false
   },
   "outputs": [],
   "source": [
    "from sklearn.ensemble import IsolationForest\n",
    "\n",
    "isoF_clf = # complete\n",
    "isoF_clf.fit( # complete\n",
    "anomaly_score = isoF_clf.decision_function(X_new)\n",
    "\n",
    "print(\"The 10 most anomalous sources are: {}\".format( # complete"
   ]
  },
  {
   "cell_type": "markdown",
   "metadata": {},
   "source": [
    "**Problem 6b**\n",
    "\n",
    "Plot the light curves of the 2 most anomalous sources. \n",
    "\n",
    "Can you identify why these sources have been selected as outliers?"
   ]
  },
  {
   "cell_type": "code",
   "execution_count": null,
   "metadata": {
    "collapsed": false
   },
   "outputs": [],
   "source": [
    "# complete"
   ]
  },
  {
   "cell_type": "markdown",
   "metadata": {},
   "source": [
    "*Write solution to **6b** here*\n"
   ]
  },
  {
   "cell_type": "markdown",
   "metadata": {},
   "source": [
    "## Challenge Problem) Simulate a Real ANTARES\n",
    "\n",
    "The problem that we just completed features a key difference from the true ANTARES system - namely, all the light curves analyzed had a complete set of observations loaded into the database. One of the key challenges for LSST (and by extension ANTARES) is that the data will be *streaming* - new observations will be available every night, but the full light curves for all sources won't be available until the 10 yr survey is complete. In this problem, you will use the same data to simulate an LSST-like classification problem.\n",
    "\n",
    "Assume that your training set (i.e. the first 100 sources loaded into the database) were observed prior to LSST, thus, these light curves can still be used in their entirety to train your classification models. For the test set of observations, simulate LSST by determining the min and max observation date and take 1-d quantized steps through these light curves. On each day when there are new observations, update the feature calculations for every source that has been newly observed. Classify those sources and identify possible anomalies.\n",
    "\n",
    "Here are some things you should think about as you build this software:\n",
    "\n",
    "1. Should you use the entire light curves for training-set objects when classifying sources with only a few data points?\n",
    "2. How are you going to handle objects on the first epoch when they are detected?\n",
    "3. What threshold (if any) are you going to set to notify the community about rarities that you have discovered\n",
    "\n",
    "*Hint* - Since you will be reading these light curves from the database (and not from text files) the `ANTARESlc` class that we previously developed will not be useful. You will (likely) either need to re-write this class to interact with the database or figure out how to massage the query results to comply with the class definitions."
   ]
  }
 ],
 "metadata": {
  "kernelspec": {
   "display_name": "Python 3",
   "language": "python",
   "name": "python3"
  },
  "language_info": {
   "codemirror_mode": {
    "name": "ipython",
    "version": 3
   },
   "file_extension": ".py",
   "mimetype": "text/x-python",
   "name": "python",
   "nbconvert_exporter": "python",
   "pygments_lexer": "ipython3",
   "version": "3.6.0"
  }
 },
 "nbformat": 4,
 "nbformat_minor": 2
}
