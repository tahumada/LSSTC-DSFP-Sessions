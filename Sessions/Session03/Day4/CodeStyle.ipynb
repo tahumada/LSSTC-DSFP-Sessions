{
 "cells": [
  {
   "cell_type": "markdown",
   "metadata": {
    "slideshow": {
     "slide_type": "slide"
    }
   },
   "source": [
    "# Code Style\n",
    "\n",
    "Erik Tollerud (STScI)"
   ]
  },
  {
   "cell_type": "markdown",
   "metadata": {
    "slideshow": {
     "slide_type": "slide"
    }
   },
   "source": [
    "# Why do we care about style?"
   ]
  },
  {
   "cell_type": "markdown",
   "metadata": {
    "slideshow": {
     "slide_type": "fragment"
    }
   },
   "source": [
    "* It helps you read your code\n",
    "\n",
    "```\n",
    "Environsarcmin=DEGREEs(v/(1000*dMPC))*60\n",
    "sc =sKyCoO(ra*U.deg,dec*U.deg,frame='icrs')\n",
    "```\n",
    "\n",
    "vs.\n",
    "\n",
    "```\n",
    "environs_arcmin = degrees(value_in_kpc / (1000 * distance)) * 60\n",
    "sc = SkyCoord(ra*u.deg, dec*u.deg, frame='icrs')\n",
    "```"
   ]
  },
  {
   "cell_type": "markdown",
   "metadata": {
    "slideshow": {
     "slide_type": "fragment"
    }
   },
   "source": [
    "* It helps *others* read your code, even if they don't know what it's for"
   ]
  },
  {
   "cell_type": "markdown",
   "metadata": {
    "slideshow": {
     "slide_type": "fragment"
    }
   },
   "source": [
    "* It satisfied those of us who have a pathological need for consistency"
   ]
  },
  {
   "cell_type": "markdown",
   "metadata": {
    "slideshow": {
     "slide_type": "fragment"
    }
   },
   "source": [
    "* BUT: \"A Foolish Consistency is the Hobgoblin of Little Minds\" \n",
    "\n",
    "     -Emerson... and GvR"
   ]
  },
  {
   "cell_type": "markdown",
   "metadata": {
    "slideshow": {
     "slide_type": "slide"
    }
   },
   "source": [
    "# Code style in Python\n",
    "\n",
    "<img src=\"pep8.png\" alt=\"PEP8\" style=\"width: 600px;\"/>\n",
    "\n",
    "https://www.python.org/dev/peps/pep-0008/\n",
    "\n",
    "* Used by almost every significant Python project (with some perturbations)."
   ]
  },
  {
   "cell_type": "markdown",
   "metadata": {
    "slideshow": {
     "slide_type": "slide"
    }
   },
   "source": [
    "# PEP8 Important Elements"
   ]
  },
  {
   "cell_type": "markdown",
   "metadata": {
    "slideshow": {
     "slide_type": "subslide"
    }
   },
   "source": [
    "## Indentation\n",
    "\n",
    "* Indentation should *always* be 4 spaces"
   ]
  },
  {
   "cell_type": "markdown",
   "metadata": {
    "slideshow": {
     "slide_type": "subslide"
    }
   },
   "source": [
    "## Capitalization/naming conventions\n",
    "\n",
    "* Don't use 1- or 2-letter variable names."
   ]
  },
  {
   "cell_type": "markdown",
   "metadata": {
    "slideshow": {
     "slide_type": "fragment"
    }
   },
   "source": [
    "* ``CamelCase`` : class names\n",
    "* ``snake_case`` : packages, modules, functions \n",
    "* (``jamitalltoegether``: variables)"
   ]
  },
  {
   "cell_type": "markdown",
   "metadata": {
    "slideshow": {
     "slide_type": "fragment"
    }
   },
   "source": [
    "* If you need a variable that's a built-in, use a trailing underscore: ``if_ = 10`` (but also probably just don't do this)"
   ]
  },
  {
   "cell_type": "markdown",
   "metadata": {
    "slideshow": {
     "slide_type": "fragment"
    }
   },
   "source": [
    "* A lot more detail in PEP8... ~half of its length"
   ]
  },
  {
   "cell_type": "markdown",
   "metadata": {
    "slideshow": {
     "slide_type": "subslide"
    }
   },
   "source": [
    "## Operators and function call spacing\n",
    "\n",
    "* Use spaces after function calls: ``call_this(a, b, c)``"
   ]
  },
  {
   "cell_type": "markdown",
   "metadata": {
    "slideshow": {
     "slide_type": "fragment"
    }
   },
   "source": [
    "* Use spaces around *operations*: ``c = a + b`` not ``c=a+b``"
   ]
  },
  {
   "cell_type": "markdown",
   "metadata": {
    "collapsed": true,
    "slideshow": {
     "slide_type": "fragment"
    }
   },
   "source": [
    "\n",
    "* Official Exception: function defaults: ``def function(a=1, b=3)``\n",
    "* Informal exception: ``*`` or ``/`` don't need spaces because of math: ``y = m*x + b``"
   ]
  },
  {
   "cell_type": "markdown",
   "metadata": {
    "slideshow": {
     "slide_type": "subslide"
    }
   },
   "source": [
    "## Imports\n",
    "\n",
    "* Should be at the top of the file"
   ]
  },
  {
   "cell_type": "markdown",
   "metadata": {
    "slideshow": {
     "slide_type": "fragment"
    }
   },
   "source": [
    "* Should be individual imports:\n",
    "```\n",
    "import os\n",
    "import sys\n",
    "```\n",
    "not\n",
    "```\n",
    "import os, sys\n",
    "```"
   ]
  },
  {
   "cell_type": "markdown",
   "metadata": {
    "slideshow": {
     "slide_type": "fragment"
    }
   },
   "source": [
    "* Put stdlib at top, others after\n",
    "* Alternative: \"pyramid\" style\n",
    "```\n",
    "import os\n",
    "import sys\n",
    "import numpy as np\n",
    "import some_really_long_package_name\n",
    "```"
   ]
  },
  {
   "cell_type": "markdown",
   "metadata": {
    "slideshow": {
     "slide_type": "subslide"
    }
   },
   "source": [
    "## Use underscores for \"private\"\n",
    "\n",
    "* `self._this_is_private`\n",
    "* `self.__this_is_extra_private` (this actually *does* something, too)"
   ]
  },
  {
   "cell_type": "markdown",
   "metadata": {
    "slideshow": {
     "slide_type": "subslide"
    }
   },
   "source": [
    "## Comments\n",
    "\n",
    "* Inline comments should always have >=2 spaces before, 1 space after:  ``c = a + b  # important comment here``"
   ]
  },
  {
   "cell_type": "markdown",
   "metadata": {
    "slideshow": {
     "slide_type": "fragment"
    }
   },
   "source": [
    "* Generally: use docstrings over comments when possible.  There's a whole PEP ([PEP257](https://www.python.org/dev/peps/pep-0257/)) about docstring formats"
   ]
  },
  {
   "cell_type": "markdown",
   "metadata": {
    "slideshow": {
     "slide_type": "fragment"
    }
   },
   "source": [
    "* \"Python coders from non-English speaking countries: please write your comments in English, unless you are 120% sure that the code will never be read by people who don't speak your language.\""
   ]
  },
  {
   "cell_type": "markdown",
   "metadata": {
    "slideshow": {
     "slide_type": "subslide"
    }
   },
   "source": [
    "## Line lengths\n",
    "\n",
    "* Lines should not be longer than 79 chars. Can make this practical with Python's parenthesis-driven line continuation:\n",
    "```\n",
    "function(with, some, arguments)\n",
    "```\n",
    "is the same as\n",
    "```\n",
    "function(with,\n",
    "         some,\n",
    "         arguments)\n",
    "```\n",
    "\n",
    "\n",
    "```\n",
    "a + very + long +expression / that(goes + a + bit longer + than + 80, \n",
    "                                   characters + so + we + have + to + think)\n",
    "```\n",
    "\n",
    "\n",
    "(This is the most controversial guideline...)"
   ]
  }
 ],
 "metadata": {
  "anaconda-cloud": {},
  "celltoolbar": "Slideshow",
  "kernelspec": {
   "display_name": "Python [default]",
   "language": "python",
   "name": "python3"
  },
  "language_info": {
   "codemirror_mode": {
    "name": "ipython",
    "version": 3
   },
   "file_extension": ".py",
   "mimetype": "text/x-python",
   "name": "python",
   "nbconvert_exporter": "python",
   "pygments_lexer": "ipython3",
   "version": "3.5.2"
  }
 },
 "nbformat": 4,
 "nbformat_minor": 1
}
