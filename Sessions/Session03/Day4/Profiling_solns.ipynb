{
 "cells": [
  {
   "cell_type": "markdown",
   "metadata": {},
   "source": [
    "# Profiling and Optimizing\n",
    "\n",
    "\n",
    "\n",
    "* * *\n",
    "\n",
    "By C Hummels (Caltech)"
   ]
  },
  {
   "cell_type": "code",
   "execution_count": null,
   "metadata": {
    "collapsed": false
   },
   "outputs": [],
   "source": [
    "import random\n",
    "import numpy as np\n",
    "from matplotlib import pyplot as plt"
   ]
  },
  {
   "cell_type": "markdown",
   "metadata": {},
   "source": [
    "It can be hard to guess which code is going to operate faster just by looking at it because the interactions between software and computers can be extremely complex.  The best way to optimize code is through using profilers to identify bottlenecks in your code and then attempt to address these problems through optimization.  Let's give it a whirl."
   ]
  },
  {
   "cell_type": "markdown",
   "metadata": {},
   "source": [
    "## Problem 1) Using `timeit`\n",
    "\n",
    "We will begin our experience with profilers by using the `time` and `timeit` commands.  `time` can be run on any size of program, but it returns coarse level time information on how long something took to run overall.\n",
    "\n",
    "There are a lot of small optimizations that can add up to a lot of time in real-world software.  Let's look at a few of the non-obvious ones."
   ]
  },
  {
   "cell_type": "markdown",
   "metadata": {},
   "source": [
    "**Problem 1a**\n",
    "\n",
    "What is the best way to join a bunch of strings into a larger string?  There are several ways of doing this, but some are clearly superior to others.  Let's use `timeit` to test things out.  \n",
    "\n",
    "Below, in each of the cells after the `string_list` is defined, put a new code snippet using the following three methods for building a string:\n",
    "\n",
    "--Use the builtin `+` operator to *add* strings together in an iterative way\n",
    "\n",
    "--Use the `join` method, as in \"\".join(list).\n",
    "\n",
    "--Iteratively add the strings from the list together using \"%s %s\" string composition.\n",
    "\n",
    "Guess which method you think will be fastest?  Now test it out and see if you're right!"
   ]
  },
  {
   "cell_type": "code",
   "execution_count": null,
   "metadata": {
    "collapsed": false
   },
   "outputs": [],
   "source": [
    "string_list = ['the ', 'quick ', 'brown ', 'fox ', 'jumped ', 'over ', 'the ', 'lazy ', 'dog']"
   ]
  },
  {
   "cell_type": "code",
   "execution_count": null,
   "metadata": {
    "collapsed": false
   },
   "outputs": [],
   "source": [
    "%%timeit\n",
    "output = \"\"\n",
    "for string in string_list:\n",
    "    output+=string"
   ]
  },
  {
   "cell_type": "code",
   "execution_count": null,
   "metadata": {
    "collapsed": false
   },
   "outputs": [],
   "source": [
    "%%timeit\n",
    "\"\".join(string_list)"
   ]
  },
  {
   "cell_type": "code",
   "execution_count": null,
   "metadata": {
    "collapsed": false
   },
   "outputs": [],
   "source": [
    "%%timeit\n",
    "output = \"\"\n",
    "for word in string_list:\n",
    "    output = \"%s %s\" % (output, word)"
   ]
  },
  {
   "cell_type": "markdown",
   "metadata": {},
   "source": [
    "Interesting!  So it appears that the `join` method was the fastest by a factor of four or so.  Good to keep that in mind for future use of strings!\n",
    "\n",
    "**Problem 1b**\n",
    "\n",
    "What about building big lists or list-like structures (like numpy arrays)?  We now know how to construct lists in a variety of ways, so let's see which is fastest.  Make a list of ascending perfect squares (i.e. 1, 4, 9, ...) for the first 1 million integers.  Use these methods:\n",
    "\n",
    "--Iteratively appending x**2 values on to an empty list\n",
    "\n",
    "--A for loop with the built in python `range` command\n",
    "\n",
    "--A for loop with the numpy `arange` command\n",
    "\n",
    "--Use the numpy `arange` command directly, and then take the square of it\n",
    "\n",
    "--Use `map` to map a `lambda` squaring function to a numpy array constructed with numpy `arange`\n",
    "\n",
    "Guess which method you think will be fastest?  Now test it out and see if you're right!"
   ]
  },
  {
   "cell_type": "code",
   "execution_count": null,
   "metadata": {
    "collapsed": false,
    "scrolled": true
   },
   "outputs": [],
   "source": [
    "%%timeit\n",
    "output = []\n",
    "for x in range(1000000): output.append(x**2)"
   ]
  },
  {
   "cell_type": "code",
   "execution_count": null,
   "metadata": {
    "collapsed": false,
    "scrolled": true
   },
   "outputs": [],
   "source": [
    "%%timeit\n",
    "[x**2 for x in range(1000000)]"
   ]
  },
  {
   "cell_type": "code",
   "execution_count": null,
   "metadata": {
    "collapsed": false
   },
   "outputs": [],
   "source": [
    "%%timeit\n",
    "[x**2 for x in np.arange(1000000)]"
   ]
  },
  {
   "cell_type": "code",
   "execution_count": null,
   "metadata": {
    "collapsed": false
   },
   "outputs": [],
   "source": [
    "%%timeit\n",
    "np.arange(1000000)**2"
   ]
  },
  {
   "cell_type": "code",
   "execution_count": null,
   "metadata": {
    "collapsed": false
   },
   "outputs": [],
   "source": [
    "%%timeit\n",
    "map(lambda x: x**2, np.arange(1000000))"
   ]
  },
  {
   "cell_type": "markdown",
   "metadata": {},
   "source": [
    "Whoa!  We were able to see a >100x efficiency increase by just switching these methods slightly!  Numpy arrays are awesome, but I'm sort of surprised that the lambda function won compared to native numpy.\n",
    "\n",
    "## Problem 2) Deeper profiling with `cProfile` and `line_profiler`\n",
    "\n",
    "**Problem 2a**\n",
    "\n",
    "OK, so what about larger program?  Here is a sorting algorithm that I wrote, which may possess some inefficiencies. But it is hard to know which bugs are causing the biggest problems (some actually aren't that big of a deal in the long term). Let's see if we can speed it up.  First, take this code and copy it into a file called sort.py.  Read through the code to make sure you understand it.  Then, run it with the `time` command, and write down the total time it took to run."
   ]
  },
  {
   "cell_type": "code",
   "execution_count": null,
   "metadata": {
    "collapsed": false
   },
   "outputs": [],
   "source": [
    "# Sort version1\n",
    "\n",
    "import random\n",
    "\n",
    "def create_random_list(n_elements):\n",
    "    \"\"\"\n",
    "    Create a list made up of random elements in random order\n",
    "    \"\"\"\n",
    "    random_list = []\n",
    "    for i in range(n_elements):\n",
    "        random_list.append(random.random())\n",
    "    return random_list\n",
    "\n",
    "def find_minimum_index(random_list):\n",
    "    \"\"\"\n",
    "    Find the index of the minimum value in the list\n",
    "    \"\"\"\n",
    "    # current minimum\n",
    "    min_value = 1\n",
    "    i = 0\n",
    "\n",
    "    # Find minimum in list\n",
    "    for element in random_list:\n",
    "        if element < min_value:\n",
    "            min_value = element\n",
    "\n",
    "    # Find value that matches minimum\n",
    "    for element in random_list:\n",
    "        if element == min_value:\n",
    "            return i\n",
    "        i += 1\n",
    "\n",
    "def sort_list(random_list):\n",
    "    \"\"\"\n",
    "    Sort a list into ascending order\n",
    "    \"\"\"\n",
    "    output_list = []\n",
    "    for _ in range(len(random_list)):\n",
    "        i = find_minimum_index(random_list)\n",
    "        minimum = random_list[i]\n",
    "        output_list.append(minimum)\n",
    "        del random_list[i]\n",
    "    return output_list\n",
    "\n",
    "if __name__ == '__main__':\n",
    "    l = create_random_list(10000)\n",
    "    o = sort_list(l)"
   ]
  },
  {
   "cell_type": "markdown",
   "metadata": {},
   "source": [
    "**Problem 2b**\n",
    "\n",
    "OK, now try running the cProfile module with it in order to produce some profiling statistics.  You can do this by running:\n",
    "\n",
    "python -m cProfile -o sort.prof sort.py\n",
    "\n",
    "This will produce an output profile file called sort.prof.  You can do a variety of things with sort.prof, but you'll need a few programs to do this.  First, install pyprof2html with: `pip install pyprof2html`.  Then, try:\n",
    "\n",
    "pyprof2html sort.prof\n",
    "\n",
    "This will produce a `html` directory, and you can just open up the enclosed `index.html` file to bring it to your browser.  You can see function by function, what is taking the most time!  You can click on column headers to change which sorting occurs.\n",
    "\n"
   ]
  },
  {
   "cell_type": "markdown",
   "metadata": {},
   "source": [
    "**Problem 2c**\n",
    "\n",
    "But there are graphical ways of representing these data effectively.  Download `snakeviz`, another means of viewing your profile data.  You can do this with `pip install snakeviz`.  And then open up the same file with snakeviz:\n",
    "\n",
    "`snakeviz sort.prof`\n",
    "\n",
    "This should bring up another graphical interface for analyzing the profile data.  Switch to icicle mode, and explore the information a bit.  Try to figure out where the \"hot\" sections of the code are.  Namely, what is the most expensive function that is running in terms of time?"
   ]
  },
  {
   "cell_type": "markdown",
   "metadata": {},
   "source": [
    "**Problem 2d**\n",
    "\n",
    "OK, so if that's the most expensive, we better speed it up.  We can investigate **line-by-line** how slow/fast things are, but we need another package for that called `line_profiler`.  Go ahead and install this with `pip install line_profiler`.  \n",
    "\n",
    "Go back to the source code file, and add a `@profile` line directly above the slow function.  `line_profiler` automatically installed a file called `kernprof` to your `$PYTHONPATH`, which is used with the following format at the command line: \n",
    "\n",
    "kernprof.py -v -l your_script your_script_args\n",
    "\n",
    "Start up kernprof and we'll look at the slow function in our sort program!  See if you can find where the slowdown is, based on the amount of time spent on a particular line.  Can you fix this line to not be so inefficient?\n",
    "\n",
    "*Hint: Remember the ways we discussed for optimizing code: In-place operations, string concatenations, vectorizing loops, list comprehensions, range vs arange, lambda functions, etc.*"
   ]
  },
  {
   "cell_type": "markdown",
   "metadata": {},
   "source": [
    "**Problem 2e**\n",
    "\n",
    "Great!  Now repeat these steps to improve your code:\n",
    "\n",
    "1) Run code with cProfile\n",
    "\n",
    "2) Record total time it took to run in this iteration.\n",
    "\n",
    "3) Load up the profiler information in snakeviz or pyprof2html\n",
    "\n",
    "4) Look for \"hot\" functions\n",
    "\n",
    "5) Run kernprof with line_profiler to identify individual lines that may be slow\n",
    "\n",
    "6) Make a modification to the code trying to address the problem\n",
    "\n",
    "7) Go back to (1) until you're satisfied.\n",
    "\n",
    "You should be able to iterate on this until not one of the native functions is in the top 20 list of hot functions, the others being associated with loading numpy and such.  If this is the case, there is more overhead being spent on loading the data than on your actual code--try increasing the number of elements in the sorting array."
   ]
  },
  {
   "cell_type": "markdown",
   "metadata": {},
   "source": [
    "**Problem 2f**\n",
    "\n",
    "Here is a good test.  Make a new code file where you swap out all of the sorting information and just run python's native `list.sort()` function.  Profile this, look at total time spent running, and see how it compares with our version.  Note any differences?  What about if you use the `np.sort()` function?  "
   ]
  },
  {
   "cell_type": "markdown",
   "metadata": {},
   "source": [
    "**Problem 2g**\n",
    "\n",
    "Look at the memory consumption of your optimized code versus the real list.sort() and numpy.sort() functions.  You can do this by using the memory_profiler.  You'll need to download it first with:\n",
    "\n",
    "`pip install memory_profiler`\n",
    "\n",
    "Now, you can look at the line by line memory consumption of a function, just like you did with line_profiler and kernprof.  Again,  you have to put the `@profile` decorator just before the function you want to profile, but then you run:\n",
    "\n",
    "`python -m memory_profiler program.py`\n",
    "\n",
    "Run this on your optimized code, and then on the true python list.sort() and the numpy.sort() and see who takes up the most memory.  Why do you think that is?"
   ]
  },
  {
   "cell_type": "markdown",
   "metadata": {},
   "source": [
    "## Problem 3) Profiling real code\n",
    "\n",
    "**Problem 3a**\n",
    "\n",
    "Below I have included the Moving Galaxy and Universe code, the challenge problem from Tuesday's session.  First, glance over it, to make sure you know what it's doing for the most part.  Then profile it and optimize it using the algorithm described above.  What is the slowest general part of the runtime?  \n",
    "\n",
    "*Hint: If you comment that out, do things speed up?*"
   ]
  },
  {
   "cell_type": "code",
   "execution_count": null,
   "metadata": {
    "collapsed": false
   },
   "outputs": [],
   "source": [
    "from matplotlib import pyplot as plt\n",
    "import numpy as np\n",
    "import random\n",
    "\n",
    "class Galaxy():\n",
    "    \"\"\"\n",
    "    Galaxy class for simply representing a galaxy.\n",
    "    \"\"\"\n",
    "    def __init__(self, total_mass, cold_gas_mass, stellar_mass, age=0):\n",
    "        self.total_mass = total_mass\n",
    "        self.cold_gas_mass = cold_gas_mass\n",
    "        self.stellar_mass = stellar_mass\n",
    "        self.age = age\n",
    "        self.SFR = 0\n",
    "        self.color = 'red'\n",
    "        \n",
    "    def __repr__(self):\n",
    "        return \"Galaxy (m_total = %.1g; m_cold = %.1g; m_stars = %.1g; age = %.1g; SFR = %0.2f)\" % \\\n",
    "                (self.total_mass, self.cold_gas_mass, self.stellar_mass, self.age, self.SFR)\n",
    "        \n",
    "class EvolvingGalaxy(Galaxy):\n",
    "    \"\"\"\n",
    "    Galaxy class for representing a galaxy that can evolve over time.\n",
    "    \"\"\"\n",
    "    def current_state(self):\n",
    "        \"\"\"\n",
    "        Return a tuple of the galaxy's total_mass, cold_gas_mass, stellar_mass, age, and SFR\n",
    "        \"\"\"\n",
    "        return (self.total_mass, self.cold_gas_mass, self.stellar_mass, self.age, self.SFR)\n",
    "    \n",
    "    def calculate_star_formation_rate(self):\n",
    "        \"\"\"\n",
    "        Calculate the star formation rate by taking a random number between 0 and 1 \n",
    "        normalized by the galaxy total mass / 1e12; \n",
    "        \n",
    "        Also updates the galaxy's color to blue if SFR > 0.01, otherwise color = red\n",
    "        \"\"\"\n",
    "        self.SFR = random.random() * (self.total_mass / 1e12)\n",
    "        if self.SFR > 0.01: \n",
    "            self.color = 'blue'\n",
    "        else:\n",
    "            self.color = 'red'\n",
    "            \n",
    "    def accrete_gas_from_IGM(self, time):\n",
    "        \"\"\"\n",
    "        Allow the galaxy to accrete cold gas from the IGM at a variable rate normalized to\n",
    "        the galaxy's mass\n",
    "        \"\"\"\n",
    "        cold_gas_accreted = random.random() * 0.1 * time * (self.total_mass / 1e12)\n",
    "        self.cold_gas_mass += cold_gas_accreted\n",
    "        self.total_mass += cold_gas_accreted\n",
    "        \n",
    "    def form_stars(self, time):\n",
    "        \"\"\"\n",
    "        Form stars according to the current star formation rate and time available\n",
    "        If unable cold gas, then shut off star formation\n",
    "        \"\"\"\n",
    "        if self.cold_gas_mass > self.SFR * time:\n",
    "            self.cold_gas_mass -= self.SFR * time\n",
    "            self.stellar_mass += self.SFR * time\n",
    "        else:\n",
    "            self.SFR = 0\n",
    "            self.color = 'red'\n",
    "            \n",
    "    def evolve(self, time):\n",
    "        \"\"\"\n",
    "        Evolve this galaxy forward for a period time\n",
    "        \"\"\"\n",
    "        if random.random() < 0.01:\n",
    "            self.calculate_star_formation_rate()\n",
    "        self.accrete_gas_from_IGM(time)\n",
    "        self.form_stars(time)\n",
    "        self.age += time       \n",
    "        \n",
    "class MovingGalaxy(EvolvingGalaxy):\n",
    "    \"\"\"\n",
    "    This galaxy can move over time in the x,y plane\n",
    "    \"\"\"\n",
    "    def __init__(self, total_mass, cold_gas_mass, stellar_mass, x_position, y_position, x_velocity, y_velocity, idnum, age=0):\n",
    "        \n",
    "        # Replace self with super to activate the superclass's methods\n",
    "        super().__init__(total_mass, cold_gas_mass, stellar_mass)\n",
    "        \n",
    "        self.x_position = x_position\n",
    "        self.y_position = y_position\n",
    "        self.x_velocity = x_velocity\n",
    "        self.y_velocity = y_velocity\n",
    "        self.idnum = idnum\n",
    "        \n",
    "    def __repr__(self):\n",
    "        return \"Galaxy %i (x = %.0f; y = %.0f)\" % (self.idnum, self.x_position, self.y_position)\n",
    "        \n",
    "    def move(self, time):\n",
    "        \"\"\"\n",
    "        \"\"\"\n",
    "        self.x_position += self.x_velocity * time\n",
    "        self.y_position += self.y_velocity * time\n",
    "        \n",
    "    def calculate_momentum(self):\n",
    "        return (self.total_mass * self.x_velocity, self.total_mass * self.y_velocity)\n",
    "\n",
    "    def evolve(self, time):\n",
    "        self.move(time)\n",
    "        super().evolve(time)\n",
    "        \n",
    "def distance(galaxy1, galaxy2):\n",
    "    x_diff = galaxy1.x_position - galaxy2.x_position\n",
    "    y_diff = galaxy1.y_position - galaxy2.y_position\n",
    "    return (x_diff**2 + y_diff**2)**0.5\n",
    "\n",
    "class Universe():\n",
    "    \"\"\"\n",
    "    \"\"\"\n",
    "    def __init__(self):\n",
    "        self.xrange = (0,100)\n",
    "        self.yrange = (0,100)\n",
    "        self.galaxies = []\n",
    "        self.added_galaxies = []\n",
    "        self.removed_galaxies = []\n",
    "        self.time = 0\n",
    "        pass\n",
    "    \n",
    "    def __repr__(self):\n",
    "        out = 'Universe: t=%.2g\\n' % self.time\n",
    "        for galaxy in self.galaxies:\n",
    "            out = \"%s%s\\n\" % (out, galaxy)\n",
    "        return out\n",
    "        \n",
    "    def add_galaxy(self, galaxy=None):\n",
    "        if galaxy is None:\n",
    "            stellar_mass = 10**(4*random.random()) * 1e6\n",
    "            cold_gas_mass = 10**(4*random.random()) * 1e6\n",
    "            total_mass = (cold_gas_mass + stellar_mass)*1e2\n",
    "            galaxy = MovingGalaxy(total_mass,\n",
    "                                  cold_gas_mass,\n",
    "                                  stellar_mass,\n",
    "                                  x_position=random.random()*100,\n",
    "                                  y_position=random.random()*100,\n",
    "                                  x_velocity=random.uniform(-1,1)*1e-7,\n",
    "                                  y_velocity=random.uniform(-1,1)*1e-7,\n",
    "                                  idnum=len(self.galaxies))\n",
    "        self.galaxies.append(galaxy)\n",
    "        \n",
    "    def remove_galaxy(self, galaxy):\n",
    "        if galaxy in self.galaxies:\n",
    "            del self.galaxies[self.galaxies.index(galaxy)]\n",
    "        \n",
    "    def evolve(self, time):\n",
    "        for galaxy in self.galaxies:\n",
    "            galaxy.evolve(time)\n",
    "            galaxy.x_position %= 100\n",
    "            galaxy.y_position %= 100\n",
    "        self.check_for_mergers()\n",
    "        for galaxy in self.removed_galaxies:\n",
    "            self.remove_galaxy(galaxy)\n",
    "        for galaxy in self.added_galaxies:\n",
    "            self.add_galaxy(galaxy)\n",
    "        self.removed_galaxies = []\n",
    "        self.added_galaxies = []\n",
    "        self.time += time\n",
    "            \n",
    "    def merge_galaxies(self, galaxy1, galaxy2):\n",
    "        print('Merging:\\n%s\\n%s' % (galaxy1, galaxy2))\n",
    "        x_mom1, y_mom1 = galaxy1.calculate_momentum()\n",
    "        x_mom2, y_mom2 = galaxy2.calculate_momentum()\n",
    "        new_total_mass = galaxy1.total_mass + galaxy2.total_mass\n",
    "        new_galaxy = MovingGalaxy(total_mass = new_total_mass,\n",
    "                                  cold_gas_mass = galaxy1.cold_gas_mass + galaxy2.cold_gas_mass,\n",
    "                                  stellar_mass = galaxy1.stellar_mass + galaxy2.stellar_mass,\n",
    "                                  x_position = galaxy1.x_position,\n",
    "                                  y_position = galaxy1.y_position,\n",
    "                                  x_velocity = (x_mom1 + x_mom2) / new_total_mass,\n",
    "                                  y_velocity = (y_mom1 + y_mom2) / new_total_mass,\n",
    "                                  idnum = galaxy1.idnum)\n",
    "        self.added_galaxies.append(new_galaxy)\n",
    "        self.removed_galaxies.append(galaxy1)\n",
    "        self.removed_galaxies.append(galaxy2)\n",
    "        \n",
    "    def check_for_mergers(self):\n",
    "        for i, galaxy1 in enumerate(self.galaxies):\n",
    "            for j, galaxy2 in enumerate(self.galaxies[i+1:]):\n",
    "                if distance(galaxy1, galaxy2) <= 2:\n",
    "                    self.merge_galaxies(galaxy1, galaxy2)\n",
    "                \n",
    "    def plot_state(self, frame_id):\n",
    "        plt.clf()\n",
    "        x = [galaxy.x_position for galaxy in self.galaxies]\n",
    "        y = [galaxy.y_position for galaxy in self.galaxies]\n",
    "        color = [galaxy.color for galaxy in self.galaxies]\n",
    "        size = [galaxy.total_mass / 1e9 for galaxy in self.galaxies]\n",
    "        plt.scatter(x,y, color=color, s=size)\n",
    "        plt.xlim(uni.xrange)\n",
    "        plt.ylim(uni.yrange)\n",
    "        plt.savefig('frame%04i.png' % frame_id)\n",
    "\n",
    "if __name__ == '__main__':\n",
    "    uni = Universe()\n",
    "    n_timesteps = 2e2\n",
    "    n_galaxies = 25\n",
    "    for i in range(n_galaxies):\n",
    "        uni.add_galaxy()\n",
    "\n",
    "    for i in range(int(n_timesteps)):\n",
    "        uni.evolve(2e9/n_timesteps)\n",
    "        uni.plot_state(i)"
   ]
  },
  {
   "cell_type": "markdown",
   "metadata": {},
   "source": [
    "**Problem 3b**\n",
    "\n",
    "Great!  So how are we going to address this slowdown?  Instead of generating one plot at a time, and later packaging them all as a single movie, why not try doing it all at once using the new matplotlib animation module: http://matplotlib.org/api/animation_api.html .  See if you can figure out how to do it!"
   ]
  }
 ],
 "metadata": {
  "kernelspec": {
   "display_name": "Python 3",
   "language": "python",
   "name": "python3"
  },
  "language_info": {
   "codemirror_mode": {
    "name": "ipython",
    "version": 3
   },
   "file_extension": ".py",
   "mimetype": "text/x-python",
   "name": "python",
   "nbconvert_exporter": "python",
   "pygments_lexer": "ipython3",
   "version": "3.5.2"
  }
 },
 "nbformat": 4,
 "nbformat_minor": 2
}
