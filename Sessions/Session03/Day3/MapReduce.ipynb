{
 "cells": [
  {
   "cell_type": "code",
   "execution_count": null,
   "metadata": {
    "collapsed": true
   },
   "outputs": [],
   "source": [
    "from __future__ import print_function, division, absolute_import"
   ]
  },
  {
   "cell_type": "markdown",
   "metadata": {},
   "source": [
    "# Data Management Part 2: Map Reduce\n",
    "\n",
    "**Version 0.1**\n",
    "\n",
    "\n",
    "Problem 2 has been adapted from a homework developed by Bill Howe at the University of Washington department of Computer Science and Engineering. He says:\n",
    "\n",
    "> In this assignment, you will be designing and implementing MapReduce algorithms for a variety of common data processing tasks.   The MapReduce programming model (and a corresponding system) was proposed in a 2004 paper from a team at Google as a simpler abstraction for processing very large datasets in parallel.  The goal of this assignment is to give you experience “thinking in MapReduce.”  We will be using small datasets that you can inspect directly to determine the correctness of your results and to internalize how MapReduce works.\n",
    "\n",
    "On Friday, we'll do a demo of a MapReduce-based system to process the large datasets for which it was designed.\n",
    "\n",
    "* * *\n"
   ]
  },
  {
   "cell_type": "markdown",
   "metadata": {},
   "source": [
    "## Problem 1: \n",
    "\n",
    "#### python builtins, map, reduce, and filter\n",
    "\n",
    "Recall yesterday's challenge problem, we define a function that returned true if a triangle was smaller than some threshold and False otherwise. We filtered the triangles as follows:\n",
    "\n",
    "```\n",
    "idx = [isTriangleLargerThan(triangle) for triangle in triangles]\n",
    "onlySmallTriangles = triangles[idx]\n",
    "```\n",
    "\n",
    "You could also do this with the `map` function:\n",
    "\n",
    "```\n",
    "idx = map(isTriangleLargerThan, triangles)\n",
    "onlySmallTriangles = triangles[idx]\n",
    "```\n",
    "\n",
    "or `filter`:\n",
    "```\n",
    "onlySmallTriangles = filter(isTriangleLargerThan, triangles)\n",
    "```\n",
    "\n",
    "The following code example is how we'd use them to compute a sum of 3 partitions. Pretend that the 3 lists are on different nodes. :) \n",
    "\n",
    "_ Note 1) this is operating on a set of values rather than key/value pairs (which we'll introduce in Problem 2)._\n",
    "\n",
    "_Note 2) Yes, this is contrived. In real life, you wouldn't go through this trouble to compute a simple sum, but it is a warm up for Problem 2_"
   ]
  },
  {
   "cell_type": "code",
   "execution_count": null,
   "metadata": {
    "collapsed": false
   },
   "outputs": [],
   "source": [
    "import numpy as np\n",
    "\n",
    "def mapper(arr):\n",
    "    return np.sum(arr)\n",
    "\n",
    "def reducer(x, y):\n",
    "    return x + y\n",
    "\n",
    "a = [1, 12, 3]\n",
    "b = [4, 12, 6, 3]\n",
    "c = [8, 1, 12, 11, 12, 2]\n",
    "\n",
    "inputData = [a, b, c]\n",
    "\n",
    "# Find the sum of all the numbers:\n",
    "intermediate = map(mapper, inputData)\n",
    "reduce(reducer, intermediate)"
   ]
  },
  {
   "cell_type": "markdown",
   "metadata": {},
   "source": [
    "**Problem 1a**) Re-write the mapper and reducer to return the **maximum** number in all 3 lists."
   ]
  },
  {
   "cell_type": "code",
   "execution_count": null,
   "metadata": {
    "collapsed": false
   },
   "outputs": [],
   "source": [
    "def mapper(arr):\n",
    "    # COMPLETE\n",
    "\n",
    "def reducer(x, y):\n",
    "    # COMPLETE\n",
    "\n",
    "intermediate = map(mapper, inputData)\n",
    "reduce(reducer, intermediate)   "
   ]
  },
  {
   "cell_type": "markdown",
   "metadata": {},
   "source": [
    "**Problem 1b)**\n",
    "How would you use this to compute the MEAN of the input data."
   ]
  },
  {
   "cell_type": "markdown",
   "metadata": {},
   "source": [
    "**Problem 1c)**\n",
    "Think about how you would adapt this this to compute the MEDIAN of the input data. Do not implement it today! If it seems hard, it is because it is.\n",
    "\n",
    "What special properties do SUM, MAX, MEAN have that make it trivial to represent in MapReduce? "
   ]
  },
  {
   "cell_type": "markdown",
   "metadata": {},
   "source": [
    "## Problem 2) \n",
    "\n",
    "Let's go through a more complete example. The following MapReduce class faithfully implements the MapReduce programming model, but it executes entirely on one processor -- it does not involve parallel computation."
   ]
  },
  {
   "cell_type": "markdown",
   "metadata": {},
   "source": [
    "**Setup**\n",
    "\n",
    "First, download the data:\n",
    "```\n",
    "$ curl -O https://lsst-web.ncsa.illinois.edu/~yusra/escience_mr/books.json\n",
    "$ curl -O https://lsst-web.ncsa.illinois.edu/~yusra/escience_mr/records.json\n",
    "```"
   ]
  },
  {
   "cell_type": "code",
   "execution_count": null,
   "metadata": {
    "collapsed": true
   },
   "outputs": [],
   "source": [
    "DATA_DIR = './data' # Set your path to the data files"
   ]
  },
  {
   "cell_type": "code",
   "execution_count": null,
   "metadata": {
    "collapsed": false
   },
   "outputs": [],
   "source": [
    "import json\n",
    "import sys\n",
    "\n",
    "class MapReduce:\n",
    "    def __init__(self):\n",
    "        self.intermediate = {}\n",
    "        self.result = []\n",
    "\n",
    "    def emit_intermediate(self, key, value):\n",
    "        self.intermediate.setdefault(key, [])\n",
    "        self.intermediate[key].append(value)\n",
    "\n",
    "    def emit(self, value):\n",
    "        self.result.append(value) \n",
    "\n",
    "    def execute(self, data, mapper, reducer):\n",
    "        for line in data:\n",
    "            record = json.loads(line)\n",
    "            mapper(record)\n",
    "\n",
    "        for key in self.intermediate:\n",
    "            reducer(key, self.intermediate[key])\n",
    "\n",
    "        jenc = json.JSONEncoder()\n",
    "        for item in self.result:\n",
    "            print(jenc.encode(item))\n"
   ]
  },
  {
   "cell_type": "markdown",
   "metadata": {},
   "source": [
    "Here is the word count example discussed in class implemented as a MapReduce program using the framework:\n"
   ]
  },
  {
   "cell_type": "code",
   "execution_count": null,
   "metadata": {
    "collapsed": false
   },
   "outputs": [],
   "source": [
    "# Part 1\n",
    "mr = MapReduce()\n",
    "\n",
    "# Part 2\n",
    "def mapper(record):\n",
    "    # key: document identifier\n",
    "    # value: document contents\n",
    "    key = record[0]\n",
    "    value = record[1]\n",
    "    words = value.split()\n",
    "    for w in words:\n",
    "        mr.emit_intermediate(w, 1)\n",
    "\n",
    "# Part 3\n",
    "def reducer(key, list_of_values):\n",
    "    # key: word\n",
    "    # value: list of occurrence counts\n",
    "    total = 0\n",
    "    for v in list_of_values:\n",
    "        total += v\n",
    "    mr.emit((key, total))\n",
    "\n",
    "# Part 4\n",
    "inputdata = open(os.path.join(DATA_DIR, \"books.json\"))\n",
    "mr.execute(inputdata, mapper, reducer)"
   ]
  },
  {
   "cell_type": "markdown",
   "metadata": {},
   "source": [
    "### Probelm 2a)\n",
    "\n",
    "Create an Inverted index. Given a set of documents, an inverted index is a dictionary where each word is associated with a list of the document identifiers in which that word appears.\n",
    "\n",
    "\n",
    "**Mapper Input**\n",
    "\n",
    "The input is a 2 element list: [document_id, text], where document_id is a string representing a document identifier and text is a string representing the text of the document. The document text may have words in upper or lower case and may contain punctuation. You should treat each token as if it was a valid word; that is, you can just use value.split() to tokenize the string.\n",
    "\n",
    "**Reducer Output**\n",
    "\n",
    "The output should be a (word, document ID list) tuple where word is a String and document ID list is a list of Strings like:\n",
    "\n",
    "```\n",
    "[\"all\", [\"milton-paradise.txt\", \"blake-poems.txt\", \"melville-moby_dick.txt\"]]\n",
    "[\"Rossmore\", [\"edgeworth-parents.txt\"]]\n",
    "[\"Consumptive\", [\"melville-moby_dick.txt\"]]\n",
    "[\"forbidden\", [\"milton-paradise.txt\"]]\n",
    "[\"child\", [\"blake-poems.txt\"]]\n",
    "[\"eldest\", [\"edgeworth-parents.txt\"]]\n",
    "[\"four\", [\"edgeworth-parents.txt\"]]\n",
    "[\"Caesar\", [\"shakespeare-caesar.txt\"]]\n",
    "[\"winds\", [\"whitman-leaves.txt\"]]\n",
    "[\"Moses\", [\"bible-kjv.txt\"]]\n",
    "[\"children\", [\"edgeworth-parents.txt\"]]\n",
    "[\"seemed\", [\"chesterton-ball.txt\", \"austen-emma.txt\"]]\n",
    "etc...\n",
    "```\n",
    "\n"
   ]
  },
  {
   "cell_type": "code",
   "execution_count": null,
   "metadata": {
    "collapsed": false
   },
   "outputs": [],
   "source": [
    "mr = MapReduce()\n",
    "\n",
    "def mapper(record):\n",
    "    # COMPELTE\n",
    "\n",
    "def reducer(key, list_of_values):\n",
    "    # COMPLETE\n",
    "\n",
    "inputdata = open(os.path.join(DATA_DIR, \"books.json\"))\n",
    "mr.execute(inputdata, mapper, reducer)\n"
   ]
  },
  {
   "cell_type": "markdown",
   "metadata": {},
   "source": [
    "### Challenge Problem\n",
    "\n",
    "Implement a relational join as a MapReduce query\n",
    "\n",
    "Consider the following query:\n",
    "\n",
    "```\n",
    "SELECT * \n",
    "FROM Orders, LineItem \n",
    "WHERE Order.order_id = LineItem.order_id\n",
    "```\n",
    "\n",
    "Your MapReduce query should produce the same result as this SQL query executed against an appropriate database. You can consider the two input tables, Order and LineItem, as one big concatenated bag of records that will be processed by the map function record by record.\n",
    "\n",
    "**Map Input**\n",
    "\n",
    "Each input record is a list of strings representing a tuple in the database. Each list element corresponds to a different attribute of the table\n",
    "\n",
    "The first item (index 0) in each record is a string that identifies the table the record originates from. This field has two possible values:\n",
    "\n",
    "\"line_item\" indicates that the record is a line item.\n",
    "\"order\" indicates that the record is an order.\n",
    "\n",
    "* **The second element (index 1) in each record is the `order_id.`** <--- JOIN ON THIS ELEMENT\n",
    "\n",
    "LineItem records have 17 attributes including the identifier string.\n",
    "\n",
    "Order records have 10 elements including the identifier string.\n",
    "\n",
    "**Reduce Output**\n",
    "\n",
    "The output should be a joined record: a single list of length 27 that contains the attributes from the order record followed by the fields from the line item record. Each list element should be a string like \n",
    "\n",
    "```\n",
    "[\"order\", \"32\", \"130057\", \"O\", \"208660.75\", \"1995-07-16\", \"2-HIGH\", \"Clerk#000000616\", \"0\", \"ise blithely bold, regular requests. quickly unusual dep\", \"line_item\", \"32\", \"82704\", \"7721\", \"1\", \"28\", \"47227.60\", \"0.05\", \"0.08\", \"N\", \"O\", \"1995-10-23\", \"1995-08-27\", \"1995-10-26\", \"TAKE BACK RETURN\", \"TRUCK\", \"sleep quickly. req\"]\n",
    "[\"order\", \"32\", \"130057\", \"O\", \"208660.75\", \"1995-07-16\", \"2-HIGH\", \"Clerk#000000616\", \"0\", \"ise blithely bold, regular requests. quickly unusual dep\", \"line_item\", \"32\", \"197921\", \"441\", \"2\", \"32\", \"64605.44\", \"0.02\", \"0.00\", \"N\", \"O\", \"1995-08-14\", \"1995-10-07\", \"1995-08-27\", \"COLLECT COD\", \"AIR\", \"lithely regular deposits. fluffily \"]\n",
    "[\"order\", \"32\", \"130057\", \"O\", \"208660.75\", \"1995-07-16\", \"2-HIGH\", \"Clerk#000000616\", \"0\", \"ise blithely bold, regular requests. quickly unusual dep\", \"line_item\", \"32\", \"44161\", \"6666\", \"3\", \"2\", \"2210.32\", \"0.09\", \"0.02\", \"N\", \"O\", \"1995-08-07\", \"1995-10-07\", \"1995-08-23\", \"DELIVER IN PERSON\", \"AIR\", \" express accounts wake according to the\"]\n",
    "[\"order\", \"32\", \"130057\", \"O\", \"208660.75\", \"1995-07-16\", \"2-HIGH\", \"Clerk#000000616\", \"0\", \"ise blithely bold, regular requests. quickly unusual dep\", \"line_item\", \"32\", \"2743\", \"7744\", \"4\", \"4\", \"6582.96\", \"0.09\", \"0.03\", \"N\", \"O\", \"1995-08-04\", \"1995-10-01\", \"1995-09-03\", \"NONE\", \"REG AIR\", \"e slyly final pac\"]\n",
    "```\n"
   ]
  },
  {
   "cell_type": "code",
   "execution_count": null,
   "metadata": {
    "collapsed": false
   },
   "outputs": [],
   "source": [
    "mr = MapReduce()\n",
    "\n",
    "def mapper(record):\n",
    "    # COMPLETE\n",
    "\n",
    "def reducer(key, list_of_values):\n",
    "    # COMPLETE\n",
    "\n",
    "inputdata = open(os.path.join(DATA_DIR, \"records.json\"))\n",
    "mr.execute(inputdata, mapper, reducer)"
   ]
  },
  {
   "cell_type": "code",
   "execution_count": null,
   "metadata": {
    "collapsed": true
   },
   "outputs": [],
   "source": []
  }
 ],
 "metadata": {
  "kernelspec": {
   "display_name": "Python 2",
   "language": "python",
   "name": "python2"
  },
  "language_info": {
   "codemirror_mode": {
    "name": "ipython",
    "version": 2
   },
   "file_extension": ".py",
   "mimetype": "text/x-python",
   "name": "python",
   "nbconvert_exporter": "python",
   "pygments_lexer": "ipython2",
   "version": "2.7.12"
  }
 },
 "nbformat": 4,
 "nbformat_minor": 0
}
