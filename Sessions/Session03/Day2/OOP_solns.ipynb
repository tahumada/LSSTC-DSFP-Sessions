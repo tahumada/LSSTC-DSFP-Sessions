{
 "cells": [
  {
   "cell_type": "markdown",
   "metadata": {},
   "source": [
    "# DSFP Object Oriented Programming Notebook\n",
    "\n",
    "Incorporating classes, objects, and functions into your code will improve its efficiency, readability, and make it easier to extend to other programs down the road.  This notebook attempts to take you through many of the concepts associated with creating a class and have it do something useful and interesting.\n",
    "\n",
    "* * *\n",
    "\n",
    "By C Hummels (Caltech / NSF Fellow)"
   ]
  },
  {
   "cell_type": "code",
   "execution_count": null,
   "metadata": {
    "collapsed": false
   },
   "outputs": [],
   "source": [
    "import matplotlib.pyplot as plt\n",
    "import random\n",
    "import numpy as np\n",
    "\n",
    "%matplotlib inline"
   ]
  },
  {
   "cell_type": "markdown",
   "metadata": {},
   "source": [
    "## Problem 1) Create a galaxy class\n",
    "\n",
    "We will begin our experience with object-oriented code by creating a class to represent a galaxy.  In order to do this, we must define the class, give it some default methods, and then some attributes to describe each instance of a galaxy."
   ]
  },
  {
   "cell_type": "markdown",
   "metadata": {},
   "source": [
    "**Problem 1a**\n",
    "\n",
    "What do *you* think should be the attributes and characteristics that should be tracked for a galaxy object?  Think critically and make a list of at least six different quantities that would make sense if this were a research project.  Please do this prior to starting (or looking at) the example below. Discuss with your code partner."
   ]
  },
  {
   "cell_type": "markdown",
   "metadata": {},
   "source": [
    "*Possible Answers:* Mass, Luminosity, SFR, Metallicity, Color, Age, Central Black Hole Mass, Disk?, Type (Sab, E0, etc.), Spin"
   ]
  },
  {
   "cell_type": "markdown",
   "metadata": {},
   "source": [
    "**Problem 1b**\n",
    "\n",
    "Define a galaxy class, and give it an initializer class method.  Have your initializer accept **arguments** for `total_mass`, `cold_gas_mass`, and `stellar_mass`.  Have it also accept **keyword arguments** for `age` with a default set to 0.  Maybe also include a `SFR` and `color` in your attributes, but initialize it to 0 and `'red'` respectively.  I'll include docstrings for you to help guide you along the way.\n",
    "\n",
    "*Hint: Don't forget to use `self` to indicate an object of this class.*"
   ]
  },
  {
   "cell_type": "code",
   "execution_count": null,
   "metadata": {
    "collapsed": false
   },
   "outputs": [],
   "source": [
    "class Galaxy():\n",
    "    \"\"\"\n",
    "    Galaxy class for simply representing a galaxy.\n",
    "    \"\"\"\n",
    "    def __init__(self, total_mass, cold_gas_mass, stellar_mass, age=0):\n",
    "        self.total_mass = total_mass\n",
    "        self.cold_gas_mass = cold_gas_mass\n",
    "        self.stellar_mass = stellar_mass\n",
    "        self.age = age\n",
    "        self.SFR = 0\n",
    "        self.color = 'red'"
   ]
  },
  {
   "cell_type": "markdown",
   "metadata": {},
   "source": [
    "**Problem 1c**\n",
    "\n",
    "Try creating a galaxy instance of your galaxy class!  Create a galaxy object, named after your favorite galaxy, with appropriate values for your arguments and keyword arguments (or as best as you can approximate).  There isn't much you can do with it right now, but at least you can be assured that your existing code works.  Try printing your object to see what python thinks of it."
   ]
  },
  {
   "cell_type": "code",
   "execution_count": null,
   "metadata": {
    "collapsed": false
   },
   "outputs": [],
   "source": [
    "milky_way = Galaxy(1e12, 1e8, 1e10, age=5e9)\n",
    "print(milky_way)"
   ]
  },
  {
   "cell_type": "markdown",
   "metadata": {},
   "source": [
    "**Problem 1d**\n",
    "\n",
    "So Python probably didn't do a very good internal representation of your galaxy.  Remember, classes have a few built-in class methods to be defined.  One is the `__init__` method, so that we know how to *initialize* the class.  Another very useful class method is the `__repr__`, which tells us how to *represent* a class object when we try to print it out.  It's very useful for debugging.  Please copy your class definition from above, and add the `__repr__` method to return a string somehow identifying a galaxy based on its attributes.  Now recreate your favorite galaxy, and print ut out again and see if it is a bit more readable than before."
   ]
  },
  {
   "cell_type": "code",
   "execution_count": null,
   "metadata": {
    "collapsed": false
   },
   "outputs": [],
   "source": [
    "class Galaxy():\n",
    "    \"\"\"\n",
    "    Galaxy class for simply representing a galaxy.\n",
    "    \"\"\"\n",
    "    def __init__(self, total_mass, cold_gas_mass, stellar_mass, age=0):\n",
    "        self.total_mass = total_mass\n",
    "        self.cold_gas_mass = cold_gas_mass\n",
    "        self.stellar_mass = stellar_mass\n",
    "        self.age = age\n",
    "        self.SFR = 0\n",
    "        self.color = 'red'\n",
    "        \n",
    "    def __repr__(self):\n",
    "        return \"Galaxy (m_total = %.1g; m_cold = %.1g; m_stars = %.1g; age = %.1g; SFR = %0.2f)\" % \\\n",
    "                (self.total_mass, self.cold_gas_mass, self.stellar_mass, self.age, self.SFR)\n",
    "\n",
    "milky_way = Galaxy(1e12, 1e8, 1e10, age=5e9)\n",
    "print(milky_way)"
   ]
  },
  {
   "cell_type": "markdown",
   "metadata": {},
   "source": [
    "## Problem 2) Make a more *interesting* galaxy class that can evolve with time\n",
    "\n",
    "Now let's build on our basic galaxy class with some relevant class methods specific to galaxies that enables them to change with time.  Obviously, galaxies have a *huge* number of traits, and we don't currently understand all the ways in which these variables interrelate.  But we can make a toy model here just to get the idea of how they *might* evolve.  This is largely the premise of semi-analytic models that people use to study how galaxies might evolve with time."
   ]
  },
  {
   "cell_type": "markdown",
   "metadata": {},
   "source": [
    "**Problem 2a**\n",
    "\n",
    "Think about what methods *you* would add to allow your galaxy to change with time using the galaxy attributes defined above and/or other galaxy attributes.  Come up with at least three and then discuss with your partner before continuing."
   ]
  },
  {
   "cell_type": "markdown",
   "metadata": {},
   "source": [
    "*Possible Answers:* evolve(time), cold_mode_accretion(time), hot_mode_accretion(time), absorb_galaxy(galaxy), star_burst(), agn_feedback(), change_color(), change_type()"
   ]
  },
  {
   "cell_type": "markdown",
   "metadata": {},
   "source": [
    "**Problem 2b**\n",
    "\n",
    "We want to enhance our general `Galaxy` class to enable galaxies to actually evolve with time.  Rather than just copying all of the code from our `Galaxy` class above, we can **subclass** the `Galaxy` class to inherit all of its attributes, methods, etc!  Create a new class named `EvolvingGalaxy` below, which uses the `Galaxy` class as its \"parent\" or \"super\" class.  Remember, because you already defined `__init__` and `__repr__` methods for this class, they are inherited and you don't need to redefine them, unless you want to.\n",
    "\n",
    "Now try creating an instance of `EvolvingGalaxy` and printing it out, just like you did for your favorite galaxy in problem 1c."
   ]
  },
  {
   "cell_type": "code",
   "execution_count": null,
   "metadata": {
    "collapsed": false
   },
   "outputs": [],
   "source": [
    "class EvolvingGalaxy(Galaxy):\n",
    "    \"\"\"\n",
    "    Galaxy class for representing a galaxy that can evolve over time.\n",
    "    \"\"\"\n",
    "\n",
    "milky_way = EvolvingGalaxy(1e12, 1e8, 1e10, age=5e9)\n",
    "print(milky_way)"
   ]
  },
  {
   "cell_type": "markdown",
   "metadata": {},
   "source": [
    "**Problem 2c**\n",
    "\n",
    "Let's start by making an `evolve` method for our `Galaxy` class in order to evolve the galaxy forward in time.  `evolve` should expect an argument for `time` in years.  And at least initially, let's just make this a simple method that just changes the `age` of the galaxy by the appropriate amount.  We'll add more on to it in a second.\n",
    "\n",
    "Because we're going to be following the evolution of this galaxy, we should create a `current_state` method, which returns a tuple of the attributes of the `EvolvingGalaxy` object at that moment.  Now as our `EvolvingGalaxy` changes with time, we will be able to track it and save that information somewhere."
   ]
  },
  {
   "cell_type": "code",
   "execution_count": null,
   "metadata": {
    "collapsed": false
   },
   "outputs": [],
   "source": [
    "class EvolvingGalaxy(Galaxy):\n",
    "    \"\"\"\n",
    "    Galaxy class for representing a galaxy that can evolve over time.\n",
    "    \"\"\"\n",
    "    def evolve(self, time):\n",
    "        \"\"\"\n",
    "        Evolve this galaxy forward for a period time\n",
    "        \"\"\"\n",
    "        self.age += time\n",
    " \n",
    "    def current_state(self):\n",
    "        return (self.total_mass, self.cold_gas_mass, self.stellar_mass, self.age, self.SFR)"
   ]
  },
  {
   "cell_type": "markdown",
   "metadata": {},
   "source": [
    "##### **Problem 2d**\n",
    "\n",
    "Now that we can *evolve* our `EvolvingGalaxy` and check on its `current_state` over time, let's run it forward in time and see the results!  \n",
    "\n",
    "Make a new function (not a class method) called `integrate_time` that accepts an `EvolvingGalaxy` object, a timestep (some number of years long), and a number of timesteps over which to evolve the galaxy.  Step the `EvolvingGalaxy` forward in time using your `for` loop, one timestep at a time, and store its `current_state` at each timestep.  You can store this current_state information however you'd like, but I find it easiest to create a NumPy array of size [5, `n_timesteps`], and fill it in using the `for` loop.\n",
    "\n",
    "Similarly, make a new function called `plot_galaxy_evolution` that accepts the output from your `integrate_time` function and uses Matplotlib's pyplot module to plot up the evolution of the `EvolvingGalaxy`'s properties versus its age.\n",
    "\n",
    "Finally, create an instance of EvolvingGalaxy, and plug it into your new `integrate_time` and `plot_galaxy_evolution` functions to integrate for a gigayear, and plot how the `EvolvingGalaxy` quantities change with age.  Not much going on--sad!"
   ]
  },
  {
   "cell_type": "code",
   "execution_count": null,
   "metadata": {
    "collapsed": false
   },
   "outputs": [],
   "source": [
    "def integrate_time(galaxy, timestep, n_timesteps):\n",
    "    \"\"\"\n",
    "    Integrate the time forward for a galaxy and record its state at each timestep; return as array\n",
    "    \"\"\"    \n",
    "    data_arr = np.empty([5, n_timesteps])\n",
    "    for i in range(n_timesteps):\n",
    "        galaxy.evolve(timestep)\n",
    "        data_arr[:,i] = galaxy.current_state()\n",
    "    return data_arr\n",
    "\n",
    "def plot_galaxy_evolution(data_arr):\n",
    "    \"\"\"\n",
    "    Plot the evolution of a galaxy from its input data array\n",
    "    \"\"\"\n",
    "    plt.clf()\n",
    "    plt.semilogy(data[3], data[0], color='k', label='Total')\n",
    "    plt.semilogy(data[3], data[1], color='b', label='Gas')\n",
    "    plt.semilogy(data[3], data[2], color='r', label='Stars')\n",
    "    plt.semilogy(data[3], data[4], color='g', label='SFR')\n",
    "    plt.xlabel('Age')\n",
    "    plt.ylabel('Mass')\n",
    "    plt.legend(loc=1)\n",
    "    plt.show()\n",
    "\n",
    "milky_way = EvolvingGalaxy(1e12, 1e8, 1e10, age=5e9)\n",
    "data = integrate_time(milky_way, 1e6, 1000)\n",
    "plot_galaxy_evolution(data)"
   ]
  },
  {
   "cell_type": "markdown",
   "metadata": {},
   "source": [
    "**Problem 2e**\n",
    "\n",
    "How do galaxies evolve with time?  They do in lots of ways, but let's make a few specific rules.  \n",
    "\n",
    "Galaxies tend to accrete gas from the intergalactic medium over time.  We'll modify the code from above for your `EvolvingGalaxy` class to include a `accrete_gas_from_IGM` method, which adds to the `cold_gas_mass` and `total_mass` of the galaxy with time.  Let's give it a random component too.\n",
    "\n",
    "Galaxies form stars, converting `cold_gas_mass` to `stellar_mass` according to their star formation rate (`SFR`).  But there must be sufficient `cold_gas_mass` to consume, so make sure there is enough for the `SFR` to operate for the alloted `time`, otherwise the `SFR` should drop to 0.\n",
    "\n",
    "Finally, we haven't actually calculated a `SFR`, let's just create a method, `calculate_star_formation_rate`, choose a random value every time it is called.  We'll also scale it in some way by the `total_mass` of the galaxy and use the Milky Way as a guide.  The Milky Way forms about 1 Msun/year and it has a `total_mass` of 1e12 Msun.  \n",
    "\n",
    "Include these functions in our `evolve` method, and re-generate a galaxy evolution plot like you did in Problem 2d.  Since there is a random component, you can try re-running it a few times and see how the behavior changes."
   ]
  },
  {
   "cell_type": "code",
   "execution_count": null,
   "metadata": {
    "collapsed": false
   },
   "outputs": [],
   "source": [
    "class EvolvingGalaxy(Galaxy):\n",
    "    \"\"\"\n",
    "    Galaxy class for representing a galaxy that can evolve over time.\n",
    "    \"\"\"\n",
    "    def current_state(self):\n",
    "        \"\"\"\n",
    "        Return a tuple of the galaxy's total_mass, cold_gas_mass, stellar_mass, age, and SFR\n",
    "        \"\"\"\n",
    "        return (self.total_mass, self.cold_gas_mass, self.stellar_mass, self.age, self.SFR)\n",
    "    \n",
    "    def calculate_star_formation_rate(self):\n",
    "        \"\"\"\n",
    "        Calculate the star formation rate by taking a random number between 0 and 1 \n",
    "        normalized by the galaxy total mass / 1e12; \n",
    "        \n",
    "        Also updates the galaxy's color to blue if SFR > 0.01, otherwise color = red\n",
    "        \"\"\"\n",
    "        self.SFR = random.random() * (self.total_mass / 1e12)\n",
    "        if self.SFR > 0.01: \n",
    "            self.color = 'blue'\n",
    "        else:\n",
    "            self.color = 'red'\n",
    "            \n",
    "    def accrete_gas_from_IGM(self, time):\n",
    "        \"\"\"\n",
    "        Allow the galaxy to accrete cold gas from the IGM at a variable rate normalized to\n",
    "        the galaxy's mass\n",
    "        \"\"\"\n",
    "        cold_gas_accreted = random.random() * 0.1 * time * (self.total_mass / 1e12)\n",
    "        self.cold_gas_mass += cold_gas_accreted\n",
    "        self.total_mass += cold_gas_accreted\n",
    "        \n",
    "    def form_stars(self, time):\n",
    "        \"\"\"\n",
    "        Form stars according to the current star formation rate and time available\n",
    "        If unable cold gas, then shut off star formation\n",
    "        \"\"\"\n",
    "        if self.cold_gas_mass > self.SFR * time:\n",
    "            self.cold_gas_mass -= self.SFR * time\n",
    "            self.stellar_mass += self.SFR * time\n",
    "        else:\n",
    "            self.SFR = 0\n",
    "            self.color = 'red'\n",
    "            \n",
    "    def evolve(self, time):\n",
    "        \"\"\"\n",
    "        Evolve this galaxy forward for a period time\n",
    "        \"\"\"\n",
    "        if random.random() < 0.01:\n",
    "            self.calculate_star_formation_rate()\n",
    "        self.accrete_gas_from_IGM(time)\n",
    "        self.form_stars(time)\n",
    "        self.age += time                \n",
    "            \n",
    "milky_way = EvolvingGalaxy(1e12, 1e8, 1e10, age=5e9)\n",
    "data = integrate_time(milky_way, 1e6, 10000)\n",
    "plot_galaxy_evolution(data)"
   ]
  },
  {
   "cell_type": "markdown",
   "metadata": {},
   "source": [
    "**Problem 2f**\n",
    "\n",
    "Based on your knowledge of how galaxies evolve, do these results make sense?  Discuss with your coding partner if so/not, and ways in which you might tweak it to work better."
   ]
  },
  {
   "cell_type": "markdown",
   "metadata": {},
   "source": [
    "*Possible Answers:* For the most part, yes.  The galaxy consumes its cold gas and creates stars, and when it runs out of gas, it shuts off star formation for a time.  But after time, it accretes enough cold gas to allow it to form stars again, so it's in sort of loop.  But it's not really realistic because it needs to interact with its environment and other galaxies through galaxy mergers, gas accretion, gas stripping, etc."
   ]
  },
  {
   "cell_type": "markdown",
   "metadata": {},
   "source": [
    "## Problem 3) Make a galaxy class that can interact with other galaxies (challenging!)\n",
    "\n",
    "Most galaxies do not evolve in isolation, so let's make a galaxy class that enables galaxies to actually interact with each other.  We can re-use much of the code from our previous examples through inheritance!  Yeah!"
   ]
  },
  {
   "cell_type": "markdown",
   "metadata": {},
   "source": [
    "**Problem 3a**\n",
    "\n",
    "Let us create a new subclass of `EvolveGalaxy`, so that it inherits most of the traits of our previous work.  But we will add some new features including position and velocity values in the x-y plane, so that our galaxy can actually move over time.\n",
    "\n",
    "Create a new class `MovingGalaxy` that is a subclass of `EvolveGalaxy`.  Make a new `__init__` method with all of the arguments from it's parent class `EvolveGalaxy`, but add the additional arguments of `x_position`, `y_position`, `x_velocity`, `y_velocity`, and `id_num`.  \n",
    "\n",
    "*Note: all arguments must come before any keyword arguments, so the `age` kwarg has to come at the very end.*\n",
    "\n",
    "Also, make a new `__repr__` method for this class that just includes it's `idnum`, `x_position`, and `y_position`.\n",
    "\n",
    "To assure your code works, create an instance of a `MovingGalaxy`, and print it out."
   ]
  },
  {
   "cell_type": "code",
   "execution_count": null,
   "metadata": {
    "collapsed": false
   },
   "outputs": [],
   "source": [
    "class MovingGalaxy(EvolvingGalaxy):\n",
    "    \"\"\"\n",
    "    Galaxy class that can evolve and move in the x,y plane\n",
    "    \"\"\"\n",
    "    def __init__(self, total_mass, cold_gas_mass, stellar_mass, x_position, y_position, x_velocity, y_velocity, idnum, age=0):\n",
    "        \n",
    "        # Replace self with super to activate the superclass's methods\n",
    "        super().__init__(total_mass, cold_gas_mass, stellar_mass)\n",
    "        \n",
    "        self.x_position = x_position\n",
    "        self.y_position = y_position\n",
    "        self.x_velocity = x_velocity\n",
    "        self.y_velocity = y_velocity\n",
    "        self.idnum = idnum\n",
    "        \n",
    "    def __repr__(self):\n",
    "        return \"Galaxy %i (x = %.0f; y = %.0f)\" % (self.idnum, self.x_position, self.y_position)\n",
    "\n",
    "milky_way = MovingGalaxy(1e12, 1e8, 1e10, 0, 0, 0, 0, 0)\n",
    "print(milky_way)"
   ]
  },
  {
   "cell_type": "markdown",
   "metadata": {},
   "source": [
    "**Problem 3b**\n",
    "\n",
    "In order for our `MovingGalaxy` to move, we have to give it a few more methods.  Copy your class definition from above, and add three more methods.  \n",
    "\n",
    "Create a `move` method which accepts a `time` argument and updates the `MovingGalaxy`'s `x_position`, and `y_position` by accounting for the motion from its `x_velocity` and `y_velocity`.\n",
    "\n",
    "Create a `calculate_momentum` method that returns a tuple of (x_momentum, y_momentum) for a galaxy.\n",
    "\n",
    "Finally, create an `evolve` method, which accepts a `time` argument, and just executes your `move` method before calling the superclass's `evolve` method (i.e. `EvolvingGalaxy`'s)."
   ]
  },
  {
   "cell_type": "code",
   "execution_count": null,
   "metadata": {
    "collapsed": false
   },
   "outputs": [],
   "source": [
    "class MovingGalaxy(EvolvingGalaxy):\n",
    "    \"\"\"\n",
    "    This galaxy can move over time in the x,y plane\n",
    "    \"\"\"\n",
    "    def __init__(self, total_mass, cold_gas_mass, stellar_mass, x_position, y_position, x_velocity, y_velocity, idnum, age=0):\n",
    "        \n",
    "        # Replace self with super to activate the superclass's methods\n",
    "        super().__init__(total_mass, cold_gas_mass, stellar_mass)\n",
    "        \n",
    "        self.x_position = x_position\n",
    "        self.y_position = y_position\n",
    "        self.x_velocity = x_velocity\n",
    "        self.y_velocity = y_velocity\n",
    "        self.idnum = idnum\n",
    "        \n",
    "    def __repr__(self):\n",
    "        return \"Galaxy %i (x = %.0f; y = %.0f)\" % (self.idnum, self.x_position, self.y_position)\n",
    "        \n",
    "    def move(self, time):\n",
    "        \"\"\"\n",
    "        \"\"\"\n",
    "        self.x_position += self.x_velocity * time\n",
    "        self.y_position += self.y_velocity * time\n",
    "        \n",
    "    def calculate_momentum(self):\n",
    "        return (self.total_mass * self.x_velocity, self.total_mass * self.y_velocity)\n",
    "\n",
    "    def evolve(self, time):\n",
    "        self.move(time)\n",
    "        super().evolve(time)"
   ]
  },
  {
   "cell_type": "markdown",
   "metadata": {},
   "source": [
    "**Problem 3c**\n",
    "\n",
    "OK, so we have a `MovingGalaxy` that can move, but we need a Universe in which it can move!  \n",
    "\n",
    "So let us create a new `Universe` class that can hold one or more galaxies.  We will give it x and y limits which define its borders to be 0 and 100, as well as an internal list to hold the galaxies themselves.  Make an `evolve` method for the `Universe` class that moves its time forward some timestep.  How does this affect the galaxies?  Are there boundaries to your `Universe`?  What happens when `MovingGalaxy`'s run into each other?  Don't worry about gravity for now, but you could make them merge when they are close enough to each other, or just let them fly through each other.  After all, it's your Universe.\n",
    "\n",
    "It may also be useful to make a method to add a random `MovingGalaxy`, so that you can add several to your `Universe` during initialization.  Start out only adding a few, as it might get expensive!\n",
    "\n",
    "Make a command that plots the positions of the galaxies with time using `matplotlib.scatter()`, and save the corresponding outputs to a files called `frame%04i.png`.  The next steps allow you to make a movie of these frames."
   ]
  },
  {
   "cell_type": "code",
   "execution_count": null,
   "metadata": {
    "collapsed": false
   },
   "outputs": [],
   "source": [
    "def distance(galaxy1, galaxy2):\n",
    "    x_diff = galaxy1.x_position - galaxy2.x_position\n",
    "    y_diff = galaxy1.y_position - galaxy2.y_position\n",
    "    return (x_diff**2 + y_diff**2)**0.5\n",
    "\n",
    "class Universe():\n",
    "    \"\"\"\n",
    "    \"\"\"\n",
    "    def __init__(self):\n",
    "        self.xrange = (0,100)\n",
    "        self.yrange = (0,100)\n",
    "        self.galaxies = []\n",
    "        self.added_galaxies = []\n",
    "        self.removed_galaxies = []\n",
    "        self.time = 0\n",
    "        pass\n",
    "    \n",
    "    def __repr__(self):\n",
    "        out = 'Universe: t=%.2g\\n' % self.time\n",
    "        for galaxy in self.galaxies:\n",
    "            out = \"%s%s\\n\" % (out, galaxy)\n",
    "        return out\n",
    "        \n",
    "    def add_galaxy(self, galaxy=None):\n",
    "        if galaxy is None:\n",
    "            stellar_mass = 10**(4*random.random()) * 1e6\n",
    "            cold_gas_mass = 10**(4*random.random()) * 1e6\n",
    "            total_mass = (cold_gas_mass + stellar_mass)*1e2\n",
    "            galaxy = MovingGalaxy(total_mass,\n",
    "                                  cold_gas_mass,\n",
    "                                  stellar_mass,\n",
    "                                  x_position=random.random()*100,\n",
    "                                  y_position=random.random()*100,\n",
    "                                  x_velocity=random.uniform(-1,1)*1e-7,\n",
    "                                  y_velocity=random.uniform(-1,1)*1e-7,\n",
    "                                  idnum=len(self.galaxies))\n",
    "        self.galaxies.append(galaxy)\n",
    "        \n",
    "    def remove_galaxy(self, galaxy):\n",
    "        if galaxy in self.galaxies:\n",
    "            del self.galaxies[self.galaxies.index(galaxy)]\n",
    "        \n",
    "    def evolve(self, time):\n",
    "        for galaxy in self.galaxies:\n",
    "            galaxy.evolve(time)\n",
    "            galaxy.x_position %= 100\n",
    "            galaxy.y_position %= 100\n",
    "        self.check_for_mergers()\n",
    "        for galaxy in self.removed_galaxies:\n",
    "            self.remove_galaxy(galaxy)\n",
    "        for galaxy in self.added_galaxies:\n",
    "            self.add_galaxy(galaxy)\n",
    "        self.removed_galaxies = []\n",
    "        self.added_galaxies = []\n",
    "        self.time += time\n",
    "            \n",
    "    def merge_galaxies(self, galaxy1, galaxy2):\n",
    "        print('Merging:\\n%s\\n%s' % (galaxy1, galaxy2))\n",
    "        x_mom1, y_mom1 = galaxy1.calculate_momentum()\n",
    "        x_mom2, y_mom2 = galaxy2.calculate_momentum()\n",
    "        new_total_mass = galaxy1.total_mass + galaxy2.total_mass\n",
    "        new_galaxy = MovingGalaxy(total_mass = new_total_mass,\n",
    "                                  cold_gas_mass = galaxy1.cold_gas_mass + galaxy2.cold_gas_mass,\n",
    "                                  stellar_mass = galaxy1.stellar_mass + galaxy2.stellar_mass,\n",
    "                                  x_position = galaxy1.x_position,\n",
    "                                  y_position = galaxy1.y_position,\n",
    "                                  x_velocity = (x_mom1 + x_mom2) / new_total_mass,\n",
    "                                  y_velocity = (y_mom1 + y_mom2) / new_total_mass,\n",
    "                                  idnum = galaxy1.idnum)\n",
    "        self.added_galaxies.append(new_galaxy)\n",
    "        self.removed_galaxies.append(galaxy1)\n",
    "        self.removed_galaxies.append(galaxy2)\n",
    "        \n",
    "    def check_for_mergers(self):\n",
    "        for i, galaxy1 in enumerate(self.galaxies):\n",
    "            for j, galaxy2 in enumerate(self.galaxies[i+1:]):\n",
    "                if distance(galaxy1, galaxy2) <= 2:\n",
    "                    self.merge_galaxies(galaxy1, galaxy2)\n",
    "                \n",
    "    def plot_state(self, frame_id):\n",
    "        plt.clf()\n",
    "        x = [galaxy.x_position for galaxy in self.galaxies]\n",
    "        y = [galaxy.y_position for galaxy in self.galaxies]\n",
    "        color = [galaxy.color for galaxy in self.galaxies]\n",
    "        size = [galaxy.total_mass / 1e9 for galaxy in self.galaxies]\n",
    "        plt.scatter(x,y, color=color, s=size)\n",
    "        plt.xlim(uni.xrange)\n",
    "        plt.ylim(uni.yrange)\n",
    "        plt.savefig('frame%04i.png' % frame_id)\n"
   ]
  },
  {
   "cell_type": "markdown",
   "metadata": {},
   "source": [
    "**Problem 3d**\n",
    "\n",
    "Initialize a `Universe` with several galaxies in it. Run your `Universe` forward in time, and plot the resulting state of the `Universe` over time to files called `frame%04i.png`."
   ]
  },
  {
   "cell_type": "code",
   "execution_count": null,
   "metadata": {
    "collapsed": false
   },
   "outputs": [],
   "source": [
    "uni = Universe()\n",
    "n_timesteps = 2e2\n",
    "n_galaxies = 25\n",
    "for i in range(n_galaxies):\n",
    "    uni.add_galaxy()\n",
    "\n",
    "for i in range(int(n_timesteps)):\n",
    "    uni.evolve(2e9/n_timesteps)\n",
    "    uni.plot_state(i)"
   ]
  },
  {
   "cell_type": "markdown",
   "metadata": {},
   "source": [
    "**Problem 3e**\n",
    "\n",
    "The command below will output a movie file called `movie.mp4` by combining all of your `frame%04i.png` files and packaging them together at a framerate of 20 FPS.  It requires ffmpeg to be installed, but you can do this easily if you have homebrew installed by running `brew install ffmpeg`.  There are other means to download `ffmpeg` online.  Otherwise, you can flip through the frames manually to see how the `Universe` changes with time.  \n",
    "\n",
    "If you were able to execute this step OK, execute to the next two fields and watch your movie!  Again, since there is a random component to these models, you can try running it a few times to see how the results change."
   ]
  },
  {
   "cell_type": "code",
   "execution_count": null,
   "metadata": {
    "collapsed": false
   },
   "outputs": [],
   "source": [
    "%%bash\n",
    "ffmpeg -r 20 -f image2 -i frame%04d.png -vcodec libx264 -pix_fmt yuv420p -crf 25 -y movie.mp4"
   ]
  },
  {
   "cell_type": "code",
   "execution_count": null,
   "metadata": {
    "collapsed": false
   },
   "outputs": [],
   "source": [
    "%%HTML\n",
    "<video width=\"1000\" height=\"1000\" controls>\n",
    "  <source src=\"movie.mp4\" type=\"video/mp4\">\n",
    "</video>"
   ]
  },
  {
   "cell_type": "markdown",
   "metadata": {},
   "source": [
    "## Challenge Problem: Add in gravitational accelerations to your Universe\n",
    "\n",
    "Using the framework you developed for Problems 1-3, add in gravitational effects to calculate the gravitational acceleration of each galaxy with each other galaxy.  This is what is known as an N-body integrator, and it can be surprisingly easy to write one.  Do this for your `Universe` above and run it forward in time."
   ]
  },
  {
   "cell_type": "code",
   "execution_count": null,
   "metadata": {
    "collapsed": true
   },
   "outputs": [],
   "source": []
  }
 ],
 "metadata": {
  "kernelspec": {
   "display_name": "Python 3",
   "language": "python",
   "name": "python3"
  },
  "language_info": {
   "codemirror_mode": {
    "name": "ipython",
    "version": 3
   },
   "file_extension": ".py",
   "mimetype": "text/x-python",
   "name": "python",
   "nbconvert_exporter": "python",
   "pygments_lexer": "ipython3",
   "version": "3.5.2"
  }
 },
 "nbformat": 4,
 "nbformat_minor": 2
}
