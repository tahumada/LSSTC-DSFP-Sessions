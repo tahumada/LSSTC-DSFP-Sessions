{
 "cells": [
  {
   "cell_type": "markdown",
   "metadata": {
    "slideshow": {
     "slide_type": "slide"
    }
   },
   "source": [
    "# Convolutional Neural Networks (CNNs)\n",
    "\n",
    "## Nora Shipp & Nick Mondrik\n",
    "\n"
   ]
  },
  {
   "cell_type": "markdown",
   "metadata": {
    "slideshow": {
     "slide_type": "slide"
    }
   },
   "source": [
    "# Why CNNs?\n",
    "\n",
    "## Problem:\n",
    "\n",
    "How do we classify an image with neural networks?\n",
    "\n",
    "\n",
    "## Solution:\n",
    "\n",
    "Use convolutions to find spatial features useful for classification!\n",
    "\n"
   ]
  },
  {
   "cell_type": "markdown",
   "metadata": {
    "slideshow": {
     "slide_type": "subslide"
    }
   },
   "source": [
    "# How they work\n",
    "<br>\n",
    "Use different kernels to identify different features\n",
    "<br>\n",
    "<center>\n",
    "<img src='convolution_schematic.gif' style=\"width:1000px;height:732px\">\n",
    "</center>\n"
   ]
  },
  {
   "cell_type": "markdown",
   "metadata": {
    "slideshow": {
     "slide_type": "subslide"
    }
   },
   "source": [
    "## How they work\n",
    "<br>\n",
    "<center>\n",
    "<img src='giphy.gif' style=\"width:960px;height:544px\">\n",
    "</center>"
   ]
  },
  {
   "cell_type": "markdown",
   "metadata": {
    "slideshow": {
     "slide_type": "slide"
    }
   },
   "source": [
    "# Example: Number Recognition\n",
    "\n",
    "http://scs.ryerson.ca/~aharley/vis/conv/'"
   ]
  },
  {
   "cell_type": "markdown",
   "metadata": {
    "slideshow": {
     "slide_type": "slide"
    }
   },
   "source": [
    "# Summary\n",
    "\n",
    "1. Convolutions enhance spatial features in images\n",
    "<br><br>\n",
    "2. Nodes in CNN learn kernels useful in classifying images\n",
    "<br><br>\n",
    "3. Astronomical example: Galaxy/Star classification\n",
    "\n",
    "<center>\n",
    "<img src='galstar.png'>\n",
    "</center>"
   ]
  },
  {
   "cell_type": "code",
   "execution_count": null,
   "metadata": {
    "collapsed": true
   },
   "outputs": [],
   "source": []
  }
 ],
 "metadata": {
  "celltoolbar": "Slideshow",
  "kernelspec": {
   "display_name": "Python 2",
   "language": "python",
   "name": "python2"
  },
  "language_info": {
   "codemirror_mode": {
    "name": "ipython",
    "version": 2
   },
   "file_extension": ".py",
   "mimetype": "text/x-python",
   "name": "python",
   "nbconvert_exporter": "python",
   "pygments_lexer": "ipython2",
   "version": "2.7.12"
  },
  "widgets": {
   "state": {},
   "version": "1.1.1"
  }
 },
 "nbformat": 4,
 "nbformat_minor": 0
}
