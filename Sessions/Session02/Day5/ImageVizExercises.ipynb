{
 "cells": [
  {
   "cell_type": "code",
   "execution_count": 1,
   "metadata": {
    "collapsed": true
   },
   "outputs": [],
   "source": [
    "from __future__ import print_function, division, absolute_import"
   ]
  },
  {
   "cell_type": "markdown",
   "metadata": {},
   "source": [
    "# Exercises for image visualization"
   ]
  },
  {
   "cell_type": "markdown",
   "metadata": {},
   "source": [
    "Feel free to pick and choose from these.\n",
    "\n",
    "Some exercises make use of code in the notebook. Other exercises will require a GUI interaction. "
   ]
  },
  {
   "cell_type": "markdown",
   "metadata": {},
   "source": [
    "# 1. matplotlib: Contours from another image, and secondary axes"
   ]
  },
  {
   "cell_type": "markdown",
   "metadata": {},
   "source": [
    "Using matplotlib and astropy:\n",
    "\n",
    "* display the file `.data/w5.fits` as a bitmap with log stretch and min-max scaling\n",
    "* overlay the data in image extension 1 of `./data/0259p6031_1342192088_SpirePhoto_L20_PMP350_SPG14.0.fits.fits.gz` as white contours with levels drawn at [0.7, 1.4, 3] image units (Jy/beam)\n",
    "* display coordinate axes and grid (green, alpha=1) in (RA, Dec)  \n",
    "* overlay a coordinate grid (cyan, alpha=1) and axis labels in Galactic longitude and latitude"
   ]
  },
  {
   "cell_type": "code",
   "execution_count": 14,
   "metadata": {
    "collapsed": true
   },
   "outputs": [],
   "source": [
    "import matplotlib.pyplot as plt\n",
    "from astropy.io import fits\n",
    "from astropy.wcs import WCS\n",
    "from astropy.visualization import (MinMaxInterval,\n",
    "                                  LogStretch,\n",
    "                                  ImageNormalize)\n",
    "%matplotlib inline"
   ]
  },
  {
   "cell_type": "markdown",
   "metadata": {
    "collapsed": true
   },
   "source": [
    "# 2. RGB-3-color images"
   ]
  },
  {
   "cell_type": "markdown",
   "metadata": {},
   "source": [
    "Using astropy and reproject (installable with `pip install reproject`), follow [these instructions](http://docs.astropy.org/en/stable/visualization/lupton_rgb.html) in the Astropy documentation to make color RGB images. Compare the second one to Figure 1 of [Lupton et al 2004](https://arxiv.org/abs/astro-ph/0312483)."
   ]
  },
  {
   "cell_type": "code",
   "execution_count": 28,
   "metadata": {
    "collapsed": true
   },
   "outputs": [],
   "source": [
    "import numpy as np\n",
    "from astropy.visualization import make_lupton_rgb\n",
    "from astropy.io import fits\n",
    "from reproject import reproject_interp"
   ]
  },
  {
   "cell_type": "code",
   "execution_count": 10,
   "metadata": {
    "collapsed": true
   },
   "outputs": [],
   "source": [
    "# Read in the three images downloaded from here:\n",
    "g = fits.open('http://dr13.sdss.org/sas/dr13/eboss/photoObj/frames/301/1737/5/frame-g-001737-5-0039.fits.bz2')[0]\n",
    "r = fits.open('http://dr13.sdss.org/sas/dr13/eboss/photoObj/frames/301/1737/5/frame-r-001737-5-0039.fits.bz2')[0]\n",
    "i = fits.open('http://dr13.sdss.org/sas/dr13/eboss/photoObj/frames/301/1737/5/frame-i-001737-5-0039.fits.bz2')[0]"
   ]
  },
  {
   "cell_type": "markdown",
   "metadata": {},
   "source": [
    "# 3. RGB colors of Herschel-SPIRE images"
   ]
  },
  {
   "cell_type": "markdown",
   "metadata": {},
   "source": [
    "Reproject the 250 um image of W5 in `./data/0259p6031_1342192088_SpirePhoto_L20_PMP250_SPG14.0.fits.gz` (extension 1) and the 350 micron image in `./data/0259p6031_1342192088_SpirePhoto_L20_PMP350_SPG14.0.fits.gz` onto the 500 micron image in that directory, and try the same 3-color procedures."
   ]
  },
  {
   "cell_type": "code",
   "execution_count": 21,
   "metadata": {
    "collapsed": true
   },
   "outputs": [],
   "source": [
    "w5_250 = fits.open('./data/0259p6031_1342192088_SpirePhoto_L20_PMP250_SPG14.0.fits.gz')[1]\n",
    "w5_350 = fits.open('./data/0259p6031_1342192088_SpirePhoto_L20_PMP350_SPG14.0.fits.gz')[1]\n",
    "w5_500 = fits.open('./data/0259p6031_1342192088_SpirePhoto_L20_PMP500_SPG14.0.fits.gz')[1]"
   ]
  },
  {
   "cell_type": "markdown",
   "metadata": {},
   "source": [
    "# 4. Ginga reference viewer"
   ]
  },
  {
   "cell_type": "markdown",
   "metadata": {},
   "source": [
    "If you haven't already, install Ginga with `pip install ginga`."
   ]
  },
  {
   "cell_type": "markdown",
   "metadata": {},
   "source": [
    "* Launch the Ginga reference viewer from the shell.\n",
    "* Read in the three Herschel-SPIRE images in ./data/0259\\*fits.gz into separate channels\n",
    "   * Use top-level menu \"Channel -> Add Channel\"\n",
    "   * Use top-level menu \"File -> Load Image\"\n",
    "* Start the WCS Match plugin and blink the images"
   ]
  },
  {
   "cell_type": "markdown",
   "metadata": {},
   "source": [
    "# 5. Firefly with PTF Images"
   ]
  },
  {
   "cell_type": "markdown",
   "metadata": {},
   "source": [
    "* Point your browser to IRSA's [PTF image service](http://irsa.ipac.caltech.edu/applications/ptf/). \n",
    "* Search position `312.503802, -0.706603` in the Level 1 images.\n",
    "* Go to Catalogs, overlay Gaia catalog\n",
    "* Select different images; and select different Gaia sources in an image (two tabs in table)."
   ]
  },
  {
   "cell_type": "markdown",
   "metadata": {},
   "source": [
    "# 6. Glue with a photometric redshift catalog"
   ]
  },
  {
   "cell_type": "markdown",
   "metadata": {},
   "source": [
    "If you haven't already, install Glue with `conda install -c conda-forge glueviz`"
   ]
  },
  {
   "cell_type": "markdown",
   "metadata": {},
   "source": [
    "* Start glue from the command line\n",
    "* Import a photometric redshift catalog from `./data/mrrphotz_xmmbrite.dat`\n",
    "* Import the image `./data/xmm-lss-cutout-350um`\n",
    "* Link the `ra` and `dec` from the table to `Right Ascenscion` and `Declination` from the image\n",
    "* Drag the image and start an Image Viewer\n",
    "* Drag the catalog over the image"
   ]
  },
  {
   "cell_type": "markdown",
   "metadata": {},
   "source": [
    "* Table `alz2` is $log_{10}(1+z_{phot})$ for free $A_V$ solution. Define a new component `photz` inside Glue as `np.power( 10, mrrphotz_xmmbrite.dat:alz2 ) - 1.0` and add it to the table\n",
    "* Make a histogram of spectroscopic redshift, spectz0. Select the subset of spectz0 > 0 and call it `non-zero specz`\n",
    "* Make a scatter plot of photz vs spectz0 for this subset"
   ]
  },
  {
   "cell_type": "markdown",
   "metadata": {},
   "source": [
    "* Facet the `non-zero specz` into 5 subsets by `nbopt` (number of optical bands). Explore the spatial distribution of  the data with the highest number of optical bands."
   ]
  },
  {
   "cell_type": "markdown",
   "metadata": {},
   "source": [
    "# Advanced: Install Firefly Standalone"
   ]
  },
  {
   "cell_type": "markdown",
   "metadata": {},
   "source": [
    "If you have Java or are comfortable installing it, you can install a local Firefly server.\n"
   ]
  },
  {
   "cell_type": "markdown",
   "metadata": {},
   "source": [
    "Check that you have java 1.8 installed with `java -version`\n",
    "\n",
    "Download Firefly Standalone from release page (https://github.com/Caltech-IPAC/firefly/releases  \n",
    "\n",
    "Start with `java -jar firefly-exec.war`  \n",
    "\n",
    "Firefly will be available on localhost port 80: http://localhost:8080/firefly/"
   ]
  },
  {
   "cell_type": "markdown",
   "metadata": {},
   "source": [
    "Once it is running, if you have done `pip install firefly_client`:  \n",
    "\n",
    "* upload the file `.data/w5.fits` and display it\n",
    "* overlay the w5_wise.tbl"
   ]
  },
  {
   "cell_type": "markdown",
   "metadata": {},
   "source": [
    "The steps are in the ImageVizSlides notebook."
   ]
  }
 ],
 "metadata": {
  "anaconda-cloud": {},
  "kernelspec": {
   "display_name": "Python [Root]",
   "language": "python",
   "name": "Python [Root]"
  },
  "language_info": {
   "codemirror_mode": {
    "name": "ipython",
    "version": 3
   },
   "file_extension": ".py",
   "mimetype": "text/x-python",
   "name": "python",
   "nbconvert_exporter": "python",
   "pygments_lexer": "ipython3",
   "version": "3.5.2"
  }
 },
 "nbformat": 4,
 "nbformat_minor": 0
}
