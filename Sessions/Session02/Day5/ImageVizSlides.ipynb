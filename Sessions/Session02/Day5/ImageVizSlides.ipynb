{
 "cells": [
  {
   "cell_type": "code",
   "execution_count": null,
   "metadata": {
    "collapsed": true,
    "nbpresent": {
     "id": "51a7500a-cea2-402c-bad4-2ca39b9d14bc"
    }
   },
   "outputs": [],
   "source": [
    "from __future__ import print_function, division, absolute_import"
   ]
  },
  {
   "cell_type": "markdown",
   "metadata": {
    "nbpresent": {
     "id": "c1e930c6-10d1-4514-ab2a-9b98b9411f87"
    }
   },
   "source": [
    "# Visualizing astronomical images"
   ]
  },
  {
   "cell_type": "markdown",
   "metadata": {
    "nbpresent": {
     "id": "c1256293-591d-4a94-81f7-469acc6252e4"
    }
   },
   "source": [
    "David Shupe, Caltech/IPAC  \n",
    "*Scientist, ZTF and LSST Science User Interface*"
   ]
  },
  {
   "cell_type": "markdown",
   "metadata": {
    "nbpresent": {
     "id": "902feef2-e647-4022-815c-1df861fd7d11"
    }
   },
   "source": [
    "# Topics for this session\n",
    "\n",
    "Visualizing numpy arrays as bitmaps and contours  \n",
    "Adding axis information to matplotlib renderings  \n",
    "Overlaying catalogs  \n",
    "Linking and brushing for data exploration\n"
   ]
  },
  {
   "cell_type": "markdown",
   "metadata": {
    "nbpresent": {
     "id": "76763124-eaef-461d-8e78-bdb97ed82e3e"
    }
   },
   "source": [
    "# Tools covered\n",
    "\n",
    "Astropy visualization + matplotlib  \n",
    "Ginga  \n",
    "Firefly  \n",
    "Glue  "
   ]
  },
  {
   "cell_type": "markdown",
   "metadata": {
    "nbpresent": {
     "id": "e3eb8de5-1152-4b9b-ae7c-3ce7a60f68d0"
    }
   },
   "source": [
    "# Astronomical image?\n",
    "\n",
    "For today, FITS format  \n",
    "Includes World Coordinate System information  \n",
    "Overlay tabular data with coordinates "
   ]
  },
  {
   "cell_type": "markdown",
   "metadata": {
    "nbpresent": {
     "id": "ce13cd6a-f5ea-4336-bf7b-7bfc74adff86"
    }
   },
   "source": [
    "## Scaling and Stretching\n",
    "\n",
    "The astropy.visualization module provides a framework for transforming values in images (and more generally any arrays), typically for the purpose of visualization. Two main types of transformations are provided:\n",
    "\n",
    "Normalization to the [0:1] range using lower and upper limits where $x$\n",
    " represents the values in the original image:  \n",
    " \n",
    " $y = {{x - v_{min}} \\over {v_{max} - v_{min}}}$"
   ]
  },
  {
   "cell_type": "markdown",
   "metadata": {
    "nbpresent": {
     "id": "4229096f-aeaf-445b-aff5-dcab11797c7c"
    }
   },
   "source": [
    "Stretching of values in the [0:1] range to the [0:1] range using a linear or non-linear function:\n",
    "\n",
    " $z=f(y)$"
   ]
  },
  {
   "cell_type": "markdown",
   "metadata": {
    "nbpresent": {
     "id": "63f0b803-f9c1-4a67-81f9-168e04f41395"
    }
   },
   "source": [
    "# displaying a bitmap -- imshow (matplotlib)"
   ]
  },
  {
   "cell_type": "code",
   "execution_count": null,
   "metadata": {
    "collapsed": true,
    "nbpresent": {
     "id": "94e4f8a3-f298-4550-9747-95f82cc195ca"
    }
   },
   "outputs": [],
   "source": [
    "import astropy.io.fits as fits\n",
    "import matplotlib.pylab as plt\n",
    "from astropy.visualization import (MinMaxInterval, LogStretch,\n",
    "                                   ImageNormalize)"
   ]
  },
  {
   "cell_type": "markdown",
   "metadata": {
    "nbpresent": {
     "id": "dc83e135-31b9-45e2-8815-d1532708533b"
    }
   },
   "source": [
    "Here we use only the numpy array of the data."
   ]
  },
  {
   "cell_type": "code",
   "execution_count": null,
   "metadata": {
    "collapsed": true,
    "nbpresent": {
     "id": "7737d288-63f1-4fe4-bf98-be4a45e6b7e5"
    }
   },
   "outputs": [],
   "source": [
    "image = fits.getdata('data/w5.fits')"
   ]
  },
  {
   "cell_type": "markdown",
   "metadata": {
    "nbpresent": {
     "id": "ffd689ca-e414-44cb-bfba-15bc30befeb5"
    }
   },
   "source": [
    "Astropy visualization functions for scaling and stretching"
   ]
  },
  {
   "cell_type": "code",
   "execution_count": null,
   "metadata": {
    "collapsed": true,
    "nbpresent": {
     "id": "738ec1aa-3ef7-491d-a7c7-9465bae6bf35"
    }
   },
   "outputs": [],
   "source": [
    "# Scale to image minimum and maximum, stretch with log function\n",
    "norm = ImageNormalize(image, interval=MinMaxInterval(),\n",
    "                      stretch=LogStretch())"
   ]
  },
  {
   "cell_type": "markdown",
   "metadata": {
    "nbpresent": {
     "id": "63965c32-28ef-41e9-81ca-0c8ed3d83e20"
    }
   },
   "source": [
    "Note that astronomical images in FITS use origin=\"lower\" which is not the matplotlib default"
   ]
  },
  {
   "cell_type": "code",
   "execution_count": null,
   "metadata": {
    "collapsed": false,
    "nbpresent": {
     "id": "44d938f0-c9d7-40d6-9522-2901f53020c1"
    }
   },
   "outputs": [],
   "source": [
    "%matplotlib inline\n",
    "fig = plt.figure(figsize=(8,8))\n",
    "plt.imshow(image, norm=norm, origin=\"lower\", cmap='Greys_r');"
   ]
  },
  {
   "cell_type": "markdown",
   "metadata": {
    "nbpresent": {
     "id": "7a279fa7-5acd-47f5-90aa-a0dc84f5b24d"
    }
   },
   "source": [
    "# Contours with matplotlib"
   ]
  },
  {
   "cell_type": "code",
   "execution_count": null,
   "metadata": {
    "collapsed": true,
    "nbpresent": {
     "id": "3d93f2d1-4203-48d7-a4f1-db64b3517a6b"
    }
   },
   "outputs": [],
   "source": [
    "%matplotlib inline\n",
    "from astropy.visualization import (ManualInterval, LogStretch,\n",
    "                                   ImageNormalize)\n",
    "norm = ImageNormalize(image, interval=ManualInterval(vmin=370.0, vmax=1000.0), \n",
    "                      stretch=LogStretch())"
   ]
  },
  {
   "cell_type": "code",
   "execution_count": null,
   "metadata": {
    "collapsed": false,
    "nbpresent": {
     "id": "b93a52c4-73e5-4deb-af1f-628f26685bd6"
    }
   },
   "outputs": [],
   "source": [
    "%matplotlib inline\n",
    "fig = plt.figure(figsize=(8,8))\n",
    "#plt.imshow(image, norm=norm, origin=\"lower\", cmap='Greys_r')\n",
    "plt.contour(image, [550, 750, 950], origin='lower', \n",
    "            colors=['grey', 'green', 'blue']);"
   ]
  },
  {
   "cell_type": "markdown",
   "metadata": {},
   "source": [
    "See this [contour demo](http://matplotlib.org/examples/pylab_examples/contour_demo.html) from the matplotlib documentation for more to do with contours"
   ]
  },
  {
   "cell_type": "markdown",
   "metadata": {
    "nbpresent": {
     "id": "964e5a8a-c9ab-42b8-b332-5ef1304bc39c"
    }
   },
   "source": [
    "# Adding coordinates (wcsaxes)"
   ]
  },
  {
   "cell_type": "markdown",
   "metadata": {
    "nbpresent": {
     "id": "9f523a5a-02a9-4adf-9549-8933eb746dc7"
    }
   },
   "source": [
    "Prior to this point, we have visualized numpy arrays"
   ]
  },
  {
   "cell_type": "code",
   "execution_count": null,
   "metadata": {
    "collapsed": false,
    "nbpresent": {
     "id": "5b18b5ab-3475-400a-b802-c7cbff6b96a4"
    }
   },
   "outputs": [],
   "source": [
    "from astropy.wcs import WCS\n",
    "\n",
    "hdu = fits.open('data/w5.fits')[0]\n",
    "wcs = WCS(hdu.header)"
   ]
  },
  {
   "cell_type": "markdown",
   "metadata": {
    "nbpresent": {
     "id": "81155793-a1e1-4e7c-bb36-861430d1e22d"
    }
   },
   "source": [
    "In the case the World Coordinate System is a simple tangent projection"
   ]
  },
  {
   "cell_type": "code",
   "execution_count": null,
   "metadata": {
    "collapsed": false,
    "nbpresent": {
     "id": "febea1b8-22b0-487f-8857-f8a776655916"
    }
   },
   "outputs": [],
   "source": [
    "wcs"
   ]
  },
  {
   "cell_type": "code",
   "execution_count": null,
   "metadata": {
    "collapsed": true
   },
   "outputs": [],
   "source": [
    "norm = ImageNormalize(hdu.data, interval=MinMaxInterval(),\n",
    "                     stretch=LogStretch())"
   ]
  },
  {
   "cell_type": "markdown",
   "metadata": {},
   "source": [
    "Make sure to pick a good [sequential colormap](http://matplotlib.org/users/colormaps.html) and avoid the default 'jet'!"
   ]
  },
  {
   "cell_type": "code",
   "execution_count": null,
   "metadata": {
    "collapsed": false
   },
   "outputs": [],
   "source": [
    "%matplotlib inline\n",
    "fig = plt.figure(figsize=(8,8))\n",
    "ax = plt.subplot(projection=wcs)\n",
    "plt.imshow(hdu.data, norm=norm, cmap='viridis', origin=\"lower\")\n",
    "plt.grid(color='white', ls='solid')\n",
    "plt.xlabel('Right Ascension')\n",
    "plt.ylabel('Declination')"
   ]
  },
  {
   "cell_type": "markdown",
   "metadata": {},
   "source": [
    "# Adding a secondary axis"
   ]
  },
  {
   "cell_type": "code",
   "execution_count": null,
   "metadata": {
    "collapsed": false
   },
   "outputs": [],
   "source": [
    "fig = plt.figure(figsize=(8,8))\n",
    "ax = plt.subplot(projection=wcs)\n",
    "\n",
    "overlay = ax.get_coords_overlay('galactic')\n",
    "\n",
    "plt.imshow(hdu.data, norm=norm, origin=\"lower\", cmap='Greys_r')\n",
    "\n",
    "\n",
    "ax.coords['ra'].set_ticks(color='white')\n",
    "ax.coords['dec'].set_ticks(color='white')\n",
    "\n",
    "ax.coords['ra'].set_axislabel('Right Ascension')\n",
    "ax.coords['dec'].set_axislabel('Declination')\n",
    "\n",
    "ax.coords.grid(color='yellow', linestyle='solid', alpha=0.5)\n",
    "\n",
    "overlay['l'].set_ticks(color='white')\n",
    "overlay['b'].set_ticks(color='white')\n",
    "\n",
    "overlay['l'].set_axislabel('Galactic Longitude')\n",
    "overlay['b'].set_axislabel('Galactic Latitude')\n",
    "\n",
    "overlay.grid(color='white', linestyle='solid', alpha=0.5)"
   ]
  },
  {
   "cell_type": "markdown",
   "metadata": {},
   "source": [
    "# Overlaying markers"
   ]
  },
  {
   "cell_type": "code",
   "execution_count": null,
   "metadata": {
    "collapsed": true
   },
   "outputs": [],
   "source": [
    "from astropy.table import Table\n",
    "w5tbl = Table.read('data/w5_wise.tbl', format='ascii.ipac')\n",
    "w5tbl = w5tbl[w5tbl['w4snr'] > 30.0] "
   ]
  },
  {
   "cell_type": "code",
   "execution_count": null,
   "metadata": {
    "collapsed": false
   },
   "outputs": [],
   "source": [
    "fit = plt.figure(figsize=(8,8))\n",
    "hdu = fits.open('data/w5.fits')[0]\n",
    "wcs = WCS(hdu.header)\n",
    "ax = plt.subplot(projection=wcs)\n",
    "plt.imshow(hdu.data, norm=norm, origin=\"lower\", cmap='Greys_r')\n",
    "ax.scatter(w5tbl['ra'], w5tbl['dec'], transform=ax.get_transform('world'))\n",
    "plt.xlabel('Right Ascension')\n",
    "plt.ylabel('Declination')"
   ]
  },
  {
   "cell_type": "markdown",
   "metadata": {},
   "source": [
    "# Ginga for image display"
   ]
  },
  {
   "cell_type": "markdown",
   "metadata": {},
   "source": [
    "\n",
    "Toolkit for building viewers for scientific (esp. astronomical) data in Python  \n",
    "Written and maintained by s/w engineers at the Subaru Telescope, NAOJ  \n",
    "Image display object  \n",
    "Plugin-based; highly customizable  "
   ]
  },
  {
   "cell_type": "markdown",
   "metadata": {},
   "source": [
    "Installing Ginga will put `ginga` in your command path (same location as python).\n",
    "\n",
    "This is the \"reference viewer\" which we can run from the command line."
   ]
  },
  {
   "cell_type": "code",
   "execution_count": null,
   "metadata": {
    "collapsed": false
   },
   "outputs": [],
   "source": [
    "## uncomment to run\n",
    "#!ginga ./data/w5.fits "
   ]
  },
  {
   "cell_type": "markdown",
   "metadata": {},
   "source": [
    "Ginga can be run from the notebook.\n",
    "\n",
    "To show some of Ginga's interactive capabilities, we will follow an excerpt of [this online notebook](https://github.com/ejeschke/ginga/blob/master/ginga/examples/ipython-notebook/ginga_ipython_demo.ipynb).\n",
    "\n",
    "* Start up a viewer\n",
    "* Retrieve coordinates from it\n",
    "* Draw a rectangle\n",
    "* Find objects in the rectangle and overplot"
   ]
  },
  {
   "cell_type": "code",
   "execution_count": null,
   "metadata": {
    "collapsed": true
   },
   "outputs": [],
   "source": [
    "# setup\n",
    "from ginga.web.pgw import ipg\n",
    "# Set this to True if you have a non-buggy python OpenCv bindings--it greatly speeds up some operations\n",
    "use_opencv = False\n",
    "\n",
    "server = ipg.make_server(host='localhost', port=9914, use_opencv=use_opencv)"
   ]
  },
  {
   "cell_type": "code",
   "execution_count": null,
   "metadata": {
    "collapsed": true
   },
   "outputs": [],
   "source": [
    "# Start viewer server\n",
    "# IMPORTANT: if running in an IPython/Jupyter notebook, use the no_ioloop=True option\n",
    "server.start(no_ioloop=True)"
   ]
  },
  {
   "cell_type": "code",
   "execution_count": null,
   "metadata": {
    "collapsed": true
   },
   "outputs": [],
   "source": [
    "# Get a viewer\n",
    "# This will get a handle to the viewer v1 = server.get_viewer('v1')\n",
    "v1 = server.get_viewer('v1')"
   ]
  },
  {
   "cell_type": "code",
   "execution_count": null,
   "metadata": {
    "collapsed": false
   },
   "outputs": [],
   "source": [
    "# where is my viewer\n",
    "v1.url"
   ]
  },
  {
   "cell_type": "code",
   "execution_count": null,
   "metadata": {
    "collapsed": true
   },
   "outputs": [],
   "source": [
    "# open the viewer in a new tab\n",
    "v1.open()"
   ]
  },
  {
   "cell_type": "markdown",
   "metadata": {},
   "source": [
    "NOTE: if you don't have the webbrowser module, open the link that was printed in the cell above in a new window to get the viewer.\n",
    "\n",
    "You can open as many of these viewers as you want--just keep a handle to it and use a different name for each unique one.\n",
    "\n",
    "Keyboard/mouse bindings in the viewer window: http://ginga.readthedocs.io/en/latest/quickref.html\n",
    "\n"
   ]
  },
  {
   "cell_type": "code",
   "execution_count": null,
   "metadata": {
    "collapsed": true
   },
   "outputs": [],
   "source": [
    "# Load an image into the viewer\n",
    "# (change the path to where you downloaded the sample images, or use your own)\n",
    "v1.load('./data/w5.fits')"
   ]
  },
  {
   "cell_type": "code",
   "execution_count": null,
   "metadata": {
    "collapsed": false,
    "scrolled": true
   },
   "outputs": [],
   "source": [
    "# Example of embedding a viewer\n",
    "v1.embed(height=650)"
   ]
  },
  {
   "cell_type": "code",
   "execution_count": null,
   "metadata": {
    "collapsed": false
   },
   "outputs": [],
   "source": [
    "# capture the current state of the screen\n",
    "v1.show()"
   ]
  },
  {
   "cell_type": "markdown",
   "metadata": {},
   "source": [
    "Now set a pan position by shift-clicking somewhere in the *viewer* window."
   ]
  },
  {
   "cell_type": "code",
   "execution_count": null,
   "metadata": {
    "collapsed": false
   },
   "outputs": [],
   "source": [
    "# Let's get the pan position we just set\n",
    "dx, dy = v1.get_pan()\n",
    "dx, dy"
   ]
  },
  {
   "cell_type": "code",
   "execution_count": null,
   "metadata": {
    "collapsed": false
   },
   "outputs": [],
   "source": [
    "# Getting values from the FITS header is also easy\n",
    "img = v1.get_image()\n",
    "hdr =img.get_header()\n",
    "hdr['SURVEY']"
   ]
  },
  {
   "cell_type": "code",
   "execution_count": null,
   "metadata": {
    "collapsed": false
   },
   "outputs": [],
   "source": [
    "# What are the coordinates of the pan position?\n",
    "# This uses astropy.wcs under the hood if you have it installed\n",
    "img.pixtoradec(dx, dy)"
   ]
  },
  {
   "cell_type": "code",
   "execution_count": null,
   "metadata": {
    "collapsed": true
   },
   "outputs": [],
   "source": [
    "# Let's overlay some objects\n",
    "# First, let's add a drawing canvas\n",
    "canvas = v1.add_canvas()"
   ]
  },
  {
   "cell_type": "code",
   "execution_count": null,
   "metadata": {
    "collapsed": false
   },
   "outputs": [],
   "source": [
    "# Use our table from before\n",
    "# Draw circles around all objects\n",
    "Circle = canvas.get_draw_class('circle')\n",
    "for (ra, dec) in zip(w5tbl['ra'],w5tbl['dec']):\n",
    "    x, y = img.radectopix(ra,dec)\n",
    "    canvas.add(Circle(x, y, radius=10, color='yellow'))"
   ]
  },
  {
   "cell_type": "code",
   "execution_count": null,
   "metadata": {
    "collapsed": false
   },
   "outputs": [],
   "source": [
    "v1.show()"
   ]
  },
  {
   "cell_type": "markdown",
   "metadata": {},
   "source": [
    "# Firefly"
   ]
  },
  {
   "cell_type": "markdown",
   "metadata": {},
   "source": [
    "Web-based visualizer  \n",
    "Basis for LSST Science User Interface  \n",
    "Remote server sits close to the data  \n",
    "Many operations performed by your browser  \n",
    "Developed for Spitzer Heritage Archive  \n",
    "Employed as IRSA Viewer  "
   ]
  },
  {
   "cell_type": "markdown",
   "metadata": {},
   "source": [
    "Can access user interface from IRSA\n",
    "\n",
    "Example: Herschel High-Level Images http://irsa.ipac.caltech.edu/data/Herschel/HHLI/index.html  \n",
    "Search on W5  \n",
    "Overlay a WISE catalog"
   ]
  },
  {
   "cell_type": "markdown",
   "metadata": {},
   "source": [
    "## Easy way to start a Firefly server\n",
    "\n",
    "Download Firefly Standalone from release page (https://github.com/Caltech-IPAC/firefly/releases  \n",
    "\n",
    "Only requirement is java 1.8  \n",
    "\n",
    "Start with `java -jar firefly-exec.war`  \n",
    "\n",
    "By default, will be available on localhost port 80: http://localhost:8080/firefly/"
   ]
  },
  {
   "cell_type": "markdown",
   "metadata": {},
   "source": [
    "## Python client for Firefly\n",
    "\n",
    "Install with `pip install firefly_client`  \n",
    "This part requires a local Firefly server running\n"
   ]
  },
  {
   "cell_type": "code",
   "execution_count": null,
   "metadata": {
    "collapsed": false
   },
   "outputs": [],
   "source": [
    "from firefly_client import FireflyClient"
   ]
  },
  {
   "cell_type": "code",
   "execution_count": null,
   "metadata": {
    "collapsed": true
   },
   "outputs": [],
   "source": [
    "fc = FireflyClient('localhost:8080', channel='mine')"
   ]
  },
  {
   "cell_type": "code",
   "execution_count": null,
   "metadata": {
    "collapsed": false
   },
   "outputs": [],
   "source": [
    "fc.launch_browser()"
   ]
  },
  {
   "cell_type": "code",
   "execution_count": null,
   "metadata": {
    "collapsed": true
   },
   "outputs": [],
   "source": [
    "fval = fc.upload_file('./data/w5.fits')"
   ]
  },
  {
   "cell_type": "code",
   "execution_count": null,
   "metadata": {
    "collapsed": false
   },
   "outputs": [],
   "source": [
    "fc.show_fits(fval, plot_id='w5_wise')"
   ]
  },
  {
   "cell_type": "code",
   "execution_count": null,
   "metadata": {
    "collapsed": true
   },
   "outputs": [],
   "source": [
    "tval = fc.upload_file('./data/w5_wise.tbl')"
   ]
  },
  {
   "cell_type": "code",
   "execution_count": null,
   "metadata": {
    "collapsed": false
   },
   "outputs": [],
   "source": [
    "fc.show_table(tval, title='Bright WISE W4')"
   ]
  },
  {
   "cell_type": "markdown",
   "metadata": {},
   "source": [
    "The LSST stack can display images to Firefly.  \n",
    "\n",
    "Experimental Jupyter widgets have been developed."
   ]
  },
  {
   "cell_type": "markdown",
   "metadata": {},
   "source": [
    "# Glue for linking data"
   ]
  },
  {
   "cell_type": "markdown",
   "metadata": {},
   "source": [
    "Based on brushing-and-linking paradigm  \n",
    "Used for JWST  \n",
    "Images, scatter plots, histograms  "
   ]
  },
  {
   "cell_type": "markdown",
   "metadata": {},
   "source": [
    "To start from the notebook, execute the next line in its own cell"
   ]
  },
  {
   "cell_type": "code",
   "execution_count": null,
   "metadata": {
    "collapsed": true
   },
   "outputs": [],
   "source": [
    "%gui qt"
   ]
  },
  {
   "cell_type": "code",
   "execution_count": null,
   "metadata": {
    "collapsed": true
   },
   "outputs": [],
   "source": [
    "from glue import qglue"
   ]
  },
  {
   "cell_type": "code",
   "execution_count": null,
   "metadata": {
    "collapsed": false
   },
   "outputs": [],
   "source": [
    "qglue()"
   ]
  },
  {
   "cell_type": "markdown",
   "metadata": {},
   "source": [
    "After quitting glue, try linking the data"
   ]
  },
  {
   "cell_type": "code",
   "execution_count": null,
   "metadata": {
    "collapsed": false
   },
   "outputs": [],
   "source": [
    "from glue.core.data_factories import load_data\n",
    "from glue.core import DataCollection\n",
    "from glue.core.link_helpers import LinkSame\n",
    "from glue.app.qt.application import GlueApplication\n",
    "import warnings\n",
    "from astropy.utils.exceptions import AstropyWarning\n",
    "\n",
    "#load 2 datasets from files\n",
    "image = load_data('./data/w5.fits')\n",
    "with warnings.catch_warnings():\n",
    "    warnings.simplefilter('ignore', AstropyWarning)\n",
    "    catalog = load_data('./data/w5_psc.vot')\n",
    "dc = DataCollection([image, catalog])"
   ]
  },
  {
   "cell_type": "code",
   "execution_count": null,
   "metadata": {
    "collapsed": true
   },
   "outputs": [],
   "source": [
    "# link positional information\n",
    "dc.add_link(LinkSame(image.id['Right Ascension'], catalog.id['RAJ2000']))\n",
    "dc.add_link(LinkSame(image.id['Declination'], catalog.id['DEJ2000']))"
   ]
  },
  {
   "cell_type": "code",
   "execution_count": null,
   "metadata": {
    "collapsed": false
   },
   "outputs": [],
   "source": [
    "#start Glue\n",
    "app = GlueApplication(dc)\n",
    "app.start()"
   ]
  },
  {
   "cell_type": "code",
   "execution_count": null,
   "metadata": {
    "collapsed": false
   },
   "outputs": [],
   "source": [
    "image.component_ids()"
   ]
  },
  {
   "cell_type": "code",
   "execution_count": null,
   "metadata": {
    "collapsed": false
   },
   "outputs": [],
   "source": [
    "dc.links"
   ]
  },
  {
   "cell_type": "code",
   "execution_count": null,
   "metadata": {
    "collapsed": false
   },
   "outputs": [],
   "source": [
    "dc.subset_groups"
   ]
  },
  {
   "cell_type": "code",
   "execution_count": null,
   "metadata": {
    "collapsed": false
   },
   "outputs": [],
   "source": [
    "g1 = dc.subset_groups[0]"
   ]
  },
  {
   "cell_type": "code",
   "execution_count": null,
   "metadata": {
    "collapsed": false
   },
   "outputs": [],
   "source": [
    "g1.label"
   ]
  },
  {
   "cell_type": "code",
   "execution_count": null,
   "metadata": {
    "collapsed": true
   },
   "outputs": [],
   "source": []
  }
 ],
 "metadata": {
  "anaconda-cloud": {},
  "kernelspec": {
   "display_name": "Python [Root]",
   "language": "python",
   "name": "Python [Root]"
  },
  "language_info": {
   "codemirror_mode": {
    "name": "ipython",
    "version": 3
   },
   "file_extension": ".py",
   "mimetype": "text/x-python",
   "name": "python",
   "nbconvert_exporter": "python",
   "pygments_lexer": "ipython3",
   "version": "3.5.2"
  },
  "nbpresent": {
   "slides": {
    "255d66a1-f686-408a-8270-685e08a48e97": {
     "id": "255d66a1-f686-408a-8270-685e08a48e97",
     "prev": "8b5bc39e-0f8d-4521-a53b-6765660df0b8",
     "regions": {
      "53d615ca-ccc3-4f78-b83b-e8fbe818ec55": {
       "attrs": {
        "height": 1,
        "width": 1,
        "x": 0,
        "y": 0
       },
       "content": {
        "cell": "44d938f0-c9d7-40d6-9522-2901f53020c1",
        "part": "whole"
       },
       "id": "53d615ca-ccc3-4f78-b83b-e8fbe818ec55"
      }
     }
    },
    "2e99a7fc-6c71-4311-aa79-3371c7abd305": {
     "id": "2e99a7fc-6c71-4311-aa79-3371c7abd305",
     "prev": "cef98030-8764-4a09-957a-f6f0bb68a049",
     "regions": {
      "48e4d471-0926-440c-bf43-241b1bb0c8f6": {
       "attrs": {
        "height": 1,
        "width": 1,
        "x": 0,
        "y": 0
       },
       "content": {
        "cell": "ce13cd6a-f5ea-4336-bf7b-7bfc74adff86",
        "part": "whole"
       },
       "id": "48e4d471-0926-440c-bf43-241b1bb0c8f6"
      }
     }
    },
    "3ccc8e1d-23dd-4870-831e-8604cd3a2fde": {
     "id": "3ccc8e1d-23dd-4870-831e-8604cd3a2fde",
     "prev": "f908f1e1-6c0c-419d-881f-a4c44475ac8e",
     "regions": {
      "b1cea1cd-a4d6-4124-bfa9-4cb87c670ac7": {
       "attrs": {
        "height": 1,
        "width": 1,
        "x": 0,
        "y": 0
       },
       "content": {
        "cell": "902feef2-e647-4022-815c-1df861fd7d11",
        "part": "whole"
       },
       "id": "b1cea1cd-a4d6-4124-bfa9-4cb87c670ac7"
      }
     }
    },
    "47cce1d0-f2dd-45ed-9376-ab7f042c1e31": {
     "id": "47cce1d0-f2dd-45ed-9376-ab7f042c1e31",
     "prev": "255d66a1-f686-408a-8270-685e08a48e97",
     "regions": {
      "681e2325-4357-42ca-858c-744cae03b4f0": {
       "attrs": {
        "height": 0.25879484500174155,
        "width": 0.7513061650992685,
        "x": 0.11912225705329153,
        "y": 0.048299082781841404
       },
       "content": {
        "cell": "7a279fa7-5acd-47f5-90aa-a0dc84f5b24d",
        "part": "whole"
       },
       "id": "681e2325-4357-42ca-858c-744cae03b4f0"
      },
      "7b6eabee-a115-42f0-9dcd-c4c6797fd34f": {
       "attrs": {
        "height": 0.32072448624172767,
        "width": 0.8,
        "x": 0.1,
        "y": 0.5792755137582724
       },
       "content": {
        "cell": "b93a52c4-73e5-4deb-af1f-628f26685bd6",
        "part": "source"
       },
       "id": "7b6eabee-a115-42f0-9dcd-c4c6797fd34f"
      },
      "8b002bbb-341d-45e3-ba14-c705757ac3ba": {
       "attrs": {
        "height": 0.18697318007662847,
        "width": 0.8,
        "x": 0.1,
        "y": 0.3452107279693487
       },
       "content": {
        "cell": "3d93f2d1-4203-48d7-a4f1-db64b3517a6b",
        "part": "whole"
       },
       "id": "8b002bbb-341d-45e3-ba14-c705757ac3ba"
      }
     }
    },
    "591188b9-8d2c-4737-aa4f-5c17e5d8b5bc": {
     "id": "591188b9-8d2c-4737-aa4f-5c17e5d8b5bc",
     "prev": "3ccc8e1d-23dd-4870-831e-8604cd3a2fde",
     "regions": {
      "5989cc6c-8226-4067-b8c0-f19fe49147b3": {
       "attrs": {
        "height": 1,
        "width": 1,
        "x": 0,
        "y": 0
       },
       "content": {
        "cell": "76763124-eaef-461d-8e78-bdb97ed82e3e",
        "part": "whole"
       },
       "id": "5989cc6c-8226-4067-b8c0-f19fe49147b3"
      }
     }
    },
    "8b5bc39e-0f8d-4521-a53b-6765660df0b8": {
     "id": "8b5bc39e-0f8d-4521-a53b-6765660df0b8",
     "prev": "f3418cc5-76d3-4291-9b6f-da9d2408c2b3",
     "regions": {
      "129fe8d7-c406-49f7-807a-fc8c42888b49": {
       "attrs": {
        "height": 1,
        "width": 1,
        "x": 0,
        "y": 0
       },
       "id": "129fe8d7-c406-49f7-807a-fc8c42888b49"
      }
     }
    },
    "96678bff-aad2-48c7-a1ca-f8860b837fdd": {
     "id": "96678bff-aad2-48c7-a1ca-f8860b837fdd",
     "prev": "eac63514-285c-4167-80de-0dc5931ca123",
     "regions": {
      "7b4191ef-bd0f-4f36-aa61-c9b79ab14ee1": {
       "attrs": {
        "height": 0.8,
        "width": 0.8522988505747127,
        "x": 0.05,
        "y": 0.1
       },
       "content": {
        "cell": "febea1b8-22b0-487f-8857-f8a776655916",
        "part": "whole"
       },
       "id": "7b4191ef-bd0f-4f36-aa61-c9b79ab14ee1"
      },
      "e2e85a4c-e03a-4491-b81a-415c3e195bcd": {
       "attrs": {
        "height": 0.8,
        "width": 0.029937304075235205,
        "x": 0.9200626959247649,
        "y": 0.1
       },
       "id": "e2e85a4c-e03a-4491-b81a-415c3e195bcd"
      }
     },
     "theme": "58d68588-0549-4093-a3da-84303e04b360"
    },
    "9faf1cf9-825c-4990-8d3b-5eba8b844e85": {
     "id": "9faf1cf9-825c-4990-8d3b-5eba8b844e85",
     "prev": "47cce1d0-f2dd-45ed-9376-ab7f042c1e31",
     "regions": {
      "2ea09ca4-de82-4fa0-b06d-128b7e0bd4aa": {
       "attrs": {
        "height": 0.8,
        "width": 0.45,
        "x": 0.5,
        "y": 0.1
       },
       "content": {
        "cell": "b93a52c4-73e5-4deb-af1f-628f26685bd6",
        "part": "outputs"
       },
       "id": "2ea09ca4-de82-4fa0-b06d-128b7e0bd4aa"
      },
      "3f87c071-a7af-429b-a7ca-db2fdd313f7f": {
       "attrs": {
        "height": 0.8,
        "width": 0.45,
        "x": 0.05,
        "y": 0.1
       },
       "content": {
        "cell": "b93a52c4-73e5-4deb-af1f-628f26685bd6",
        "part": "source"
       },
       "id": "3f87c071-a7af-429b-a7ca-db2fdd313f7f"
      }
     }
    },
    "cef98030-8764-4a09-957a-f6f0bb68a049": {
     "id": "cef98030-8764-4a09-957a-f6f0bb68a049",
     "prev": "591188b9-8d2c-4737-aa4f-5c17e5d8b5bc",
     "regions": {
      "7cb65802-9e08-4663-905f-063360b7e7f7": {
       "attrs": {
        "height": 1,
        "width": 1,
        "x": 0,
        "y": 0
       },
       "content": {
        "cell": "e3eb8de5-1152-4b9b-ae7c-3ce7a60f68d0",
        "part": "whole"
       },
       "id": "7cb65802-9e08-4663-905f-063360b7e7f7"
      }
     }
    },
    "eac63514-285c-4167-80de-0dc5931ca123": {
     "id": "eac63514-285c-4167-80de-0dc5931ca123",
     "prev": "9faf1cf9-825c-4990-8d3b-5eba8b844e85",
     "regions": {
      "1930d31f-3a69-42fb-8dd5-337383b9ed1a": {
       "attrs": {
        "height": 0.5009172181585976,
        "width": 0.4384535005224662,
        "x": 0.5137931034482759,
        "y": 0.39908278184140256
       },
       "content": {
        "cell": "5b18b5ab-3475-400a-b802-c7cbff6b96a4",
        "part": "whole"
       },
       "id": "1930d31f-3a69-42fb-8dd5-337383b9ed1a"
      },
      "8863c449-5f90-4ea2-a1ff-ad26f66a9f2e": {
       "attrs": {
        "height": 0.8,
        "width": 0.45,
        "x": 0.05,
        "y": 0.1
       },
       "content": {
        "cell": "964e5a8a-c9ab-42b8-b332-5ef1304bc39c",
        "part": "whole"
       },
       "id": "8863c449-5f90-4ea2-a1ff-ad26f66a9f2e"
      },
      "d7302d15-a7c6-46f4-b654-2ca3e98082bb": {
       "attrs": {
        "height": 0.2687100893997446,
        "width": 0.45,
        "x": 0.5,
        "y": 0.1
       },
       "content": {
        "cell": "9f523a5a-02a9-4adf-9549-8933eb746dc7",
        "part": "whole"
       },
       "id": "d7302d15-a7c6-46f4-b654-2ca3e98082bb"
      }
     }
    },
    "f3418cc5-76d3-4291-9b6f-da9d2408c2b3": {
     "id": "f3418cc5-76d3-4291-9b6f-da9d2408c2b3",
     "prev": "2e99a7fc-6c71-4311-aa79-3371c7abd305",
     "regions": {
      "62f92950-c2ee-46e9-99c2-01a1d9fa2758": {
       "attrs": {
        "height": 1,
        "width": 1,
        "x": 0,
        "y": 0
       },
       "content": {
        "cell": "4229096f-aeaf-445b-aff5-dcab11797c7c",
        "part": "whole"
       },
       "id": "62f92950-c2ee-46e9-99c2-01a1d9fa2758"
      }
     }
    },
    "f908f1e1-6c0c-419d-881f-a4c44475ac8e": {
     "id": "f908f1e1-6c0c-419d-881f-a4c44475ac8e",
     "layout": "grid",
     "prev": null,
     "regions": {
      "950e2094-c226-416e-8ab2-7a691649af02": {
       "attrs": {
        "height": 0.4166666666666667,
        "pad": 0.01,
        "width": 0.8333333333333334,
        "x": 0.08333333333333333,
        "y": 0.08333333333333333
       },
       "content": {
        "cell": "c1e930c6-10d1-4514-ab2a-9b98b9411f87",
        "part": "whole"
       },
       "height": 0.4,
       "id": "950e2094-c226-416e-8ab2-7a691649af02",
       "width": 0.8,
       "x": 0.1,
       "y": 0
      },
      "fc2d3324-8691-4159-91ac-e6be407b4979": {
       "attrs": {
        "height": 0.4166666666666667,
        "pad": 0.01,
        "width": 0.8333333333333334,
        "x": 0.08333333333333333,
        "y": 0.5
       },
       "content": {
        "cell": "c1256293-591d-4a94-81f7-469acc6252e4",
        "part": "whole"
       },
       "height": 0.4,
       "id": "fc2d3324-8691-4159-91ac-e6be407b4979",
       "width": 0.8,
       "x": 0.1
      }
     }
    }
   },
   "themes": {
    "default": "58d68588-0549-4093-a3da-84303e04b360",
    "theme": {
     "1ebac0fd-224f-4a7b-a79f-1ea82218f66d": {
      "backgrounds": {
       "backgroundColor": {
        "background-color": "backgroundColor",
        "id": "backgroundColor"
       }
      },
      "id": "1ebac0fd-224f-4a7b-a79f-1ea82218f66d",
      "palette": {
       "backgroundColor": {
        "id": "backgroundColor",
        "rgb": [
         17,
         17,
         17
        ]
       },
       "headingColor": {
        "id": "headingColor",
        "rgb": [
         238,
         238,
         238
        ]
       },
       "linkColor": {
        "id": "linkColor",
        "rgb": [
         231,
         173,
         82
        ]
       },
       "mainColor": {
        "id": "mainColor",
        "rgb": [
         238,
         238,
         238
        ]
       }
      },
      "rules": {
       "a": {
        "color": "linkColor"
       },
       "h1": {
        "color": "headingColor",
        "font-family": "Montserrat",
        "font-size": 7
       },
       "h2": {
        "color": "headingColor",
        "font-family": "Montserrat",
        "font-size": 5
       },
       "h3": {
        "color": "headingColor",
        "font-family": "Montserrat",
        "font-size": 3.75
       },
       "h4": {
        "color": "headingColor",
        "font-family": "Montserrat",
        "font-size": 3
       },
       "h5": {
        "color": "headingColor",
        "font-family": "Montserrat"
       },
       "h6": {
        "color": "headingColor",
        "font-family": "Montserrat"
       },
       "h7": {
        "color": "headingColor",
        "font-family": "Montserrat"
       },
       "li": {
        "color": "mainColor",
        "font-family": "Open Sans",
        "font-size": 4
       },
       "p": {
        "color": "mainColor",
        "font-family": "Open Sans",
        "font-size": 4
       }
      },
      "text-base": {
       "color": "mainColor",
       "font-family": "Open Sans",
       "font-size": 4
      }
     },
     "2b589602-3b52-40a2-aec2-670976c1a412": {
      "backgrounds": {
       "backgroundColor": {
        "background-color": "backgroundColor",
        "id": "backgroundColor"
       }
      },
      "id": "2b589602-3b52-40a2-aec2-670976c1a412",
      "palette": {
       "backgroundColor": {
        "id": "backgroundColor",
        "rgb": [
         240,
         241,
         235
        ]
       },
       "headingColor": {
        "id": "headingColor",
        "rgb": [
         56,
         61,
         61
        ]
       },
       "linkColor": {
        "id": "linkColor",
        "rgb": [
         81,
         72,
         61
        ]
       },
       "mainColor": {
        "id": "mainColor",
        "rgb": [
         0,
         0,
         0
        ]
       }
      },
      "rules": {
       "a": {
        "color": "linkColor"
       },
       "h1": {
        "color": "headingColor",
        "font-family": "EB Garamond",
        "font-size": 7
       },
       "h2": {
        "color": "headingColor",
        "font-family": "EB Garamond",
        "font-size": 5
       },
       "h3": {
        "color": "headingColor",
        "font-family": "EB Garamond",
        "font-size": 3.75
       },
       "h4": {
        "color": "headingColor",
        "font-family": "EB Garamond",
        "font-size": 3
       },
       "h5": {
        "color": "headingColor",
        "font-family": "EB Garamond"
       },
       "h6": {
        "color": "headingColor",
        "font-family": "EB Garamond"
       },
       "h7": {
        "color": "headingColor",
        "font-family": "EB Garamond"
       },
       "li": {
        "color": "mainColor",
        "font-family": "EB Garamond",
        "font-size": 5
       },
       "p": {
        "color": "mainColor",
        "font-family": "EB Garamond",
        "font-size": 5
       }
      },
      "text-base": {
       "color": "mainColor",
       "font-family": "EB Garamond",
       "font-size": 5
      }
     },
     "466ab8e8-cb32-40e9-aac0-7abd5f7f42d4": {
      "backgrounds": {
       "backgroundColor": {
        "background-color": "backgroundColor",
        "id": "backgroundColor"
       }
      },
      "id": "466ab8e8-cb32-40e9-aac0-7abd5f7f42d4",
      "palette": {
       "backgroundColor": {
        "id": "backgroundColor",
        "rgb": [
         256,
         256,
         256
        ]
       },
       "headingColor": {
        "id": "headingColor",
        "rgb": [
         34,
         34,
         34
        ]
       },
       "linkColor": {
        "id": "linkColor",
        "rgb": [
         42,
         118,
         221
        ]
       },
       "mainColor": {
        "id": "mainColor",
        "rgb": [
         34,
         34,
         34
        ]
       }
      },
      "rules": {
       "a": {
        "color": "linkColor"
       },
       "h1": {
        "color": "headingColor",
        "font-family": "Source Sans Pro",
        "font-size": 5.25
       },
       "h2": {
        "color": "headingColor",
        "font-family": "Source Sans Pro",
        "font-size": 4
       },
       "h3": {
        "color": "headingColor",
        "font-family": "Source Sans Pro",
        "font-size": 3.5
       },
       "h4": {
        "color": "headingColor",
        "font-family": "Source Sans Pro",
        "font-size": 3
       },
       "h5": {
        "color": "headingColor",
        "font-family": "Source Sans Pro"
       },
       "h6": {
        "color": "headingColor",
        "font-family": "Source Sans Pro"
       },
       "h7": {
        "color": "headingColor",
        "font-family": "Source Sans Pro"
       },
       "li": {
        "color": "mainColor",
        "font-family": "Source Sans Pro",
        "font-size": 6
       },
       "p": {
        "color": "mainColor",
        "font-family": "Source Sans Pro",
        "font-size": 6
       }
      },
      "text-base": {
       "color": "mainColor",
       "font-family": "Source Sans Pro",
       "font-size": 6
      }
     },
     "58d68588-0549-4093-a3da-84303e04b360": {
      "id": "58d68588-0549-4093-a3da-84303e04b360",
      "palette": {
       "19cc588f-0593-49c9-9f4b-e4d7cc113b1c": {
        "id": "19cc588f-0593-49c9-9f4b-e4d7cc113b1c",
        "rgb": [
         252,
         252,
         252
        ]
       },
       "31af15d2-7e15-44c5-ab5e-e04b16a89eff": {
        "id": "31af15d2-7e15-44c5-ab5e-e04b16a89eff",
        "rgb": [
         68,
         68,
         68
        ]
       },
       "50f92c45-a630-455b-aec3-788680ec7410": {
        "id": "50f92c45-a630-455b-aec3-788680ec7410",
        "rgb": [
         155,
         177,
         192
        ]
       },
       "c5cc3653-2ee1-402a-aba2-7caae1da4f6c": {
        "id": "c5cc3653-2ee1-402a-aba2-7caae1da4f6c",
        "rgb": [
         43,
         126,
         184
        ]
       },
       "efa7f048-9acb-414c-8b04-a26811511a21": {
        "id": "efa7f048-9acb-414c-8b04-a26811511a21",
        "rgb": [
         25.118061674008803,
         73.60176211453744,
         107.4819383259912
        ]
       }
      },
      "rules": {
       "blockquote": {
        "color": "50f92c45-a630-455b-aec3-788680ec7410"
       },
       "code": {
        "font-family": "Anonymous Pro"
       },
       "h1": {
        "color": "c5cc3653-2ee1-402a-aba2-7caae1da4f6c",
        "font-family": "Lato",
        "font-size": 8
       },
       "h2": {
        "color": "c5cc3653-2ee1-402a-aba2-7caae1da4f6c",
        "font-family": "Lato",
        "font-size": 6
       },
       "h3": {
        "color": "50f92c45-a630-455b-aec3-788680ec7410",
        "font-family": "Lato",
        "font-size": 5.5
       },
       "h4": {
        "color": "c5cc3653-2ee1-402a-aba2-7caae1da4f6c",
        "font-family": "Lato",
        "font-size": 5
       },
       "h5": {
        "font-family": "Lato"
       },
       "h6": {
        "font-family": "Lato"
       },
       "h7": {
        "font-family": "Lato"
       },
       "pre": {
        "font-family": "Anonymous Pro",
        "font-size": 4
       }
      },
      "text-base": {
       "font-family": "Merriweather",
       "font-size": 4
      }
     },
     "6c1e1b66-19a1-48f8-b438-91c170b5212a": {
      "backgrounds": {
       "backgroundColor": {
        "background-color": "backgroundColor",
        "id": "backgroundColor"
       }
      },
      "id": "6c1e1b66-19a1-48f8-b438-91c170b5212a",
      "palette": {
       "backgroundColor": {
        "id": "backgroundColor",
        "rgb": [
         247,
         251,
         252
        ]
       },
       "headingColor": {
        "id": "headingColor",
        "rgb": [
         51,
         51,
         51
        ]
       },
       "linkColor": {
        "id": "linkColor",
        "rgb": [
         59,
         117,
         158
        ]
       },
       "mainColor": {
        "id": "mainColor",
        "rgb": [
         51,
         51,
         51
        ]
       }
      },
      "rules": {
       "a": {
        "color": "linkColor"
       },
       "h1": {
        "color": "headingColor",
        "font-family": "Quicksand",
        "font-size": 7
       },
       "h2": {
        "color": "headingColor",
        "font-family": "Quicksand",
        "font-size": 5
       },
       "h3": {
        "color": "headingColor",
        "font-family": "Quicksand",
        "font-size": 3.75
       },
       "h4": {
        "color": "headingColor",
        "font-family": "Quicksand",
        "font-size": 3
       },
       "h5": {
        "color": "headingColor",
        "font-family": "Quicksand"
       },
       "h6": {
        "color": "headingColor",
        "font-family": "Quicksand"
       },
       "h7": {
        "color": "headingColor",
        "font-family": "Quicksand"
       },
       "li": {
        "color": "mainColor",
        "font-family": "Open Sans",
        "font-size": 5
       },
       "p": {
        "color": "mainColor",
        "font-family": "Open Sans",
        "font-size": 5
       }
      },
      "text-base": {
       "color": "mainColor",
       "font-family": "Open Sans",
       "font-size": 5
      }
     },
     "8c5779e1-152c-4d6d-aeec-d5becb7c4ba8": {
      "backgrounds": {
       "backgroundColor": {
        "background-color": "backgroundColor",
        "id": "backgroundColor"
       }
      },
      "id": "8c5779e1-152c-4d6d-aeec-d5becb7c4ba8",
      "palette": {
       "backgroundColor": {
        "id": "backgroundColor",
        "rgb": [
         253,
         246,
         227
        ]
       },
       "headingColor": {
        "id": "headingColor",
        "rgb": [
         88,
         110,
         117
        ]
       },
       "linkColor": {
        "id": "linkColor",
        "rgb": [
         38,
         139,
         210
        ]
       },
       "mainColor": {
        "id": "mainColor",
        "rgb": [
         101,
         123,
         131
        ]
       }
      },
      "rules": {
       "a": {
        "color": "linkColor"
       },
       "h1": {
        "color": "headingColor",
        "font-family": "Oswald",
        "font-size": 7
       },
       "h2": {
        "color": "headingColor",
        "font-family": "Oswald",
        "font-size": 5
       },
       "h3": {
        "color": "headingColor",
        "font-family": "Oswald",
        "font-size": 3.75
       },
       "h4": {
        "color": "headingColor",
        "font-family": "Oswald",
        "font-size": 3
       },
       "h5": {
        "color": "headingColor",
        "font-family": "Oswald"
       },
       "h6": {
        "color": "headingColor",
        "font-family": "Oswald"
       },
       "h7": {
        "color": "headingColor",
        "font-family": "Oswald"
       },
       "li": {
        "color": "mainColor",
        "font-family": "Lato",
        "font-size": 5
       },
       "p": {
        "color": "mainColor",
        "font-family": "Lato",
        "font-size": 5
       }
      },
      "text-base": {
       "color": "mainColor",
       "font-family": "Lato",
       "font-size": 5
      }
     },
     "ccffb6ed-cb76-4ee4-8835-598117db41c5": {
      "backgrounds": {
       "backgroundColor": {
        "background-color": "backgroundColor",
        "id": "backgroundColor"
       }
      },
      "id": "ccffb6ed-cb76-4ee4-8835-598117db41c5",
      "palette": {
       "backgroundColor": {
        "id": "backgroundColor",
        "rgb": [
         256,
         256,
         256
        ]
       },
       "headingColor": {
        "id": "headingColor",
        "rgb": [
         0,
         0,
         0
        ]
       },
       "linkColor": {
        "id": "linkColor",
        "rgb": [
         0,
         0,
         139
        ]
       },
       "mainColor": {
        "id": "mainColor",
        "rgb": [
         0,
         0,
         0
        ]
       }
      },
      "rules": {
       "a": {
        "color": "linkColor"
       },
       "h1": {
        "color": "headingColor",
        "font-family": "News Cycle",
        "font-size": 7
       },
       "h2": {
        "color": "headingColor",
        "font-family": "News Cycle",
        "font-size": 5
       },
       "h3": {
        "color": "headingColor",
        "font-family": "News Cycle",
        "font-size": 3.75
       },
       "h4": {
        "color": "headingColor",
        "font-family": "News Cycle",
        "font-size": 3
       },
       "h5": {
        "color": "headingColor",
        "font-family": "News Cycle"
       },
       "h6": {
        "color": "headingColor",
        "font-family": "News Cycle"
       },
       "h7": {
        "color": "headingColor",
        "font-family": "News Cycle"
       },
       "li": {
        "color": "mainColor",
        "font-family": "Lato",
        "font-size": 5
       },
       "p": {
        "color": "mainColor",
        "font-family": "Lato",
        "font-size": 5
       }
      },
      "text-base": {
       "color": "mainColor",
       "font-family": "Lato",
       "font-size": 5
      }
     },
     "f41ddde2-ec2e-47cd-b970-559af39edf14": {
      "backgrounds": {
       "dc7afa04-bf90-40b1-82a5-726e3cff5267": {
        "background-color": "31af15d2-7e15-44c5-ab5e-e04b16a89eff",
        "id": "dc7afa04-bf90-40b1-82a5-726e3cff5267"
       }
      },
      "id": "f41ddde2-ec2e-47cd-b970-559af39edf14",
      "palette": {
       "19cc588f-0593-49c9-9f4b-e4d7cc113b1c": {
        "id": "19cc588f-0593-49c9-9f4b-e4d7cc113b1c",
        "rgb": [
         252,
         252,
         252
        ]
       },
       "31af15d2-7e15-44c5-ab5e-e04b16a89eff": {
        "id": "31af15d2-7e15-44c5-ab5e-e04b16a89eff",
        "rgb": [
         68,
         68,
         68
        ]
       },
       "50f92c45-a630-455b-aec3-788680ec7410": {
        "id": "50f92c45-a630-455b-aec3-788680ec7410",
        "rgb": [
         197,
         226,
         245
        ]
       },
       "c5cc3653-2ee1-402a-aba2-7caae1da4f6c": {
        "id": "c5cc3653-2ee1-402a-aba2-7caae1da4f6c",
        "rgb": [
         43,
         126,
         184
        ]
       },
       "efa7f048-9acb-414c-8b04-a26811511a21": {
        "id": "efa7f048-9acb-414c-8b04-a26811511a21",
        "rgb": [
         25.118061674008803,
         73.60176211453744,
         107.4819383259912
        ]
       }
      },
      "rules": {
       "a": {
        "color": "19cc588f-0593-49c9-9f4b-e4d7cc113b1c"
       },
       "blockquote": {
        "color": "50f92c45-a630-455b-aec3-788680ec7410",
        "font-size": 3
       },
       "code": {
        "font-family": "Anonymous Pro"
       },
       "h1": {
        "color": "19cc588f-0593-49c9-9f4b-e4d7cc113b1c",
        "font-family": "Merriweather",
        "font-size": 8
       },
       "h2": {
        "color": "19cc588f-0593-49c9-9f4b-e4d7cc113b1c",
        "font-family": "Merriweather",
        "font-size": 6
       },
       "h3": {
        "color": "50f92c45-a630-455b-aec3-788680ec7410",
        "font-family": "Lato",
        "font-size": 5.5
       },
       "h4": {
        "color": "c5cc3653-2ee1-402a-aba2-7caae1da4f6c",
        "font-family": "Lato",
        "font-size": 5
       },
       "h5": {
        "font-family": "Lato"
       },
       "h6": {
        "font-family": "Lato"
       },
       "h7": {
        "font-family": "Lato"
       },
       "li": {
        "color": "50f92c45-a630-455b-aec3-788680ec7410",
        "font-size": 3.25
       },
       "pre": {
        "font-family": "Anonymous Pro",
        "font-size": 4
       }
      },
      "text-base": {
       "color": "19cc588f-0593-49c9-9f4b-e4d7cc113b1c",
       "font-family": "Lato",
       "font-size": 4
      }
     },
     "fbf2619f-a34e-47b5-8ddf-3c9d7478643c": {
      "backgrounds": {
       "backgroundColor": {
        "background-color": "backgroundColor",
        "id": "backgroundColor"
       }
      },
      "id": "fbf2619f-a34e-47b5-8ddf-3c9d7478643c",
      "palette": {
       "backgroundColor": {
        "id": "backgroundColor",
        "rgb": [
         247,
         243,
         222
        ]
       },
       "headingColor": {
        "id": "headingColor",
        "rgb": [
         51,
         51,
         51
        ]
       },
       "linkColor": {
        "id": "linkColor",
        "rgb": [
         139,
         116,
         61
        ]
       },
       "mainColor": {
        "id": "mainColor",
        "rgb": [
         51,
         51,
         51
        ]
       }
      },
      "rules": {
       "a": {
        "color": "linkColor"
       },
       "h1": {
        "color": "headingColor",
        "font-family": "Oswald",
        "font-size": 7
       },
       "h2": {
        "color": "headingColor",
        "font-family": "Oswald",
        "font-size": 5
       },
       "h3": {
        "color": "headingColor",
        "font-family": "Oswald",
        "font-size": 3.75
       },
       "h4": {
        "color": "headingColor",
        "font-family": "Oswald",
        "font-size": 3
       },
       "h5": {
        "color": "headingColor",
        "font-family": "Oswald"
       },
       "h6": {
        "color": "headingColor",
        "font-family": "Oswald"
       },
       "h7": {
        "color": "headingColor",
        "font-family": "Oswald"
       },
       "li": {
        "color": "mainColor",
        "font-family": "Lato",
        "font-size": 5
       },
       "p": {
        "color": "mainColor",
        "font-family": "Lato",
        "font-size": 5
       }
      },
      "text-base": {
       "color": "mainColor",
       "font-family": "Lato",
       "font-size": 5
      }
     }
    }
   }
  }
 },
 "nbformat": 4,
 "nbformat_minor": 0
}
