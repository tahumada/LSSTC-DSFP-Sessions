{
 "cells": [
  {
   "cell_type": "markdown",
   "metadata": {},
   "source": [
    "# Model Selection For Machine Learning\n",
    "\n",
    "In this exercise, we will explore methods to do model selection in a machine learning context, in particular cross-validation and information criteria. At the same time, we'll learn about `scikit-learn`'s class structure and how to build a pipeline.\n",
    "\n",
    "## Why Model Selection?\n",
    "\n",
    "There are several reasons why you might want to perform model selection:\n",
    "\n",
    "* You might not be sure which machine learning algorithm is most appropriate.\n",
    "* The algorithm you have chosen might have a regularization parameter whose value you want to determine.\n",
    "* The algorithm you have chosen might have other parameters (e.g. the depth of a decision tree, the number of clusters in `KMeans`, ...) you would like to determine.\n",
    "* You might not be sure which of your features are the most useful/predictive.\n",
    "\n",
    "**Question**: Can you think of other reasons and contexts in which model selection might be important?\n",
    "\n",
    "Your decisions for how to do model selection depend very strongly (like everything else in machine learning) on the purpose of your machine learning procedure. Is your main purpose to accurately **predict** outcomes for new samples? Or are you trying to **infer** something about the system? \n",
    "\n",
    "Inference generally restricts the number of algorithms you can reasonably use, and also the number of model selection procedures you can apply. In the following, assume that everything below works for prediction problems; I will point out methods for inference where appropriate. Additionally, assume that everything below works for *supervised machine learning*. We will cover *unsupervised* methods further below.\n",
    "\n",
    "## Imports\n",
    "\n",
    "Let's first import some stuff we're going to need."
   ]
  },
  {
   "cell_type": "code",
   "execution_count": 13,
   "metadata": {
    "collapsed": true
   },
   "outputs": [],
   "source": [
    "%matplotlib inline\n",
    "import matplotlib.pyplot as plt\n",
    "\n",
    "# comment out this line if you don't have seaborn installed\n",
    "import seaborn as sns\n",
    "sns.set_palette(\"colorblind\")\n",
    "\n",
    "import numpy as np"
   ]
  },
  {
   "cell_type": "markdown",
   "metadata": {},
   "source": [
    "First, we're going to need some data. We'll work with the star-galaxy data from the first session. This uses the `astroquery` package and then queries the top 10000 observations from SDSS (see [this exercise](https://github.com/LSSTC-DSFP/LSSTC-DSFP-Sessions/blob/master/Session1/Day4/StarGalaxyRandomForest.ipynb) for more details):"
   ]
  },
  {
   "cell_type": "code",
   "execution_count": 3,
   "metadata": {
    "collapsed": false
   },
   "outputs": [
    {
     "name": "stderr",
     "output_type": "stream",
     "text": [
      "/opt/local/Library/Frameworks/Python.framework/Versions/3.5/lib/python3.5/site-packages/astroquery/sdss/__init__.py:28: UserWarning: Experimental: SDSS has not yet been refactored to have its API match the rest of astroquery (but it's nearly there).\n",
      "  warnings.warn(\"Experimental: SDSS has not yet been refactored to have its API \"\n"
     ]
    }
   ],
   "source": [
    "# execute this line:\n",
    "from astroquery.sdss import SDSS\n"
   ]
  },
  {
   "cell_type": "code",
   "execution_count": 4,
   "metadata": {
    "collapsed": false
   },
   "outputs": [
    {
     "data": {
      "text/html": [
       "&lt;Table length=10000&gt;\n",
       "<table id=\"table4691112904\" class=\"table-striped table-bordered table-condensed\">\n",
       "<thead><tr><th>psfMag_r</th><th>fiberMag_r</th><th>fiber2Mag_r</th><th>petroMag_r</th><th>deVMag_r</th><th>expMag_r</th><th>modelMag_r</th><th>cModelMag_r</th><th>class</th></tr></thead>\n",
       "<thead><tr><th>float64</th><th>float64</th><th>float64</th><th>float64</th><th>float64</th><th>float64</th><th>float64</th><th>float64</th><th>bytes6</th></tr></thead>\n",
       "<tr><td>18.50319</td><td>18.65275</td><td>19.33509</td><td>17.54539</td><td>17.31526</td><td>17.58132</td><td>17.58132</td><td>17.48715</td><td>GALAXY</td></tr>\n",
       "<tr><td>19.02659</td><td>19.32441</td><td>19.80892</td><td>19.05827</td><td>19.03468</td><td>19.03111</td><td>19.03111</td><td>19.03111</td><td>STAR</td></tr>\n",
       "<tr><td>19.8809</td><td>19.77895</td><td>20.46623</td><td>19.3534</td><td>19.1864</td><td>19.35493</td><td>19.35493</td><td>19.24559</td><td>GALAXY</td></tr>\n",
       "<tr><td>22.03563</td><td>22.06141</td><td>22.68416</td><td>21.51795</td><td>21.03554</td><td>21.31751</td><td>21.31751</td><td>21.31751</td><td>GALAXY</td></tr>\n",
       "<tr><td>21.56726</td><td>21.57312</td><td>22.22178</td><td>20.4583</td><td>19.93309</td><td>20.39825</td><td>20.39819</td><td>20.20402</td><td>GALAXY</td></tr>\n",
       "<tr><td>18.66813</td><td>18.75309</td><td>19.36792</td><td>17.83372</td><td>17.69468</td><td>17.89914</td><td>17.6947</td><td>17.75269</td><td>GALAXY</td></tr>\n",
       "<tr><td>20.19068</td><td>20.33947</td><td>20.93226</td><td>19.77666</td><td>19.63458</td><td>19.74873</td><td>19.74872</td><td>19.74873</td><td>GALAXY</td></tr>\n",
       "<tr><td>19.41619</td><td>19.38348</td><td>20.15486</td><td>17.67687</td><td>17.16815</td><td>17.63962</td><td>17.63962</td><td>17.63962</td><td>GALAXY</td></tr>\n",
       "<tr><td>18.88878</td><td>18.91179</td><td>19.57415</td><td>17.3317</td><td>17.02896</td><td>17.43539</td><td>17.02898</td><td>17.06256</td><td>GALAXY</td></tr>\n",
       "<tr><td>17.73892</td><td>17.8784</td><td>18.4601</td><td>16.81384</td><td>16.80538</td><td>17.07542</td><td>16.80538</td><td>16.80538</td><td>GALAXY</td></tr>\n",
       "<tr><td>...</td><td>...</td><td>...</td><td>...</td><td>...</td><td>...</td><td>...</td><td>...</td><td>...</td></tr>\n",
       "<tr><td>19.24749</td><td>19.50776</td><td>20.10474</td><td>18.66996</td><td>18.61142</td><td>18.78825</td><td>18.61142</td><td>18.61683</td><td>GALAXY</td></tr>\n",
       "<tr><td>18.85847</td><td>19.0704</td><td>19.73915</td><td>17.85506</td><td>17.58484</td><td>17.82618</td><td>17.82618</td><td>17.73945</td><td>GALAXY</td></tr>\n",
       "<tr><td>17.88114</td><td>18.16021</td><td>18.73313</td><td>17.69177</td><td>17.64868</td><td>17.64409</td><td>17.64409</td><td>17.64409</td><td>STAR</td></tr>\n",
       "<tr><td>18.36227</td><td>18.63728</td><td>19.22842</td><td>17.76154</td><td>17.72115</td><td>17.91659</td><td>17.72115</td><td>17.72115</td><td>GALAXY</td></tr>\n",
       "<tr><td>19.39928</td><td>19.56483</td><td>20.29491</td><td>17.66843</td><td>17.08915</td><td>17.55575</td><td>17.55575</td><td>17.55575</td><td>GALAXY</td></tr>\n",
       "<tr><td>18.05847</td><td>18.21004</td><td>18.89647</td><td>16.85453</td><td>16.62304</td><td>16.84302</td><td>16.84302</td><td>16.76329</td><td>GALAXY</td></tr>\n",
       "<tr><td>22.23627</td><td>22.52658</td><td>23.06609</td><td>21.30207</td><td>21.25972</td><td>21.42846</td><td>21.25974</td><td>21.26578</td><td>GALAXY</td></tr>\n",
       "<tr><td>19.66558</td><td>19.97335</td><td>20.53659</td><td>19.27357</td><td>19.22064</td><td>19.36352</td><td>19.22064</td><td>19.22064</td><td>GALAXY</td></tr>\n",
       "<tr><td>20.70572</td><td>21.10135</td><td>21.57685</td><td>20.69317</td><td>20.65731</td><td>20.66223</td><td>20.65733</td><td>20.65731</td><td>STAR</td></tr>\n",
       "<tr><td>21.83704</td><td>22.13966</td><td>22.7099</td><td>21.37834</td><td>21.28071</td><td>21.44025</td><td>21.44045</td><td>21.40327</td><td>GALAXY</td></tr>\n",
       "</table>"
      ],
      "text/plain": [
       "<Table length=10000>\n",
       "psfMag_r fiberMag_r fiber2Mag_r petroMag_r ... modelMag_r cModelMag_r class \n",
       "float64   float64     float64    float64   ...  float64     float64   bytes6\n",
       "-------- ---------- ----------- ---------- ... ---------- ----------- ------\n",
       "18.50319   18.65275    19.33509   17.54539 ...   17.58132    17.48715 GALAXY\n",
       "19.02659   19.32441    19.80892   19.05827 ...   19.03111    19.03111   STAR\n",
       " 19.8809   19.77895    20.46623    19.3534 ...   19.35493    19.24559 GALAXY\n",
       "22.03563   22.06141    22.68416   21.51795 ...   21.31751    21.31751 GALAXY\n",
       "21.56726   21.57312    22.22178    20.4583 ...   20.39819    20.20402 GALAXY\n",
       "18.66813   18.75309    19.36792   17.83372 ...    17.6947    17.75269 GALAXY\n",
       "20.19068   20.33947    20.93226   19.77666 ...   19.74872    19.74873 GALAXY\n",
       "19.41619   19.38348    20.15486   17.67687 ...   17.63962    17.63962 GALAXY\n",
       "18.88878   18.91179    19.57415    17.3317 ...   17.02898    17.06256 GALAXY\n",
       "17.73892    17.8784     18.4601   16.81384 ...   16.80538    16.80538 GALAXY\n",
       "     ...        ...         ...        ... ...        ...         ...    ...\n",
       "19.24749   19.50776    20.10474   18.66996 ...   18.61142    18.61683 GALAXY\n",
       "18.85847    19.0704    19.73915   17.85506 ...   17.82618    17.73945 GALAXY\n",
       "17.88114   18.16021    18.73313   17.69177 ...   17.64409    17.64409   STAR\n",
       "18.36227   18.63728    19.22842   17.76154 ...   17.72115    17.72115 GALAXY\n",
       "19.39928   19.56483    20.29491   17.66843 ...   17.55575    17.55575 GALAXY\n",
       "18.05847   18.21004    18.89647   16.85453 ...   16.84302    16.76329 GALAXY\n",
       "22.23627   22.52658    23.06609   21.30207 ...   21.25974    21.26578 GALAXY\n",
       "19.66558   19.97335    20.53659   19.27357 ...   19.22064    19.22064 GALAXY\n",
       "20.70572   21.10135    21.57685   20.69317 ...   20.65733    20.65731   STAR\n",
       "21.83704   22.13966     22.7099   21.37834 ...   21.44045    21.40327 GALAXY"
      ]
     },
     "execution_count": 4,
     "metadata": {},
     "output_type": "execute_result"
    }
   ],
   "source": [
    "TSquery = \"\"\"SELECT TOP 10000 \n",
    "             p.psfMag_r, p.fiberMag_r, p.fiber2Mag_r, p.petroMag_r, \n",
    "             p.deVMag_r, p.expMag_r, p.modelMag_r, p.cModelMag_r, \n",
    "             s.class\n",
    "             FROM PhotoObjAll AS p JOIN specObjAll s ON s.bestobjid = p.objid\n",
    "             WHERE p.mode = 1 AND s.sciencePrimary = 1 AND p.clean = 1 AND s.class != 'QSO'\n",
    "             ORDER BY p.objid ASC\n",
    "               \"\"\"\n",
    "SDSSts = SDSS.query_sql(TSquery)\n",
    "SDSSts\n"
   ]
  },
  {
   "cell_type": "markdown",
   "metadata": {},
   "source": [
    "**Exercise 1**: Visualize this data set. What representation is most appropriate, do you think?"
   ]
  },
  {
   "cell_type": "code",
   "execution_count": null,
   "metadata": {
    "collapsed": true
   },
   "outputs": [],
   "source": []
  },
  {
   "cell_type": "markdown",
   "metadata": {},
   "source": [
    "**Exercise 2**: Let's now do some machine learning. In this exercise, you are going to use a random forest classifier to classify this data set. Here are the steps you'll need to perform:\n",
    "* Split the column with the classes (stars and galaxies) from the rest of the data\n",
    "* Cast the features and the classes to numpy arrays\n",
    "* Split the data into a *test* set and a *training* set. The training set will be used to train the classifier; the test set we'll reserve for the very end to test the final performance of the model (more on this on Friday). You can use the `scikit-learn` function `test_train_split` for this task\n",
    "* Define a `RandomForest` object from the `sklearn.ensemble` module. Note that the `RandomForest` class has three parameters:\n",
    "    - `n_estimators`: The number of decision trees in the random forest\n",
    "    - `max_features`: The maximum number of features to use for the decision trees\n",
    "    - `min_samples_leaf`: The minimum number of samples that need to end up in a terminal leaf (this effectively limits the number of branchings each tree can make)\n",
    "* We'll want to use *cross-validation* to decide between parameters. You can do this with the `scikit-learn` class `GridSearchCV`. This class takes a classifier as an input, along with a dictionary of the parameter values to search over.\n",
    "\n",
    "In the earlier lecture, you learned about four different types of cross-validation:\n",
    "* hold-out cross validation, where you take a single validation set to compare your algorithm's performance to\n",
    "* k-fold cross validation, where you split your training set into k subsets, each of which holds out a different portion of the data\n",
    "* leave-one-out cross validation, where you have N different subsets, each of which leaves just one sample as a validation set\n",
    "* random subset cross validation, where you pick a random subset of your data points k times as your validation set.\n",
    "\n",
    "**Exercise 2a**: Which of the four algorithms is most appropriate here? And why?\n",
    "\n",
    "**Answer**: In this case, k-fold CV or random subset CV seem to be the most appropriate algorithms to use.\n",
    "* Using hold-out cross validation leads to a percentage of the data not being used for training at all. \n",
    "* Given that the data set is not too huge, using k-fold CV probably won't slow down the ML procedure too much.\n",
    "* LOO CV is particularly useful for small data sets, where even training on a subset of the training data is difficult (for example because there are only very few examples of a certain class). \n",
    "* Random subset CV could also yield good results, since there's no real ordering to the training data. Do not use this algorithm when the ordering matters (for example in Hidden Markov Models)\n",
    "\n",
    "**Important:** One important thing to remember that cross-validation crucially depends on your *samples* being **independent** from each other. Be sure that this is the case before using it. For example, say you want to classify images of galaxies, but your data set is small, and you're not sure whether your algorithm is rotation independent. So you might choose to use the same images multiple times in your training data set, but rotated by a random degree. In this case, you *have* to make sure all versions of the same image are included in the **same** data set (either the training, the validation or the test set), and not split across data sets! If you don't, your algorithm will be unreasonably confident in its accuracy (because you are training and validating essentially on the same data points). \n",
    "\n",
    "Note that `scikit-learn` can actually deal with that! The class [`GroupKFold`](http://scikit-learn.org/stable/modules/generated/sklearn.model_selection.GroupKFold.html#sklearn.model_selection.GroupKFold) allows k-fold cross validation using an array of indices for your training data. Validation sets will only be split among samples with *different* indices. \n",
    "\n",
    "But this was just an aside. Last time, you used a random forest and used k-fold cross validation to effectively do model selection for the different parameters that the random forest classifier uses. \n",
    "\n",
    "**Exercise 2b**: Now follow the instructions above and implement your random forest classifier."
   ]
  },
  {
   "cell_type": "code",
   "execution_count": 10,
   "metadata": {
    "collapsed": false
   },
   "outputs": [
    {
     "data": {
      "text/plain": [
       "GridSearchCV(cv=5, error_score='raise',\n",
       "       estimator=RandomForestClassifier(bootstrap=True, class_weight=None, criterion='gini',\n",
       "            max_depth=None, max_features='auto', max_leaf_nodes=None,\n",
       "            min_samples_leaf=1, min_samples_split=2,\n",
       "            min_weight_fraction_leaf=0.0, n_estimators=10, n_jobs=1,\n",
       "            oob_score=False, random_state=None, verbose=0,\n",
       "            warm_start=False),\n",
       "       fit_params={}, iid=True, n_jobs=1,\n",
       "       param_grid={'n_estimators': [10, 100, 300], 'max_features': [1, 3, 7], 'min_samples_leaf': [1, 10]},\n",
       "       pre_dispatch='2*n_jobs', refit=True, scoring=None, verbose=0)"
      ]
     },
     "execution_count": 10,
     "metadata": {},
     "output_type": "execute_result"
    }
   ],
   "source": [
    "from sklearn.cross_validation import train_test_split\n",
    "from sklearn.grid_search import GridSearchCV\n",
    "from sklearn.ensemble import RandomForestClassifier\n",
    "\n",
    "# set the random state\n",
    "rs = 23  # we are in Chicago after all\n",
    "\n",
    "# extract feature names, remove class\n",
    "feats = list(SDSSts.columns)\n",
    "feats.remove('class')\n",
    "\n",
    "# cast astropy table to pandas, remove classes\n",
    "X = np.array(SDSSts[feats].to_pandas())\n",
    "\n",
    "# our classes are the outcomes to classify on\n",
    "y = np.array(SDSSts['class'])\n",
    "\n",
    "# let's do a split in training and test set:\n",
    "X_train, X_test, y_train, y_test = train_test_split(X, y, test_size = 0.3, random_state = rs)\n",
    "# we'll leave the test set for later.\n",
    "\n",
    "# instantiate the random forest classifier:\n",
    "RFmod = RandomForestClassifier()\n",
    "\n",
    "# do a grid search over the free random forest parameters:\n",
    "pars = {\"n_estimators\": [10, 100, 300],\n",
    "        \"max_features\": [1, 3, 7], \n",
    "        \"min_samples_leaf\": [1,10]}\n",
    "\n",
    "grid_results = GridSearchCV(RandomForestClassifier(), \n",
    "                            pars,\n",
    "                            cv = 5)\n",
    "\n",
    "grid_results.fit(X_train, y_train)\n"
   ]
  },
  {
   "cell_type": "markdown",
   "metadata": {},
   "source": [
    "**Exercise 2c**: Take a look at the different validation scores for the different parameter combinations. Are they very different or are they similar? "
   ]
  },
  {
   "cell_type": "code",
   "execution_count": 460,
   "metadata": {
    "collapsed": false
   },
   "outputs": [
    {
     "data": {
      "text/plain": [
       "[mean: 0.96371, std: 0.00219, params: {'max_features': 1, 'n_estimators': 10, 'min_samples_leaf': 1},\n",
       " mean: 0.96457, std: 0.00204, params: {'max_features': 1, 'n_estimators': 100, 'min_samples_leaf': 1},\n",
       " mean: 0.96429, std: 0.00162, params: {'max_features': 1, 'n_estimators': 300, 'min_samples_leaf': 1},\n",
       " mean: 0.96657, std: 0.00138, params: {'max_features': 1, 'n_estimators': 10, 'min_samples_leaf': 10},\n",
       " mean: 0.96786, std: 0.00121, params: {'max_features': 1, 'n_estimators': 100, 'min_samples_leaf': 10},\n",
       " mean: 0.96700, std: 0.00172, params: {'max_features': 1, 'n_estimators': 300, 'min_samples_leaf': 10},\n",
       " mean: 0.95957, std: 0.00322, params: {'max_features': 2, 'n_estimators': 10, 'min_samples_leaf': 1},\n",
       " mean: 0.96186, std: 0.00273, params: {'max_features': 2, 'n_estimators': 100, 'min_samples_leaf': 1},\n",
       " mean: 0.96229, std: 0.00351, params: {'max_features': 2, 'n_estimators': 300, 'min_samples_leaf': 1},\n",
       " mean: 0.96757, std: 0.00259, params: {'max_features': 2, 'n_estimators': 10, 'min_samples_leaf': 10},\n",
       " mean: 0.96829, std: 0.00274, params: {'max_features': 2, 'n_estimators': 100, 'min_samples_leaf': 10},\n",
       " mean: 0.96829, std: 0.00278, params: {'max_features': 2, 'n_estimators': 300, 'min_samples_leaf': 10}]"
      ]
     },
     "execution_count": 460,
     "metadata": {},
     "output_type": "execute_result"
    }
   ],
   "source": [
    "grid_results.grid_scores_"
   ]
  },
  {
   "cell_type": "markdown",
   "metadata": {},
   "source": [
    "It looks like the scores are very similar, and have very small variance between the different cross validation instances. It can be useful to do this kind of representation to see for example whether there is a large variance in the cross-validation results."
   ]
  },
  {
   "cell_type": "markdown",
   "metadata": {},
   "source": [
    "## Cross-validating Multiple Model Components\n",
    "\n",
    "In most machine learning applications, your machine learning algorithm might not be the only component having free parameters. You might not even be sure which machine learning algorithm to use! \n",
    "\n",
    "For demonstration purposes, imagine you have many features, but many of them might be correlated. A standard dimensionality reduction technique to use is [Principal Component Analysis](http://scikit-learn.org/stable/modules/generated/sklearn.decomposition.PCA.html). \n",
    "\n",
    "**Exercise 4**: The number of features in our present data set is pretty small, but let's nevertheless attempt to reduce dimensionality with PCA. Run a PCA decomposition in 2 dimensions and plot the results. Colour-code stars versus calaxies. How well do they separate along the principal components?\n",
    "\n",
    "*Hint*: Think about whether you can run PCA on training and test set separately, or whether you need to run it on both together *before* doing the train-test split?"
   ]
  },
  {
   "cell_type": "code",
   "execution_count": 16,
   "metadata": {
    "collapsed": false
   },
   "outputs": [
    {
     "data": {
      "text/plain": [
       "<matplotlib.legend.Legend at 0x119b85c50>"
      ]
     },
     "execution_count": 16,
     "metadata": {},
     "output_type": "execute_result"
    },
    {
     "data": {
      "image/png": "[encoded data removed]",
      "text/plain": [
       "<matplotlib.figure.Figure at 0x11982b6a0>"
      ]
     },
     "metadata": {},
     "output_type": "display_data"
    }
   ],
   "source": [
    "from sklearn.decomposition import PCA\n",
    "\n",
    "# instantiate the PCA object\n",
    "pca = PCA(n_components=2)\n",
    "\n",
    "# fit and transform the samples:\n",
    "X_pca = pca.fit_transform(X)\n",
    "\n",
    "# make a plot object\n",
    "fig, ax = plt.subplots(1, 1, figsize=(12,8))\n",
    "\n",
    "# loop over number of classes:\n",
    "for i,l in enumerate(np.unique(y)):\n",
    "    members = y == l\n",
    "    plt.scatter(X_pca[members, 0], X_pca[members, 1], \n",
    "                color=sns.color_palette(\"colorblind\",8)[i],\n",
    "                label=l)\n",
    "    \n",
    "ax.set_xlabel(\"PCA Component 1\")\n",
    "ax.set_ylabel(\"PCA Component 2\")\n",
    "    \n",
    "plt.legend()\n",
    "\n"
   ]
  },
  {
   "cell_type": "markdown",
   "metadata": {},
   "source": [
    "**Exercise 5**: Re-do the classification on the PCA components instead of the original features."
   ]
  },
  {
   "cell_type": "code",
   "execution_count": 235,
   "metadata": {
    "collapsed": false
   },
   "outputs": [
    {
     "data": {
      "text/plain": [
       "GridSearchCV(cv=5, error_score='raise',\n",
       "       estimator=RandomForestClassifier(bootstrap=True, class_weight=None, criterion='gini',\n",
       "            max_depth=None, max_features='auto', max_leaf_nodes=None,\n",
       "            min_samples_leaf=1, min_samples_split=2,\n",
       "            min_weight_fraction_leaf=0.0, n_estimators=10, n_jobs=1,\n",
       "            oob_score=False, random_state=None, verbose=0,\n",
       "            warm_start=False),\n",
       "       fit_params={}, iid=True, n_jobs=1,\n",
       "       param_grid={'n_estimators': [10, 100, 300], 'max_features': [1, 2], 'min_samples_leaf': [1, 10]},\n",
       "       pre_dispatch='2*n_jobs', refit=True, scoring=None, verbose=0)"
      ]
     },
     "execution_count": 235,
     "metadata": {},
     "output_type": "execute_result"
    }
   ],
   "source": [
    "# Train PCA on training data set\n",
    "X_pca_train = pca.fit_transform(X_train)\n",
    "\n",
    "# apply to test set\n",
    "X_pca_test = pca.transform(X_test)\n",
    "\n",
    "# we'll leave the test set for later.\n",
    "\n",
    "# instantiate the random forest classifier:\n",
    "RFmod = RandomForestClassifier()\n",
    "\n",
    "# do a grid search over the free random forest parameters:\n",
    "pars = {\"n_estimators\": [10, 100, 300],\n",
    "        \"max_features\": [1, 2], \n",
    "        \"min_samples_leaf\": [1,10]}\n",
    "\n",
    "grid_results = GridSearchCV(RandomForestClassifier(), \n",
    "                            pars,\n",
    "                            cv = 5)\n",
    "\n",
    "grid_results.fit(X_pca_train, y_train)\n",
    "\n"
   ]
  },
  {
   "cell_type": "code",
   "execution_count": 236,
   "metadata": {
    "collapsed": false
   },
   "outputs": [
    {
     "data": {
      "text/plain": [
       "0.96828571428571431"
      ]
     },
     "execution_count": 236,
     "metadata": {},
     "output_type": "execute_result"
    }
   ],
   "source": [
    "grid_results.best_score_"
   ]
  },
  {
   "cell_type": "markdown",
   "metadata": {},
   "source": [
    "**Note**: In general, you should (cross-)validate both your data transformations and your classifiers!\n",
    "\n",
    "But how do we know whether two components was really the right number to choose? perhaps it should have been three? Or four? Ideally, we would like to include the feature engineering in our cross validation procedure. In principle, you can do this by running a complicated for-loop. In practice, this is what `scikit-learn`s [Pipeline](http://scikit-learn.org/stable/modules/pipeline.html) is for! A `Pipeline` object takes a list of tuples of `(\"string\", ScikitLearnObject)` pairs as input and strings them together (your feature vector `X` will be put first through the first object, then the second object and so on sequentially).\n",
    "\n",
    "**Note**: `scikit-learn` distinguishes between *transformers* (i.e. classes that transform the features into something else, like PCA, t-SNE, StandardScaler, ...) and *predictors* (i.e. classes that produce predictions, such as random forests, logistic regression, ...). In a pipeline, all but the last objects must be transformers; the last object can be either.\n",
    "\n",
    "**Exercise 6**: Make a pipeline including (1) a PCA object and (2) a random forest classifier. Cross-validate both the PCA components and the parameters of the random forest classifier. What is the best number of PCA components to use?\n",
    "\n",
    "*Hint*: You can also use the convenience function [`make_pipeline`](http://scikit-learn.org/stable/modules/generated/sklearn.pipeline.make_pipeline.html#sklearn.pipeline.make_pipeline) to creatue your pipeline. \n",
    "\n",
    "*Hint*: Check the documentation for the precise notation to use for cross-validating parameters."
   ]
  },
  {
   "cell_type": "code",
   "execution_count": 28,
   "metadata": {
    "collapsed": false
   },
   "outputs": [
    {
     "data": {
      "text/plain": [
       "GridSearchCV(cv=None, error_score='raise',\n",
       "       estimator=Pipeline(steps=[('pca', PCA(copy=True, n_components=None, whiten=False)), ('clf', RandomForestClassifier(bootstrap=True, class_weight=None, criterion='gini',\n",
       "            max_depth=None, max_features='auto', max_leaf_nodes=None,\n",
       "            min_samples_leaf=1, min_samples_split=2,\n",
       "            min_weight_fraction_leaf=0.0, n_estimators=10, n_jobs=1,\n",
       "            oob_score=False, random_state=None, verbose=0,\n",
       "            warm_start=False))]),\n",
       "       fit_params={}, iid=True, n_jobs=1,\n",
       "       param_grid={'pca__n_components': [2, 4, 6, 8], 'clf__min_samples_leaf': [1, 10], 'clf__n_estimators': [10, 100, 300]},\n",
       "       pre_dispatch='2*n_jobs', refit=True, scoring=None, verbose=0)"
      ]
     },
     "execution_count": 28,
     "metadata": {},
     "output_type": "execute_result"
    }
   ],
   "source": [
    "from sklearn.pipeline import Pipeline\n",
    "\n",
    "# make a list of name-estimator tuples\n",
    "estimators = [('pca', PCA()), ('clf', RandomForestClassifier())]\n",
    "\n",
    "# instantiate the pipeline\n",
    "pipe = Pipeline(estimators)\n",
    "\n",
    "# make a dictionary of parameters\n",
    "params = dict(pca__n_components=[2, 4, 6, 8],\n",
    "              clf__n_estimators=[10, 100, 300],\n",
    "              clf__min_samples_leaf=[1,10])\n",
    "\n",
    "# perform the grid search\n",
    "grid_search = GridSearchCV(pipe, param_grid=params)\n",
    "grid_search.fit(X_train, y_train)\n"
   ]
  },
  {
   "cell_type": "code",
   "execution_count": 30,
   "metadata": {
    "collapsed": false
   },
   "outputs": [
    {
     "name": "stdout",
     "output_type": "stream",
     "text": [
      "0.970571428571\n",
      "{'pca__n_components': 6, 'clf__min_samples_leaf': 1, 'clf__n_estimators': 300}\n"
     ]
    }
   ],
   "source": [
    "print(grid_search.best_score_)\n",
    "print(grid_search.best_params_)"
   ]
  },
  {
   "cell_type": "markdown",
   "metadata": {},
   "source": [
    "It looks like `n_components=6` works best."
   ]
  },
  {
   "cell_type": "markdown",
   "metadata": {},
   "source": [
    "## Comparing Algorithms\n",
    "\n",
    "So far, we've just picked PCA because it's common. But what if there's a better algorithm for dimensionality reduction out there for our problem? Or what if you'd want to compare random forests to other classifiers? \n",
    "\n",
    "In this case, your best option is to split off a separate validation set, perform cross-validation for each algorithm separately, and then compare the results using hold-out cross validation and your validation set (**Note**: Do *not* use your test set for this! Your test set is *only* used for your final error estimate!)\n",
    "\n",
    "Doing CV across algorithms is difficult, since the `KFoldCV` object needs to know which parameters belong to which algorithms, which is difficult to do. \n",
    "\n",
    "**Exercise 7**: Pick an algorithm from the [manifold learning](http://scikit-learn.org/stable/modules/manifold.html#manifold) library in `scikit-learn`, cross-validate a random forest for both, and compare the performance of both.\n",
    "\n",
    "**Important**: Do *not* choose t-SNE. The reason is that t-SNE does not generalize to new samples! This means while it's useful for data visualization, you cannot train a t-SNE transformation (in the `scikit-learn` implementation) on one part of your data and apply it to another!"
   ]
  },
  {
   "cell_type": "code",
   "execution_count": 36,
   "metadata": {
    "collapsed": false
   },
   "outputs": [
    {
     "name": "stdout",
     "output_type": "stream",
     "text": [
      "Best score: 0.971607142857\n",
      "Best parameter set: {'pca__n_components': 4, 'clf__min_samples_leaf': 1, 'clf__n_estimators': 100}\n",
      "Validation score for model with PCA: 0.961428571429\n",
      "Best score: 0.971428571429\n",
      "Best parameter set: {'lle__n_components': 4, 'clf__min_samples_leaf': 10, 'clf__n_estimators': 10, 'lle__n_neighbors': 100}\n",
      "Validation score for model with PCA: 0.957142857143\n"
     ]
    }
   ],
   "source": [
    "# First, let's redo the train-test split to split the training data \n",
    "# into training and hold-out validation set\n",
    "X_train_new, X_val, y_train_new, y_val = train_test_split(X_train, y_train, \n",
    "                                                          test_size = 0.2, \n",
    "                                                          random_state = rs)\n",
    "\n",
    "\n",
    "# Now we have to re-do the PCA pipeline:\n",
    "from sklearn.pipeline import Pipeline\n",
    "\n",
    "# make a list of name-estimator tuples\n",
    "estimators = [('pca', PCA()), ('clf', RandomForestClassifier())]\n",
    "\n",
    "# instantiate the pipeline\n",
    "pipe = Pipeline(estimators)\n",
    "\n",
    "# make a dictionary of parameters\n",
    "params = dict(pca__n_components=[2, 4, 6, 8],\n",
    "              clf__n_estimators=[10, 100, 300],\n",
    "              clf__min_samples_leaf=[1,10])\n",
    "\n",
    "# perform the grid search\n",
    "grid_search = GridSearchCV(pipe, param_grid=params)\n",
    "grid_search.fit(X_train_new, y_train_new)\n",
    "\n",
    "print(\"Best score: \" + str(grid_search.best_score_))\n",
    "print(\"Best parameter set: \" + str(grid_search.best_params_))\n",
    "print(\"Validation score for model with PCA: \" + str(grid_search.score(X_val, y_val)))\n",
    "\n",
    "# I'm going to pick locally linear embedding here:\n",
    "# LLE has two free parameters: \n",
    "# - the number of parameters to use `n_neighbors`\n",
    "# - the number of components in the output\n",
    "from sklearn.manifold import LocallyLinearEmbedding\n",
    "from sklearn.pipeline import Pipeline\n",
    "\n",
    "# make a list of name-estimator tuples\n",
    "estimators = [('lle', LocallyLinearEmbedding()), ('clf', RandomForestClassifier())]\n",
    "\n",
    "# instantiate the pipeline\n",
    "pipe2 = Pipeline(estimators)\n",
    "\n",
    "# make a dictionary of parameters\n",
    "params = dict(lle__n_components=[2, 4, 6, 8],\n",
    "              lle__n_neighbors=[5, 10, 100],\n",
    "              clf__n_estimators=[10, 100, 300],\n",
    "              clf__min_samples_leaf=[1,10])\n",
    "\n",
    "# perform the grid search\n",
    "grid_search2 = GridSearchCV(pipe2, param_grid=params)\n",
    "grid_search2.fit(X_train_new, y_train_new)\n",
    "\n",
    "print(\"Best score: \" + str(grid_search2.best_score_))\n",
    "print(\"Best parameter set: \" + str(grid_search2.best_params_))\n",
    "print(\"Validation score for model with LLE: \" + str(grid_search2.score(X_val, y_val)))\n"
   ]
  },
  {
   "cell_type": "markdown",
   "metadata": {},
   "source": [
    "Looks like PCA does slightly better as a dimensionality reduction method."
   ]
  },
  {
   "cell_type": "markdown",
   "metadata": {},
   "source": [
    "## Challenge Problem: Interpreting Results\n",
    "\n",
    "Earlier today, we talked about interpreting machine learning models. Let's see how you would go about this in practice.\n",
    "\n",
    "* Repeat your classification with a logistic regression model.\n",
    "* Is the logistic regression model easier or harder to interpret? Why?\n",
    "* Assume you're interested in which features are the most relevant to your classification (because they might have some bearing on the underlying physics). Would you do your classification on the original features or the PCA transformation? Why?\n",
    "* Change the subset of parameters used in the logistic regression models. Look at the weights. Do they change? How? Does that affect your interpretability?"
   ]
  },
  {
   "cell_type": "code",
   "execution_count": 239,
   "metadata": {
    "collapsed": false
   },
   "outputs": [
    {
     "data": {
      "text/plain": [
       "LogisticRegressionCV(Cs=10, class_weight=None, cv=10, dual=False,\n",
       "           fit_intercept=True, intercept_scaling=1.0, max_iter=100,\n",
       "           multi_class='ovr', n_jobs=1, penalty='l2', random_state=None,\n",
       "           refit=True, scoring=None, solver='lbfgs', tol=0.0001, verbose=0)"
      ]
     },
     "execution_count": 239,
     "metadata": {},
     "output_type": "execute_result"
    }
   ],
   "source": [
    "from sklearn.linear_model import LogisticRegressionCV\n",
    "\n",
    "lr = LogisticRegressionCV(penalty=\"l2\", Cs=10, cv=10)\n",
    "lr.fit(X_train, y_train)"
   ]
  },
  {
   "cell_type": "code",
   "execution_count": 240,
   "metadata": {
    "collapsed": false
   },
   "outputs": [
    {
     "data": {
      "text/plain": [
       "array([[-6.88906087,  1.95530763, -2.43079597,  0.57283392,  2.30630584,\n",
       "        -2.34414147,  1.95936236,  4.29013675]])"
      ]
     },
     "execution_count": 240,
     "metadata": {},
     "output_type": "execute_result"
    }
   ],
   "source": [
    "lr.coef_"
   ]
  },
  {
   "cell_type": "markdown",
   "metadata": {},
   "source": [
    "**Answer 1**: Whether the model is easier or harder to interpret depends on what type of interpretability is desired. If you are interested in how the **features** influence the classification, the logistic regression model is easier to interpret: because random forests is an ensemble method, it's very hard to understand in detail how a prediction comes about (since the individual decision trees may have very different structures). However, for very large feature spaces with complicated, engineered features, your linear model (the logistic regression model) loses interpretability in how the parameters affect the outcomes just as much.\n",
    "\n",
    "**Answer 2**: The more feature engineering you do, the harder it will be to interpret the results. The PCA features are a linear transformation of your original eight features. But what do they mean in physical terms? Who knows?\n"
   ]
  },
  {
   "cell_type": "code",
   "execution_count": 242,
   "metadata": {
    "collapsed": false
   },
   "outputs": [
    {
     "data": {
      "text/plain": [
       "array([[ 13.85785953, -18.54078442,   0.43157384,   5.81193484,\n",
       "         -8.7399514 ,  -3.4353291 ,  10.01516215]])"
      ]
     },
     "execution_count": 242,
     "metadata": {},
     "output_type": "execute_result"
    }
   ],
   "source": [
    "# let's leave out the first parameter and see whether the coefficients change:\n",
    "lr.fit(X_train[:,1:], y_train)\n",
    "lr.coef_"
   ]
  },
  {
   "cell_type": "markdown",
   "metadata": {},
   "source": [
    "**Answer 3**: Some of the coefficients just changed sign! This is one of the problems with directly interpreting linear models: they are quite sensitive to the structure of the feature space. If you took these parameters and interpreted them in a causal sense, you might get completely different causal inferences depending on which parameters you use so be careful to check how robust your model is to changes in the feature space!"
   ]
  },
  {
   "cell_type": "markdown",
   "metadata": {},
   "source": [
    "## Even More Challenging Challenge Problem: Implementing Your Own Estimator\n",
    "\n",
    "Sometimes, you might want to use algorithms, for example for feature engineering, that are not implemented in scikit-learn. But perhaps these transformations still have free parameters to estimate. What to do? \n",
    "\n",
    "`scikit-learn` classes inherit from certain base classes that make it easy to implement your own objects. Below is an example I wrote for a machine learning model on time series, where I wanted to re-bin the time series in different ways and and optimize the rebinning factor with respect to the classification afterwards."
   ]
  },
  {
   "cell_type": "code",
   "execution_count": 233,
   "metadata": {
    "collapsed": false
   },
   "outputs": [],
   "source": [
    "from sklearn.base import BaseEstimator, TransformerMixin\n",
    "\n",
    "class RebinTimeseries(BaseEstimator, TransformerMixin):\n",
    "\n",
    "    def __init__(self, n=4, method=\"average\"):\n",
    "\n",
    "        \"\"\"\n",
    "        Initialize hyperparameters\n",
    "\n",
    "        :param n: number of samples to bin\n",
    "        :param method: \"average\" or \"sum\" the samples within a bin?\n",
    "        :return:\n",
    "        \"\"\"\n",
    "\n",
    "        self.n = n ## save number of bins to average together\n",
    "        self.method = method\n",
    "\n",
    "        return\n",
    "\n",
    "\n",
    "    def fit(self,X):\n",
    "        \"\"\"\n",
    "        I don't really need a fit method!\n",
    "        \"\"\"\n",
    "        \n",
    "        ## set number of light curves (L) and \n",
    "        ## number of samples per light curve (k)\n",
    "        return self\n",
    "        \n",
    "        \n",
    "    def transform(self, X):\n",
    "        self.L, self.K = X.shape\n",
    "\n",
    "    \n",
    "        ## set the number of binned samples per light curve\n",
    "        K_binned = int(self.K/self.n)\n",
    "        \n",
    "        ## if the number of samples in the original light curve\n",
    "        ## is not divisible by n, then chop off the last few samples of \n",
    "        ## the light curve to make it divisible\n",
    "        #print(\"X shape: \" + str(X.shape))\n",
    "\n",
    "        if K_binned*self.n < self.K:\n",
    "            X = X[:,:self.n*K_binned]\n",
    "        \n",
    "        ## the array for the new, binned light curves\n",
    "        X_binned = np.zeros((self.L, K_binned))\n",
    "        \n",
    "        if self.method in [\"average\", \"mean\"]:\n",
    "            method = np.mean\n",
    "        elif self.method == \"sum\":\n",
    "            method = np.sum\n",
    "        else:\n",
    "            raise Exception(\"Method not recognized!\")\n",
    "        \n",
    "        #print(\"X shape: \" + str(X.shape))\n",
    "        #print(\"L: \" + str(self.L))\n",
    "        for i in xrange(self.L):\n",
    "            t_reshape = X[i,:].reshape((K_binned, self.n))\n",
    "            X_binned[i,:] = method(t_reshape, axis=1)\n",
    "        \n",
    "        return X_binned\n",
    "\n",
    "\n",
    "    def predict(self, X):\n",
    "        pass\n",
    "    \n",
    "    def score(self, X):\n",
    "        pass\n",
    "\n",
    "    def fit_transform(self, X, y=None):\n",
    "\n",
    "        self.fit(X)\n",
    "        X_binned = self.transform(X)\n",
    "\n",
    "        return X_binned\n"
   ]
  },
  {
   "cell_type": "markdown",
   "metadata": {},
   "source": [
    "Here are the important things about writing transformer objects for use in scikit-learn:\n",
    "* The class must have the following methods:\n",
    "    - `fit`: fit your training data\n",
    "    - `transform`: transform your training data into the new representation\n",
    "    - `predict`: predict new examples\n",
    "    - `score`: score predictions\n",
    "    - `fit_transform` is optional (I think)\n",
    "* The `__init__` method *only* sets up parameters. Don't put any relevant code in there (this is convention more than anything else, but it's a good one to follow!)\n",
    "* The `fit` method is always called in a `Pipeline` object (either on its own or as part of `fit_transform`). It usually modifies the internal state of the object, so returning `self` (i.e. the object itself) is usually fine.\n",
    "* For transformer objects, which don't need scoring and prediction methods, you can just return `pass` as above.\n",
    "\n",
    "**Exercise 8**: Last time, you learned that the SDSS photometric classifier uses a single hard cut to separate stars and galaxies in imaging data:\n",
    "$$\\mathtt{psfMag} - \\mathtt{cmodelMag} \\gt 0.145,$$\n",
    "sources that satisfy this criteria are considered galaxies.\n",
    "\n",
    "* Implement an object that takes $\\mathtt{psfMag}$ and $\\mathtt{cmodelMag}$ as inputs and has a free parameter `s` that sets the value above which a source is considered a galaxy. \n",
    "* Implement a `transform` methods that returns a single binary feature that is one if $$\\mathtt{psfMag} - \\mathtt{cmodelMag} \\gt p$$ and zero otherwise. \n",
    "* Add this feature to your optimized set of features consisting of either the PCA or your alternative representation, and run a random forest classifier on both. Run a CV on all components involved.\n",
    "\n",
    "*Hint*: $\\mathtt{psfMag}$ and $\\mathtt{cmodelMag}$ are the first and the last column in your feature vector, respectively.\n",
    "\n",
    "*Hint*: You can use [`FeatureUnion`](http://scikit-learn.org/stable/modules/generated/sklearn.pipeline.FeatureUnion.html#sklearn.pipeline.FeatureUnion) to combine the outputs of two transformers in a single data set. (Note that using pipeline with all three will *chain* them, rather than compute the feature union, followed by a classifier). You can input your `FeatureUnion` object into `Pipeline`.\n"
   ]
  },
  {
   "cell_type": "code",
   "execution_count": 259,
   "metadata": {
    "collapsed": true
   },
   "outputs": [],
   "source": [
    "class PSFMagThreshold(BaseEstimator, TransformerMixin):\n",
    "\n",
    "    def __init__(self, p=1.45,):\n",
    "\n",
    "        \"\"\"\n",
    "        Initialize hyperparameters\n",
    "\n",
    "        Parameters\n",
    "        ----------\n",
    "        p : float\n",
    "            The threshold for the magnitude - model magnitude\n",
    "        \"\"\"\n",
    "\n",
    "        self.p = p # store parameter in object\n",
    "        \n",
    "        return\n",
    "\n",
    "\n",
    "    def fit(self,X):\n",
    "        \"\"\"\n",
    "        I don't really need a fit method!\n",
    "        \"\"\"\n",
    "        return self\n",
    "        \n",
    "        \n",
    "    def transform(self, X):\n",
    "\n",
    "        # extract relevant columns\n",
    "        psfmag = X[:,0]\n",
    "        c_psfmag = X[:,-1]\n",
    "        \n",
    "        # compute difference\n",
    "        d_psfmag = psfmag - c_psfmag\n",
    "        \n",
    "        # make a 1D array of length N\n",
    "        X_new = np.zeros(X.shape[0])\n",
    "        \n",
    "        X_new[d_psfmag > self.p] = 1.0\n",
    "        \n",
    "        # IMPORTANT: Your output vector must be a COLUMN vector\n",
    "        # You can achieve this with the numpy function atleast_2D()\n",
    "        # and the numpy function transpose()\n",
    "        return np.atleast_2d(X_new).T\n",
    "\n",
    "\n",
    "    def predict(self, X):\n",
    "        pass\n",
    "    \n",
    "    def score(self, X):\n",
    "        pass\n",
    "\n",
    "    def fit_transform(self, X, y=None):\n",
    "\n",
    "        self.fit(X)\n",
    "        X_new = self.transform(X)\n",
    "\n",
    "        return X_new\n",
    "\n"
   ]
  },
  {
   "cell_type": "code",
   "execution_count": 260,
   "metadata": {
    "collapsed": true
   },
   "outputs": [],
   "source": [
    "pt = PSFMagThreshold(p=1.45)\n",
    "X_pt = pt.fit_transform(X)"
   ]
  },
  {
   "cell_type": "markdown",
   "metadata": {},
   "source": [
    "Now let's make a feature set that combines this feature with the PCA features:"
   ]
  },
  {
   "cell_type": "code",
   "execution_count": 268,
   "metadata": {
    "collapsed": false
   },
   "outputs": [],
   "source": [
    "from sklearn.pipeline import FeatureUnion\n",
    "\n",
    "transformers = [(\"pca\", PCA(n_components=2)),\n",
    "                (\"pt\", PSFMagThreshold(p=1.45))]\n",
    "\n",
    "feat_union = FeatureUnion(transformers)\n",
    "\n",
    "X_transformed = feat_union.fit_transform(X_train)"
   ]
  },
  {
   "cell_type": "markdown",
   "metadata": {},
   "source": [
    "Now we can build the pipeline:"
   ]
  },
  {
   "cell_type": "code",
   "execution_count": 276,
   "metadata": {
    "collapsed": false
   },
   "outputs": [
    {
     "name": "stdout",
     "output_type": "stream",
     "text": [
      "Best score: 0.9725\n",
      "Best parameter set: {'feats__pca__n_components': 4, 'clf__min_samples_leaf': 1, 'clf__n_estimators': 100, 'feats__pt__p': 0.5}\n",
      "Validation score: 0.961428571429\n"
     ]
    }
   ],
   "source": [
    "# combine the \n",
    "transformers = [(\"pca\", PCA()),\n",
    "                (\"pt\", PSFMagThreshold(p=1.45))]\n",
    "\n",
    "feat_union = FeatureUnion(transformers)\n",
    "\n",
    "estimators = [(\"feats\", feat_union),\n",
    "        (\"clf\", RandomForestClassifier())]\n",
    "\n",
    "pipe_c = Pipeline(estimators)\n",
    "\n",
    "# make the parameter set\n",
    "params = dict(feats__pca__n_components=[2, 4, 6, 8],\n",
    "              feats__pt__p=[0.5, 0.9, 1.45, 2.0],\n",
    "              clf__n_estimators=[10, 100, 300],\n",
    "              clf__min_samples_leaf=[1,10])\n",
    "\n",
    "# perform the grid search\n",
    "grid_search_c = GridSearchCV(pipe_c, param_grid=params)\n",
    "grid_search_c.fit(X_train_new, y_train_new)\n",
    "\n",
    "# print validation score\n",
    "print(\"Best score: \" + str(grid_search_c.best_score_))\n",
    "print(\"Best parameter set: \" + str(grid_search_c.best_params_))\n",
    "print(\"Validation score: \" + str(grid_search_c.score(X_val, y_val)))\n"
   ]
  },
  {
   "cell_type": "markdown",
   "metadata": {},
   "source": [
    "## Choosing The Right Scoring Function\n",
    "\n",
    "As a standard, the algorithms in `scikit-learn` use `accuracy` to score results. The accuracy is basically the raw fraction of correctly classified samples in your validation or test set. \n",
    "\n",
    "**Question**: Is this scoring function always the best method to use? Why (not)? Can you think of alternatives to use?\n",
    "\n",
    "Let's make a heavily biased data set:"
   ]
  },
  {
   "cell_type": "code",
   "execution_count": 456,
   "metadata": {
    "collapsed": false
   },
   "outputs": [],
   "source": [
    "# all stars\n",
    "star_ind = np.argwhere(y == b\"STAR\").T[0]\n",
    "# all galaxies\n",
    "galaxy_ind = np.argwhere(y == b\"GALAXY\").T[0]\n",
    "\n",
    "np.random.seed(100)\n",
    "# new array with much fewer stars\n",
    "star_ind_new = np.random.choice(star_ind, replace=False, size=int(len(star_ind)/80.0))\n",
    "\n",
    "X_new = np.vstack((X[galaxy_ind], X[star_ind_new]))\n",
    "y_new = np.hstack((y[galaxy_ind], y[star_ind_new]))"
   ]
  },
  {
   "cell_type": "markdown",
   "metadata": {},
   "source": [
    "We have now made a really imbalanced data set with many galaxies and only a few stars:"
   ]
  },
  {
   "cell_type": "code",
   "execution_count": 457,
   "metadata": {
    "collapsed": false
   },
   "outputs": [
    {
     "name": "stdout",
     "output_type": "stream",
     "text": [
      "4652\n",
      "66\n"
     ]
    }
   ],
   "source": [
    "print(len(y_new[y_new == b\"GALAXY\"]))\n",
    "print(len(y_new[y_new == b\"STAR\"]))"
   ]
  },
  {
   "cell_type": "markdown",
   "metadata": {},
   "source": [
    "**Exercise 10**: Run a logistic regression classifier on this data, for a very low regularization (0.0001) and a very large regularization (10000) parameter. Print the accuracy and a confusion matrix of the results for each run. How many mis-classified samples are in each? Where do the mis-classifications end up? If you were to run a cross validation on this, could you be sure to get a good model? Why (not)?\n",
    "\n",
    "*Hint*: Our imbalanced class, the one we're interested in, is the  "
   ]
  },
  {
   "cell_type": "code",
   "execution_count": 458,
   "metadata": {
    "collapsed": false
   },
   "outputs": [
    {
     "name": "stdout",
     "output_type": "stream",
     "text": [
      "The accuracy score for C = 0 is 0.9866\n",
      "[[1397    0]\n",
      " [  19    0]]\n",
      "The accuracy score for C = 10000 is 0.9859\n",
      "[[1392    5]\n",
      " [  15    4]]\n"
     ]
    }
   ],
   "source": [
    "from sklearn.linear_model import LogisticRegression\n",
    "from sklearn.metrics import confusion_matrix, accuracy_score\n",
    "\n",
    "X_train2, X_test2, y_train2, y_test2 = train_test_split(X_new, y_new, \n",
    "                                                        test_size = 0.3, \n",
    "                                                        random_state = 20)\n",
    "\n",
    "C_all = [0.0001, 10000]\n",
    "\n",
    "for C in C_all:\n",
    "    \n",
    "    lr = LogisticRegression(penalty='l2', C=C)\n",
    "\n",
    "    lr.fit(X_train2, y_train2)\n",
    "    y_pred = lr.predict(X_test2)\n",
    "\n",
    "    print(\"The accuracy score for C = %i is %.4f\"%(C, accuracy_score(y_test2, y_pred)))\n",
    "\n",
    "    cm = confusion_matrix(y_test2, y_pred, labels=np.unique(y))\n",
    "    print(cm)\n",
    "\n"
   ]
  },
  {
   "cell_type": "markdown",
   "metadata": {},
   "source": [
    "**Exercise 11**: Take a look at the [metrics](http://scikit-learn.org/stable/modules/model_evaluation.html) implemented for model evaluation in `scikit-learn`, in particular the different versions of the [F1 score](http://scikit-learn.org/stable/modules/generated/sklearn.metrics.f1_score.html#sklearn.metrics.f1_score). Is there a metric that may be more suited to the task above? Which one? "
   ]
  },
  {
   "cell_type": "code",
   "execution_count": 459,
   "metadata": {
    "collapsed": false
   },
   "outputs": [
    {
     "name": "stdout",
     "output_type": "stream",
     "text": [
      "The accuracy score for C = 0 is 0.9866\n",
      "The F1 score for C = 0.00010 is 0.0000\n",
      "[[1397    0]\n",
      " [  19    0]]\n",
      "The accuracy score for C = 10000 is 0.9859\n",
      "The F1 score for C = 10000.00000 is 0.2857\n",
      "[[1392    5]\n",
      " [  15    4]]\n"
     ]
    },
    {
     "name": "stderr",
     "output_type": "stream",
     "text": [
      "/opt/local/Library/Frameworks/Python.framework/Versions/3.5/lib/python3.5/site-packages/sklearn/metrics/classification.py:1074: UndefinedMetricWarning: F-score is ill-defined and being set to 0.0 due to no predicted samples.\n",
      "  'precision', 'predicted', average, warn_for)\n"
     ]
    }
   ],
   "source": [
    "for C in C_all:\n",
    "    \n",
    "    lr = LogisticRegression(penalty='l2', C=C)\n",
    "\n",
    "    lr.fit(X_train2, y_train2)\n",
    "    y_pred = lr.predict(X_test2)\n",
    "\n",
    "    print(\"The accuracy score for C = %i is %.4f\"%(C, accuracy_score(y_test2, y_pred)))\n",
    "    print(\"The F1 score for C = %.5f is %.4f\"%(C, f1_score(y_test2, y_pred, \n",
    "                                                         pos_label=b\"STAR\", \n",
    "                                                         average=\"binary\")))\n",
    "\n",
    "\n",
    "    cm = confusion_matrix(y_test2, y_pred, labels=np.unique(y))\n",
    "    print(cm)\n",
    "\n",
    "\n"
   ]
  },
  {
   "cell_type": "markdown",
   "metadata": {},
   "source": [
    "As you can see, the accuracy for the model that mis-classifies all stars ends up being higher than the accuracy for the model that only mis-classifies some of them (admittedly, still more than you'd want). So when doing cross-validation, you're quite likely to end up with a model that mis-classifies all your samples from the rare class into the more common class.  \n",
    "If the rare class is actually one that you care about (say, gravitational wave triggers), then this is *very* bad behaviour.\n",
    "\n",
    "The F-score, conversely, is zero for stars with the small regularization parameter (since there are no stars in this group), and not very high, but higher for the large regularization parameter. This is more what we'd like to see if we're interested in the rare class."
   ]
  }
 ],
 "metadata": {
  "kernelspec": {
   "display_name": "Python 3",
   "language": "python",
   "name": "python3"
  },
  "language_info": {
   "codemirror_mode": {
    "name": "ipython",
    "version": 3
   },
   "file_extension": ".py",
   "mimetype": "text/x-python",
   "name": "python",
   "nbconvert_exporter": "python",
   "pygments_lexer": "ipython3",
   "version": "3.5.2"
  }
 },
 "nbformat": 4,
 "nbformat_minor": 0
}
