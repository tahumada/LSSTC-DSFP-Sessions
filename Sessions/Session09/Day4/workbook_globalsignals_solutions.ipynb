{
 "cells": [
  {
   "cell_type": "code",
   "execution_count": 1,
   "metadata": {},
   "outputs": [],
   "source": [
    "import numpy as np\n",
    "import scipy.fftpack as fftpack\n",
    "import matplotlib.pyplot as plt\n",
    "import matplotlib.font_manager as font_manager\n",
    "%matplotlib inline\n",
    "font_prop = font_manager.FontProperties(size=16)"
   ]
  },
  {
   "cell_type": "markdown",
   "metadata": {},
   "source": [
    "# Problem 1: Timmer and Koenig algorithm"
   ]
  },
  {
   "cell_type": "markdown",
   "metadata": {},
   "source": [
    "The algorithm outlined in Timmer & Koenig 1995 lets you define the shape of your power spectrum (a power law with some slope, a Lorentzian, a sum of a couple Lorentzians and a power law, etc.) then generate the random phases and amplitudes of the Fourier transform to simulate light curves defined by the power spectral shape. This is a great simulation tool to have in your back pocket (or, \"maybe useful someday\" github repo)."
   ]
  },
  {
   "cell_type": "markdown",
   "metadata": {},
   "source": [
    "#### Define some basic parameters for the power spectrum and resultant light curve"
   ]
  },
  {
   "cell_type": "code",
   "execution_count": 2,
   "metadata": {},
   "outputs": [],
   "source": [
    "n_bins = 8192  ## number of total frequency bins in a FT segment; same as number of time bins in the light curve\n",
    "dt = 1./16.  # time resolution of the output light curve\n",
    "df = 1. / dt / n_bins"
   ]
  },
  {
   "cell_type": "markdown",
   "metadata": {},
   "source": [
    "## 1a. Make an array of Fourier frequencies\n",
    "Yes you can do this with scipy, but the order of frequencies in a T&K power spectrum is different than what you'd get by default from a standard FFT of a light curve.\n",
    "You want the zero frequency to be in the middle (at index n_bins/2) of the frequency array. The positive frequencies should have two more indices than the negative frequencies, because of the zero frequency and nyquist frequency. You can either do this with `np.arange` or with special options in `fftpack.fftfreq`."
   ]
  },
  {
   "cell_type": "code",
   "execution_count": 3,
   "metadata": {},
   "outputs": [],
   "source": [
    "freqs = np.arange(float(-n_bins/2)+1, float(n_bins/2)+1) * df\n",
    "pos_freq = freqs[np.where(freqs >= 0)]\n",
    "## Positive should have 2 more than negative, \n",
    "## because of the 0 freq and the nyquist freq\n",
    "neg_freq = freqs[np.where(freqs < 0)]\n",
    "nyquist = pos_freq[-1]\n",
    "len_pos = len(pos_freq)"
   ]
  },
  {
   "cell_type": "markdown",
   "metadata": {},
   "source": [
    "## 1b. Define a Lorentzian function and power law function for the shape of the power spectrum"
   ]
  },
  {
   "cell_type": "code",
   "execution_count": 4,
   "metadata": {},
   "outputs": [],
   "source": [
    "def lorentzian(v, v_0, gamma):\n",
    "    \"\"\" Gives a Lorentzian centered on v_0 with a FWHM of gamma \"\"\"\n",
    "    numerator = gamma / (np.pi * 2.0)\n",
    "    denominator = (v - v_0) ** 2 + (1.0/2.0 * gamma) ** 2\n",
    "    L = numerator / denominator\n",
    "    return L\n",
    "\n",
    "def powerlaw(v, beta):\n",
    "    \"\"\"Gives a powerlaw of (1/v)^-beta \"\"\"\n",
    "    pl = np.zeros(len(v))\n",
    "    pl[1:] = v[1:] ** (-beta)\n",
    "    pl[0] = np.inf\n",
    "    return pl"
   ]
  },
  {
   "cell_type": "markdown",
   "metadata": {},
   "source": [
    "## Now the T&K algorithm. I've transcribed the 'recipe' section of the T&K95 paper, which you will convert to lines of code. "
   ]
  },
  {
   "cell_type": "markdown",
   "metadata": {},
   "source": [
    "## 1c. Choose a power spectrum $S(\\nu)$. \n",
    "We will use a sum of one Lorentzians (a QPO with a centroid frequency of 0.5 Hz and a FWHM of 0.01 Hz), and a Poisson-noise power law. The QPO should be 100 times larger amplitude than the power-law."
   ]
  },
  {
   "cell_type": "code",
   "execution_count": 5,
   "metadata": {},
   "outputs": [],
   "source": [
    "## For a Lorentzian-shaped QPO\n",
    "qpo_v0 = 0.5  ## Centroid frequency of QPO\n",
    "qpo_fwhm = 0.01  ## FWHM of QPO\n",
    "## Relative scale factors\n",
    "qpo_scale = 100. \n",
    "noise_scale = 1\n",
    "## Putting it together\n",
    "power_shape = qpo_scale * lorentzian(pos_freq, qpo_v0, qpo_fwhm) + \\\n",
    "              noise_scale * powerlaw(pos_freq, 0)"
   ]
  },
  {
   "cell_type": "markdown",
   "metadata": {},
   "source": [
    "## 1d.  For each Fourier frequency $\\nu_i$ draw two gaussian-distributed random numbers, multiply them by $$\\sqrt{\\frac{1}{2}S(\\nu_i)}$$ and use the result as the real and imaginary part of the Fourier transform $F$ of the desired data.\n",
    "In the case of an even number of data points, for reason of symmetry $F(\\nu_{Nyquist})$ is always real. Thus only one gaussian distributed random number has to be drawn."
   ]
  },
  {
   "cell_type": "code",
   "execution_count": 6,
   "metadata": {},
   "outputs": [],
   "source": [
    "np.random.seed(3)\n",
    "rand_r = np.random.standard_normal(len_pos)\n",
    "rand_i = np.random.standard_normal(len_pos-1)\n",
    "rand_i = np.append(rand_i, 0.0) # because the nyquist frequency should only have a real value\n",
    "\n",
    "## Creating the real and imaginary values from the lists of random numbers and the frequencies\n",
    "r_values = rand_r * np.sqrt(0.5 * power_shape)\n",
    "i_values = rand_i * np.sqrt(0.5 * power_shape)\n",
    "r_values[np.where(pos_freq == 0)] = 0\n",
    "i_values[np.where(pos_freq == 0)] = 0"
   ]
  },
  {
   "cell_type": "markdown",
   "metadata": {},
   "source": [
    "## 1e. To obtain a real valued time series, choose the Fourier components for the negative frequencies according to $F(-\\nu_i)=F*(\\nu_i)$ where the asterisk denotes complex conjugation. \n",
    "\n",
    "Append to make one fourier transform array. Check that your T&K fourier transform has length `n_bins`. Again, for this algorithm, the zero Fourier frequency is in the middle of the array, the negative Fourier frequencies are in the first half, and the positive Fourier frequencies are in the second half."
   ]
  },
  {
   "cell_type": "code",
   "execution_count": 7,
   "metadata": {},
   "outputs": [],
   "source": [
    "FT_pos = r_values + i_values*1j\n",
    "FT_neg = np.conj(FT_pos[1:-1]) \n",
    "FT_neg = FT_neg[::-1]  ## Need to flip direction of the negative frequency FT values so that they match up correctly\n",
    "FT = np.append(FT_pos, FT_neg)"
   ]
  },
  {
   "cell_type": "markdown",
   "metadata": {},
   "source": [
    "## 1f. Obtain the time series by backward Fourier transformation of $F(\\nu)$ from the frequency domain to the time domain.\n",
    "\n",
    "Note: I usually use `.real` after an iFFT to get rid of any lingering 1e-10 imaginary factors."
   ]
  },
  {
   "cell_type": "code",
   "execution_count": 8,
   "metadata": {},
   "outputs": [],
   "source": [
    "lc = fftpack.ifft(FT).real"
   ]
  },
  {
   "cell_type": "markdown",
   "metadata": {},
   "source": [
    "Congratulations! \n",
    "## 1g. Plot the power spectrum of your FT (only the positive frequencies) next to the light curve it makes. \n",
    "Remember: $$P(\\nu_i)=|F(\\nu_i)|^2$$"
   ]
  },
  {
   "cell_type": "code",
   "execution_count": 9,
   "metadata": {},
   "outputs": [],
   "source": [
    "pos_power = np.absolute(FT_pos)**2"
   ]
  },
  {
   "cell_type": "markdown",
   "metadata": {},
   "source": [
    "You'll want to change the x scale of your light curve plot to be like 20 seconds in length, and only use the positive Fourier frequencies when plotting the power spectrum."
   ]
  },
  {
   "cell_type": "code",
   "execution_count": 10,
   "metadata": {},
   "outputs": [
    {
     "data": {
      "image/png": "[encoded data removed]",
      "text/plain": [
       "<Figure size 1296x432 with 2 Axes>"
      ]
     },
     "metadata": {
      "needs_background": "light"
     },
     "output_type": "display_data"
    }
   ],
   "source": [
    "fig, (ax1, ax2) = plt.subplots(1,2, figsize=(18,6))\n",
    "ax1.plot(pos_freq, pos_power, lw=2)\n",
    "ax1.set_xscale('log')\n",
    "ax1.set_yscale('log')\n",
    "# ax1.set_xlim(pos_freq[1],2)\n",
    "ax1.set_ylim(1e-3, 3e4)\n",
    "ax1.set_xlabel(\"Frequency (Hz)\", fontproperties=font_prop)\n",
    "ax1.set_ylabel(\"Amplitude\", fontproperties=font_prop)\n",
    "ax1.set_title(\"Power spectral density\", fontproperties=font_prop)\n",
    "ax1.tick_params(axis='both', which='major', labelsize=16, \n",
    "               top=True, right=True, bottom=True, left=True)\n",
    "ax2.plot(np.arange(0,n_bins*dt, dt), lc, lw=2)\n",
    "# ax2.set_xlim(0,256)\n",
    "ax2.set_xlim(50,80)\n",
    "ax2.set_ylim(-0.9,0.9)\n",
    "ax2.set_title(\"Light curve\", fontproperties=font_prop)\n",
    "ax2.set_xlabel(\"Time (s)\", fontproperties=font_prop)\n",
    "ax2.set_ylabel(\"Amplitude\", fontproperties=font_prop)\n",
    "ax2.tick_params(axis='both', which='major', labelsize=16, \n",
    "               top=True, right=True, bottom=True, left=True)\n",
    "plt.show()"
   ]
  },
  {
   "cell_type": "markdown",
   "metadata": {},
   "source": [
    "Yay!"
   ]
  },
  {
   "cell_type": "markdown",
   "metadata": {},
   "source": [
    "## 1h. Play around with your new-found simulation powers (haha, it's a pun!) \n",
    "Make more power spectra with different features -- try at least 5 or 6, and plot each of them next to the corresponding light curve. Try red noise, flicker noise, a few broad Lorentzians at lower frequency, multiple QPOs, a delta function, etc. \n",
    "\n",
    "Here are some other functions you can use to define shapes of power spectra. This exercise is to help build your intuition of what a time signal looks like in the Fourier domain and vice-versa."
   ]
  },
  {
   "cell_type": "code",
   "execution_count": 11,
   "metadata": {},
   "outputs": [],
   "source": [
    "def gaussian(v, mean, std_dev):\n",
    "    \"\"\"\n",
    "    Gives a Gaussian with a mean of mean and a standard deviation of std_dev\n",
    "    FWHM = 2 * np.sqrt(2 * np.log(2))*std_dev\n",
    "    \"\"\"\n",
    "    exp_numerator = -(v - mean)**2\n",
    "    exp_denominator = 2 * std_dev**2\n",
    "    G = np.exp(exp_numerator / exp_denominator)\n",
    "    return G\n",
    "\n",
    "def powerlaw_expdecay(v, beta, alpha):\n",
    "    \"\"\"Gives a powerlaw of (1/v)^-beta with an exponential decay e^{-alpha*v} \"\"\"\n",
    "    pl_exp = np.where(v != 0, (1.0 / v) ** beta * np.exp(-alpha * v), np.inf) \n",
    "    return pl_exp\n",
    "\n",
    "def broken_powerlaw(v, v_b, beta_1, beta_2):\n",
    "    \"\"\"Gives two powerlaws, (1/v)^-beta_1 and (1/v)^-beta_2 \n",
    "       that cross over at break frequency v_b.\"\"\"\n",
    "    c = v_b ** (-beta_1 + beta_2)  ## scale factor so that they're equal at the break frequency\n",
    "    pl_1 = v[np.where(v <= v_b)] ** (-beta_1)\n",
    "    pl_2 = c * v[np.where(v > v_b)] ** (-beta_2)\n",
    "    pl = np.append(pl_1, pl_2)\n",
    "    return pl"
   ]
  },
  {
   "cell_type": "code",
   "execution_count": null,
   "metadata": {},
   "outputs": [],
   "source": []
  },
  {
   "cell_type": "markdown",
   "metadata": {},
   "source": [
    "# 2. More realistic simulation with T&K\n",
    "Now you're able to simulate the power spectrum of a single segment of a light curve. However, as you learned this morning, we usually use multiple (~50+) segments of a light curve, take the power spectrum of each segment, and average them together."
   ]
  },
  {
   "cell_type": "markdown",
   "metadata": {},
   "source": [
    "## 2a. Turn the code from 1d to 1e into a function `make_TK_seg`\n",
    "Make it so that you can give a different random seed to each segment."
   ]
  },
  {
   "cell_type": "code",
   "execution_count": 12,
   "metadata": {},
   "outputs": [],
   "source": [
    "def make_TK_seg(pos_freq, power_shape, seed_num=0):\n",
    "    np.random.seed(seed_num)\n",
    "    rand_r = np.random.standard_normal(len_pos)\n",
    "    rand_i = np.random.standard_normal(len_pos-1)\n",
    "    rand_i = np.append(rand_i, 0.0) # because the nyquist frequency should only have a real value\n",
    "\n",
    "    ## Creating the real and imaginary values from the lists of random numbers and the frequencies\n",
    "    r_values = rand_r * np.sqrt(0.5 * power_shape)\n",
    "    i_values = rand_i * np.sqrt(0.5 * power_shape)\n",
    "    r_values[np.where(pos_freq == 0)] = 0\n",
    "    i_values[np.where(pos_freq == 0)] = 0\n",
    "\n",
    "    ## Combining to make the Fourier transform\n",
    "    FT_pos = r_values + i_values*1j\n",
    "    FT_neg = np.conj(FT_pos[1:-1]) \n",
    "    FT_neg = FT_neg[::-1]  ## Need to flip direction of the negative frequency FT values so that they match up correctly\n",
    "    FT = np.append(FT_pos, FT_neg)\n",
    "    return FT"
   ]
  },
  {
   "cell_type": "markdown",
   "metadata": {},
   "source": [
    "## 2b. Make the Fourier transform for a given power shape (as in Problem 1)\n",
    "Use a Lorentzian QPO + Poisson noise power shape at a centroid frequency of 0.5 Hz and a full width at half maximum (FWHM) of 0.01 Hz. Make the QPO 100 time stronger than the Poisson noise power-law."
   ]
  },
  {
   "cell_type": "code",
   "execution_count": 13,
   "metadata": {},
   "outputs": [],
   "source": [
    "## For a Lorentzian-shaped QPO\n",
    "qpo_v0 = 0.5  ## Centroid frequency of QPO\n",
    "qpo_fwhm = 0.01  ## FWHM of QPO\n",
    "power_shape = 100*lorentzian(pos_freq, qpo_v0, qpo_fwhm) + powerlaw(pos_freq, 0)"
   ]
  },
  {
   "cell_type": "markdown",
   "metadata": {},
   "source": [
    "## 2c. Put `make_TK_seg` in a loop to do for 50 segments. \n",
    "Make an array of integers that can be your random gaussian seed for the TK algorithm (otherwise, you run the risk of creating the exact same Fourier transform every time, and that will be boring).\n",
    "\n",
    "Keep a running average of the power spectrum of each segment (like we did this morning in problem 2)."
   ]
  },
  {
   "cell_type": "code",
   "execution_count": 14,
   "metadata": {},
   "outputs": [],
   "source": [
    "psd_avg = np.zeros(n_bins)\n",
    "nseg = 50\n",
    "\n",
    "ft_seed = np.random.randint(low=0, high=nseg*3, size=nseg)\n",
    "\n",
    "for idx in range(0, nseg):\n",
    "    ## Making FT with specific shape in Fourier domain\n",
    "    FT = make_TK_seg(pos_freq, power_shape, seed_num=ft_seed[idx])\n",
    "    psd_seg = np.abs(FT)**2\n",
    "    psd_avg += psd_seg\n",
    "\n",
    "psd_avg /= nseg"
   ]
  },
  {
   "cell_type": "markdown",
   "metadata": {},
   "source": [
    "## 2d. Compute the error on the average power\n",
    "The error on the power at index $i$ is\n",
    "$$ \\delta P_i = \\frac{P_i}{\\sqrt{M}} $$\n",
    "where `M` is the number of segments averaged together."
   ]
  },
  {
   "cell_type": "code",
   "execution_count": 15,
   "metadata": {},
   "outputs": [],
   "source": [
    "err_psd = psd_avg / np.sqrt(nseg)"
   ]
  },
  {
   "cell_type": "markdown",
   "metadata": {},
   "source": [
    "## 2e. Use the re-binning algorithm described in the morning's workbook to re-bin the power spectrum by a factor of 1.05."
   ]
  },
  {
   "cell_type": "code",
   "execution_count": 16,
   "metadata": {},
   "outputs": [],
   "source": [
    "def rebin(freq, power, err_power, rebin_factor=1.05):\n",
    "    \"\"\"\n",
    "    Re-bin the power spectrum in frequency space by some re-binning factor\n",
    "    (rebin_factor > 1). This is sometimes called 'geometric re-binning' or \n",
    "    'logarithmic re-binning', as opposed to linear re-binning \n",
    "    (e.g., grouping by 2)\n",
    "\n",
    "    Parameters\n",
    "    ----------\n",
    "    freq : np.array of floats\n",
    "        1-D array of the Fourier frequencies.\n",
    "\n",
    "    power : np.array of floats\n",
    "        1-D array of the power at each Fourier frequency, with any/arbitrary\n",
    "        normalization.\n",
    "\n",
    "    err_power : np.array of floats\n",
    "        1-D array of the error on the power at each Fourier frequency, with the\n",
    "        same normalization as the power.\n",
    "\n",
    "    rebin_factor : float\n",
    "        The factor by which the data are geometrically re-binned.\n",
    "\n",
    "    Returns\n",
    "    -------\n",
    "    rb_freq : np.array of floats\n",
    "        1-D array of the re-binned Fourier frequencies.\n",
    "\n",
    "    rb_power : np.array of floats\n",
    "        1-D array of the power at the re-binned Fourier frequencies, with the\n",
    "        same normalization as the input power array.\n",
    "\n",
    "    rb_err : np.array of floats\n",
    "        1-D array of the error on the power at the re-binned Fourier\n",
    "        frequencies, with the same normalization as the input error on power.\n",
    "    \"\"\"\n",
    "    assert rebin_factor >= 1.0\n",
    "\n",
    "    rb_power = np.asarray([])  # Array of re-binned power\n",
    "    rb_freq = np.asarray([])   # Array of re-binned frequencies\n",
    "    rb_err = np.asarray([])    # Array of error in re-binned power\n",
    "    real_index = 1.0           # The unrounded next index in power\n",
    "    int_index = 1              # The int of real_index, added to current_m every iteration\n",
    "    current_m = 1              # Current index in power\n",
    "    prev_m = 0                 # Previous index m\n",
    "\n",
    "    ## Loop through the length of the array power, new bin by new bin, to\n",
    "    ## compute the average power and frequency of that new geometric bin.\n",
    "    while current_m < len(power):\n",
    "\n",
    "        ## Determine the range of indices this specific geometric bin covers\n",
    "        bin_range = np.absolute(current_m - prev_m)\n",
    "        ## Want mean power of data points contained within one geometric bin\n",
    "        bin_power = np.mean(power[prev_m:current_m,])\n",
    "        ## Compute error in bin\n",
    "        err_bin_power2 = np.sqrt(np.sum(err_power[prev_m:current_m] ** 2)) / \\\n",
    "            float(bin_range)\n",
    "        ## Compute the mean frequency of a geometric bin\n",
    "        bin_freq = np.mean(freq[prev_m:current_m])\n",
    "        ## Append values to arrays\n",
    "        rb_power = np.append(rb_power, bin_power)\n",
    "        rb_freq = np.append(rb_freq, bin_freq)\n",
    "        rb_err = np.append(rb_err, err_bin_power2)\n",
    "\n",
    "        ## Increment for the next iteration of the loop\n",
    "        ## Since the for-loop goes from prev_m to current_m-1 (since that's how\n",
    "        ## the range function and array slicing works) it's ok that we set\n",
    "        ## prev_m = current_m here for the next round. This will not cause any\n",
    "        ## double-counting bins or skipping bins.\n",
    "        prev_m = current_m\n",
    "        real_index *= rebin_factor\n",
    "        int_index = int(round(real_index))\n",
    "        current_m += int_index\n",
    "\n",
    "    return rb_freq, rb_power, rb_err\n",
    "freqs = fftpack.fftfreq(n_bins, d=dt)\n",
    "nyq_idx = int(n_bins/2)\n",
    "\n",
    "rb_freq, rb_pow, rb_err = rebin(freqs[0:nyq_idx], psd_avg[0:nyq_idx], err_psd[0:nyq_idx], rebin_factor=1.05)"
   ]
  },
  {
   "cell_type": "markdown",
   "metadata": {},
   "source": [
    "# Plot"
   ]
  },
  {
   "cell_type": "code",
   "execution_count": 17,
   "metadata": {},
   "outputs": [
    {
     "data": {
      "image/png": "[encoded data removed]",
      "text/plain": [
       "<Figure size 576x360 with 1 Axes>"
      ]
     },
     "metadata": {
      "needs_background": "light"
     },
     "output_type": "display_data"
    }
   ],
   "source": [
    "fig, ax = plt.subplots(1,1, figsize=(8,5))\n",
    "ax.plot(rb_freq, rb_pow, linewidth=2.0)\n",
    "ax.set_xscale('log')\n",
    "ax.set_yscale('log')\n",
    "ax.set_xlabel(r'Frequency (Hz)', fontproperties=font_prop)\n",
    "ax.tick_params(axis='x', labelsize=16, bottom=True, top=True, \n",
    "               labelbottom=True, labeltop=False)\n",
    "ax.tick_params(axis='y', labelsize=16, left=True, right=True, \n",
    "               labelleft=True, labelright=False)\n",
    "plt.show()"
   ]
  },
  {
   "cell_type": "markdown",
   "metadata": {},
   "source": [
    "## 2f. Re-do 2b through the plot above but slightly changing the power spectrum shape in each segment. \n",
    "Maybe you change the centroid frequency of the QPO, or the normalizing factors between the two components, or the slope of the power-law."
   ]
  },
  {
   "cell_type": "code",
   "execution_count": null,
   "metadata": {},
   "outputs": [],
   "source": []
  },
  {
   "cell_type": "markdown",
   "metadata": {},
   "source": [
    "# Bonus problems:\n",
    "\n",
    "## 1. Use a different definition of the Lorentzian (below) to make a power spectrum. \n",
    "Follow the same procedure. Start off with just one segment. Use the rms as the normalizing factor.\n",
    "\n",
    "## 2. Using what you learned about data visualization earlier this week, turn the plots in this notebook (and the QPO one, if you're ambitious) into clear and easy-to-digest, publication-ready plots."
   ]
  },
  {
   "cell_type": "code",
   "execution_count": 18,
   "metadata": {},
   "outputs": [],
   "source": [
    "def lorentz_q(v, v_peak, q, rms):  \n",
    "    \"\"\" \n",
    "    Form of the Lorentzian function defined in terms of \n",
    "    peak frequency v_peak and quality factor q\n",
    "    q = v_peak / fwhm\n",
    "    with the integrated rms of the QPO as the normalizing factor.\n",
    "    e.g. see Pottschmidt et al. 2003, A&A, 407, 1039 for more info\n",
    "    \"\"\"\n",
    "    f_res = v_peak / np.sqrt(1.0+(1.0/(4.0*q**2)))\n",
    "    r = rms / np.sqrt(0.5-np.arctan(-2.0*q)/np.pi)\n",
    "    lorentz = ((1/np.pi)*2*r**2*q*f_res) / (f_res**2+(4*q**2*(v-f_res)**2))\n",
    "    return lorentz"
   ]
  },
  {
   "cell_type": "code",
   "execution_count": null,
   "metadata": {},
   "outputs": [],
   "source": []
  }
 ],
 "metadata": {
  "kernelspec": {
   "display_name": "Python 3",
   "language": "python",
   "name": "python3"
  },
  "language_info": {
   "codemirror_mode": {
    "name": "ipython",
    "version": 3
   },
   "file_extension": ".py",
   "mimetype": "text/x-python",
   "name": "python",
   "nbconvert_exporter": "python",
   "pygments_lexer": "ipython3",
   "version": "3.7.3"
  }
 },
 "nbformat": 4,
 "nbformat_minor": 2
}
