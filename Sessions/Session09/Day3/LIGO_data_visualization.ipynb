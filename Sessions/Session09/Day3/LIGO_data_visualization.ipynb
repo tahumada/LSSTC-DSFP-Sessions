{
 "cells": [
  {
   "cell_type": "markdown",
   "metadata": {},
   "source": [
    "# Welcome to the LIGO data visualization tutorial! \n",
    "\n",
    "## Installation\n",
    "\n",
    "Please make sure you have [GWpy](https://gwpy.github.io/docs/latest/install/index.html) installed before you begin! \n",
    "\n",
    "**Only execute the below cell if you have not already installed `GWpy`**"
   ]
  },
  {
   "cell_type": "code",
   "execution_count": null,
   "metadata": {},
   "outputs": [],
   "source": [
    "#! python3 -m pip install gwpy"
   ]
  },
  {
   "cell_type": "markdown",
   "metadata": {},
   "source": [
    "<span style=\"color:gray\">Jess notes: the following was produced using a python3.7 kernel. All code dependencies should be installed via the installation instructions above except for python; careful with your python paths here.</span> \n",
    "\n",
    "### Learning goals\n",
    "\n",
    "With this tutorial, you will learn how to: \n",
    "\n",
    "* Use basic [GWOSC](https://www.gw-openscience.org/about/) tools to query for LIGO-Virgo observing run times and GW event times \n",
    "* Download public LIGO (and Virgo) data from the GWOSC with GWpy \n",
    "* Plot a LIGO h(t) time series with GWpy\n",
    "* Make a spectral density plot of a time series\n",
    "* Design a filter in the frequency domain \n",
    "* Apply and characterize a whitening filter\n",
    "* Visualize LIGO data with spectrograms \n",
    "\n",
    "This tutorial borrows from the excellent work of Duncan Macleod, Jonah Kanner, Alex Nitz, and others involved in the [2018 GWOSC webcourse](https://www.gw-openscience.org/static/workshop1/course.html) - you can find many more great examples there. \n",
    "\n",
    "Let's get started! \n",
    "\n",
    "___"
   ]
  },
  {
   "cell_type": "markdown",
   "metadata": {},
   "source": [
    "## Using GWOSC tools \n",
    "\n",
    "Here we'll use tools from the Gravitational Wave Open Science Center ([GWOSC](https://www.gw-openscience.org/about/)), namely the [gwosc python module](https://gwosc.readthedocs.io/en/latest/), which we should have already installed via our GWpy install. \n",
    "\n",
    "First, let's see what's in GWOSC open datasets: "
   ]
  },
  {
   "cell_type": "code",
   "execution_count": null,
   "metadata": {},
   "outputs": [],
   "source": [
    "from gwosc.datasets import find_datasets\n",
    "find_datasets()"
   ]
  },
  {
   "cell_type": "markdown",
   "metadata": {},
   "source": [
    "Here we see data for: \n",
    "\n",
    "* **[GWTC-1](https://arxiv.org/abs/1811.12907) confident events**: GW150914, GW151012, GW151226, GW170104, GW170608, GW170729, GW170809, GW170814, GW170817, GW170818, and GW170823\n",
    "* **[GWTC-1](https://arxiv.org/abs/1811.12907) marginal events**: 151008, 151012A, 151116, 161202, 161217, 170208, 170219, 170405, 170412, 170423, 170616, 170630, 170705, 170720\n",
    "* **Observing runs**: Advanced LIGO and Advanced Virgo observing runs O1 and O2 at different sampling rates, as well as past science runs S5 and S6 (pre 2010). \n",
    "* And background data for an event included in the GWTC-1 catalog, but not in the O2 data release: BKGW170608_16KHZ_R1"
   ]
  },
  {
   "cell_type": "markdown",
   "metadata": {},
   "source": [
    "---\n",
    "\n",
    "#### Observing runs\n",
    "\n",
    "Knowing this, let's try to query for the start and end of LIGO-Virgo **observing runs**. Currently, data from the first two observing runs are available via the GWOSC: O1 and O2.\n",
    "\n",
    "`gwosc.datasets.run_segment` will return the start and end GPS times for an observing run given a dataset tag. Let's try O1:"
   ]
  },
  {
   "cell_type": "code",
   "execution_count": null,
   "metadata": {},
   "outputs": [],
   "source": [
    "from gwosc.datasets import run_segment\n",
    "print(run_segment('O1'))"
   ]
  },
  {
   "cell_type": "markdown",
   "metadata": {},
   "source": [
    "And O2: "
   ]
  },
  {
   "cell_type": "code",
   "execution_count": null,
   "metadata": {},
   "outputs": [],
   "source": [
    "print(run_segment('O2'))"
   ]
  },
  {
   "cell_type": "markdown",
   "metadata": {},
   "source": [
    "<span style=\"color:green\">\n",
    "    \n",
    "### Exercise \n",
    "\n",
    "**There's an error here!** Can you find a way to fix the cell above and print the start and end times for the second LIGO-Virgo observing run (O2)? \n",
    "    \n",
    "</span>\n",
    "\n",
    "___"
   ]
  },
  {
   "cell_type": "code",
   "execution_count": null,
   "metadata": {},
   "outputs": [],
   "source": [
    " # complete"
   ]
  },
  {
   "cell_type": "markdown",
   "metadata": {},
   "source": [
    "#### Querying for data around detected events\n",
    "\n",
    "We can also query for event releases (data on the order of minutes around the event time) specifically by using `find_datasets` and specifying the `event` type. "
   ]
  },
  {
   "cell_type": "code",
   "execution_count": null,
   "metadata": {},
   "outputs": [],
   "source": [
    "from gwosc.datasets import find_datasets\n",
    "events = find_datasets(type='event')\n",
    "print(events)"
   ]
  },
  {
   "cell_type": "markdown",
   "metadata": {},
   "source": [
    "---\n",
    "\n",
    "#### Querying event GPS times\n",
    "\n",
    "If we want to know the GPS time of a particular event, we can grab that with `event_gps`. Let's try that for the first binary neutron star detection, GW170817. "
   ]
  },
  {
   "cell_type": "code",
   "execution_count": null,
   "metadata": {},
   "outputs": [],
   "source": [
    "from gwosc.datasets import event_gps\n",
    "GW170817gps = event_gps('GW170817')\n",
    "print(GW170817gps)"
   ]
  },
  {
   "cell_type": "markdown",
   "metadata": {},
   "source": [
    "---\n",
    "\n",
    "#### Detector tags\n",
    "\n",
    "We can also filter our results by which gravitational wave detectors were active during the time of the event. \n",
    "\n",
    "\n",
    "LIGO-Livingston = 'L1'<br>\n",
    "LIGO-Hanford = 'H1'<br>\n",
    "Virgo = 'V1'<br>\n",
    "KAGRA = 'K1'<br>\n",
    "GEO600 = 'G1'<br>\n",
    "\n",
    "\n",
    "For example, let's see which events LIGO-Livingston was active for: "
   ]
  },
  {
   "cell_type": "code",
   "execution_count": null,
   "metadata": {},
   "outputs": [],
   "source": [
    "find_datasets(type='event', detector= # complete"
   ]
  },
  {
   "cell_type": "markdown",
   "metadata": {},
   "source": [
    "---\n",
    "\n",
    "<span style=\"color:green\">\n",
    "    \n",
    "## Exercises for using the GWOSC tools \n",
    "\n",
    "* How many events were detected during O2?\n",
    "* Which O2 event releases include data for the Virgo detector?\n",
    "</span>"
   ]
  },
  {
   "cell_type": "code",
   "execution_count": null,
   "metadata": {},
   "outputs": [],
   "source": [
    " # complete"
   ]
  },
  {
   "cell_type": "markdown",
   "metadata": {},
   "source": [
    "----\n",
    "## Importing open LIGO data \n",
    "\n",
    "We can use GWpy to download a LIGO time series from the GWOSC with `fetch_open_data`. Let's try to grab some data around a detected event, say GW150914 (the very first direct gravitational wave detection).\n",
    "\n",
    "<span style=\"color:gray\"> Note: The first time you import `gwpy.timeseries`, matplotlib may try to import some extra fonts and that can take a couple minutes. </span>"
   ]
  },
  {
   "cell_type": "code",
   "execution_count": null,
   "metadata": {},
   "outputs": [],
   "source": [
    "# Import\n",
    "from gwpy.timeseries import TimeSeries"
   ]
  },
  {
   "cell_type": "code",
   "execution_count": null,
   "metadata": {},
   "outputs": [],
   "source": [
    "# Grab the event gps time with GWOSC tools\n",
    "GW150914gps = event_gps('GW150914')\n",
    "print(GW150914gps)"
   ]
  },
  {
   "cell_type": "code",
   "execution_count": null,
   "metadata": {},
   "outputs": [],
   "source": [
    "# Set a start and end time around the event time (in units of seconds) to download LIGO data \n",
    "window = 15\n",
    "start = GW150914gps - window\n",
    "end = GW150914gps + window\n",
    "\n",
    "# Check that this looks sane\n",
    "print('start time GPS = '+str(start))\n",
    "print('end time GPS = '+str(end))"
   ]
  },
  {
   "cell_type": "markdown",
   "metadata": {},
   "source": [
    "Now that we've identified a time range of interest, we can grab some data. Let's choose the LIGO-Hanford detector (H1). "
   ]
  },
  {
   "cell_type": "code",
   "execution_count": null,
   "metadata": {},
   "outputs": [],
   "source": [
    "# Grab H1 data around the time of interest from the GWOSC\n",
    "data = TimeSeries.fetch_open_data('H1', start, end, verbose=True)\n",
    "print(data)"
   ]
  },
  {
   "cell_type": "markdown",
   "metadata": {},
   "source": [
    "Requiring `verbose=True` gives us details on the data download (and helps with debugging if needed).\n",
    "\n",
    "***The downloaded file is not stored permanently!*** If you run this cell again it will be downloaded again. However, you can use `cache=True` to store the file on your computer if you like.\n",
    "\n",
    "---"
   ]
  },
  {
   "cell_type": "markdown",
   "metadata": {},
   "source": [
    "## Plot a LIGO time series \n",
    "\n",
    "We can use GWpy to plot the data we downloaded from the GWOSC by calling the `plot()` method of our `data` object. <br>\n",
    "<span style=\"color:gray\">Jess note: This may take 2-3 minutes to render the first time.</span>\n"
   ]
  },
  {
   "cell_type": "code",
   "execution_count": null,
   "metadata": {},
   "outputs": [],
   "source": [
    "plot = data.plot()"
   ]
  },
  {
   "cell_type": "markdown",
   "metadata": {},
   "source": [
    "This is the real LIGO data (one of two detectors) used to make the first direct detection of GWs. Do you spot the signal yet?\n",
    "\n",
    "Let's add a title and y-axis labels to make it more clear what we're looking at. "
   ]
  },
  {
   "cell_type": "code",
   "execution_count": null,
   "metadata": {},
   "outputs": [],
   "source": [
    "plot = data.plot(\n",
    "    title='LIGO-Hanford Observatory data for GW150914',\n",
    "    ylabel='Strain amplitude'\n",
    ")"
   ]
  },
  {
   "cell_type": "markdown",
   "metadata": {},
   "source": [
    "Nice."
   ]
  },
  {
   "cell_type": "markdown",
   "metadata": {},
   "source": [
    "---\n",
    "\n",
    "## Make a spectral density plot\n",
    "\n",
    "What does the data containing the signal look like in the frequency domain? \n",
    "\n",
    "We can then call the `.asd()` method to calculate the amplitude spectral density and tranform our `TimeSeries` into a `FrequencySeries`.\n",
    "\n",
    "Syntax:\n",
    "`asd(FFT_length_in_seconds, FFT_overlap_in_seconds, default_time_window='hann', default_FFT_method='welch')`"
   ]
  },
  {
   "cell_type": "code",
   "execution_count": null,
   "metadata": {},
   "outputs": [],
   "source": [
    "gw140914asd = data.asd(5, 2)\n",
    "print(gw140914asd)"
   ]
  },
  {
   "cell_type": "markdown",
   "metadata": {},
   "source": [
    "Now we can make a plot of our `FrequencySeries` with the same `.plot()` method we used for a `TimeSeries`. "
   ]
  },
  {
   "cell_type": "code",
   "execution_count": null,
   "metadata": {},
   "outputs": [],
   "source": [
    "plot = gw140914asd.plot()\n",
    "ax = plot.gca()\n",
    "ax.set_xlim(5, 2000)"
   ]
  },
  {
   "cell_type": "markdown",
   "metadata": {},
   "source": [
    "\n",
    "---\n",
    "<span style=\"color:green\">\n",
    "    \n",
    "## Exercise\n",
    "    \n",
    "How does this plot change with different FFT lengths and overlap? Try an FFT length of 15 seconds with 7 seconds of overlap and an FFT length of 2 with 1 second of overlap. What do you notice? Feel free to try other combinations as well.\n",
    "    \n",
    "</span>    "
   ]
  },
  {
   "cell_type": "code",
   "execution_count": null,
   "metadata": {},
   "outputs": [],
   "source": [
    "# complete"
   ]
  },
  {
   "cell_type": "markdown",
   "metadata": {},
   "source": [
    "---\n",
    "\n",
    "## Filter design in the frequency domain\n"
   ]
  },
  {
   "cell_type": "markdown",
   "metadata": {},
   "source": [
    "Now that we have a sense of what frequency content is dominating our noise, let's see if we can dig out the basic shape of our signal with a few simple filters. \n",
    "\n",
    "First, since we know our signal duration is short (on the order of miliseconds), let's zoom way in on the time series and see if we can spot it. \n"
   ]
  },
  {
   "cell_type": "code",
   "execution_count": null,
   "metadata": {},
   "outputs": [],
   "source": [
    "## Make a new plot, this time zoomed in around the time of GW150914\n",
    "zoomplot = data.plot(\n",
    "    title='LIGO-Hanford Observatory data for GW150914',\n",
    "    ylabel='Strain amplitude'\n",
    ")\n",
    "ax = zoomplot.gca()\n",
    "ax.set_xlim( # select a window that starts 200 ms before the event and ends 200 ms afer\n",
    "ax.set_ylabel='Strain amplitude'"
   ]
  },
  {
   "cell_type": "markdown",
   "metadata": {},
   "source": [
    "Not yet... Let's get rid of some of that dominating low frequency noise and see if we can see our signal any better. \n",
    "\n",
    "### Apply a highpass filter\n",
    "\n",
    "Use the `data.highpass` method to apply a highpass filter to supress signals below 20 Hz in the above data. "
   ]
  },
  {
   "cell_type": "code",
   "execution_count": null,
   "metadata": {},
   "outputs": [],
   "source": [
    "## apply a highpass filter with a corner frequency of 20 Hz \n",
    "gw140914hp = data.highpass( # frequency for the highpass filter\n",
    "\n",
    "## make a plot of the resulting time series\n",
    "tsplot = gw140914hp.plot(\n",
    "    title='LIGO-Hanford Observatory data for GW150914',\n",
    "    ylabel='Strain amplitude'\n",
    ")\n",
    "ax = tsplot.gca()\n",
    "ax.set_xlim(GW150914gps-0.2, GW150914gps+0.2)"
   ]
  },
  {
   "cell_type": "markdown",
   "metadata": {},
   "source": [
    "Still no. What's left? What does our highpassed data look like in the frequency domain?\n",
    "\n",
    "Make an ASD of the data that has been passed through the highpass filter. Use an FFT length of 5 seconds and an overlap of 2 seconds."
   ]
  },
  {
   "cell_type": "code",
   "execution_count": null,
   "metadata": {},
   "outputs": [],
   "source": [
    "gw140914hpasd = gw140914hp.asd( # complete\n",
    "    \n",
    "## make a plot of that ASD! \n",
    "asdplot = gw140914hpasd.plot()\n",
    "ax = asdplot.gca()\n",
    "ax.set_xlim(5, 2000)"
   ]
  },
  {
   "cell_type": "markdown",
   "metadata": {},
   "source": [
    "We've really supressed that low frequency noise! But there's still too much noise at other frequencies.  \n",
    "\n",
    "\n",
    "### Apply a bandpass filter \n",
    "\n",
    "Because we've already identified our signal as a binary black hole system (two equal-ish mass black holes of roughly 30 solar masses each), we know our signal has frequency content (within our detector's sensitive range) between 50 and 250 Hz. \n",
    "\n",
    "Let's apply a bandpass filter to look for excess power in that critical frequency range. \n",
    "\n",
    "Use the `data.bandpass` method to apply a bandpass filter with corner frequencies of 50 and 250 Hz."
   ]
  },
  {
   "cell_type": "code",
   "execution_count": null,
   "metadata": {},
   "outputs": [],
   "source": [
    "## apply a bandpass filter to the highpassed data with a corner frequencies of 50 and 250 Hz \n",
    "gw140914bp = gw140914hp.bandpass( # complete\n",
    "\n",
    "## make a plot of the resulting time series\n",
    "tsplot = gw140914bp.plot(\n",
    "    title='LIGO-Hanford Observatory data for GW150914',\n",
    "    ylabel='Strain amplitude'\n",
    ")\n",
    "ax = tsplot.gca()\n",
    "ax.set_xlim(GW150914gps-0.2, GW150914gps+0.2)\n",
    "ax.set_ylim(-0.2e-20, 0.2e-20)"
   ]
  },
  {
   "cell_type": "markdown",
   "metadata": {},
   "source": [
    "Starting to look promising, but check out that strong unrelated sinusoid. *What the heck is that?* \n",
    "\n",
    "To the frequency domain! (Read: let's make a spectrum and check it out.)\n",
    "\n",
    "Make an ASD of the data that has been passed through the highpass filter. Use an FFT length of 5 seconds and an overlap of 2 seconds."
   ]
  },
  {
   "cell_type": "code",
   "execution_count": null,
   "metadata": {},
   "outputs": [],
   "source": [
    "gw140914bpasd = gw140914bp.asd( # complete\n",
    "\n",
    "## make a plot of that ASD \n",
    "asdplot = gw140914bpasd.plot()\n",
    "ax = asdplot.gca()\n",
    "ax.set_xlim(5, 2000)"
   ]
  },
  {
   "cell_type": "markdown",
   "metadata": {},
   "source": [
    "Wow, check out that strong line; this is the **60 Hz AC power line!**\n",
    "\n",
    "Let's get rid of it with a notch filter.  \n",
    "\n",
    "### Apply a notch filter \n",
    "\n",
    "Use the `data.notch` method to apply a notch filter that will supress the signal at 60 Hz from nearby AC power lines."
   ]
  },
  {
   "cell_type": "code",
   "execution_count": null,
   "metadata": {},
   "outputs": [],
   "source": [
    "gw140914n = gw140914bp.notch( # complete\n",
    "\n",
    "## make a plot of the resulting time series\n",
    "tsplot = gw140914n.plot(\n",
    "    title='LIGO-Hanford Observatory data for GW150914',\n",
    "    ylabel='Strain amplitude'\n",
    ")\n",
    "ax = tsplot.gca()\n",
    "ax.set_xlim(GW150914gps-0.2, GW150914gps+0.2)\n",
    "ax.set_ylim(-0.1e-20, 0.1e-20)"
   ]
  },
  {
   "cell_type": "markdown",
   "metadata": {},
   "source": [
    "There it is! Nice work! We can put that on a T-shirt. \n",
    "\n",
    "----\n",
    "\n",
    "<span style=\"color:green\">\n",
    "    \n",
    "## Exercise\n",
    "Repeat this for LIGO-Livingston detector data around the time of GW150914. Design your own set of simple filters for LIGO-Livingston, and plot the filtered LIGO-Livingston and LIGO-Hanford time series data overlaid. Can you estimate the difference in signal arrival times between detectors? \n",
    "    \n",
    "</span>    \n",
    "\n",
    "<span style=\"color:gray\">Note: the LIGO-Virgo analyses always use whitening; not the procedure above.</span>\n",
    "\n",
    "----"
   ]
  },
  {
   "cell_type": "code",
   "execution_count": null,
   "metadata": {},
   "outputs": [],
   "source": [
    " # complete"
   ]
  },
  {
   "cell_type": "markdown",
   "metadata": {},
   "source": [
    "## Apply and characterize a whitening filter\n",
    "\n",
    "It's much easier to spot excess power in the data if we can weight it proportionally by the consistent frequency contributions from the noise its embedded in. (Whitening is a critical step for matched filtering and gravitational wave search algorithms that look for coherent excess power across a gravitational wave detector network.)\n",
    "\n",
    "We can use GWpy to `whiten` our data for the time of GW150914 with an FFT length of 5 seconds and an overlap of 2 seconds.\n"
   ]
  },
  {
   "cell_type": "code",
   "execution_count": null,
   "metadata": {},
   "outputs": [],
   "source": [
    "whitened_gw150914 = data.whiten(5,2)\n",
    "plot = whitened_gw150914.plot(\n",
    "    title='Whitened LIGO Hanford Observatory data for GW150914',\n",
    "    ylabel='Strain amplitude',\n",
    "    xlim=(GW150914gps-0.2, GW150914gps+0.2)\n",
    ")"
   ]
  },
  {
   "cell_type": "markdown",
   "metadata": {},
   "source": [
    "Hmm, that looks like it still has some high frequency noise left. \n",
    "\n",
    "What does the whitened data look like in the frequency domain?"
   ]
  },
  {
   "cell_type": "code",
   "execution_count": null,
   "metadata": {},
   "outputs": [],
   "source": [
    "whitened_gw150914_asd = whitened_gw150914.asd()\n",
    "plot = whitened_gw150914_asd.plot()\n",
    "ax = plot.gca()\n",
    "ax.set_xlim(5, 2000)"
   ]
  },
  {
   "cell_type": "markdown",
   "metadata": {},
   "source": [
    "Not perfectly \"white\" yet. How would you improve it? \n",
    "\n",
    "---\n",
    "\n",
    "<span style=\"color:green\">\n",
    "    \n",
    "## Exercise\n",
    "    \n",
    "Compare the ASD of your whitened LIGO-Hanford data to the ASD of your data with the simple filter set (highpass, bandpass, notch) for LIGO-Hanford applied. Which frequencies still stand out in which? \n",
    "\n",
    "</span>\n",
    "\n",
    "---"
   ]
  },
  {
   "cell_type": "code",
   "execution_count": null,
   "metadata": {},
   "outputs": [],
   "source": [
    " # complete"
   ]
  },
  {
   "cell_type": "markdown",
   "metadata": {},
   "source": [
    "## Visualize LIGO data with spectrograms\n",
    "\n",
    "A great way to visualize how the frequency content of our data is changing over time is with whitened or \"normalized\" spectrograms. \n",
    "\n",
    "Let's try it for GW150914. \n",
    "\n",
    "We can apply the `spectrogram2()` method in GWpy to our whitened data, and set some other formatting variables to make the plot look nice: "
   ]
  },
  {
   "cell_type": "code",
   "execution_count": null,
   "metadata": {},
   "outputs": [],
   "source": [
    "specgram = whitened_gw150914.spectrogram2(fftlength=1/16., overlap=15/256.) ** (1/2.)\n",
    "plot = specgram.plot(norm='log', cmap='viridis', yscale='log')\n",
    "ax = plot.gca()\n",
    "ax.set_title('LIGO-Hanford strain data around GW150914')\n",
    "ax.set_xlim(GW150914gps-0.5, GW150914gps+0.5)\n",
    "ax.set_ylim(15,1000)\n",
    "ax.colorbar(label=r'Strain ASD [1/$\\sqrt{\\mathrm{Hz}}$]')"
   ]
  },
  {
   "cell_type": "markdown",
   "metadata": {},
   "source": [
    "There is something there! It looks like it's sweeping up in frequency over time, but it's still hard to make out the details. \n",
    "\n",
    "---- \n",
    "\n",
    "### The Q transform\n",
    "\n",
    "To zoom in even further, we can employ a [muli-resolution technique](https://arxiv.org/abs/gr-qc/0412119) called the [Q transform](https://gwpy.github.io/docs/latest/api/gwpy.timeseries.TimeSeries.html?highlight=q_transform#gwpy.timeseries.TimeSeries.q_transform). "
   ]
  },
  {
   "cell_type": "code",
   "execution_count": null,
   "metadata": {},
   "outputs": [],
   "source": [
    "qspecgram = data.q_transform(outseg=(GW150914gps-0.2, GW150914gps+0.2))\n",
    "plot = qspecgram.plot()\n",
    "ax = plot.gca()\n",
    "ax.set_xscale('seconds')\n",
    "ax.set_yscale('log')\n",
    "ax.set_ylim(20, 500)\n",
    "ax.set_ylabel('Frequency [Hz]')\n",
    "ax.grid(True, axis='y', which='both')\n",
    "ax.colorbar(cmap='viridis', label='Normalized energy')"
   ]
  },
  {
   "cell_type": "markdown",
   "metadata": {},
   "source": [
    "Beautiful. Nice work! \n",
    "\n",
    "---\n",
    "\n",
    "<span style=\"color:green\">\n",
    "    \n",
    "## Challenge\n",
    "\n",
    "Generate a frequency vs. time plot of LIGO data around the binary neutron star event (GW170817) where you can clearly see the signal track. (Hints: consider using LIGO-Livingston data, a Q transform, and note that binary neutron star signals last for 10s of seconds!) \n",
    "</span>\n",
    "\n",
    "---"
   ]
  },
  {
   "cell_type": "code",
   "execution_count": null,
   "metadata": {},
   "outputs": [],
   "source": [
    " # complete"
   ]
  },
  {
   "cell_type": "markdown",
   "metadata": {},
   "source": [
    "## Challenge 2\n",
    "\n",
    "Do the same thing for GW170817, but this time using data from LIGO-Hanford. Can you estimate the time delay between the two detectors after running this procedure?\n",
    "\n",
    "</span>\n",
    "\n",
    "---"
   ]
  },
  {
   "cell_type": "code",
   "execution_count": null,
   "metadata": {},
   "outputs": [],
   "source": [
    " # complete"
   ]
  }
 ],
 "metadata": {
  "kernelspec": {
   "display_name": "Python 3",
   "language": "python",
   "name": "python3"
  },
  "language_info": {
   "codemirror_mode": {
    "name": "ipython",
    "version": 3
   },
   "file_extension": ".py",
   "mimetype": "text/x-python",
   "name": "python",
   "nbconvert_exporter": "python",
   "pygments_lexer": "ipython3",
   "version": "3.6.7"
  }
 },
 "nbformat": 4,
 "nbformat_minor": 2
}
