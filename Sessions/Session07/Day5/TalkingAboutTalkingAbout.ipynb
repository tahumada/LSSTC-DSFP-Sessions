{
 "cells": [
  {
   "cell_type": "markdown",
   "metadata": {},
   "source": [
    "# Talking About, Talking About I:\n",
    "Machine Learning \n",
    "====\n",
    "\n",
    "##### Version 0.1\n",
    "\n",
    "***\n",
    "By LM Walkowicz & AA Miller 2018 Nov 10"
   ]
  },
  {
   "cell_type": "markdown",
   "metadata": {},
   "source": [
    "Today, we are going to examine the way in which different outlets discuss machine learning (the topic of focus for Session 7). Here we will examine two different news articles written on the same topic. As you read through the articles, consider these questions and discuss them within your groups: \n",
    "\n",
    "1. Does the content of the article make sense? For example, does the article define jargon or other technical ideas well? Are any extrapolations it makes about the meaning of the research reasonable/justified, or are they wild/fanciful?\n",
    "2. Is the article an effective piece of communication?\n",
    "    * Is the purpose of the article clear?\n",
    "    * Does it provide a reasonable description of the work?\n",
    "    * Is it written at a level that matches the intended audience?\n",
    "    * Are the adopted analogies effective?\n",
    "3. What (simple) changes could be made to improve the article?"
   ]
  },
  {
   "cell_type": "markdown",
   "metadata": {},
   "source": [
    "## Article 1\n",
    "\n",
    "### ASTRONOMERS HARNESS MACHINE LEARNING TO BETTER UNDERSTAND THE UNIVERSE\n",
    "\n",
    "As the scope of usage of machine learning gradually grows in enterprises and scientific fields, another field where it has penetrated is astronomy, helping astronomers gain understanding of the properties of a large numbers of stars.\n",
    "\n",
    "“It’s like video-streaming services not only predicting what you would like to watch in the future, but also your current age, based on your viewing preferences,” quips Adam Miller of NASA’s Jet Propulsion Laboratory in Pasadena, California.\n",
    "\n",
    "Mr. Miller is the lead author of a new report on the findings which he presented at the annual American Astronomical Society meeting in Seattle earlier last week and also appearing in the Astrophysical Journal. “We are predicting fundamental properties of the stars,” he said.\n",
    "\n",
    "Utilizing this branch of Artificial Intelligence, scientists are sorting through thousands of stars in our galaxy and learn their sizes, compositions and other basic traits based on sky survey images.\n",
    "\n",
    "A news release explains that using the new technique, computer algorithms glean through available stacks of images, identifying patterns that reveal a star’s properties, garnering data on billions of stars in a comparatively less amount of time and expense. Normally, these kinds of details require a spectrum, which is a detailed sifting of the starlight into different wavelengths.\n",
    "\n",
    "The Machines went through a “training period” first where Miller and his colleagues started with 9,000 stars as their training set. A spectra for these stars revealed several of their basic properties like sizes, temperatures and the amount of heavy elements, such as iron while the varying brightness of the stars had recorded by the Sloan Digital Sky Survey, producing plots called light curves were fed into the machine to help it make associations between the two sets.\n",
    "\n",
    "After the training period the computer was able to make predictions on its own about other stars by only analyzing light-curves, and gather further data which humans alone cannot process. Herein, computers with their advanced algorithms helped.\n",
    "\n",
    "\n",
    "\n",
    "*source*: [https://dataconomy.com/2015/01/astronomers-harness-machine-learning-to-better-understand-the-universe/](https://dataconomy.com/2015/01/astronomers-harness-machine-learning-to-better-understand-the-universe/)"
   ]
  },
  {
   "cell_type": "markdown",
   "metadata": {},
   "source": [
    "*Write notes on the article here*"
   ]
  },
  {
   "cell_type": "markdown",
   "metadata": {},
   "source": [
    "## Article 2\n",
    "\n",
    "### Nasa Looks to Machine Learning to Faster Identify Stars\n",
    "\n",
    "Nasa astronomers are now turning to a method called \"machine learning\" to help them understand the properties of large numbers of stars.\n",
    "The research is part of the growing field of machine learning, in which computers learn from large data sets, finding patterns that humans might not otherwise see.\n",
    "\n",
    "\"With 'machine learning', computer algorithms can quickly flip through available stacks of images, identifying patterns that reveal a star's properties,\" the US space agency said in a statement.\n",
    "\n",
    "The technique, that essentially works in the same way as e-mail spam filters, has the potential to gather information on billions of stars in a relatively short time and with less expense.\n",
    "\n",
    "\"It is like video-streaming services not only predicting what you would like to watch in the future, but also your current age, based on your viewing preferences,\" said lead author Adam Miller of Nasa's Jet Propulsion Laboratory in Pasadena, California.\n",
    "\n",
    "But before the machines can learn, they first need a \"training period.\"\n",
    "\n",
    "Miller and his colleagues started with 9,000 stars as their training set.\n",
    "\n",
    "They obtained spectra for these stars which revealed several of their basic properties: sizes, temperatures and the amount of heavy elements, such as iron.\n",
    "\n",
    "The varying brightness of the stars had also been recorded by the Sloan Digital Sky Survey, producing plots called light curves.\n",
    "\n",
    "By feeding the computer both sets of data, it could then make associations between the star properties and the light curves.\n",
    "\n",
    "Once the training phase was over, the computer was able to make predictions on its own about other stars by only analysing light-curves.\n",
    "\n",
    "\"We can discover and classify new types of stars without the need for spectra, which are expensive and time-consuming to obtain,\" Miller added.\n",
    "\n",
    "The team's next goal is to get their computers smart enough to handle the more than 50 million variable stars.\n",
    "\n",
    "The report was published in the Astrophysical Journal.\n",
    "\n",
    "\n",
    "*source*: [https://gadgets.ndtv.com/science/news/nasa-looks-to-machine-learning-to-faster-identify-stars-647554](https://gadgets.ndtv.com/science/news/nasa-looks-to-machine-learning-to-faster-identify-stars-647554)"
   ]
  },
  {
   "cell_type": "markdown",
   "metadata": {},
   "source": [
    "*Write notes on the article here*"
   ]
  }
 ],
 "metadata": {
  "kernelspec": {
   "display_name": "Python 3",
   "language": "python",
   "name": "python3"
  },
  "language_info": {
   "codemirror_mode": {
    "name": "ipython",
    "version": 3
   },
   "file_extension": ".py",
   "mimetype": "text/x-python",
   "name": "python",
   "nbconvert_exporter": "python",
   "pygments_lexer": "ipython3",
   "version": "3.6.7"
  }
 },
 "nbformat": 4,
 "nbformat_minor": 2
}
