{
 "cells": [
  {
   "cell_type": "markdown",
   "id": "60e80b79-d57f-4d8b-934f-149839a2ef7f",
   "metadata": {},
   "source": [
    "👥 What do you know about Software Profiling?"
   ]
  },
  {
   "cell_type": "markdown",
   "id": "6f2f15ba-2035-484b-8f2a-8939a3fbdfbf",
   "metadata": {},
   "source": [
    "# Introduction to Software Profiling\n",
    "\n",
    "#### What is profiling?\n",
    "\n",
    "Profiling is the analysis of how the code behaves in relation to the resources it's using. It can be in relation to space (memory), the time complexity of a program, the usage of particular instructions, or the frequency and duration of function calls.\n",
    "\n",
    "#### When to use?\n",
    "\n",
    "If you're constrained by CPU or memory use.\n",
    "If the iteration cycles of your development are too slow.\n",
    "\n",
    "#### Walkthrough\n",
    "\n",
    "- Algorithmic complexity\n",
    "- Profilers for Python\n",
    "- The ecossystem\n",
    "- Tips & Techniques"
   ]
  },
  {
   "cell_type": "code",
   "execution_count": 4,
   "id": "dbc24e0a-c085-46c9-b6a4-41b1f116b5bf",
   "metadata": {},
   "outputs": [],
   "source": [
    "def foo(i):\n",
    "    answer = 1\n",
    "    while i >= 1:\n",
    "        answer *= i\n",
    "        i -= 1\n",
    "    return answer"
   ]
  },
  {
   "cell_type": "markdown",
   "id": "081e463d-5e6e-4a5d-95a7-18beae7b8c35",
   "metadata": {},
   "source": [
    "👥 What are some ways you would try to measure how long this function would take to run?"
   ]
  },
  {
   "cell_type": "code",
   "execution_count": 5,
   "id": "4e992309-96d1-45bd-b27c-67f7d5f40af1",
   "metadata": {},
   "outputs": [],
   "source": [
    "# using time\n",
    "import datetime\n",
    "\n",
    "tstart = None\n",
    "tend = None\n",
    "\n",
    "def start_time():\n",
    "    global tstart\n",
    "    tstart = datetime.datetime.now()\n",
    "\n",
    "def get_delta():\n",
    "    global tstart\n",
    "    tend = datetime.datetime.now()\n",
    "    return tend - tstart"
   ]
  },
  {
   "cell_type": "code",
   "execution_count": 21,
   "id": "2bce2d47-097d-4e2d-a1d4-6ade45c4dc27",
   "metadata": {},
   "outputs": [
    {
     "name": "stdout",
     "output_type": "stream",
     "text": [
      "0:00:00.000158\n"
     ]
    }
   ],
   "source": [
    "start_time()\n",
    "foo(100)\n",
    "delta1 = get_delta()\n",
    "\n",
    "print(delta1)"
   ]
  },
  {
   "cell_type": "markdown",
   "id": "439290bb-d7dd-4c3d-bf1b-7e5ce781db49",
   "metadata": {},
   "source": [
    "👥 What are some ways we can make this beter?"
   ]
  },
  {
   "cell_type": "markdown",
   "id": "54e43844-b7c5-4653-9ec5-f47383efd1d4",
   "metadata": {},
   "source": [
    "Let's use a random accesss machine to make better analysis (this is just a machine that runs sequential steps)."
   ]
  },
  {
   "cell_type": "code",
   "execution_count": null,
   "id": "47ee896e-3c97-4810-a304-3885fd07ada4",
   "metadata": {},
   "outputs": [],
   "source": [
    "def linearSearch(List, val):\n",
    "    for element in List:\n",
    "        if element == val:\n",
    "            return True"
   ]
  },
  {
   "cell_type": "markdown",
   "id": "a8a4719c-6724-4cdd-843f-0f654611b263",
   "metadata": {},
   "source": [
    "👥 What happens to this function run-time if my array is:\n",
    "- a) Very large\n",
    "- b) Very small\n",
    "- c) Ordered\n",
    "- d) Unordered\n",
    "\n",
    "👥 What is going to make this search a good use case or a bad use case, then?"
   ]
  },
  {
   "cell_type": "markdown",
   "id": "c84dbae8-1c46-4663-a9b0-7a1db1adb9b7",
   "metadata": {},
   "source": [
    "### Asymptotic notation\n",
    "\n",
    "Used to classify algorithms according to how their run time or space requirements grow as the input size grows."
   ]
  },
  {
   "cell_type": "code",
   "execution_count": null,
   "id": "5a4e1e5b-0e1a-45af-a74f-43056af6d1f9",
   "metadata": {},
   "outputs": [],
   "source": [
    "def foo(x):\n",
    "    ans = 0\n",
    "    for i in range (1000):\n",
    "        ans += 1\n",
    "    for i in range(x):\n",
    "        ans += 1\n",
    "    for i in range(x):\n",
    "        for j in range(x):\n",
    "            ans += 1\n",
    "            ans += 1"
   ]
  },
  {
   "cell_type": "markdown",
   "id": "7176e7b9-a7c6-472a-9b61-d46416b25349",
   "metadata": {},
   "source": [
    "This function's steps iterations can be described as:\n",
    "\n",
    "1000 + x + 2x²"
   ]
  },
  {
   "cell_type": "markdown",
   "id": "f0ecd50c-70e9-4d3b-b230-dda0a0e03b3a",
   "metadata": {},
   "source": [
    "The most commonly used asymptotic notation is called Big O, it's used to give an upper bound on the asymptotic growth of a function.\n",
    "\n",
    "For example: O(n²) means the function grows no faster than the quadratic polynomial n².\n",
    "\n",
    "The most common complexity classes:\n",
    "\n",
    "- O(1) constant running time\n",
    "- O(log n) logarithmic running time\n",
    "- O(n) linear running time\n",
    "- O(n^k) polynomial  running time\n",
    "- O(c^n) exponential running time. n = a power based on the size of the input"
   ]
  },
  {
   "cell_type": "markdown",
   "id": "a16a3f06-78bf-4b88-97ed-d053b11eff2d",
   "metadata": {},
   "source": [
    "**Constant**\n",
    "\n",
    "Several [Python operations](https://wiki.python.org/moin/TimeComplexity) are constant!"
   ]
  },
  {
   "cell_type": "markdown",
   "id": "e453b035-426e-48e4-8200-0b435b0eeb35",
   "metadata": {},
   "source": [
    "**Logarithmic**\n",
    "\n",
    "Here we don't care if we're using different bases because their difference is merely a constant multiplicative factor."
   ]
  },
  {
   "cell_type": "code",
   "execution_count": null,
   "id": "3219ead4-40c9-4d1a-812d-f77990d52929",
   "metadata": {},
   "outputs": [],
   "source": [
    "def intToStr(i):\n",
    "    digits = '0123456789'\n",
    "    if i == 0:\n",
    "        return '0'\n",
    "    result = ''\n",
    "    while i > 0:\n",
    "        result = digits[i % 10] + result\n",
    "        i = i/10\n",
    "    return result"
   ]
  },
  {
   "cell_type": "markdown",
   "id": "170f98d1-8c11-4c3c-9e93-68ebd09f5db3",
   "metadata": {},
   "source": [
    "👥 Can you tell why the next function is O(log n)?"
   ]
  },
  {
   "cell_type": "code",
   "execution_count": null,
   "id": "96717ec0-a434-4a89-a063-9f762df2d7eb",
   "metadata": {},
   "outputs": [],
   "source": [
    "def addDigits(n):\n",
    "    stringRep = intToStr(n)\n",
    "    val = 0\n",
    "    for c in stringRep:\n",
    "        val += int(c)\n",
    "    return val"
   ]
  },
  {
   "cell_type": "markdown",
   "id": "d5180275-8055-4648-8b2c-e0421fcd353f",
   "metadata": {},
   "source": [
    "The complexity of converting 𝑛 to a string is 𝑂(log𝑛), and intToStr returns a string of length 𝑂(log𝑛). The for loop will be executed 𝑂(len(stringRep)) times, i.e., 𝑂(log𝑛) times. Putting it all together, and assuming that a character representing a digit can be converted to an integer in constant time, the program will run in time proportional to 𝑂(log𝑛)+𝑂(log𝑛), which makes it 𝑂(log𝑛)."
   ]
  },
  {
   "cell_type": "markdown",
   "id": "5395aff6-d686-4e61-b81b-9034c730f936",
   "metadata": {},
   "source": [
    "**Exponential complexity**\n",
    "\n",
    "Often recursive algorithms that solve a problem of size N by recursively solving smaller problems of size N-1.\n",
    "\n",
    "- Breaking a password\n",
    "\n",
    ">In cryptography, a brute-force attack may systematically check all possible elements of a password by iterating through subsets. Using an exponential algorithm to do this, it becomes incredibly resource-expensive to brute-force crack a long password versus a shorter one. This is one reason that a long password is considered more secure than a shorter one.\n",
    "\n"
   ]
  },
  {
   "cell_type": "code",
   "execution_count": null,
   "id": "4696419b-da19-4a54-8ed8-d438acabccfd",
   "metadata": {},
   "outputs": [],
   "source": [
    "from itertools import chain, product\n",
    "\n",
    "\n",
    "def bruteforce(charset, maxlength):\n",
    "    return (''.join(candidate)\n",
    "        for candidate in chain.from_iterable(product(charset, repeat=i)\n",
    "        for i in range(1, maxlength + 1)))"
   ]
  },
  {
   "cell_type": "code",
   "execution_count": null,
   "id": "64c4cddc-d18e-4698-960c-eaf3fde8ea2c",
   "metadata": {},
   "outputs": [],
   "source": [
    "list(bruteforce('abcde', 2))"
   ]
  }
 ],
 "metadata": {
  "kernelspec": {
   "display_name": "Python 3 (ipykernel)",
   "language": "python",
   "name": "python3"
  },
  "language_info": {
   "codemirror_mode": {
    "name": "ipython",
    "version": 3
   },
   "file_extension": ".py",
   "mimetype": "text/x-python",
   "name": "python",
   "nbconvert_exporter": "python",
   "pygments_lexer": "ipython3",
   "version": "3.9.11"
  }
 },
 "nbformat": 4,
 "nbformat_minor": 5
}
