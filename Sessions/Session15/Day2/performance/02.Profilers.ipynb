{
 "cells": [
  {
   "cell_type": "markdown",
   "id": "e0d88791-d457-4955-85f3-0f9d5870e610",
   "metadata": {
    "tags": []
   },
   "source": [
    "## Profilers for Python\n",
    "\n",
    "In this session we will cover two kinds of profiling: deterministic and statistical profiling. \n",
    "\n",
    "We'll use both simpler approaches to profile software and more involved softwares."
   ]
  },
  {
   "cell_type": "markdown",
   "id": "3315be4a-e9c0-4e09-9097-ab56ad0ebe17",
   "metadata": {},
   "source": [
    "### Built-in Jupyter methods"
   ]
  },
  {
   "cell_type": "code",
   "execution_count": null,
   "id": "62d45ab8-2e49-4646-af1e-8929e88cde2d",
   "metadata": {},
   "outputs": [],
   "source": [
    "def foo():\n",
    "    aux = 0\n",
    "    for i in range(10000):\n",
    "        aux = i * i"
   ]
  },
  {
   "cell_type": "code",
   "execution_count": null,
   "id": "22b18826-8524-4018-b0bf-394ce13cf361",
   "metadata": {},
   "outputs": [],
   "source": [
    "%timeit foo()"
   ]
  },
  {
   "cell_type": "code",
   "execution_count": null,
   "id": "e86c0cf9-cacc-42d7-b3ff-37895653cbe8",
   "metadata": {},
   "outputs": [],
   "source": [
    "%prun foo()"
   ]
  },
  {
   "cell_type": "markdown",
   "id": "6b942ff5-6309-42b9-84f5-71ede2095e12",
   "metadata": {},
   "source": [
    "### Tracing\n",
    "\n",
    "You can set a trace function that's triggered every time the VM enters or exits both Python and C functions.\n",
    "\n",
    "The python interpreter converts programs to bytecodes before beginning execution. Execution itself consist of looping over these bytecodes and performing specific operations over each one."
   ]
  },
  {
   "cell_type": "code",
   "execution_count": null,
   "id": "5dcdfb26-4000-49e4-b82d-c30160a8cda5",
   "metadata": {},
   "outputs": [],
   "source": [
    "# ⚠️ Run this code on your Python CLI\n",
    "\n",
    "# def fib(n):\n",
    "#     i, f1, f2 = 1, 1, 1\n",
    "#     while i < n:\n",
    "#         f1, f2 = f2, f1 + f2\n",
    "#         i += 1\n",
    "#     return f1\n",
    "\n",
    "# import opcode\n",
    "\n",
    "\n",
    "# def show_trace(frame, event, arg):\n",
    "#     frame.f_trace_opcodes = True\n",
    "#     code = frame.f_code\n",
    "#     offset = frame.f_lasti\n",
    "\n",
    "#     print(f\"| {event:10} | {str(arg):>4} |\", end=' ')\n",
    "#     print(f\"{frame.f_lineno:>4} | {frame.f_lasti:>6} |\", end=' ')\n",
    "#     print(f\"{opcode.opname[code.co_code[offset]]:<18} | {str(frame.f_locals):<35} |\")\n",
    "#     return show_trace\n",
    "\n",
    "# import sys\n",
    "\n",
    "# header = f\"| {'event':10} | {'arg':>4} | line | offset | {'opcode':^18} | {'locals':^35} |\"\n",
    "# print(header)\n",
    "# sys.settrace(show_trace)\n",
    "# fib(3)\n",
    "# sys.settrace(None)"
   ]
  },
  {
   "cell_type": "markdown",
   "id": "5aaebe91-17e7-4d76-aa62-87ed5550e80c",
   "metadata": {},
   "source": [
    "### Deterministic profiling\n",
    "\n",
    "#### cProfile\n",
    "\n",
    "- Offers you both the total running time of cProfile.run(statement, filename=None, sort=-1)a software as well as specific function calls and times\n",
    "- Nice integration with GUI tools and pstats"
   ]
  },
  {
   "cell_type": "code",
   "execution_count": null,
   "id": "0ceea434-6e13-4df4-bafd-4ce026b8b741",
   "metadata": {},
   "outputs": [],
   "source": [
    "import cProfile\n",
    "\n",
    "# cProfile.run(statement, filename=None, sort=-1)"
   ]
  },
  {
   "cell_type": "markdown",
   "id": "ae7d0dd7-fa09-422d-a693-638a22b9b9e4",
   "metadata": {},
   "source": [
    "You can pass python code or a function name that you want to profile as a string to the statement argument."
   ]
  },
  {
   "cell_type": "code",
   "execution_count": null,
   "id": "3c67b5f1-0bca-40a6-9689-671fb4498017",
   "metadata": {},
   "outputs": [],
   "source": [
    "import numpy as np\n",
    "\n",
    "cProfile.run(\"2**200000\")"
   ]
  },
  {
   "cell_type": "markdown",
   "id": "2e49c6b9-7922-49d2-8dc2-ffa7394ba5fe",
   "metadata": {},
   "source": [
    "- ncalls : Shows the number of calls made\n",
    "- tottime: Total time taken by the given function. Note that the time made in calls to sub-functions are excluded.\n",
    "- percall: Total time / No of calls. ( remainder is left out )\n",
    "- cumtime: Unlike tottime, this includes time spent in this and all subfunctions that the higher-level function calls. It is most useful and is accurate for recursive functions.\n",
    "- The percall following cumtime is calculated as the quotient of cumtime divided by primitive calls. The primitive calls include all the calls that were not included through recursion."
   ]
  },
  {
   "cell_type": "code",
   "execution_count": null,
   "id": "a3b6acf9-8aaf-45f7-8080-8dca0e6a45bf",
   "metadata": {},
   "outputs": [],
   "source": [
    "def add_emoji():\n",
    "    arr=[]\n",
    "    arr.append('🔥')\n",
    "\n",
    "def multiply():\n",
    "    arr=[]\n",
    "    for i in range(0,400000):\n",
    "        arr.append(i * 2)\n",
    "        add_emoji()\n",
    "\n",
    "def main():\n",
    "    multiply()\n",
    "    print('end')\n",
    "\n",
    "if __name__ == '__main__':\n",
    "    profiler = cProfile.run('main()')"
   ]
  },
  {
   "cell_type": "markdown",
   "id": "e795567c-aaf0-468c-97a8-c446a0b80777",
   "metadata": {},
   "source": [
    "You can save the data using the following:"
   ]
  },
  {
   "cell_type": "code",
   "execution_count": null,
   "id": "62a441a7-9b03-4652-a0c6-9a03306c4a8e",
   "metadata": {},
   "outputs": [],
   "source": [
    "import  pstats\n",
    "# p = pstats.Stats('profile.dat', stream = s)\n",
    "stats = pstats.Stats(profiler)\n",
    "stats.dump_stats('data.txt')"
   ]
  },
  {
   "cell_type": "markdown",
   "id": "d8ca36f8-544d-446e-b818-3cfefe9ae146",
   "metadata": {},
   "source": [
    "And use a GUI to visualize it called snakeviz:"
   ]
  },
  {
   "cell_type": "code",
   "execution_count": null,
   "id": "fc6ba252-4143-498d-a704-8db83935c357",
   "metadata": {},
   "outputs": [],
   "source": [
    "# installing the module\n",
    "!pip install snakeviz"
   ]
  },
  {
   "cell_type": "markdown",
   "id": "26703add-8c59-403e-874e-8f15d16c576f",
   "metadata": {},
   "source": [
    "%load_ext snakeviz"
   ]
  },
  {
   "cell_type": "code",
   "execution_count": null,
   "id": "e674a119-8912-4929-b373-bfb3847971f8",
   "metadata": {},
   "outputs": [],
   "source": [
    "import glob"
   ]
  },
  {
   "cell_type": "code",
   "execution_count": null,
   "id": "245202cd-f04f-4026-a80f-b8e5d9dc5154",
   "metadata": {},
   "outputs": [],
   "source": [
    "# load it on the notebook\n",
    "%snakeviz glob.glob('*.txt')"
   ]
  },
  {
   "cell_type": "code",
   "execution_count": null,
   "id": "b32b8327-d062-4587-8569-b4e90e8a53e6",
   "metadata": {},
   "outputs": [],
   "source": [
    "# opens snakeviz\n",
    "%snakeviz main()"
   ]
  },
  {
   "cell_type": "markdown",
   "id": "6dff6b1b-25e1-49ae-9620-3af85ecd1264",
   "metadata": {},
   "source": [
    "cProfile has a lot more to offer and I recommend checking the [Python docs](https://docs.python.org/3/library/profile.html#module-cProfile) to learn more about its specific functions."
   ]
  },
  {
   "cell_type": "markdown",
   "id": "71007eeb-2e12-444b-a465-06c86758bacd",
   "metadata": {},
   "source": [
    "### Statistical profiling\n",
    "\n",
    "Samples the program counter at regular intervals. The numbers will be statistical approximations instead of exact numbers because of the several process in place.\n",
    "\n",
    "- Less data to analyze\n",
    "- Smaller profiling footprint"
   ]
  },
  {
   "cell_type": "markdown",
   "id": "0928f2d7-ddd3-4ea3-8cfa-f836d1b782e1",
   "metadata": {},
   "source": [
    "#### pprofile\n",
    "\n",
    "pprofile offers both deterministic and statistical modes for profiling. We're going to take a look in the statistical mode:\n",
    "\n",
    "In your CLI, after installing `pprofile` run it in the statistical mode:\n",
    "\n",
    "```\n",
    "pprofile --statistic 0.01 --exclude-syspath test.py\n",
    "```"
   ]
  },
  {
   "cell_type": "code",
   "execution_count": null,
   "id": "60235960-f455-4350-863a-f16ac81061c0",
   "metadata": {},
   "outputs": [],
   "source": [
    "# ⚠️ Run this code on your Python CLI\n",
    "\n",
    "# import threading\n",
    "# import time\n",
    "\n",
    "\n",
    "# def func():\n",
    "#     time.sleep(1)\n",
    "\n",
    "# def func2():\n",
    "#     pass\n",
    "\n",
    "# t1 = threading.Thread(target=func)\n",
    "# t2 = threading.Thread(target=func)\n",
    "# t1.start()\n",
    "# t2.start()\n",
    "# (func(), func2())\n",
    "# t1.join()\n",
    "# t2.join()"
   ]
  },
  {
   "cell_type": "markdown",
   "id": "0a84935a-7f63-4a66-b59e-d045bba1e840",
   "metadata": {},
   "source": [
    "Hit: indicates the number of calls to each function during the run"
   ]
  }
 ],
 "metadata": {
  "kernelspec": {
   "display_name": "Python 3 (ipykernel)",
   "language": "python",
   "name": "python3"
  },
  "language_info": {
   "codemirror_mode": {
    "name": "ipython",
    "version": 3
   },
   "file_extension": ".py",
   "mimetype": "text/x-python",
   "name": "python",
   "nbconvert_exporter": "python",
   "pygments_lexer": "ipython3",
   "version": "3.9.11"
  }
 },
 "nbformat": 4,
 "nbformat_minor": 5
}
