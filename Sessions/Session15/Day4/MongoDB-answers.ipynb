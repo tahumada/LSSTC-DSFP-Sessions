{
 "cells": [
  {
   "cell_type": "code",
   "execution_count": 1,
   "id": "d3197b78",
   "metadata": {
    "slideshow": {
     "slide_type": "skip"
    }
   },
   "outputs": [],
   "source": [
    "import pymongo\n",
    "import pandas\n",
    "from pprint import pprint\n",
    "\n",
    "# Connect\n",
    "client = pymongo.MongoClient(host=\"mongo\", port=27017, username=\"imdb\", password=\"imdb_admin\")"
   ]
  },
  {
   "cell_type": "code",
   "execution_count": 2,
   "id": "3bf2fa0d-59e3-4b5c-9f2e-4d88be939ed3",
   "metadata": {},
   "outputs": [
    {
     "data": {
      "text/plain": [
       "<pymongo.results.InsertManyResult at 0x7f5eb59dc280>"
      ]
     },
     "execution_count": 2,
     "metadata": {},
     "output_type": "execute_result"
    }
   ],
   "source": [
    "df1 = pandas.read_csv(\"IMDB-movies.csv\")\n",
    "df2 = pandas.read_csv(\"IMDB-directors.csv\")\n",
    "df3 = pandas.read_csv(\"IMDB-movies_directors.csv\")\n",
    "df4 = pandas.read_csv(\"IMDB-movies_genres.csv\")\n",
    "df5 = df4.merge(df1).merge(df3).merge(df2)\n",
    "\n",
    "df4 = df4.merge(df1)\n",
    "df3 = df3.merge(df1).merge(df2)\n",
    "\n",
    "db = client['imdb_database']\n",
    "collection1 = db['imdb_movies']\n",
    "collection2 = db['imdb_directors']\n",
    "collection3 = db['imdb_movies_directors']\n",
    "collection4 = db['imdb_movies_genres']\n",
    "collection5 = db['imdb_movies_directors_genres']\n",
    "\n",
    "\n",
    "df1.reset_index(inplace=True)\n",
    "data_dict = df1.to_dict(\"records\")# Insert collection\n",
    "collection1.insert_many(data_dict)\n",
    "\n",
    "df2.reset_index(inplace=True)\n",
    "data_dict = df2.to_dict(\"records\")# Insert collection\n",
    "collection2.insert_many(data_dict)\n",
    "\n",
    "df3.reset_index(inplace=True)\n",
    "data_dict = df3.to_dict(\"records\")# Insert collection\n",
    "collection3.insert_many(data_dict)\n",
    "\n",
    "df4.reset_index(inplace=True)\n",
    "data_dict = df4.to_dict(\"records\")# Insert collection\n",
    "collection4.insert_many(data_dict)\n",
    "\n",
    "df5.reset_index(inplace=True)\n",
    "data_dict = df5.to_dict(\"records\")# Insert collection\n",
    "collection5.insert_many(data_dict)"
   ]
  },
  {
   "cell_type": "markdown",
   "id": "41cd95a9",
   "metadata": {
    "slideshow": {
     "slide_type": "slide"
    },
    "tags": []
   },
   "source": [
    "# Introduction to MongoDB (MongoDB Query Language)\n",
    "\n",
    "##### Version 0.1\n",
    "\n",
    "***\n",
    "\n",
    "By Scott Coughlin (Northwestern IT Research Computing Services)  \n",
    "20 July 2022"
   ]
  },
  {
   "cell_type": "markdown",
   "id": "9e64ba9d",
   "metadata": {
    "slideshow": {
     "slide_type": "slide"
    }
   },
   "source": [
    "In our introduction to MongoDB we will start with queries of existing tables."
   ]
  },
  {
   "cell_type": "markdown",
   "id": "82fdb8d7",
   "metadata": {
    "slideshow": {
     "slide_type": "slide"
    }
   },
   "source": [
    "## Problem 1) IMDb Data"
   ]
  },
  {
   "cell_type": "markdown",
   "id": "04689f26",
   "metadata": {
    "slideshow": {
     "slide_type": "slide"
    }
   },
   "source": [
    "Throughout the session we will use information from the [Internet Movie Database (IMDb)](https://www.imdb.com/) to illustrate various principles regarding databases."
   ]
  },
  {
   "cell_type": "markdown",
   "id": "3d0e4d76",
   "metadata": {
    "slideshow": {
     "slide_type": "subslide"
    }
   },
   "source": [
    "A quick note on the provenance of this data. The files we have used to populate this data set are from [this website](https://relational.fit.cvut.cz/dataset/IMDb) and it may not be a list of every single movie on IMDb (there are no movies after 2004)."
   ]
  },
  {
   "cell_type": "markdown",
   "id": "f1a05846-0b88-4f43-b72c-ae8b4fcf5d19",
   "metadata": {},
   "source": [
    "For this exercise there are 5 collections, \n",
    "```\n",
    "collection1 = db['imdb_movies']\n",
    "collection2 = db['imdb_directors']\n",
    "collection3 = db['imdb_movies_directors']\n",
    "collection4 = db['imdb_movies_genres']\n",
    "collection5 = db['imdb_movies_directors_genres']\n",
    "```\n",
    "To make things simple, I have already performed the necessary steps to \"join\" the information from imdb_movies and imdb_directories together to make a bigger collection \"imdb_movies_directors\" and so on"
   ]
  },
  {
   "cell_type": "markdown",
   "id": "d88ddef6-9e0e-4cf4-8df6-d35bf9cf3665",
   "metadata": {},
   "source": [
    "#### HELPFUL TIP: Convery all resulting queries to a pandas.DataFrame by wrapping the `pymongo` query in\n",
    "\n",
    "```\n",
    "df = pandas.DataFrame(list(db.imdb_movies_genres.find())\n",
    "print(df)\n",
    "\t_id \tindex \tdirector_id \tfirst_name \tlast_name\n",
    "0 \t62da05f8e5d6d03453887957 \t70115 \t71645 \tMartin \tScorsese\n",
    "```\n",
    "\n",
    "### Second Helpful Tip: See the MongoDB SQL to Mongo mapping information to help: https://www.mongodb.com/docs/manual/reference/sql-comparison/"
   ]
  },
  {
   "cell_type": "code",
   "execution_count": 3,
   "id": "cb0c86c5-2b33-4cfb-8991-feac16bc36e1",
   "metadata": {},
   "outputs": [
    {
     "data": {
      "text/html": [
       "<div>\n",
       "<style scoped>\n",
       "    .dataframe tbody tr th:only-of-type {\n",
       "        vertical-align: middle;\n",
       "    }\n",
       "\n",
       "    .dataframe tbody tr th {\n",
       "        vertical-align: top;\n",
       "    }\n",
       "\n",
       "    .dataframe thead th {\n",
       "        text-align: right;\n",
       "    }\n",
       "</style>\n",
       "<table border=\"1\" class=\"dataframe\">\n",
       "  <thead>\n",
       "    <tr style=\"text-align: right;\">\n",
       "      <th></th>\n",
       "      <th>_id</th>\n",
       "      <th>index</th>\n",
       "      <th>director_id</th>\n",
       "      <th>first_name</th>\n",
       "      <th>last_name</th>\n",
       "    </tr>\n",
       "  </thead>\n",
       "  <tbody>\n",
       "    <tr>\n",
       "      <th>0</th>\n",
       "      <td>62dabcc36195866c4cc7e4ad</td>\n",
       "      <td>70115</td>\n",
       "      <td>71645</td>\n",
       "      <td>Martin</td>\n",
       "      <td>Scorsese</td>\n",
       "    </tr>\n",
       "  </tbody>\n",
       "</table>\n",
       "</div>"
      ],
      "text/plain": [
       "                        _id  index  director_id first_name last_name\n",
       "0  62dabcc36195866c4cc7e4ad  70115        71645     Martin  Scorsese"
      ]
     },
     "execution_count": 3,
     "metadata": {},
     "output_type": "execute_result"
    }
   ],
   "source": [
    "pandas.DataFrame(list(db.imdb_directors.find({\"last_name\" : \"Scorsese\"})))"
   ]
  },
  {
   "cell_type": "markdown",
   "id": "3eb22b82",
   "metadata": {
    "slideshow": {
     "slide_type": "slide"
    }
   },
   "source": [
    "**Problem 1a**\n",
    "\n",
    "Using pymongo, SELECT 10 movies from the imbd_movies table. Select 10 directors from imbd_directors and order by `first_name`."
   ]
  },
  {
   "cell_type": "code",
   "execution_count": 4,
   "id": "135a2600-8d4e-40fb-ba93-7bf2aa23c5de",
   "metadata": {},
   "outputs": [
    {
     "data": {
      "text/html": [
       "<div>\n",
       "<style scoped>\n",
       "    .dataframe tbody tr th:only-of-type {\n",
       "        vertical-align: middle;\n",
       "    }\n",
       "\n",
       "    .dataframe tbody tr th {\n",
       "        vertical-align: top;\n",
       "    }\n",
       "\n",
       "    .dataframe thead th {\n",
       "        text-align: right;\n",
       "    }\n",
       "</style>\n",
       "<table border=\"1\" class=\"dataframe\">\n",
       "  <thead>\n",
       "    <tr style=\"text-align: right;\">\n",
       "      <th></th>\n",
       "      <th>_id</th>\n",
       "      <th>index</th>\n",
       "      <th>movie_id</th>\n",
       "      <th>name</th>\n",
       "      <th>year</th>\n",
       "      <th>rank</th>\n",
       "    </tr>\n",
       "  </thead>\n",
       "  <tbody>\n",
       "    <tr>\n",
       "      <th>0</th>\n",
       "      <td>62dabcb66195866c4cc16780</td>\n",
       "      <td>0</td>\n",
       "      <td>0</td>\n",
       "      <td>#28</td>\n",
       "      <td>2002</td>\n",
       "      <td>0.0</td>\n",
       "    </tr>\n",
       "    <tr>\n",
       "      <th>1</th>\n",
       "      <td>62dabcb66195866c4cc16781</td>\n",
       "      <td>1</td>\n",
       "      <td>1</td>\n",
       "      <td>#7 Train: An Immigrant Journey, The</td>\n",
       "      <td>2000</td>\n",
       "      <td>0.0</td>\n",
       "    </tr>\n",
       "    <tr>\n",
       "      <th>2</th>\n",
       "      <td>62dabcb66195866c4cc16782</td>\n",
       "      <td>2</td>\n",
       "      <td>2</td>\n",
       "      <td>$</td>\n",
       "      <td>1971</td>\n",
       "      <td>6.4</td>\n",
       "    </tr>\n",
       "    <tr>\n",
       "      <th>3</th>\n",
       "      <td>62dabcb66195866c4cc16783</td>\n",
       "      <td>3</td>\n",
       "      <td>3</td>\n",
       "      <td>$1,000 Reward</td>\n",
       "      <td>1913</td>\n",
       "      <td>0.0</td>\n",
       "    </tr>\n",
       "    <tr>\n",
       "      <th>4</th>\n",
       "      <td>62dabcb66195866c4cc16784</td>\n",
       "      <td>4</td>\n",
       "      <td>4</td>\n",
       "      <td>$1,000 Reward</td>\n",
       "      <td>1915</td>\n",
       "      <td>0.0</td>\n",
       "    </tr>\n",
       "    <tr>\n",
       "      <th>5</th>\n",
       "      <td>62dabcb66195866c4cc16785</td>\n",
       "      <td>5</td>\n",
       "      <td>5</td>\n",
       "      <td>$1,000 Reward</td>\n",
       "      <td>1923</td>\n",
       "      <td>0.0</td>\n",
       "    </tr>\n",
       "    <tr>\n",
       "      <th>6</th>\n",
       "      <td>62dabcb66195866c4cc16786</td>\n",
       "      <td>6</td>\n",
       "      <td>6</td>\n",
       "      <td>$1,000,000 Duck</td>\n",
       "      <td>1971</td>\n",
       "      <td>5.0</td>\n",
       "    </tr>\n",
       "    <tr>\n",
       "      <th>7</th>\n",
       "      <td>62dabcb66195866c4cc16787</td>\n",
       "      <td>7</td>\n",
       "      <td>7</td>\n",
       "      <td>$1,000,000 Reward, The</td>\n",
       "      <td>1920</td>\n",
       "      <td>0.0</td>\n",
       "    </tr>\n",
       "    <tr>\n",
       "      <th>8</th>\n",
       "      <td>62dabcb66195866c4cc16788</td>\n",
       "      <td>8</td>\n",
       "      <td>8</td>\n",
       "      <td>$10,000 Under a Pillow</td>\n",
       "      <td>1921</td>\n",
       "      <td>0.0</td>\n",
       "    </tr>\n",
       "    <tr>\n",
       "      <th>9</th>\n",
       "      <td>62dabcb66195866c4cc16789</td>\n",
       "      <td>9</td>\n",
       "      <td>9</td>\n",
       "      <td>$100,000.00</td>\n",
       "      <td>1915</td>\n",
       "      <td>0.0</td>\n",
       "    </tr>\n",
       "  </tbody>\n",
       "</table>\n",
       "</div>"
      ],
      "text/plain": [
       "                        _id  index  movie_id  \\\n",
       "0  62dabcb66195866c4cc16780      0         0   \n",
       "1  62dabcb66195866c4cc16781      1         1   \n",
       "2  62dabcb66195866c4cc16782      2         2   \n",
       "3  62dabcb66195866c4cc16783      3         3   \n",
       "4  62dabcb66195866c4cc16784      4         4   \n",
       "5  62dabcb66195866c4cc16785      5         5   \n",
       "6  62dabcb66195866c4cc16786      6         6   \n",
       "7  62dabcb66195866c4cc16787      7         7   \n",
       "8  62dabcb66195866c4cc16788      8         8   \n",
       "9  62dabcb66195866c4cc16789      9         9   \n",
       "\n",
       "                                  name  year  rank  \n",
       "0                                  #28  2002   0.0  \n",
       "1  #7 Train: An Immigrant Journey, The  2000   0.0  \n",
       "2                                    $  1971   6.4  \n",
       "3                        $1,000 Reward  1913   0.0  \n",
       "4                        $1,000 Reward  1915   0.0  \n",
       "5                        $1,000 Reward  1923   0.0  \n",
       "6                      $1,000,000 Duck  1971   5.0  \n",
       "7               $1,000,000 Reward, The  1920   0.0  \n",
       "8               $10,000 Under a Pillow  1921   0.0  \n",
       "9                          $100,000.00  1915   0.0  "
      ]
     },
     "execution_count": 4,
     "metadata": {},
     "output_type": "execute_result"
    }
   ],
   "source": [
    "pandas.DataFrame(list(db.imdb_movies.find().limit(10)))"
   ]
  },
  {
   "cell_type": "code",
   "execution_count": 5,
   "id": "9e27e331-8aa1-4642-bd1b-4d330fa5ed9a",
   "metadata": {},
   "outputs": [
    {
     "data": {
      "text/html": [
       "<div>\n",
       "<style scoped>\n",
       "    .dataframe tbody tr th:only-of-type {\n",
       "        vertical-align: middle;\n",
       "    }\n",
       "\n",
       "    .dataframe tbody tr th {\n",
       "        vertical-align: top;\n",
       "    }\n",
       "\n",
       "    .dataframe thead th {\n",
       "        text-align: right;\n",
       "    }\n",
       "</style>\n",
       "<table border=\"1\" class=\"dataframe\">\n",
       "  <thead>\n",
       "    <tr style=\"text-align: right;\">\n",
       "      <th></th>\n",
       "      <th>_id</th>\n",
       "      <th>index</th>\n",
       "      <th>director_id</th>\n",
       "      <th>first_name</th>\n",
       "      <th>last_name</th>\n",
       "    </tr>\n",
       "  </thead>\n",
       "  <tbody>\n",
       "    <tr>\n",
       "      <th>0</th>\n",
       "      <td>62dabcc16195866c4cc6e2c1</td>\n",
       "      <td>4087</td>\n",
       "      <td>4175</td>\n",
       "      <td>A.</td>\n",
       "      <td>Balakrishnan</td>\n",
       "    </tr>\n",
       "    <tr>\n",
       "      <th>1</th>\n",
       "      <td>62dabcc16195866c4cc6ecca</td>\n",
       "      <td>6656</td>\n",
       "      <td>6779</td>\n",
       "      <td>A.</td>\n",
       "      <td>Berry</td>\n",
       "    </tr>\n",
       "    <tr>\n",
       "      <th>2</th>\n",
       "      <td>62dabcc16195866c4cc6f18a</td>\n",
       "      <td>7872</td>\n",
       "      <td>8026</td>\n",
       "      <td>A.</td>\n",
       "      <td>Bobrov</td>\n",
       "    </tr>\n",
       "    <tr>\n",
       "      <th>3</th>\n",
       "      <td>62dabcc16195866c4cc6ee22</td>\n",
       "      <td>7000</td>\n",
       "      <td>7125</td>\n",
       "      <td>A.</td>\n",
       "      <td>Bhimsingh</td>\n",
       "    </tr>\n",
       "    <tr>\n",
       "      <th>4</th>\n",
       "      <td>62dabcc16195866c4cc6e572</td>\n",
       "      <td>4776</td>\n",
       "      <td>4871</td>\n",
       "      <td>A.</td>\n",
       "      <td>Barr-Smith</td>\n",
       "    </tr>\n",
       "    <tr>\n",
       "      <th>5</th>\n",
       "      <td>62dabcc16195866c4cc6ef89</td>\n",
       "      <td>7359</td>\n",
       "      <td>7494</td>\n",
       "      <td>A.</td>\n",
       "      <td>Bistritsky</td>\n",
       "    </tr>\n",
       "    <tr>\n",
       "      <th>6</th>\n",
       "      <td>62dabcc16195866c4cc70664</td>\n",
       "      <td>13210</td>\n",
       "      <td>13475</td>\n",
       "      <td>A.</td>\n",
       "      <td>Chandrasekaran</td>\n",
       "    </tr>\n",
       "    <tr>\n",
       "      <th>7</th>\n",
       "      <td>62dabcc16195866c4cc705ed</td>\n",
       "      <td>13091</td>\n",
       "      <td>13355</td>\n",
       "      <td>A.</td>\n",
       "      <td>Champeaux</td>\n",
       "    </tr>\n",
       "    <tr>\n",
       "      <th>8</th>\n",
       "      <td>62dabcc16195866c4cc6e108</td>\n",
       "      <td>3646</td>\n",
       "      <td>3728</td>\n",
       "      <td>A.</td>\n",
       "      <td>Babes</td>\n",
       "    </tr>\n",
       "    <tr>\n",
       "      <th>9</th>\n",
       "      <td>62dabcc16195866c4cc6d70c</td>\n",
       "      <td>1090</td>\n",
       "      <td>1114</td>\n",
       "      <td>A.</td>\n",
       "      <td>Aleksandrov</td>\n",
       "    </tr>\n",
       "  </tbody>\n",
       "</table>\n",
       "</div>"
      ],
      "text/plain": [
       "                        _id  index  director_id first_name       last_name\n",
       "0  62dabcc16195866c4cc6e2c1   4087         4175         A.    Balakrishnan\n",
       "1  62dabcc16195866c4cc6ecca   6656         6779         A.           Berry\n",
       "2  62dabcc16195866c4cc6f18a   7872         8026         A.          Bobrov\n",
       "3  62dabcc16195866c4cc6ee22   7000         7125         A.       Bhimsingh\n",
       "4  62dabcc16195866c4cc6e572   4776         4871         A.      Barr-Smith\n",
       "5  62dabcc16195866c4cc6ef89   7359         7494         A.      Bistritsky\n",
       "6  62dabcc16195866c4cc70664  13210        13475         A.  Chandrasekaran\n",
       "7  62dabcc16195866c4cc705ed  13091        13355         A.       Champeaux\n",
       "8  62dabcc16195866c4cc6e108   3646         3728         A.           Babes\n",
       "9  62dabcc16195866c4cc6d70c   1090         1114         A.     Aleksandrov"
      ]
     },
     "execution_count": 5,
     "metadata": {},
     "output_type": "execute_result"
    }
   ],
   "source": [
    "pandas.DataFrame(list(db.imdb_directors.find().sort('first_name').limit(10)))"
   ]
  },
  {
   "cell_type": "markdown",
   "id": "0b998ad2",
   "metadata": {
    "slideshow": {
     "slide_type": "slide"
    }
   },
   "source": [
    "**Problem 1b**\n",
    "\n",
    "Using pymongo, how many movies are there? How many directors are there? "
   ]
  },
  {
   "cell_type": "code",
   "execution_count": 6,
   "id": "d5333751-e6d6-4267-8892-ccba463ffa8a",
   "metadata": {},
   "outputs": [
    {
     "name": "stderr",
     "output_type": "stream",
     "text": [
      "<ipython-input-6-f218dfc85700>:1: DeprecationWarning: count is deprecated. Use Collection.count_documents instead.\n",
      "  db.imdb_movies.find().count()\n"
     ]
    },
    {
     "data": {
      "text/plain": [
       "355146"
      ]
     },
     "execution_count": 6,
     "metadata": {},
     "output_type": "execute_result"
    }
   ],
   "source": [
    "db.imdb_movies.find().count()"
   ]
  },
  {
   "cell_type": "code",
   "execution_count": 7,
   "id": "2af0e751-de93-404d-ab7e-6fe8b133601e",
   "metadata": {},
   "outputs": [
    {
     "name": "stderr",
     "output_type": "stream",
     "text": [
      "<ipython-input-7-3b483e236fde>:1: DeprecationWarning: count is deprecated. Use Collection.count_documents instead.\n",
      "  db.imdb_directors.find().count()\n"
     ]
    },
    {
     "data": {
      "text/plain": [
       "86880"
      ]
     },
     "execution_count": 7,
     "metadata": {},
     "output_type": "execute_result"
    }
   ],
   "source": [
    "db.imdb_directors.find().count()"
   ]
  },
  {
   "cell_type": "markdown",
   "id": "afdecb03",
   "metadata": {
    "slideshow": {
     "slide_type": "slide"
    }
   },
   "source": [
    "*Write your answer here*"
   ]
  },
  {
   "cell_type": "markdown",
   "id": "5f33700f-c337-4516-b159-8cbe4be5c124",
   "metadata": {
    "slideshow": {
     "slide_type": "slide"
    }
   },
   "source": [
    "**Problem 1c**\n",
    "\n",
    "Using pymongo, determine how many movies are there after the year 2000?"
   ]
  },
  {
   "cell_type": "code",
   "execution_count": 8,
   "id": "0df316bb-1990-4516-9f75-e87d107edabe",
   "metadata": {},
   "outputs": [
    {
     "name": "stderr",
     "output_type": "stream",
     "text": [
      "<ipython-input-8-9c22225c26c1>:1: DeprecationWarning: count is deprecated. Use estimated_document_count or count_documents instead. Please note that $where must be replaced by $expr, $near must be replaced by $geoWithin with $center, and $nearSphere must be replaced by $geoWithin with $centerSphere\n",
      "  db.imdb_movies.count( { 'year': { '$gt': 2000 } } )\n"
     ]
    },
    {
     "data": {
      "text/plain": [
       "39586"
      ]
     },
     "execution_count": 8,
     "metadata": {},
     "output_type": "execute_result"
    }
   ],
   "source": [
    "db.imdb_movies.count( { 'year': { '$gt': 2000 } } )"
   ]
  },
  {
   "cell_type": "markdown",
   "id": "14af7e69-2db0-480e-bc6f-9b28964167e1",
   "metadata": {
    "slideshow": {
     "slide_type": "slide"
    }
   },
   "source": [
    "*Write your answer here*"
   ]
  },
  {
   "cell_type": "markdown",
   "id": "3dfbf89f",
   "metadata": {
    "slideshow": {
     "slide_type": "slide"
    }
   },
   "source": [
    "**Problem 1d**\n",
    "\n",
    "How many different movie genres are there?"
   ]
  },
  {
   "cell_type": "code",
   "execution_count": 9,
   "id": "e4763794-2e16-496a-8b43-90b25145bd86",
   "metadata": {},
   "outputs": [
    {
     "data": {
      "text/plain": [
       "['Action',\n",
       " 'Adult',\n",
       " 'Adventure',\n",
       " 'Animation',\n",
       " 'Comedy',\n",
       " 'Crime',\n",
       " 'Documentary',\n",
       " 'Drama',\n",
       " 'Family',\n",
       " 'Fantasy',\n",
       " 'Film-Noir',\n",
       " 'Horror',\n",
       " 'Music',\n",
       " 'Musical',\n",
       " 'Mystery',\n",
       " 'Romance',\n",
       " 'Sci-Fi',\n",
       " 'Short',\n",
       " 'Thriller',\n",
       " 'War',\n",
       " 'Western']"
      ]
     },
     "execution_count": 9,
     "metadata": {},
     "output_type": "execute_result"
    }
   ],
   "source": [
    "db.imdb_movies_genres.distinct( \"genre\" )"
   ]
  },
  {
   "cell_type": "markdown",
   "id": "a225e9a5",
   "metadata": {
    "slideshow": {
     "slide_type": "slide"
    }
   },
   "source": [
    "*Write your answer here*"
   ]
  },
  {
   "cell_type": "markdown",
   "id": "d95119b3-f9cb-42ec-b17b-8ddd8a07f642",
   "metadata": {
    "slideshow": {
     "slide_type": "slide"
    }
   },
   "source": [
    "*write your answer here*"
   ]
  },
  {
   "cell_type": "markdown",
   "id": "895a7e0f",
   "metadata": {
    "slideshow": {
     "slide_type": "slide"
    }
   },
   "source": [
    "## Problem 2) Groups and Aggregates"
   ]
  },
  {
   "cell_type": "markdown",
   "id": "514a9758",
   "metadata": {
    "slideshow": {
     "slide_type": "slide"
    }
   },
   "source": [
    "Now that we know why the data has been organized in this way, we can leverage this unique structure in order to learn interesting properties of the data. "
   ]
  },
  {
   "cell_type": "markdown",
   "id": "48868d33",
   "metadata": {
    "slideshow": {
     "slide_type": "slide"
    }
   },
   "source": [
    "**Problem 3a**\n",
    "\n",
    "In which year were the most movies made according to IMDb?"
   ]
  },
  {
   "cell_type": "code",
   "execution_count": 10,
   "id": "ce06d8bc-1eae-4a97-bb02-03a2de9de563",
   "metadata": {},
   "outputs": [
    {
     "data": {
      "text/html": [
       "<div>\n",
       "<style scoped>\n",
       "    .dataframe tbody tr th:only-of-type {\n",
       "        vertical-align: middle;\n",
       "    }\n",
       "\n",
       "    .dataframe tbody tr th {\n",
       "        vertical-align: top;\n",
       "    }\n",
       "\n",
       "    .dataframe thead th {\n",
       "        text-align: right;\n",
       "    }\n",
       "</style>\n",
       "<table border=\"1\" class=\"dataframe\">\n",
       "  <thead>\n",
       "    <tr style=\"text-align: right;\">\n",
       "      <th></th>\n",
       "      <th>_id</th>\n",
       "      <th>count</th>\n",
       "    </tr>\n",
       "  </thead>\n",
       "  <tbody>\n",
       "    <tr>\n",
       "      <th>0</th>\n",
       "      <td>{'year': 2002}</td>\n",
       "      <td>10337</td>\n",
       "    </tr>\n",
       "    <tr>\n",
       "      <th>1</th>\n",
       "      <td>{'year': 2003}</td>\n",
       "      <td>10119</td>\n",
       "    </tr>\n",
       "    <tr>\n",
       "      <th>2</th>\n",
       "      <td>{'year': 2000}</td>\n",
       "      <td>10107</td>\n",
       "    </tr>\n",
       "    <tr>\n",
       "      <th>3</th>\n",
       "      <td>{'year': 2001}</td>\n",
       "      <td>10002</td>\n",
       "    </tr>\n",
       "    <tr>\n",
       "      <th>4</th>\n",
       "      <td>{'year': 1999}</td>\n",
       "      <td>9389</td>\n",
       "    </tr>\n",
       "    <tr>\n",
       "      <th>...</th>\n",
       "      <td>...</td>\n",
       "      <td>...</td>\n",
       "    </tr>\n",
       "    <tr>\n",
       "      <th>115</th>\n",
       "      <td>{'year': 1891}</td>\n",
       "      <td>6</td>\n",
       "    </tr>\n",
       "    <tr>\n",
       "      <th>116</th>\n",
       "      <td>{'year': 1890}</td>\n",
       "      <td>3</td>\n",
       "    </tr>\n",
       "    <tr>\n",
       "      <th>117</th>\n",
       "      <td>{'year': 1893}</td>\n",
       "      <td>2</td>\n",
       "    </tr>\n",
       "    <tr>\n",
       "      <th>118</th>\n",
       "      <td>{'year': 1888}</td>\n",
       "      <td>2</td>\n",
       "    </tr>\n",
       "    <tr>\n",
       "      <th>119</th>\n",
       "      <td>{'year': 2008}</td>\n",
       "      <td>1</td>\n",
       "    </tr>\n",
       "  </tbody>\n",
       "</table>\n",
       "<p>120 rows × 2 columns</p>\n",
       "</div>"
      ],
      "text/plain": [
       "                _id  count\n",
       "0    {'year': 2002}  10337\n",
       "1    {'year': 2003}  10119\n",
       "2    {'year': 2000}  10107\n",
       "3    {'year': 2001}  10002\n",
       "4    {'year': 1999}   9389\n",
       "..              ...    ...\n",
       "115  {'year': 1891}      6\n",
       "116  {'year': 1890}      3\n",
       "117  {'year': 1893}      2\n",
       "118  {'year': 1888}      2\n",
       "119  {'year': 2008}      1\n",
       "\n",
       "[120 rows x 2 columns]"
      ]
     },
     "execution_count": 10,
     "metadata": {},
     "output_type": "execute_result"
    }
   ],
   "source": [
    "pandas.DataFrame(db.imdb_movies.aggregate([\n",
    "{'$group': {\n",
    "      '_id': { 'year' : \"$year\" },\n",
    "        'count': { '$count': { } },\n",
    "    }},\n",
    "{'$sort' : { 'count': -1 }\n",
    " }\n",
    "]))"
   ]
  },
  {
   "cell_type": "markdown",
   "id": "71d8aafa",
   "metadata": {},
   "source": [
    "*write your answer here*"
   ]
  },
  {
   "cell_type": "markdown",
   "id": "412a5096-7370-4191-a0ff-7fc09b4c9581",
   "metadata": {
    "slideshow": {
     "slide_type": "slide"
    }
   },
   "source": [
    "**Problem 3b**\n",
    "\n",
    "How many \"Action\" movies where made after the year 1980? Before the year 1980?"
   ]
  },
  {
   "cell_type": "code",
   "execution_count": 11,
   "id": "6c3eb8ed-8fbc-4267-b255-d2ef444146c6",
   "metadata": {},
   "outputs": [
    {
     "data": {
      "text/html": [
       "<div>\n",
       "<style scoped>\n",
       "    .dataframe tbody tr th:only-of-type {\n",
       "        vertical-align: middle;\n",
       "    }\n",
       "\n",
       "    .dataframe tbody tr th {\n",
       "        vertical-align: top;\n",
       "    }\n",
       "\n",
       "    .dataframe thead th {\n",
       "        text-align: right;\n",
       "    }\n",
       "</style>\n",
       "<table border=\"1\" class=\"dataframe\">\n",
       "  <thead>\n",
       "    <tr style=\"text-align: right;\">\n",
       "      <th></th>\n",
       "      <th>_id</th>\n",
       "      <th>count</th>\n",
       "    </tr>\n",
       "  </thead>\n",
       "  <tbody>\n",
       "    <tr>\n",
       "      <th>0</th>\n",
       "      <td>{'genre': 'Mystery'}</td>\n",
       "      <td>2122</td>\n",
       "    </tr>\n",
       "    <tr>\n",
       "      <th>1</th>\n",
       "      <td>{'genre': 'Thriller'}</td>\n",
       "      <td>7503</td>\n",
       "    </tr>\n",
       "    <tr>\n",
       "      <th>2</th>\n",
       "      <td>{'genre': 'Comedy'}</td>\n",
       "      <td>21169</td>\n",
       "    </tr>\n",
       "    <tr>\n",
       "      <th>3</th>\n",
       "      <td>{'genre': 'Drama'}</td>\n",
       "      <td>32463</td>\n",
       "    </tr>\n",
       "    <tr>\n",
       "      <th>4</th>\n",
       "      <td>{'genre': 'Horror'}</td>\n",
       "      <td>4700</td>\n",
       "    </tr>\n",
       "    <tr>\n",
       "      <th>5</th>\n",
       "      <td>{'genre': 'Crime'}</td>\n",
       "      <td>5881</td>\n",
       "    </tr>\n",
       "    <tr>\n",
       "      <th>6</th>\n",
       "      <td>{'genre': 'Romance'}</td>\n",
       "      <td>6208</td>\n",
       "    </tr>\n",
       "    <tr>\n",
       "      <th>7</th>\n",
       "      <td>{'genre': 'Adventure'}</td>\n",
       "      <td>4030</td>\n",
       "    </tr>\n",
       "    <tr>\n",
       "      <th>8</th>\n",
       "      <td>{'genre': 'Sci-Fi'}</td>\n",
       "      <td>3420</td>\n",
       "    </tr>\n",
       "    <tr>\n",
       "      <th>9</th>\n",
       "      <td>{'genre': 'Adult'}</td>\n",
       "      <td>6437</td>\n",
       "    </tr>\n",
       "    <tr>\n",
       "      <th>10</th>\n",
       "      <td>{'genre': 'Fantasy'}</td>\n",
       "      <td>3331</td>\n",
       "    </tr>\n",
       "    <tr>\n",
       "      <th>11</th>\n",
       "      <td>{'genre': 'Musical'}</td>\n",
       "      <td>1729</td>\n",
       "    </tr>\n",
       "    <tr>\n",
       "      <th>12</th>\n",
       "      <td>{'genre': 'Short'}</td>\n",
       "      <td>30189</td>\n",
       "    </tr>\n",
       "    <tr>\n",
       "      <th>13</th>\n",
       "      <td>{'genre': 'Family'}</td>\n",
       "      <td>5075</td>\n",
       "    </tr>\n",
       "    <tr>\n",
       "      <th>14</th>\n",
       "      <td>{'genre': 'Animation'}</td>\n",
       "      <td>6359</td>\n",
       "    </tr>\n",
       "    <tr>\n",
       "      <th>15</th>\n",
       "      <td>{'genre': 'War'}</td>\n",
       "      <td>1382</td>\n",
       "    </tr>\n",
       "    <tr>\n",
       "      <th>16</th>\n",
       "      <td>{'genre': 'Western'}</td>\n",
       "      <td>451</td>\n",
       "    </tr>\n",
       "    <tr>\n",
       "      <th>17</th>\n",
       "      <td>{'genre': 'Action'}</td>\n",
       "      <td>10135</td>\n",
       "    </tr>\n",
       "    <tr>\n",
       "      <th>18</th>\n",
       "      <td>{'genre': 'Documentary'}</td>\n",
       "      <td>20871</td>\n",
       "    </tr>\n",
       "    <tr>\n",
       "      <th>19</th>\n",
       "      <td>{'genre': 'Music'}</td>\n",
       "      <td>3799</td>\n",
       "    </tr>\n",
       "  </tbody>\n",
       "</table>\n",
       "</div>"
      ],
      "text/plain": [
       "                         _id  count\n",
       "0       {'genre': 'Mystery'}   2122\n",
       "1      {'genre': 'Thriller'}   7503\n",
       "2        {'genre': 'Comedy'}  21169\n",
       "3         {'genre': 'Drama'}  32463\n",
       "4        {'genre': 'Horror'}   4700\n",
       "5         {'genre': 'Crime'}   5881\n",
       "6       {'genre': 'Romance'}   6208\n",
       "7     {'genre': 'Adventure'}   4030\n",
       "8        {'genre': 'Sci-Fi'}   3420\n",
       "9         {'genre': 'Adult'}   6437\n",
       "10      {'genre': 'Fantasy'}   3331\n",
       "11      {'genre': 'Musical'}   1729\n",
       "12        {'genre': 'Short'}  30189\n",
       "13       {'genre': 'Family'}   5075\n",
       "14    {'genre': 'Animation'}   6359\n",
       "15          {'genre': 'War'}   1382\n",
       "16      {'genre': 'Western'}    451\n",
       "17       {'genre': 'Action'}  10135\n",
       "18  {'genre': 'Documentary'}  20871\n",
       "19        {'genre': 'Music'}   3799"
      ]
     },
     "execution_count": 11,
     "metadata": {},
     "output_type": "execute_result"
    }
   ],
   "source": [
    "pandas.DataFrame(db.imdb_movies_genres.aggregate([\n",
    "{'$match' : { 'year': {'$gt' : 1980} }},\n",
    "{'$group': {\n",
    "      '_id': { 'genre' : \"$genre\" },\n",
    "        'count': { '$count': { } },\n",
    "    }},\n",
    "]))"
   ]
  },
  {
   "cell_type": "code",
   "execution_count": 12,
   "id": "2730beff-369a-4c73-a577-4c27fdc72050",
   "metadata": {},
   "outputs": [
    {
     "data": {
      "text/html": [
       "<div>\n",
       "<style scoped>\n",
       "    .dataframe tbody tr th:only-of-type {\n",
       "        vertical-align: middle;\n",
       "    }\n",
       "\n",
       "    .dataframe tbody tr th {\n",
       "        vertical-align: top;\n",
       "    }\n",
       "\n",
       "    .dataframe thead th {\n",
       "        text-align: right;\n",
       "    }\n",
       "</style>\n",
       "<table border=\"1\" class=\"dataframe\">\n",
       "  <thead>\n",
       "    <tr style=\"text-align: right;\">\n",
       "      <th></th>\n",
       "      <th>_id</th>\n",
       "      <th>count</th>\n",
       "    </tr>\n",
       "  </thead>\n",
       "  <tbody>\n",
       "    <tr>\n",
       "      <th>0</th>\n",
       "      <td>{'genre': 'Mystery'}</td>\n",
       "      <td>2696</td>\n",
       "    </tr>\n",
       "    <tr>\n",
       "      <th>1</th>\n",
       "      <td>{'genre': 'Thriller'}</td>\n",
       "      <td>2906</td>\n",
       "    </tr>\n",
       "    <tr>\n",
       "      <th>2</th>\n",
       "      <td>{'genre': 'Comedy'}</td>\n",
       "      <td>34782</td>\n",
       "    </tr>\n",
       "    <tr>\n",
       "      <th>3</th>\n",
       "      <td>{'genre': 'Film-Noir'}</td>\n",
       "      <td>410</td>\n",
       "    </tr>\n",
       "    <tr>\n",
       "      <th>4</th>\n",
       "      <td>{'genre': 'Drama'}</td>\n",
       "      <td>39520</td>\n",
       "    </tr>\n",
       "    <tr>\n",
       "      <th>5</th>\n",
       "      <td>{'genre': 'Crime'}</td>\n",
       "      <td>6490</td>\n",
       "    </tr>\n",
       "    <tr>\n",
       "      <th>6</th>\n",
       "      <td>{'genre': 'Horror'}</td>\n",
       "      <td>2239</td>\n",
       "    </tr>\n",
       "    <tr>\n",
       "      <th>7</th>\n",
       "      <td>{'genre': 'Romance'}</td>\n",
       "      <td>7301</td>\n",
       "    </tr>\n",
       "    <tr>\n",
       "      <th>8</th>\n",
       "      <td>{'genre': 'Adult'}</td>\n",
       "      <td>835</td>\n",
       "    </tr>\n",
       "    <tr>\n",
       "      <th>9</th>\n",
       "      <td>{'genre': 'Sci-Fi'}</td>\n",
       "      <td>1405</td>\n",
       "    </tr>\n",
       "    <tr>\n",
       "      <th>10</th>\n",
       "      <td>{'genre': 'Adventure'}</td>\n",
       "      <td>4640</td>\n",
       "    </tr>\n",
       "    <tr>\n",
       "      <th>11</th>\n",
       "      <td>{'genre': 'Fantasy'}</td>\n",
       "      <td>1687</td>\n",
       "    </tr>\n",
       "    <tr>\n",
       "      <th>12</th>\n",
       "      <td>{'genre': 'Musical'}</td>\n",
       "      <td>5162</td>\n",
       "    </tr>\n",
       "    <tr>\n",
       "      <th>13</th>\n",
       "      <td>{'genre': 'Animation'}</td>\n",
       "      <td>11139</td>\n",
       "    </tr>\n",
       "    <tr>\n",
       "      <th>14</th>\n",
       "      <td>{'genre': 'Family'}</td>\n",
       "      <td>5872</td>\n",
       "    </tr>\n",
       "    <tr>\n",
       "      <th>15</th>\n",
       "      <td>{'genre': 'Short'}</td>\n",
       "      <td>50295</td>\n",
       "    </tr>\n",
       "    <tr>\n",
       "      <th>16</th>\n",
       "      <td>{'genre': 'War'}</td>\n",
       "      <td>2925</td>\n",
       "    </tr>\n",
       "    <tr>\n",
       "      <th>17</th>\n",
       "      <td>{'genre': 'Western'}</td>\n",
       "      <td>7889</td>\n",
       "    </tr>\n",
       "    <tr>\n",
       "      <th>18</th>\n",
       "      <td>{'genre': 'Action'}</td>\n",
       "      <td>4090</td>\n",
       "    </tr>\n",
       "    <tr>\n",
       "      <th>19</th>\n",
       "      <td>{'genre': 'Documentary'}</td>\n",
       "      <td>20007</td>\n",
       "    </tr>\n",
       "    <tr>\n",
       "      <th>20</th>\n",
       "      <td>{'genre': 'Music'}</td>\n",
       "      <td>1670</td>\n",
       "    </tr>\n",
       "  </tbody>\n",
       "</table>\n",
       "</div>"
      ],
      "text/plain": [
       "                         _id  count\n",
       "0       {'genre': 'Mystery'}   2696\n",
       "1      {'genre': 'Thriller'}   2906\n",
       "2        {'genre': 'Comedy'}  34782\n",
       "3     {'genre': 'Film-Noir'}    410\n",
       "4         {'genre': 'Drama'}  39520\n",
       "5         {'genre': 'Crime'}   6490\n",
       "6        {'genre': 'Horror'}   2239\n",
       "7       {'genre': 'Romance'}   7301\n",
       "8         {'genre': 'Adult'}    835\n",
       "9        {'genre': 'Sci-Fi'}   1405\n",
       "10    {'genre': 'Adventure'}   4640\n",
       "11      {'genre': 'Fantasy'}   1687\n",
       "12      {'genre': 'Musical'}   5162\n",
       "13    {'genre': 'Animation'}  11139\n",
       "14       {'genre': 'Family'}   5872\n",
       "15        {'genre': 'Short'}  50295\n",
       "16          {'genre': 'War'}   2925\n",
       "17      {'genre': 'Western'}   7889\n",
       "18       {'genre': 'Action'}   4090\n",
       "19  {'genre': 'Documentary'}  20007\n",
       "20        {'genre': 'Music'}   1670"
      ]
     },
     "execution_count": 12,
     "metadata": {},
     "output_type": "execute_result"
    }
   ],
   "source": [
    "pandas.DataFrame(db.imdb_movies_genres.aggregate([\n",
    "{'$match' : { 'year': {'$lt' : 1980} }},\n",
    "{'$group': {\n",
    "      '_id': { 'genre' : \"$genre\" },\n",
    "        'count': { '$count': { } },\n",
    "    }},\n",
    "]))"
   ]
  },
  {
   "cell_type": "markdown",
   "id": "f5b7cc4d-511a-4b7a-8f22-1c012d5e85d0",
   "metadata": {},
   "source": [
    "*write your answer here*"
   ]
  },
  {
   "cell_type": "markdown",
   "id": "dbd359c1-4220-4d23-8a2c-0b0caf2c0428",
   "metadata": {
    "slideshow": {
     "slide_type": "slide"
    }
   },
   "source": [
    "**Problem 3c**\n",
    "\n",
    "Select all films made by `Scorsese`. How many are there?"
   ]
  },
  {
   "cell_type": "code",
   "execution_count": 13,
   "id": "48e05be5-8e45-47e1-a6a1-d741db56ba8c",
   "metadata": {},
   "outputs": [
    {
     "name": "stderr",
     "output_type": "stream",
     "text": [
      "<ipython-input-13-a4d6fe10e67a>:1: DeprecationWarning: count is deprecated. Use Collection.count_documents instead.\n",
      "  db.imdb_movies_directors.find({\"first_name\" : \"Martin\", \"last_name\" : \"Scorsese\"}).count()\n"
     ]
    },
    {
     "data": {
      "text/plain": [
       "38"
      ]
     },
     "execution_count": 13,
     "metadata": {},
     "output_type": "execute_result"
    }
   ],
   "source": [
    "db.imdb_movies_directors.find({\"first_name\" : \"Martin\", \"last_name\" : \"Scorsese\"}).count()"
   ]
  },
  {
   "cell_type": "markdown",
   "id": "efbb3935-7fbc-43d4-b4d6-860efdf33d0b",
   "metadata": {},
   "source": [
    "*write your answer here*"
   ]
  },
  {
   "cell_type": "markdown",
   "id": "8af9b49b-b2f7-433c-ab3c-ce5dc70791e3",
   "metadata": {
    "slideshow": {
     "slide_type": "slide"
    }
   },
   "source": [
    "**Problem 3c**\n",
    "\n",
    "According the the IMDb data, which director has directed the most movies?"
   ]
  },
  {
   "cell_type": "code",
   "execution_count": 14,
   "id": "037ac64c-f67d-4dad-bf6e-cc3040d14bf4",
   "metadata": {},
   "outputs": [
    {
     "data": {
      "text/html": [
       "<div>\n",
       "<style scoped>\n",
       "    .dataframe tbody tr th:only-of-type {\n",
       "        vertical-align: middle;\n",
       "    }\n",
       "\n",
       "    .dataframe tbody tr th {\n",
       "        vertical-align: top;\n",
       "    }\n",
       "\n",
       "    .dataframe thead th {\n",
       "        text-align: right;\n",
       "    }\n",
       "</style>\n",
       "<table border=\"1\" class=\"dataframe\">\n",
       "  <thead>\n",
       "    <tr style=\"text-align: right;\">\n",
       "      <th></th>\n",
       "      <th>_id</th>\n",
       "      <th>count</th>\n",
       "    </tr>\n",
       "  </thead>\n",
       "  <tbody>\n",
       "    <tr>\n",
       "      <th>0</th>\n",
       "      <td>{'director_id': 25116, 'last_name': 'Fleischer'}</td>\n",
       "      <td>615</td>\n",
       "    </tr>\n",
       "    <tr>\n",
       "      <th>1</th>\n",
       "      <td>{'director_id': 56530, 'last_name': 'Méliès'}</td>\n",
       "      <td>554</td>\n",
       "    </tr>\n",
       "    <tr>\n",
       "      <th>2</th>\n",
       "      <td>{'director_id': 30570, 'last_name': 'Griffith'}</td>\n",
       "      <td>530</td>\n",
       "    </tr>\n",
       "    <tr>\n",
       "      <th>3</th>\n",
       "      <td>{'director_id': 1958, 'last_name': 'Anderson'}</td>\n",
       "      <td>360</td>\n",
       "    </tr>\n",
       "    <tr>\n",
       "      <th>4</th>\n",
       "      <td>{'director_id': 24576, 'last_name': 'Feuillade'}</td>\n",
       "      <td>345</td>\n",
       "    </tr>\n",
       "    <tr>\n",
       "      <th>...</th>\n",
       "      <td>...</td>\n",
       "      <td>...</td>\n",
       "    </tr>\n",
       "    <tr>\n",
       "      <th>77429</th>\n",
       "      <td>{'director_id': 6447, 'last_name': 'Berg-Hilli...</td>\n",
       "      <td>1</td>\n",
       "    </tr>\n",
       "    <tr>\n",
       "      <th>77430</th>\n",
       "      <td>{'director_id': 85285, 'last_name': 'White'}</td>\n",
       "      <td>1</td>\n",
       "    </tr>\n",
       "    <tr>\n",
       "      <th>77431</th>\n",
       "      <td>{'director_id': 9571, 'last_name': 'Brennan'}</td>\n",
       "      <td>1</td>\n",
       "    </tr>\n",
       "    <tr>\n",
       "      <th>77432</th>\n",
       "      <td>{'director_id': 51227, 'last_name': 'Masseroni'}</td>\n",
       "      <td>1</td>\n",
       "    </tr>\n",
       "    <tr>\n",
       "      <th>77433</th>\n",
       "      <td>{'director_id': 60547, 'last_name': 'Papakonst...</td>\n",
       "      <td>1</td>\n",
       "    </tr>\n",
       "  </tbody>\n",
       "</table>\n",
       "<p>77434 rows × 2 columns</p>\n",
       "</div>"
      ],
      "text/plain": [
       "                                                     _id  count\n",
       "0       {'director_id': 25116, 'last_name': 'Fleischer'}    615\n",
       "1          {'director_id': 56530, 'last_name': 'Méliès'}    554\n",
       "2        {'director_id': 30570, 'last_name': 'Griffith'}    530\n",
       "3         {'director_id': 1958, 'last_name': 'Anderson'}    360\n",
       "4       {'director_id': 24576, 'last_name': 'Feuillade'}    345\n",
       "...                                                  ...    ...\n",
       "77429  {'director_id': 6447, 'last_name': 'Berg-Hilli...      1\n",
       "77430       {'director_id': 85285, 'last_name': 'White'}      1\n",
       "77431      {'director_id': 9571, 'last_name': 'Brennan'}      1\n",
       "77432   {'director_id': 51227, 'last_name': 'Masseroni'}      1\n",
       "77433  {'director_id': 60547, 'last_name': 'Papakonst...      1\n",
       "\n",
       "[77434 rows x 2 columns]"
      ]
     },
     "execution_count": 14,
     "metadata": {},
     "output_type": "execute_result"
    }
   ],
   "source": [
    "pandas.DataFrame(db.imdb_movies_directors.aggregate([\n",
    "{'$group': {\n",
    "      '_id': { 'director_id' : \"$director_id\" , 'last_name': \"$last_name\"},\n",
    "        'count': { '$count': { } },\n",
    "    }},\n",
    "    {'$sort' : { 'count': -1 }},\n",
    "]))\n"
   ]
  },
  {
   "cell_type": "markdown",
   "id": "e9e4b01c-a043-4ab7-8ef6-a1b8a4a6c39f",
   "metadata": {},
   "source": [
    "*write your answer here*"
   ]
  },
  {
   "cell_type": "markdown",
   "id": "aaaa4de6-e7ec-411b-83e3-ea0f0e6a3992",
   "metadata": {
    "slideshow": {
     "slide_type": "slide"
    }
   },
   "source": [
    "**Problem 3d**\n",
    "\n",
    "According the the IMDb data, which director has directed the most movies in each genre?"
   ]
  },
  {
   "cell_type": "code",
   "execution_count": 15,
   "id": "490fec59-b4b3-445e-b3a3-0fd91714ccf7",
   "metadata": {},
   "outputs": [
    {
     "data": {
      "text/html": [
       "<div>\n",
       "<style scoped>\n",
       "    .dataframe tbody tr th:only-of-type {\n",
       "        vertical-align: middle;\n",
       "    }\n",
       "\n",
       "    .dataframe tbody tr th {\n",
       "        vertical-align: top;\n",
       "    }\n",
       "\n",
       "    .dataframe thead th {\n",
       "        text-align: right;\n",
       "    }\n",
       "</style>\n",
       "<table border=\"1\" class=\"dataframe\">\n",
       "  <thead>\n",
       "    <tr style=\"text-align: right;\">\n",
       "      <th></th>\n",
       "      <th>_id</th>\n",
       "      <th>count</th>\n",
       "    </tr>\n",
       "  </thead>\n",
       "  <tbody>\n",
       "    <tr>\n",
       "      <th>0</th>\n",
       "      <td>{'last_name': 'Fleischer', 'genre': 'Animation...</td>\n",
       "      <td>611</td>\n",
       "    </tr>\n",
       "    <tr>\n",
       "      <th>1</th>\n",
       "      <td>{'last_name': 'Fleischer', 'genre': 'Short', '...</td>\n",
       "      <td>604</td>\n",
       "    </tr>\n",
       "    <tr>\n",
       "      <th>2</th>\n",
       "      <td>{'last_name': 'Méliès', 'genre': 'Short', 'dir...</td>\n",
       "      <td>454</td>\n",
       "    </tr>\n",
       "    <tr>\n",
       "      <th>3</th>\n",
       "      <td>{'last_name': 'Griffith', 'genre': 'Short', 'd...</td>\n",
       "      <td>448</td>\n",
       "    </tr>\n",
       "    <tr>\n",
       "      <th>4</th>\n",
       "      <td>{'last_name': 'Kneitel', 'genre': 'Animation',...</td>\n",
       "      <td>315</td>\n",
       "    </tr>\n",
       "    <tr>\n",
       "      <th>...</th>\n",
       "      <td>...</td>\n",
       "      <td>...</td>\n",
       "    </tr>\n",
       "    <tr>\n",
       "      <th>154773</th>\n",
       "      <td>{'last_name': 'Rioyo', 'genre': 'War', 'direct...</td>\n",
       "      <td>1</td>\n",
       "    </tr>\n",
       "    <tr>\n",
       "      <th>154774</th>\n",
       "      <td>{'last_name': 'Segar', 'genre': 'Western', 'di...</td>\n",
       "      <td>1</td>\n",
       "    </tr>\n",
       "    <tr>\n",
       "      <th>154775</th>\n",
       "      <td>{'last_name': 'Dubinkin', 'genre': 'Drama', 'd...</td>\n",
       "      <td>1</td>\n",
       "    </tr>\n",
       "    <tr>\n",
       "      <th>154776</th>\n",
       "      <td>{'last_name': 'Heeley', 'genre': 'Music', 'dir...</td>\n",
       "      <td>1</td>\n",
       "    </tr>\n",
       "    <tr>\n",
       "      <th>154777</th>\n",
       "      <td>{'last_name': 'Popovic', 'genre': 'Short', 'di...</td>\n",
       "      <td>1</td>\n",
       "    </tr>\n",
       "  </tbody>\n",
       "</table>\n",
       "<p>154778 rows × 2 columns</p>\n",
       "</div>"
      ],
      "text/plain": [
       "                                                      _id  count\n",
       "0       {'last_name': 'Fleischer', 'genre': 'Animation...    611\n",
       "1       {'last_name': 'Fleischer', 'genre': 'Short', '...    604\n",
       "2       {'last_name': 'Méliès', 'genre': 'Short', 'dir...    454\n",
       "3       {'last_name': 'Griffith', 'genre': 'Short', 'd...    448\n",
       "4       {'last_name': 'Kneitel', 'genre': 'Animation',...    315\n",
       "...                                                   ...    ...\n",
       "154773  {'last_name': 'Rioyo', 'genre': 'War', 'direct...      1\n",
       "154774  {'last_name': 'Segar', 'genre': 'Western', 'di...      1\n",
       "154775  {'last_name': 'Dubinkin', 'genre': 'Drama', 'd...      1\n",
       "154776  {'last_name': 'Heeley', 'genre': 'Music', 'dir...      1\n",
       "154777  {'last_name': 'Popovic', 'genre': 'Short', 'di...      1\n",
       "\n",
       "[154778 rows x 2 columns]"
      ]
     },
     "execution_count": 15,
     "metadata": {},
     "output_type": "execute_result"
    }
   ],
   "source": [
    "pandas.DataFrame(db.imdb_movies_directors_genres.aggregate([\n",
    "{'$group': {\n",
    "      '_id': { 'last_name': \"$last_name\", 'genre': \"$genre\", 'director_id' : \"$director_id\" , },\n",
    "        'count': { '$count': { } },\n",
    "    }},\n",
    "        {'$sort' : { 'count': -1 }},\n",
    "]))\n"
   ]
  },
  {
   "cell_type": "markdown",
   "id": "7da2c752-3f3d-44ee-8e8c-075aa9d87dc9",
   "metadata": {},
   "source": [
    "*write your answer here*"
   ]
  },
  {
   "cell_type": "markdown",
   "id": "56a386a8",
   "metadata": {
    "slideshow": {
     "slide_type": "slide"
    }
   },
   "source": [
    "## Challenge Problem) Make your own tables"
   ]
  },
  {
   "cell_type": "markdown",
   "id": "7d248de8-d4c1-432f-b684-824f92e4170b",
   "metadata": {
    "slideshow": {
     "slide_type": "slide"
    }
   },
   "source": [
    "**Problem 1a**\n",
    "\n",
    "Create a new \"collection\"."
   ]
  },
  {
   "cell_type": "code",
   "execution_count": 23,
   "id": "0b5de22d-a6fd-40cc-b049-e9c80096d6fd",
   "metadata": {},
   "outputs": [],
   "source": [
    "new_collection = db[\"new_collection\"]"
   ]
  },
  {
   "cell_type": "markdown",
   "id": "22230b1a-c201-4e9e-a6a5-e7d73e48f73d",
   "metadata": {
    "slideshow": {
     "slide_type": "slide"
    }
   },
   "source": [
    "**Problem 1b**\n",
    "\n",
    "INSERT 3 \"documentions\" into the \"collection you made above"
   ]
  },
  {
   "cell_type": "code",
   "execution_count": 24,
   "id": "f3729463-01a9-4a95-bb12-688ad87c0ef7",
   "metadata": {},
   "outputs": [
    {
     "data": {
      "text/plain": [
       "<pymongo.results.InsertOneResult at 0x7f5ebe465240>"
      ]
     },
     "execution_count": 24,
     "metadata": {},
     "output_type": "execute_result"
    }
   ],
   "source": [
    "new_collection.insert_one({\"user_id\" :  \"abc123\"})\n",
    "new_collection.insert_one({\"user_id\" :  \"axyz123\"})\n",
    "new_collection.insert_one({\"user_id\" :  \"456123\"})"
   ]
  },
  {
   "cell_type": "markdown",
   "id": "e824e54e-1537-465e-8491-34e8f13d92c3",
   "metadata": {
    "slideshow": {
     "slide_type": "slide"
    }
   },
   "source": [
    "**Problem 1c**\n",
    "\n",
    "Create a pandas DataFrame and save the rows as \"documents\" in a new \"collection\" you make\n",
    "\n",
    "*** hint look at using `pandas.to_dict` ****"
   ]
  },
  {
   "cell_type": "code",
   "execution_count": null,
   "id": "7c5ad202-7105-4da0-acc5-855c7d7fc4b6",
   "metadata": {},
   "outputs": [],
   "source": []
  }
 ],
 "metadata": {
  "celltoolbar": "Slideshow",
  "kernelspec": {
   "display_name": "Python 3",
   "language": "python",
   "name": "python3"
  },
  "language_info": {
   "codemirror_mode": {
    "name": "ipython",
    "version": 3
   },
   "file_extension": ".py",
   "mimetype": "text/x-python",
   "name": "python",
   "nbconvert_exporter": "python",
   "pygments_lexer": "ipython3",
   "version": "3.9.12"
  },
  "livereveal": {
   "height": 768,
   "scroll": true,
   "start_slideshow_at": "selected",
   "theme": "solarized",
   "width": 1024
  }
 },
 "nbformat": 4,
 "nbformat_minor": 5
}
