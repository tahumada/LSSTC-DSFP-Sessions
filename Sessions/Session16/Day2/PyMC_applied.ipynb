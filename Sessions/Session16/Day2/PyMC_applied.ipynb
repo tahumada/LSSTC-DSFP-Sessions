{
 "cells": [
  {
   "cell_type": "markdown",
   "id": "0b698713",
   "metadata": {},
   "source": [
    "## PyMC Applied to Real Data\n",
    "LSSTC Data Science Fellowship Program Session 16\n",
    "\n",
    "**Jiayin Dong**, Flatiron Research Fellow\n",
    "\n",
    "CCA, Flatiron Institute\n",
    "\n",
    "September 2022\n",
    "\n",
    "---\n",
    "\n",
    "PyMC is a powerful probablity programming package that makes gradient-based proposals to MCMC. In the problem set, we will apply the PyMC to real astrophysical data. We will model the mass-radius relation of small exoplanets around M-dwarfs."
   ]
  },
  {
   "cell_type": "code",
   "execution_count": null,
   "id": "809d7311",
   "metadata": {},
   "outputs": [],
   "source": [
    "%matplotlib notebook\n",
    "import numpy as np\n",
    "import matplotlib.pyplot as plt\n",
    "import scipy.stats as stats\n",
    "import pymc as pm\n",
    "import arviz as az\n",
    "import corner\n",
    "import pandas as pd"
   ]
  },
  {
   "cell_type": "code",
   "execution_count": null,
   "id": "bb86facf",
   "metadata": {},
   "outputs": [],
   "source": [
    "from matplotlib import rc\n",
    "rc('font', **{'family':'sans-serif'})\n",
    "rc('text', usetex=True)"
   ]
  },
  {
   "cell_type": "markdown",
   "id": "764396f1",
   "metadata": {},
   "source": [
    "### Problem 1: Fit a straight line to data (again!)\n",
    "\n",
    "Before jumping to the problem, let's first review the straight line problem in PyMC."
   ]
  },
  {
   "cell_type": "code",
   "execution_count": null,
   "id": "e5248efe",
   "metadata": {},
   "outputs": [],
   "source": [
    "np.random.seed(42)\n",
    "\n",
    "x = np.linspace(-1,1,10)\n",
    "\n",
    "m_true = 1.\n",
    "b_true = 0.5\n",
    "y_true = m_true*x + b_true\n",
    "\n",
    "σ = 0.2\n",
    "\n",
    "y_obs = y_true + np.random.normal(size=len(y_true))*σ"
   ]
  },
  {
   "cell_type": "code",
   "execution_count": null,
   "id": "7f6d6228",
   "metadata": {},
   "outputs": [],
   "source": [
    "plt.figure(figsize=(4,2.7),dpi=110)\n",
    "plt.errorbar(x, y_obs, yerr=σ, linestyle='', fmt='o', c='k')\n",
    "plt.plot(x, y_true, c='grey', lw=1, zorder=0)\n",
    "plt.ylabel('y')\n",
    "plt.xlabel('x')\n",
    "plt.tight_layout()\n",
    "plt.show()"
   ]
  },
  {
   "cell_type": "code",
   "execution_count": null,
   "id": "1f0fe22a",
   "metadata": {},
   "outputs": [],
   "source": [
    "with pm.Model() as model:\n",
    "    \n",
    "    # priors\n",
    "    m = pm.Uniform('m', lower=0., upper=2.)  # m ~ Uniform(0,2)\n",
    "    b = pm.Uniform('b', lower=0., upper=1.)  # b ~ Uniform(0,1)\n",
    "\n",
    "    y_true = pm.Deterministic('y_true', m*x+b)\n",
    "    \n",
    "    # log_likelihood\n",
    "    logl = pm.Normal('logl', mu=y_true, sigma=σ, observed=y_obs)"
   ]
  },
  {
   "cell_type": "code",
   "execution_count": null,
   "id": "168d5613",
   "metadata": {},
   "outputs": [],
   "source": [
    "pm.model_to_graphviz(model)"
   ]
  },
  {
   "cell_type": "code",
   "execution_count": null,
   "id": "72ebacf4",
   "metadata": {
    "scrolled": true
   },
   "outputs": [],
   "source": [
    "with model:\n",
    "    idata = pm.sample()"
   ]
  },
  {
   "cell_type": "code",
   "execution_count": null,
   "id": "b7d6b026",
   "metadata": {},
   "outputs": [],
   "source": [
    "az.plot_trace(idata, var_names=['m','b'], figsize=(7,4))\n",
    "plt.tight_layout()"
   ]
  },
  {
   "cell_type": "code",
   "execution_count": null,
   "id": "b5913f36",
   "metadata": {
    "scrolled": false
   },
   "outputs": [],
   "source": [
    "fig = corner.corner(idata, var_names=['m','b'], labels=[\"m\", \"b\"], truths=[m_true, b_true])\n",
    "fig.set_size_inches(3.5, 3.5)"
   ]
  },
  {
   "cell_type": "markdown",
   "id": "06681906",
   "metadata": {},
   "source": [
    "### Problem 2: The Mass-Radius Relation for Small Exoplanets\n",
    "\n",
    "The mass-radius relation is a relationship between the radius $R$ of an exoplanet and its mass $M$. We usually call planets smaller than the Neptune size $(R < 4 R_{\\oplus})$ small planets. In the Solar System, we don't have any planets between the Earth and Neptune sizes ($ 1-4 R_{\\oplus}$), whereas in extrasolar systems, plenty of planets with radii in the range are observed. Thus, it's extremely intriguing to study the compositions of these planets and understand why we don't have one in the Solar System.\n",
    "\n",
    "In this problem, you will work on one of the most exciting exoplanet advances this year, the mass-radius relation for small exoplanets around M-dwarfs. The paper was just published 11 days ago by [Luque et al., Science 377, 1211 (2022)](https://ui.adsabs.harvard.edu/abs/2022arXiv220903871L/abstract). We will reproduce some of their results using the PyMC."
   ]
  },
  {
   "cell_type": "code",
   "execution_count": null,
   "id": "35d4be38",
   "metadata": {},
   "outputs": [],
   "source": [
    "## Download the dataset from Luque et al. 2022\n",
    "data = pd.read_csv(\"https://carmenes.caha.es/ext/tmp/TMP.csv\")\n",
    "data.head()"
   ]
  },
  {
   "cell_type": "code",
   "execution_count": null,
   "id": "c120c64e",
   "metadata": {},
   "outputs": [],
   "source": [
    "data.columns"
   ]
  },
  {
   "cell_type": "code",
   "execution_count": null,
   "id": "2587d0aa",
   "metadata": {},
   "outputs": [],
   "source": [
    "## Extract mass and radius and their uncertainties from the data; both M and R are in Earth unit \n",
    "M = data.M_Mterra\n",
    "R = data.R_Rterra\n",
    "\n",
    "err_M = (data.edM_Mterra+data.euM_Mterra)/2  # Assume the + and - errors on M and R are symmetric.\n",
    "err_R = (data.edR_Rterra+data.euR_Rterra)/2"
   ]
  },
  {
   "cell_type": "code",
   "execution_count": null,
   "id": "5589a9a4",
   "metadata": {},
   "outputs": [],
   "source": [
    "## Plot the mass and radius of small planets around M-dwarfs\n",
    "plt.figure(figsize=(5,4),dpi=110)\n",
    "plt.errorbar(M, R, xerr=err_M, yerr=err_R,\n",
    "             linestyle='', fmt='o', markersize=4, elinewidth=1.2, capsize=1.2, c='grey')\n",
    "plt.scatter(M, R, c=data['rho_gcm-3'], zorder=100, cmap='plasma_r')\n",
    "plt.xscale('log')\n",
    "plt.xlabel('Mass [Earth mass]')\n",
    "plt.ylabel('Radius [Earth radius]')\n",
    "plt.colorbar(label=r'Density [g/cm$^3$]')\n",
    "plt.tight_layout()\n",
    "plt.show()"
   ]
  },
  {
   "cell_type": "markdown",
   "id": "9334c980",
   "metadata": {},
   "source": [
    "Ponder that for a moment. What do you observe? Do you see any trends in planets' compositions?\n",
    "\n",
    "Exoplaneteers made up cute names to describe planets in different compositions.\n",
    "- \"Rocky world\" if a planet has a bulk density similar to the Earth.\n",
    "- \"Water world\" if a planet has a bulk density consistent with 50% rocky and 50% water ice.\n",
    "- \"Puff planet\" if a planet has a bulk density smaller than the \"Water World\" density."
   ]
  },
  {
   "cell_type": "markdown",
   "id": "947df638",
   "metadata": {},
   "source": [
    "#### Problem 2(a) The Mass-Radius Relation for Rocky planets\n",
    "\n",
    "Let's first focus on the rocky worlds and model their mass-radius relation."
   ]
  },
  {
   "cell_type": "code",
   "execution_count": null,
   "id": "84d37d8d",
   "metadata": {},
   "outputs": [],
   "source": [
    "## Build a mask to select planets with the Earth density or higher\n",
    "rho = data['rho_gcm-3']\n",
    "rho_earth = 4*np.pi/3  # in M_earth/R_earth^3 unit\n",
    "mask = rho > rho_earth"
   ]
  },
  {
   "cell_type": "code",
   "execution_count": null,
   "id": "0211510e",
   "metadata": {},
   "outputs": [],
   "source": [
    "## Select planets with the Earth density or higher\n",
    "rocky_R = R[mask].values\n",
    "rocky_err_R = err_R[mask].values\n",
    "\n",
    "rocky_M = M[mask].values\n",
    "rocky_err_M = err_M[mask].values\n",
    "\n",
    "rocky_rho = rho[mask].values  # for plotting purpose only"
   ]
  },
  {
   "cell_type": "code",
   "execution_count": null,
   "id": "d423cf52",
   "metadata": {
    "scrolled": false
   },
   "outputs": [],
   "source": [
    "## Plot the masses and radii for rocky worlds\n",
    "plt.figure(figsize=(5,4),dpi=110)\n",
    "plt.errorbar(rocky_M, rocky_R, xerr=rocky_err_M, yerr=rocky_err_R, \n",
    "             linestyle='', fmt='o', markersize=4, elinewidth=1.2, capsize=1.2, c='grey')\n",
    "plt.scatter(rocky_M, rocky_R, c=rocky_rho, zorder=100, cmap='plasma_r')\n",
    "plt.xscale('log')\n",
    "plt.xlabel('Mass [Earth mass]')\n",
    "plt.ylabel('Radius [Earth radius]')\n",
    "plt.colorbar(label=r'Density [g/cm$^3$]')\n",
    "plt.tight_layout()\n",
    "plt.show()"
   ]
  },
  {
   "cell_type": "markdown",
   "id": "727c8ec0",
   "metadata": {},
   "source": [
    "Let's write down the mass-radius relation for rocky worlds as a power law.\n",
    "\n",
    "$R = aM^b$, where $a$ is proportional to $1/\\rho_{\\oplus}$, and $b$ is unitless. If the relation follows $M = \\frac{4}{3}\\pi R^3 \\rho$, we have $a = 1$ and $b = 1/3$. However, in reality, the interior density of planets is not uniform and depends on the equation of state."
   ]
  },
  {
   "cell_type": "code",
   "execution_count": null,
   "id": "c5520fbc",
   "metadata": {},
   "outputs": [],
   "source": [
    "## Build a PyMC model to find parameters of interest {a, b}.\n",
    "with pm.Model() as rocky:\n",
    "    \n",
    "    # priors\n",
    "    \n",
    "    # log_a ~ Uniform(np.log(0.1),np.log(10))\n",
    "    loga = # YOUR_CODE_HERE\n",
    "    \n",
    "    # log_b ~ Uniform(np.log(0.1),np.log(1))\n",
    "    logb = # YOUR_CODE_HERE\n",
    "    \n",
    "    a = pm.Deterministic('a', # YOUR_CODE_HERE)\n",
    "    b = pm.Deterministic('b', # YOUR_CODE_HERE)\n",
    "    \n",
    "    # priors on masses from observations\n",
    "    mass = pm.Normal('mass', mu=rocky_M, sigma=rocky_err_M)\n",
    "    \n",
    "    R_true = pm.Deterministic('R_true', # YOUR_CODE_HERE)\n",
    "\n",
    "    # log_likelihood\n",
    "    logl_R = pm.Normal('logl_R', # YOUR_CODE_HERE)"
   ]
  },
  {
   "cell_type": "code",
   "execution_count": null,
   "id": "79846a49",
   "metadata": {},
   "outputs": [],
   "source": [
    "pm.model_to_graphviz(rocky)"
   ]
  },
  {
   "cell_type": "code",
   "execution_count": null,
   "id": "1653d9d5",
   "metadata": {},
   "outputs": [],
   "source": [
    "with rocky:\n",
    "    idata = pm.sample()"
   ]
  },
  {
   "cell_type": "code",
   "execution_count": null,
   "id": "c2902cf0",
   "metadata": {},
   "outputs": [],
   "source": [
    "az.plot_trace(idata, var_names=['a','b'], figsize=(7,4))\n",
    "plt.tight_layout()"
   ]
  },
  {
   "cell_type": "code",
   "execution_count": null,
   "id": "5ad2c385",
   "metadata": {},
   "outputs": [],
   "source": [
    "## Plot the fitted model\n",
    "plt.figure(figsize=(5,4),dpi=110)\n",
    "\n",
    "plt.errorbar(rocky_M, rocky_R, xerr=rocky_err_M, yerr=rocky_err_R, \n",
    "             linestyle='', fmt='o', markersize=4, elinewidth=1.2, capsize=1.2, c='grey')\n",
    "plt.scatter(rocky_M, rocky_R, c=rocky_rho, zorder=100, cmap='plasma_r')\n",
    "\n",
    "posterior_a = idata.posterior.a.values.ravel()\n",
    "posterior_b = idata.posterior.b.values.ravel()\n",
    "\n",
    "# Draw 100 samples from the posterior and plot the relation\n",
    "x_arr = np.logspace(-0.5,1.5,20)\n",
    "ndraws = 100\n",
    "for i in range(ndraws):\n",
    "    draw = np.random.randint(4000)\n",
    "    plt.plot(x_arr,np.median(posterior_a[i])*x_arr**np.median(posterior_b[i]),c='grey',alpha=0.1,lw=0.8)\n",
    "\n",
    "plt.xscale('log')\n",
    "plt.xlabel('Mass [Earth mass]')\n",
    "plt.ylabel('Radius [Earth radius]')\n",
    "plt.colorbar(label=r'Density [g/cm$^3$]')\n",
    "plt.tight_layout()\n",
    "plt.show()"
   ]
  },
  {
   "cell_type": "markdown",
   "id": "2df7e4b2",
   "metadata": {},
   "source": [
    "#### Problem 2(b) The Mass-Radius Relation for Rocky+Water Worlds (Advanced)\n",
    "\n",
    "Let's now add water worlds and model the mass-radius relation for both rocky and water worlds. Physically, it will require two models to describe the mass-radius relations for rocky and water worlds. The tricky part is we don't know exactly which kind of worlds a planet is belong to. In this situation, it is helpful to introduce a categorical variable."
   ]
  },
  {
   "cell_type": "code",
   "execution_count": null,
   "id": "cd044277",
   "metadata": {},
   "outputs": [],
   "source": [
    "## Build a mask to select rocky and water worlds\n",
    "rho_water = rho_earth/2\n",
    "mask = rho > rho_water"
   ]
  },
  {
   "cell_type": "code",
   "execution_count": null,
   "id": "3f21d912",
   "metadata": {},
   "outputs": [],
   "source": [
    "## Select select rocky and water worlds; I'm going to use a terrible name here \"nopuffy\" to describe them.\n",
    "nopuffy_R = R[mask].values\n",
    "nopuffy_err_R = err_R[mask].values\n",
    "\n",
    "nopuffy_M = M[mask].values\n",
    "nopuffy_err_M = err_M[mask].values\n",
    "\n",
    "nopuffy_rho = rho[mask].values  # for plotting purpose only"
   ]
  },
  {
   "cell_type": "code",
   "execution_count": null,
   "id": "4f0edc8a",
   "metadata": {},
   "outputs": [],
   "source": [
    "## Plot the masses and radii for rocky and water worlds\n",
    "plt.figure(figsize=(5,4),dpi=110)\n",
    "plt.errorbar(nopuffy_M, nopuffy_R, xerr=nopuffy_err_M, yerr=nopuffy_err_R, \n",
    "             linestyle='', fmt='o', markersize=4, elinewidth=1.2, capsize=1.2, c='grey')\n",
    "plt.scatter(nopuffy_M, nopuffy_R, c=nopuffy_rho, zorder=100, cmap='plasma_r')\n",
    "plt.xscale('log')\n",
    "plt.xlabel('Mass [Earth mass]')\n",
    "plt.ylabel('Radius [Earth radius]')\n",
    "plt.colorbar(label=r'Density [g/cm$^3$]')\n",
    "plt.tight_layout()\n",
    "plt.show()"
   ]
  },
  {
   "cell_type": "code",
   "execution_count": null,
   "id": "aa400dfb",
   "metadata": {},
   "outputs": [],
   "source": [
    "## Build a PyMC model to find parameters of interest {a, b}.\n",
    "with pm.Model() as nopuffy:\n",
    "    \n",
    "    # Two categories for water and rocky worlds\n",
    "    p = pm.Dirichlet(\"p\", a=np.ones(2), shape=2)\n",
    "    z = pm.Categorical(\"z\", p=p, shape=len(nopuffy_R))\n",
    "    \n",
    "    # priors on log_a, log_b, mass\n",
    "    # YOUR_CODE_HERE\n",
    "    \n",
    "    # Calculate R_true\n",
    "    # YOUR_CODE_HERE\n",
    "\n",
    "    # log_likelihood\n",
    "    # YOUR_CODE_HERE"
   ]
  },
  {
   "cell_type": "code",
   "execution_count": null,
   "id": "fa5e0028",
   "metadata": {},
   "outputs": [],
   "source": [
    "pm.model_to_graphviz(nopuffy)"
   ]
  },
  {
   "cell_type": "code",
   "execution_count": null,
   "id": "697187a1",
   "metadata": {},
   "outputs": [],
   "source": [
    "with nopuffy:\n",
    "    idata = pm.sample(target_accept=0.9)"
   ]
  },
  {
   "cell_type": "code",
   "execution_count": null,
   "id": "31dcbe08",
   "metadata": {},
   "outputs": [],
   "source": [
    "az.plot_trace(idata, var_names=['a','b','p'], figsize=(7,5))\n",
    "plt.tight_layout()"
   ]
  },
  {
   "cell_type": "code",
   "execution_count": null,
   "id": "0f1ff6e5",
   "metadata": {
    "scrolled": false
   },
   "outputs": [],
   "source": [
    "az.plot_trace(idata, var_names=['z'], figsize=(7,30), compact=False)\n",
    "plt.tight_layout()"
   ]
  },
  {
   "cell_type": "markdown",
   "id": "994752d8",
   "metadata": {},
   "source": [
    "Ponder that for a moment and make sure everything makes sense."
   ]
  },
  {
   "cell_type": "code",
   "execution_count": null,
   "id": "c59d40d0",
   "metadata": {},
   "outputs": [],
   "source": [
    "## Plot the fitted models\n",
    "plt.figure(figsize=(5,4),dpi=110)\n",
    "\n",
    "plt.errorbar(nopuffy_M, nopuffy_R, xerr=nopuffy_err_M, yerr=nopuffy_err_R, \n",
    "             linestyle='', fmt='o', markersize=4, elinewidth=1.2, capsize=1.2, c='grey')\n",
    "plt.scatter(nopuffy_M, nopuffy_R, c=nopuffy_rho, zorder=100, cmap='plasma_r')\n",
    "\n",
    "posterior_a = idata.posterior.a.values.ravel()\n",
    "posterior_b = idata.posterior.b.values.ravel()\n",
    "\n",
    "# Draw 100 samples from the posterior and plot the relation\n",
    "x_arr = np.logspace(-0.8,1.5,20)\n",
    "ndraws = 100\n",
    "for i in range(ndraws):\n",
    "    draw = np.random.randint(4000)\n",
    "    plt.plot(x_arr,np.median(posterior_a[i])*x_arr**np.median(posterior_b[i]),c='k',alpha=0.1,lw=0.8)\n",
    "\n",
    "plt.xscale('log')\n",
    "plt.xlabel('Mass [Earth mass]')\n",
    "plt.ylabel('Radius [Earth radius]')\n",
    "plt.colorbar(label=r'Density [g/cm$^3$]')\n",
    "plt.tight_layout()\n",
    "plt.show()"
   ]
  },
  {
   "cell_type": "markdown",
   "id": "0d9c8918",
   "metadata": {},
   "source": [
    "#### Bonus Problem: The Mass-Radius Relation for All\n",
    "\n",
    "Could you build a three-population model for rocky worlds, water worlds, and puffs? What's your interpretation on the results?"
   ]
  },
  {
   "cell_type": "code",
   "execution_count": null,
   "id": "0fbaf651",
   "metadata": {},
   "outputs": [],
   "source": []
  }
 ],
 "metadata": {
  "kernelspec": {
   "display_name": "Python 3 (ipykernel)",
   "language": "python",
   "name": "python3"
  },
  "language_info": {
   "codemirror_mode": {
    "name": "ipython",
    "version": 3
   },
   "file_extension": ".py",
   "mimetype": "text/x-python",
   "name": "python",
   "nbconvert_exporter": "python",
   "pygments_lexer": "ipython3",
   "version": "3.10.6"
  }
 },
 "nbformat": 4,
 "nbformat_minor": 5
}
