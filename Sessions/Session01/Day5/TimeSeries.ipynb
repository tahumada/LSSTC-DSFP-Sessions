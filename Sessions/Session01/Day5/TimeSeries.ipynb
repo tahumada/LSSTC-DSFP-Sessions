{
 "cells": [
  {
   "cell_type": "code",
   "execution_count": null,
   "metadata": {
    "collapsed": true
   },
   "outputs": [],
   "source": [
    "# AAM additions\n",
    "from __future__ import division, print_function, absolute_import"
   ]
  },
  {
   "cell_type": "code",
   "execution_count": null,
   "metadata": {
    "collapsed": false
   },
   "outputs": [],
   "source": [
    "%%bash\n",
    "\n",
    "cd ./data/\n",
    "tar -zxvf qpo.tar.gz"
   ]
  },
  {
   "cell_type": "code",
   "execution_count": null,
   "metadata": {
    "collapsed": true
   },
   "outputs": [],
   "source": [
    "import numpy as np\n",
    "import math\n",
    "#import cmath\n",
    "from matplotlib import pyplot as plt\n",
    "import pandas as pd\n",
    "import astroML.time_series as ts\n",
    "%matplotlib notebook\n",
    "# the more familiar %matplotlib inline is not used to enable zoom functions for the plots within the notebook"
   ]
  },
  {
   "cell_type": "markdown",
   "metadata": {},
   "source": [
    "\n",
    "Ex. 1. THE EFFECTS OF VARIATIONS IN THE TIME SAMPLING\n",
    "\n",
    "1.1 Create arrays of time cadences as follows:   \n",
    "\n",
    "(a) 90 days of observations with a precise daily cadence;\n",
    "(b) for 90 days, but with 4 times per day evenly.\n",
    "(c) for four times 90 days, with a precise daily cadence;\n",
    "\n",
    "\n",
    "Compute the spectral windows for all time samplings (a), (b) and (c) at a dense grid (\"oversampled\" grid), consisting of ten times more test frequencies as number of data. Plot them. \n",
    "\n",
    "What symmetries do you see? What are the Fourier frequencies of each time sampling? What is the difference between the Fourier-sampled and the oversampled spectral window in (a)? What happens to the (oversampled) spectral windows when you densify the sampling, but keep the total observation time span at 90 days (b)? What happens to them when you keep the time sampling unchanged, but extend the observations for a year (c)?\n",
    "\n",
    "Simulate one sinusoid with frequency 0.25 cycle/day and one with some uglier frequency between 0 and 1 (not falling on a Fourier frequency). Compute the periodograms of both signals on an oversampled frequency grid. What do you see in the oversampled periodogram, and what at the Fourier frequencies?"
   ]
  },
  {
   "cell_type": "code",
   "execution_count": null,
   "metadata": {
    "collapsed": true
   },
   "outputs": [],
   "source": [
    "# Oversampling factor: we would like to see spectral windows\n",
    "# and periodograms in more detail than just at the Fourier frequencies\n",
    "oversampling = 10\n",
    "\n",
    "truefreq = 0.2284271247\n",
    "\n",
    "# Time sampling (a):\n",
    "ts = np.linspace(start = 1, stop = 90, num = 90)\n",
    "df1 = pd.DataFrame({'time': ts,\n",
    "                   'cst': np.ones(90),\n",
    "                   'sin1': np.sin(2 * math.pi * truefreq * ts),\n",
    "                   'sin2': np.sin(2 * math.pi * (71./90.) * ts)})\n",
    "F_freqs1 = np.linspace(start = 0, stop = 90, num = 91) / 90\n",
    "freqs1 = np.linspace(start = 0, stop = 2*90, num = oversampling*2*90+1) / 90\n",
    "\n",
    "# Time sampling (b):\n",
    "ts = np.linspace(start = 0.25, stop = 90, num = 4*90)\n",
    "df2 = pd.DataFrame({'time': ts,\n",
    "                   'cst': np.ones(len(ts)),\n",
    "                   'sin1': np.sin(2 * math.pi * truefreq * ts),\n",
    "                   'sin2': np.sin(2 * math.pi * (71./90.) * ts)})\n",
    "F_freqs2 = np.linspace(start = 0, stop = 4*90, num = 4*90+1) / 90\n",
    "freqs2 = np.linspace(start = 0, stop = 2*4*90, num = oversampling*2*4*90+1) / 90\n",
    "\n",
    "# Time sampling (c):\n",
    "ts = np.linspace(start = 1, stop = 4*90, num = 4*90)\n",
    "df3 = pd.DataFrame({'time': ts,\n",
    "                   'cst': np.ones(len(ts)),\n",
    "                   'sin1': np.sin(2 * math.pi * truefreq * ts),\n",
    "                   'sin2': np.sin(2 * math.pi * (71./90.) * ts)})\n",
    "F_freqs3 = np.linspace(start = 0, stop = 4*90, num = 4*90+1) / (4*90)\n",
    "freqs3 = np.linspace(start = 0, stop = 2*4*90, num = oversampling*2*4*90+1) / (4*90)\n",
    "\n"
   ]
  },
  {
   "cell_type": "code",
   "execution_count": null,
   "metadata": {
    "collapsed": true
   },
   "outputs": [],
   "source": [
    "# Define the Deeming function (fft gives only values at the Fourier frequencies,\n",
    "# and is applicable only for even sampling.)\n",
    "def deemingPSD_fun(times, obs, freqs):\n",
    "    psd_tmp = np.ones(len(freqs))\n",
    "    for jj in np.arange(start = 0, stop = len(freqs)):\n",
    "        freq = freqs[jj]\n",
    "        v_tmp = 2.0 * math.pi * freq * times\n",
    "        s_tmp = np.dot(obs, np.sin(v_tmp))\n",
    "        c_tmp = np.dot(obs, np.cos(v_tmp))\n",
    "        psd_tmp[jj] = (s_tmp**2 + c_tmp**2) / len(times)**2\n",
    "    return psd_tmp\n"
   ]
  },
  {
   "cell_type": "code",
   "execution_count": null,
   "metadata": {
    "collapsed": true
   },
   "outputs": [],
   "source": [
    "spw1 = deemingPSD_fun(times = df1['time'], obs = df1['cst'], freqs = freqs1)\n",
    "psd11 = deemingPSD_fun(times = df1['time'], obs = df1['sin1'], freqs = freqs1)\n",
    "psd12 = deemingPSD_fun(times = df1['time'], obs = df1['sin2'], freqs = freqs1)\n",
    "spw2 = deemingPSD_fun(times = df2['time'], obs = df2['cst'], freqs = freqs2)\n",
    "psd21 = deemingPSD_fun(times = df2['time'], obs = df2['sin1'], freqs = freqs2)\n",
    "psd22 = deemingPSD_fun(times = df2['time'], obs = df2['sin2'], freqs = freqs2)\n",
    "spw3 = deemingPSD_fun(times = df3['time'], obs = df3['cst'], freqs = freqs3)\n",
    "psd31 = deemingPSD_fun(times = df3['time'], obs = df3['sin1'], freqs = freqs3)\n",
    "psd32 = deemingPSD_fun(times = df3['time'], obs = df3['sin2'], freqs = freqs3)"
   ]
  },
  {
   "cell_type": "markdown",
   "metadata": {},
   "source": [
    "Visualize first the three spectral windows. What are the differences between them? After inspecting it on the whole test frequency range, enlarge it \n",
    "(remove the comments from the last two lines)."
   ]
  },
  {
   "cell_type": "code",
   "execution_count": null,
   "metadata": {
    "collapsed": false
   },
   "outputs": [],
   "source": [
    "plt.rcParams[\"figure.figsize\"] = [12.0, 9.0]\n",
    "fig = plt.figure(1)\n",
    "plt.subplots_adjust(left=0.05, bottom=0.05, right=0.95, top=0.95, wspace=None, hspace=0.35)\n",
    "ax1 = fig.add_subplot(311)\n",
    "plt.plot(freqs1, spw1, 'k', alpha=1)\n",
    "plt.title('90 days, sampling 1/d')\n",
    "plt.xlabel('Frequency [1/d]')\n",
    "plt.ylabel('Sp.win.')\n",
    "plt.margins(.01, .05)\n",
    "#plt.vlines(F_freqs1[F_freqs1 < 0.1], ymin = 0, ymax = 1, color='r', linestyle='solid')\n",
    "#plt.xlim(0., .1)\n",
    "\n",
    "ax2 = fig.add_subplot(312)\n",
    "plt.plot(freqs2, spw2, 'k', alpha=1)\n",
    "plt.title('90 days, sampling 4/d')\n",
    "plt.xlabel('Frequency [1/d]')\n",
    "plt.ylabel('Sp.win.')\n",
    "plt.margins(.01, .05)\n",
    "#plt.vlines(F_freqs2[F_freqs2 < 0.1], ymin = 0, ymax = 1, color='r', linestyle='solid')\n",
    "#plt.xlim(0., .1)\n",
    "\n",
    "ax3 = fig.add_subplot(313)\n",
    "plt.plot(freqs3, spw3, 'k', alpha=1)\n",
    "plt.title('360 days, sampling 1/d')\n",
    "plt.xlabel('Frequency [1/d]')\n",
    "plt.ylabel('Sp.win.')\n",
    "plt.margins(.01, .05)\n",
    "#plt.vlines(F_freqs3[F_freqs3 < 0.1], ymin = 0, ymax = 1, color='r', linestyle='solid')\n",
    "#plt.xlim(0., .1)\n",
    "\n",
    "plt.show()"
   ]
  },
  {
   "cell_type": "markdown",
   "metadata": {},
   "source": [
    "Consider now the sinusoid at the Fourier frequency. Again, enlarge it around its true frequency. What would be observed if computed only at the Fourier frequencies? Next replace ths sinusoid with the other one (stored in psd11, psd21, psd31) to see what could be seen at the Fourier frequencies."
   ]
  },
  {
   "cell_type": "code",
   "execution_count": null,
   "metadata": {
    "collapsed": false
   },
   "outputs": [],
   "source": [
    "fig = plt.figure(1)\n",
    "plt.subplots_adjust(left=0.05, bottom=0.05, right=0.95, top=0.95, wspace=None, hspace=0.35)\n",
    "\n",
    "ax1 = fig.add_subplot(311)\n",
    "plt.plot(freqs1, psd12, 'k', alpha=1)\n",
    "plt.title('90 days, sampling 1/d')\n",
    "plt.xlabel('Frequency [1/d]')\n",
    "plt.ylabel('PSD')\n",
    "plt.margins(0.01, 0.05)\n",
    "#plt.vlines(F_freqs1, ymin = 0, ymax = 1, color='r', linestyle='solid')\n",
    "#plt.xlim(0.5, 1)\n",
    "plt.axvline(F_freqs1[71], ymin = 0, ymax = 1, color='c', linestyle='dashed')\n",
    "\n",
    "ax2 = fig.add_subplot(312)\n",
    "plt.plot(freqs2, psd22, 'k', alpha=1)\n",
    "plt.title('90 days, sampling 4/d')\n",
    "plt.xlabel('Frequency [1/d]')\n",
    "plt.ylabel('PSD')\n",
    "plt.margins(0.01, 0.05)\n",
    "#plt.vlines(F_freqs2, ymin = 0, ymax = 1, color='r', linestyle='solid')\n",
    "#plt.xlim(0.5, 1)\n",
    "plt.axvline(F_freqs2[71], ymin = 0, ymax = 1, color='c', linestyle='dashed')\n",
    "\n",
    "ax3 = fig.add_subplot(313)\n",
    "plt.plot(freqs3, psd32, 'k', alpha=1)\n",
    "plt.title('360 days, sampling 1/d')\n",
    "plt.xlabel('Frequency [1/d]')\n",
    "plt.ylabel('PSD')\n",
    "plt.margins(0.01, 0.05)\n",
    "#plt.vlines(F_freqs3, ymin = 0, ymax = 1, color='r', linestyle='solid')\n",
    "#plt.xlim(0.5, 1)\n",
    "plt.axvline(F_freqs3[284], ymin = 0, ymax = 1, color='c', linestyle='dashed')\n",
    "\n",
    "plt.show()"
   ]
  },
  {
   "cell_type": "markdown",
   "metadata": {},
   "source": [
    "TAKE-HOME MESSAGE:\n",
    "1. In an evenly-sampled case, the time intervals between the observations determine fmax, the maximum detectable frequency in the periodogram.\n",
    "2. The span of observations, together with the number of observations, determine the frequency resolution df/fmax of the resulting periodogram (this is equivalent to the separation between the Fourier frequencies). \n"
   ]
  },
  {
   "cell_type": "markdown",
   "metadata": {},
   "source": [
    "Ex. 1.2 MORE COMPLEX REGULARITIES (DAILY RYTHM)\n",
    "\n",
    "Take time sampling (c), and drop every halfday (keep the first 2 obs of every four). Compute the spectral window again. Take a look also what happens at the Fourier frequencies. Compute also the periodograms of the signals."
   ]
  },
  {
   "cell_type": "code",
   "execution_count": null,
   "metadata": {
    "collapsed": true
   },
   "outputs": [],
   "source": [
    "drop_half_ind = (np.arange(360) % 4 < 2)\n",
    "half_df = df3[drop_half_ind]"
   ]
  },
  {
   "cell_type": "code",
   "execution_count": null,
   "metadata": {
    "collapsed": true
   },
   "outputs": [],
   "source": [
    "half_spw3 = deemingPSD_fun(times = half_df['time'], obs = half_df['cst'], freqs = freqs3)\n",
    "half_psd31 = deemingPSD_fun(times = half_df['time'], obs = half_df['sin1'], freqs = freqs3)\n",
    "half_psd32 = deemingPSD_fun(times = half_df['time'], obs = half_df['sin2'], freqs = freqs3)"
   ]
  },
  {
   "cell_type": "code",
   "execution_count": null,
   "metadata": {
    "collapsed": false
   },
   "outputs": [],
   "source": [
    "fig = plt.figure(1)\n",
    "plt.subplots_adjust(left=0.05, bottom=0.05, right=0.95, top=0.95, wspace=None, hspace=0.35)\n",
    "\n",
    "ax1 = fig.add_subplot(311)\n",
    "plt.plot(freqs3, half_spw3, 'k', alpha=1)\n",
    "plt.title('90 days, sampling 4/d with 50% missing data \\n Spectral window')\n",
    "plt.xlabel('Frequency [1/d]')\n",
    "plt.ylabel('Spectral window')\n",
    "plt.margins(0.01, 0.05)\n",
    "#plt.vlines(F_freqs3, ymin = 0, ymax = 1, color='r', linestyle='solid')\n",
    "#plt.xlim(0.95,1.05)\n",
    "\n",
    "ax2 = fig.add_subplot(312)\n",
    "plt.plot(freqs3, half_psd32, 'k', alpha=1)\n",
    "plt.title('Sine at Fourier frequency')\n",
    "plt.xlabel('Frequency [1/d]')\n",
    "plt.ylabel('PSD')\n",
    "plt.margins(0.01, 0.05)\n",
    "#plt.vlines(F_freqs2, ymin = 0, ymax = 1, color='r', linestyle='solid')\n",
    "#plt.xlim(71./90.-.05, 71./90.+.05)\n",
    "#plt.ylim(0.,0.3)\n",
    "plt.axvline(71./90., ymin = 0, ymax = 1, color='c', linestyle='dashed')\n",
    "\n",
    "ax3 = fig.add_subplot(313)\n",
    "plt.plot(freqs3, half_psd31, 'k', alpha=1)\n",
    "plt.title('Sine, F = 0.2284')\n",
    "plt.xlabel('Frequency [1/d]')\n",
    "plt.ylabel('PSD')\n",
    "plt.margins(0.01, 0.05)\n",
    "#plt.vlines(F_freqs3, ymin = 0, ymax = 1, color='r', linestyle='solid')\n",
    "#plt.xlim(truefreq-.05, truefreq+.05)\n",
    "#plt.ylim(0.,0.3)\n",
    "plt.axvline(truefreq, ymin = 0, ymax = 1, color='c', linestyle='dashed')\n",
    "\n",
    "plt.show()"
   ]
  },
  {
   "cell_type": "markdown",
   "metadata": {},
   "source": [
    "TAKE-HOME MESSAGE:\n",
    "Any (quasi-)periodicity imposed on the time sampling will show up as additional peaks in the spectral window."
   ]
  },
  {
   "cell_type": "markdown",
   "metadata": {},
   "source": [
    "1.3 UNEVEN SAMPLING\n",
    "\n",
    "Now randomly drop half of the dataframe rows, and add a random element to each time (uniformly sampled from the interval (-0.1,0.1). See what happens with the spectral window and the periodograms."
   ]
  },
  {
   "cell_type": "code",
   "execution_count": null,
   "metadata": {
    "collapsed": false
   },
   "outputs": [],
   "source": [
    "rnd_df = half_df.sample(frac = 0.5).sort_values(axis = 0, by = 'time')\n",
    "rnd_df['time'] = rnd_df['time'] + np.random.uniform(-0.1,0.1, size = 90)"
   ]
  },
  {
   "cell_type": "code",
   "execution_count": null,
   "metadata": {
    "collapsed": true
   },
   "outputs": [],
   "source": [
    "rnd_spw2 = deemingPSD_fun(times = rnd_df['time'], obs = rnd_df['cst'], freqs = freqs2)\n",
    "rnd_psd21 = deemingPSD_fun(times = rnd_df['time'], obs = rnd_df['sin1'], freqs = freqs2)\n",
    "rnd_psd22 = deemingPSD_fun(times = rnd_df['time'], obs = rnd_df['sin2'], freqs = freqs2)"
   ]
  },
  {
   "cell_type": "markdown",
   "metadata": {},
   "source": [
    "Note the data does not contain any noise as yet: these periodograms are the pure consequence of the funny time sampling."
   ]
  },
  {
   "cell_type": "markdown",
   "metadata": {},
   "source": [
    "Ex. 2. PERIOD SEARCH ON REAL DATA\n",
    "\n",
    "2.1 PERIODOGRAM OF DIFFERENT VARIABLES\n",
    "\n",
    "The time series of a Cepheid and two eclipsing binaries from OGLE-III, a quasar from LINEAR, and an X-ray binary are given in the csv files. Compute the periodograms for each. Compare and analyse the results, by plotting the folded light curves.\n",
    "\n",
    "*Note* `%> pip install astroML_addons` may be required to ensure that the LS code below is not super slow."
   ]
  },
  {
   "cell_type": "code",
   "execution_count": null,
   "metadata": {
    "collapsed": true
   },
   "outputs": [],
   "source": [
    "from astroML.time_series import lomb_scargle"
   ]
  },
  {
   "cell_type": "code",
   "execution_count": null,
   "metadata": {
    "collapsed": false
   },
   "outputs": [],
   "source": [
    "cep1 = pd.read_csv(\"./data/OGLE-LMC-CEP-0727.csv\")\n",
    "ecl1 = pd.read_csv(\"./data/OGLE-SMC-ECL-0322.csv\")\n",
    "ecl2 = pd.read_csv(\"./data/OGLE-SMC-ECL-0124.csv\")\n",
    "qso = pd.read_csv(\"./data/q2803474.csv\")\n",
    "## Periods: \n",
    "p_cep1 = 14.4891397\n",
    "p_ecl1 = 71.6113338\n",
    "p_ecl2 = 0.3270255\n",
    "p_qso = 10**(-0.00138752348664116) "
   ]
  },
  {
   "cell_type": "code",
   "execution_count": null,
   "metadata": {
    "collapsed": true
   },
   "outputs": [],
   "source": [
    "## The resolution computed from the timespan of the observations:\n",
    "def fgrid_fun(times, ofac, fmax):\n",
    "    r_tmp = 1 / (times.max() - times.min()) / ofac \n",
    "    n_tmp = np.floor(fmax/r_tmp)\n",
    "    return np.linspace(r_tmp, fmax, n_tmp)"
   ]
  },
  {
   "cell_type": "code",
   "execution_count": null,
   "metadata": {
    "collapsed": true
   },
   "outputs": [],
   "source": [
    "# The frequency grids for each object \n",
    "fgrid_cep1 = fgrid_fun(cep1['time'], ofac = 10, fmax = 3) \n",
    "fgrid_ecl1 = fgrid_fun(ecl1['time'], ofac = 10, fmax = 3)\n",
    "fgrid_ecl2 = fgrid_fun(ecl2['time'], ofac = 10, fmax = 10)\n",
    "fgrid_qso = fgrid_fun(qso['time'], ofac = 10, fmax = 6)"
   ]
  },
  {
   "cell_type": "code",
   "execution_count": null,
   "metadata": {
    "collapsed": false
   },
   "outputs": [],
   "source": [
    "pgram_cep1 = lomb_scargle(t = cep1['time'], y = cep1['mag'], dy = cep1['mag.error'], omega = 2*np.pi*fgrid_cep1, generalized = True)\n",
    "pgram_ecl1 = lomb_scargle(t = ecl1['time'], y = ecl1['mag'], dy = ecl1['mag.error'], omega = 2*np.pi*fgrid_ecl1, generalized = True)\n",
    "pgram_ecl2 = lomb_scargle(t = ecl2['time'], y = ecl2['mag'], dy = ecl2['mag.error'], omega = 2*np.pi*fgrid_ecl2, generalized = True)\n",
    "pgram_qso = lomb_scargle(t = qso['time'], y = qso['mag'], dy = qso['mag.error'], omega = 2*np.pi*fgrid_qso, generalized = True)"
   ]
  },
  {
   "cell_type": "code",
   "execution_count": null,
   "metadata": {
    "collapsed": false
   },
   "outputs": [],
   "source": [
    "plt.rcParams[\"figure.figsize\"] = [16., 8.]\n",
    "fig = plt.figure(1)\n",
    "plt.subplots_adjust(left=0.05, bottom=0.05, right=0.95, top=0.95, wspace=None, hspace=0.35)\n",
    "\n",
    "fig.add_subplot(221)\n",
    "plt.plot(fgrid_cep1, pgram_cep1, 'k', alpha=1)\n",
    "plt.title('Cepheid')\n",
    "plt.xlabel('Frequency [1/d]')\n",
    "plt.ylabel('Periodogram')\n",
    "plt.margins(0.01, 0.05)\n",
    "plt.axvline(1/p_cep1, ymin = 0, ymax = 0.1, color='c', lw = 2)\n",
    "\n",
    "fig.add_subplot(222)\n",
    "plt.plot(fgrid_ecl1, pgram_ecl1, 'k', alpha=1)\n",
    "plt.title('Detached(?) binary')\n",
    "plt.xlabel('Frequency [1/d]')\n",
    "plt.ylabel('Periodogram')\n",
    "plt.margins(0.01, 0.05)\n",
    "plt.axvline(1/p_ecl1, ymin = 0, ymax = 0.1, color='c', lw = 2)\n",
    "\n",
    "fig.add_subplot(223)\n",
    "plt.plot(fgrid_ecl2, pgram_ecl2, 'k', alpha=1)\n",
    "plt.title('Contact binary')\n",
    "plt.xlabel('Frequency [1/d]')\n",
    "plt.ylabel('Periodogram')\n",
    "plt.margins(0.01, 0.05)\n",
    "plt.axvline(1/p_ecl2, ymin = 0, ymax = 0.1, color='c', lw = 2)\n",
    "\n",
    "fig.add_subplot(224)\n",
    "plt.plot(fgrid_qso, pgram_qso, 'k', alpha=1)\n",
    "plt.title('Quasar candidate')\n",
    "plt.xlabel('Frequency [1/d]')\n",
    "plt.ylabel('Periodogram')\n",
    "plt.margins(0.01, 0.05)\n",
    "plt.axvline(1/p_qso, ymin = 0, ymax = 0.1, color='c', lw = 2)\n",
    "\n",
    "plt.show()"
   ]
  },
  {
   "cell_type": "markdown",
   "metadata": {},
   "source": [
    "For the Cepheid, everything looks all right. For the quasar, the found frequency depended on the definition of the minimal frequency searched: here, the lowest frequency of the grid is the grid resolution, whereas with the pipeline that produced the results on the quasar, it was 1/timespan of observations (that is, oversampling factor times the grid resolution). The two eclipsing binaries exhibit the limitation of the generalized Lomb-Scargle method, when applied to light curves that are nonsinusoidal. The eclipsing binaries typically have two minima in one cycle, and thus, the GLS finds the double frequency (the half-period), which produces one single minimum in one cycle.\n",
    "\n",
    "Fold the light curves of the two eclipsing binaries to take a look. In the file, there is a column 'phase' giving the phases according to the catalog period, so we have to compute only those according to our period estimate. "
   ]
  },
  {
   "cell_type": "code",
   "execution_count": null,
   "metadata": {
    "collapsed": false
   },
   "outputs": [],
   "source": [
    "# Compute the period corresponding to the maximum of the periodogram:\n",
    "p_est_ecl1 = 1 / fgrid_ecl1[pgram_ecl1 == pgram_ecl1.max()]\n",
    "p_est_ecl2 = 1 / fgrid_ecl2[pgram_ecl2 == pgram_ecl2.max()]\n",
    "# Check that it is indeed roughly the half of the catalog period:\n",
    "print(p_est_ecl1 *2)\n",
    "print(p_ecl1)"
   ]
  },
  {
   "cell_type": "code",
   "execution_count": null,
   "metadata": {
    "collapsed": true
   },
   "outputs": [],
   "source": [
    "# Compute  the phases and add them as column to the dataframes:\n",
    "ecl1['phase2'] = (ecl1['time'] % p_est_ecl1) / p_est_ecl1\n",
    "ecl2['phase2'] = (ecl2['time'] % p_est_ecl2) / p_est_ecl2"
   ]
  },
  {
   "cell_type": "code",
   "execution_count": null,
   "metadata": {
    "collapsed": false
   },
   "outputs": [],
   "source": [
    "# plot:\n",
    "plt.rcParams[\"figure.figsize\"] = [12., 8.]\n",
    "fig = plt.figure()\n",
    "plt.subplots_adjust(left=0.05, bottom=0.1, right=0.95, top=0.95, wspace=None, hspace=0.35)\n",
    "\n",
    "ax = fig.add_subplot(221)\n",
    "plt.gca().invert_yaxis()\n",
    "ax.errorbar(ecl1['phase2'], ecl1['mag'], ecl1['mag.error'], fmt='.k', ecolor='gray')\n",
    "plt.title(\"ecl1, GLS period\")\n",
    "plt.xlabel('Phase')\n",
    "plt.ylabel('Magnitude')\n",
    "\n",
    "ax = fig.add_subplot(222)\n",
    "plt.gca().invert_yaxis()\n",
    "ax.errorbar(ecl1['phase'], ecl1['mag'], ecl1['mag.error'], fmt='.k', ecolor='gray')\n",
    "plt.title(\"ecl1, catalog period\")\n",
    "plt.xlabel('Phase')\n",
    "plt.ylabel('Magnitude')\n",
    "\n",
    "ax = fig.add_subplot(223)\n",
    "plt.gca().invert_yaxis()\n",
    "ax.errorbar(ecl2['phase2'], ecl2['mag'], ecl2['mag.error'], fmt='.k', ecolor='gray')\n",
    "plt.title(\"ecl2, GLS period\")\n",
    "plt.xlabel('Phase')\n",
    "plt.ylabel('Magnitude')\n",
    "\n",
    "ax = fig.add_subplot(224)\n",
    "plt.gca().invert_yaxis()\n",
    "ax.errorbar(ecl2['phase'], ecl2['mag'], ecl2['mag.error'], fmt='.k', ecolor='gray')\n",
    "plt.title(\"ecl2, catalog period\")\n",
    "plt.xlabel('Phase')\n",
    "plt.ylabel('Magnitude')\n",
    "\n",
    "plt.show()"
   ]
  },
  {
   "cell_type": "markdown",
   "metadata": {},
   "source": [
    "2.2 OPTIONAL: MULTITERM PERIODOGRAMS\n",
    "\n",
    "We can try to improve the chances to find the correct period of the eclipsing binaries using a periodogram type that fits a harmonic model up to a pre-defined term at each frequency. Such a procedure is implemented in the astroML package's multiterm_periodogram procedure. Try to fit a 6-term periodogram to the two eclipsing binaries."
   ]
  },
  {
   "cell_type": "code",
   "execution_count": null,
   "metadata": {
    "collapsed": true
   },
   "outputs": [],
   "source": [
    "from astroML.time_series import multiterm_periodogram"
   ]
  },
  {
   "cell_type": "code",
   "execution_count": null,
   "metadata": {
    "collapsed": true
   },
   "outputs": [],
   "source": [
    "fgrid_short_ecl1 = fgrid_ecl1[fgrid_ecl1 < 4.]\n",
    "fgrid_short_ecl2 = fgrid_ecl2[(fgrid_ecl2 < 8.)]"
   ]
  },
  {
   "cell_type": "code",
   "execution_count": null,
   "metadata": {
    "collapsed": true
   },
   "outputs": [],
   "source": [
    "pgram6_ecl1 = multiterm_periodogram(t = ecl1['time'], y = ecl1['mag'], dy = ecl1['mag.error'], omega = 2*np.pi*fgrid_short_ecl1, n_terms = 6)\n",
    "pgram6_ecl2 = multiterm_periodogram(t = ecl2['time'], y = ecl2['mag'], dy = ecl2['mag.error'], omega = 2*np.pi*fgrid_short_ecl2, n_terms = 6)"
   ]
  },
  {
   "cell_type": "code",
   "execution_count": null,
   "metadata": {
    "collapsed": false
   },
   "outputs": [],
   "source": [
    "p_est6_ecl1 = 1 / fgrid_short_ecl1[pgram6_ecl1 == pgram6_ecl1.max()]\n",
    "print(p_est6_ecl1)\n",
    "print(p_est_ecl1)"
   ]
  },
  {
   "cell_type": "markdown",
   "metadata": {},
   "source": [
    "The multiterm periodogram found the right period in both cases. The reason is the presence of the even harmonics in the fitted light curve. While a sinusoid can have only one minimum within a period, harmonic 2 have double frequency (half the period), and therefore reproduce the two minima. Other period search methods, which do not fit sinusoids, can also perform better than the generalized Lomb-Scargle. \n",
    "Take a look at the periodograms. Use the zoom-in to enlarge the location of the true frequency. "
   ]
  },
  {
   "cell_type": "code",
   "execution_count": null,
   "metadata": {
    "collapsed": false
   },
   "outputs": [],
   "source": [
    "plt.rcParams[\"figure.figsize\"] = [12., 8.]\n",
    "fig = plt.figure(1)\n",
    "plt.subplots_adjust(left=0.05, bottom=0.05, right=0.95, top=0.95, wspace=None, hspace=0.35)\n",
    "\n",
    "fig.add_subplot(211)\n",
    "plt.plot(fgrid_ecl1, pgram_ecl1, 'k', alpha=1, label = \"1 term\")\n",
    "plt.plot(fgrid_short_ecl1, pgram6_ecl1, 'r', alpha=1, linestyle = \"dashed\", label = \"6 terms\")\n",
    "plt.title('Detached(?) binary')\n",
    "plt.xlabel('Frequency [1/d]')\n",
    "plt.ylabel('Periodogram')\n",
    "plt.margins(0.01, 0.05)\n",
    "plt.xlim(-0.1,4.)\n",
    "plt.axvline(1/p_ecl1, ymin = 0, ymax = 0.1, color='c', lw = 2)\n",
    "plt.legend(loc = \"best\")\n",
    "\n",
    "fig.add_subplot(212)\n",
    "plt.plot(fgrid_ecl2, pgram_ecl2, 'k', alpha=1, label = \"1 term\")\n",
    "plt.plot(fgrid_short_ecl2, pgram6_ecl2, 'r', alpha=1, linestyle = \"dashed\", label = \"6 terms\")\n",
    "plt.title('Contact binary')\n",
    "plt.xlabel('Frequency [1/d]')\n",
    "plt.ylabel('Periodogram')\n",
    "plt.margins(0.01, 0.05)\n",
    "plt.xlim(-0.1,8.)\n",
    "plt.axvline(1/p_ecl2, ymin = 0, ymax = 0.1, color='c', lw = 2)\n",
    "plt.legend(loc = \"best\")\n",
    "\n",
    "plt.show()"
   ]
  },
  {
   "cell_type": "markdown",
   "metadata": {},
   "source": [
    "OPTIONAL: PRE-WHITENING AND SECONDARY PERIOD SEARCH\n",
    "\n",
    "Pre-whitening is the procedure by which a found periodicity is removed from the light curve, in order to look for further frequencies. Very often, the light curves are not just sinusoids, so we have to find a good approximate model with the found period to fit. Such models can be a pair of Gaussians (for eclipsing binaries), Keplerian orbits (for radial velocity signals of planets), or simply harmonic models as we fitted the eclipsing binaries. We take now another Cepheid, pre-whiten it, and check whether it has a secondary period."
   ]
  },
  {
   "cell_type": "code",
   "execution_count": null,
   "metadata": {
    "collapsed": true
   },
   "outputs": [],
   "source": [
    "import statsmodels.formula.api as smf"
   ]
  },
  {
   "cell_type": "code",
   "execution_count": null,
   "metadata": {
    "collapsed": true
   },
   "outputs": [],
   "source": [
    "cep2 = pd.read_csv(\"./data/OGLE-SMC-CEP-1211.csv\")\n",
    "# Catalog period of the star in days:\n",
    "p_cep2 = 9.5311467"
   ]
  },
  {
   "cell_type": "code",
   "execution_count": null,
   "metadata": {
    "collapsed": true
   },
   "outputs": [],
   "source": [
    "# We'll fit models up to 10 harmonics with the catalog periodicity (normally, the  \n",
    "# found period should be used), and decide by the BIC which is best fitting. The harmonic\n",
    "# models in the form a + sum_k (b_k * sin( omega * t)) + sum_k (c_k * sin( omega * t))\n",
    "# are linear in their parameters, so we use linear least squares.\n",
    "# Create a dataframe with all the necessary variables for the linear least squares fit:\n",
    "for jj in np.arange(10):\n",
    "    cep2['s'+str(jj+1)] = np.sin(2*np.pi*cep2['time']*(jj+1)/p_cep2)\n",
    "    cep2['c'+str(jj+1)] = np.cos(2*np.pi*cep2['time']*(jj+1)/p_cep2)"
   ]
  },
  {
   "cell_type": "code",
   "execution_count": null,
   "metadata": {
    "collapsed": false
   },
   "outputs": [],
   "source": [
    "bic_cep2 = np.zeros(10)\n",
    "for jj in np.arange(10):\n",
    "    # We first create the formula string that the least squares fit takes as input\n",
    "    # (check the string that is created eg. by adding print formula_tmp):\n",
    "    formula_tmp = 'mag ~ ' + '+'.join(cep2.columns[4:(2*(jj+1)+4)])\n",
    "    # ... then fit the models and extract the BIC to decide which model is the best:\n",
    "    bic_cep2[jj] = smf.ols(formula_tmp, data = cep2).fit().bic\n",
    "# Check the array of BICs: which is minimal?\n",
    "bic_cep2"
   ]
  },
  {
   "cell_type": "code",
   "execution_count": null,
   "metadata": {
    "collapsed": true
   },
   "outputs": [],
   "source": [
    "# Repeat the best model, and extract the residuals:\n",
    "formula_tmp = 'mag ~ ' + '+'.join(cep2.columns[4:(2*(4+1)+4)])\n",
    "cep2['resid'] = smf.ols(formula_tmp, data = cep2).fit().resid"
   ]
  },
  {
   "cell_type": "code",
   "execution_count": null,
   "metadata": {
    "collapsed": false
   },
   "outputs": [],
   "source": [
    "# Perform period search:\n",
    "fgrid_cep2 = fgrid_fun(cep2['time'], ofac = 10, fmax = 10) \n",
    "pgram_resid_cep2 = lomb_scargle(t = cep2['time'], y = cep2['resid'], dy = cep2['mag.error'], omega = 2*np.pi*fgrid_cep2, generalized = True)"
   ]
  },
  {
   "cell_type": "code",
   "execution_count": null,
   "metadata": {
    "collapsed": false
   },
   "outputs": [],
   "source": [
    "plt.rcParams[\"figure.figsize\"] = [12., 4.]\n",
    "fig = plt.figure(1)\n",
    "plt.subplots_adjust(left=0.05, bottom=0.05, right=0.95, top=0.95, wspace=None, hspace=None)\n",
    "\n",
    "plt.plot(fgrid_cep2, pgram_resid_cep2, 'k', alpha=1)\n",
    "plt.title('Cepheid 2')\n",
    "plt.xlabel('Frequency [1/d]')\n",
    "plt.ylabel('Periodogram')\n",
    "plt.margins(0.01, 0.05)\n",
    "plt.axvline(1/p_cep2, ymin = 0, ymax = 1, color='c', lw = 2, linestyle = \"dashed\")\n",
    "\n",
    "plt.show()"
   ]
  },
  {
   "cell_type": "markdown",
   "metadata": {},
   "source": [
    "Ex. 3. TIME-RESOLVED ANALYSIS\n",
    "\n",
    "Ex. 3.1 A PERIOD-CHANGING OGLE CEPHEID\n",
    "\n",
    "Do a time-resolved analysis of the former period-changing Cepheid in an interval around its average frequency, and represent it as a color map (time & frequency) (in frequency: between 0.1 and 0.11 c/d, using a window of 2 years)."
   ]
  },
  {
   "cell_type": "code",
   "execution_count": null,
   "metadata": {
    "collapsed": false
   },
   "outputs": [],
   "source": [
    "print(cep2['time'].max())\n",
    "print(cep2['time'].min())\n",
    "centers_tmp = np.linspace(470, 4950, num = 449)"
   ]
  },
  {
   "cell_type": "code",
   "execution_count": null,
   "metadata": {
    "collapsed": true
   },
   "outputs": [],
   "source": [
    "fgrid_short_cep2 = np.linspace(0.1, 0.11, 4000)\n",
    "trsvd_cep2 = np.zeros([len(fgrid_short_cep2), len(centers_tmp)])\n",
    "for ii in np.arange(0,len(centers_tmp)):\n",
    "    df = cep2[(cep2['time'] < centers_tmp[ii] + 365) & (cep2['time'] > centers_tmp[ii] - 365)]\n",
    "    trsvd_cep2[:,ii] = lomb_scargle(t = df['time'], y = df['mag'], dy = df['mag.error'], omega = 2*np.pi*fgrid_short_cep2, generalized = True)\n"
   ]
  },
  {
   "cell_type": "code",
   "execution_count": null,
   "metadata": {
    "collapsed": true
   },
   "outputs": [],
   "source": [
    "# Find the candidate frequencies in each window (where the periodogram takes its maximum value):\n",
    "bestfr_vs_time = np.zeros(len(centers_tmp))\n",
    "for jj in np.arange(len(centers_tmp)):\n",
    "    bestfr_vs_time[jj] = fgrid_short_cep2[trsvd_cep2[:,jj] == trsvd_cep2[:,jj].max()]"
   ]
  },
  {
   "cell_type": "code",
   "execution_count": null,
   "metadata": {
    "collapsed": false
   },
   "outputs": [],
   "source": [
    "# Plot the spectrogram, and add the constant catalog frequency and the best local frequencies from the sliding windows:\n",
    "plt.rcParams[\"figure.figsize\"] = [8., 8.]\n",
    "fig = plt.figure()\n",
    "\n",
    "plt.imshow(trsvd_cep2, origin = 'lower', aspect = 'auto', \n",
    "           extent = [centers_tmp[0], centers_tmp[-1], fgrid_short_cep2[0], fgrid_short_cep2[-1]])\n",
    "plt.title('Cepheid 3')\n",
    "plt.ylabel('Frequency [1/d]')\n",
    "plt.xlabel('Time [d]')\n",
    "plt.margins(0.01, 0.05)\n",
    "plt.axhline(1/p_cep2, xmin = 0, xmax = 1, color='w')\n",
    "plt.plot(cep2['time'], [0.1]*len(cep2['time']), '|', color='k')\n",
    "plt.plot(centers_tmp, bestfr_vs_time, 'k')\n",
    "\n",
    "plt.show()"
   ]
  },
  {
   "cell_type": "markdown",
   "metadata": {},
   "source": [
    "The time-resolved sliding window periodogram shows well the period change of the Cepheid.  "
   ]
  },
  {
   "cell_type": "markdown",
   "metadata": {},
   "source": [
    "3.2 HIGH-FREQUENCY QUASI-PERIODIC OSCILLATION OF AN X-RAY BINARY\n",
    "\n",
    "High-frequency QPOs, broad humps concentrated around 1 kHz in the periodogram of the X-ray binary, are exciting and not well understood phenomena of X-ray binaries. Low-frequency QPOs may be related to Lense-Thirring precession of the inner parts of the accretion disk around the compact component, which produces strong X-ray radiation. For the high-frequency QPOs, no such commonly accepted explanations exist. Their characteristic frequency, the center of the hump, tends to move around, and the QPO may sometimes even disappear for some time. This is best to follow by some time-resolved methods.\n",
    "The data set consists of photon counts, binned in 2^(-11) s long time intervals. The record was very long (almost an hour), so we have an equally-spaced time series of almost 7 million counts. The binning was selected in a way that the sampling is dense enough to find such a high frequency in the spectrum.\n",
    "\n",
    "First go: we use sliding window spectrograms from matplotlib.mlab."
   ]
  },
  {
   "cell_type": "code",
   "execution_count": null,
   "metadata": {
    "collapsed": true
   },
   "outputs": [],
   "source": [
    "from scipy import fftpack\n",
    "from matplotlib.mlab import specgram\n",
    "from astroML.fourier import wavelet_PSD\n",
    "from scipy import ndimage "
   ]
  },
  {
   "cell_type": "code",
   "execution_count": null,
   "metadata": {
    "collapsed": false
   },
   "outputs": [],
   "source": [
    "qpo = pd.read_csv(\"./data/qpo.csv\")"
   ]
  },
  {
   "cell_type": "code",
   "execution_count": null,
   "metadata": {
    "collapsed": true
   },
   "outputs": [],
   "source": [
    "# The values are photon counts in 2**(-11) s long intervals.\n",
    "dt = 2**(-11)\n",
    "# The times of the flux values thus:\n",
    "times = np.arange(0, np.shape(qpo)[0]*dt, dt, dtype = float)\n",
    "#qpo_slices = np.linspace(qpo['t'].min(), qpo['t'].max(), 400)\n",
    "# We wish to compute the PSD in 8 s long windows. The time limits for selection:\n",
    "qpo_slices = np.arange(0, 426*8, 8, dtype = float) \n",
    "# The centers of the slices (for plotting):\n",
    "center_times = np.arange(0, 425*8, 8, dtype = float)+4\n",
    "# Spacing of the Fourier frequencies in a 8 s window:\n",
    "df = 1. / 8\n",
    "# the Fourier frequencies:\n",
    "ffreqs = df * np.arange(16384)"
   ]
  },
  {
   "cell_type": "code",
   "execution_count": null,
   "metadata": {
    "collapsed": true
   },
   "outputs": [],
   "source": [
    "psd_specgram, freqs_specgram, centers_specgram = specgram(qpo['flux'],\n",
    "            NFFT = 16384, Fs=2**11, noverlap=16384/2)"
   ]
  },
  {
   "cell_type": "markdown",
   "metadata": {},
   "source": [
    "Plot the spectrogram (leaving out the high values of the red noise at low frequencies):"
   ]
  },
  {
   "cell_type": "code",
   "execution_count": null,
   "metadata": {
    "collapsed": false
   },
   "outputs": [],
   "source": [
    "plt.rcParams[\"figure.figsize\"] = [8., 8.]\n",
    "fig = plt.figure()\n",
    "plt.imshow(psd_specgram[20:,:], origin = 'lower', aspect = 'auto', \n",
    "           extent = [centers_specgram[0], centers_specgram[-1], freqs_specgram[20], freqs_specgram[-1]])\n",
    "plt.title('Raw PSD')\n",
    "plt.ylabel('Frequency [Hz]')\n",
    "plt.xlabel('Time [s]')\n",
    "plt.margins(0.01, 0.05)\n",
    "\n",
    "plt.show()"
   ]
  },
  {
   "cell_type": "markdown",
   "metadata": {},
   "source": [
    "When omitting the low-frequency terms around f = 0 in the periodograms, the plot of the spectrogram would show just predominant noise. \n",
    "We know that the periodogram is an inconsistent estimator of the spectral density (that's because its values are distributed exponentially, and for the exponential distribution, its variance is equal to the square of its mean). With a moving average or a kernel smoother, we can make it a consistent one. Also, our time slices might have been too short, and therefore, the periodograms have too high variance. Therefore we do a 2D smoothing. "
   ]
  },
  {
   "cell_type": "code",
   "execution_count": null,
   "metadata": {
    "collapsed": true
   },
   "outputs": [],
   "source": [
    "psd_specgram_smoo = ndimage.filters.gaussian_filter(psd_specgram, [8,8], mode='constant', cval = 0)"
   ]
  },
  {
   "cell_type": "code",
   "execution_count": null,
   "metadata": {
    "collapsed": false
   },
   "outputs": [],
   "source": [
    "plt.rcParams[\"figure.figsize\"] = [16., 8.]\n",
    "fig = plt.figure()\n",
    "plt.subplots_adjust(left=0.05, bottom=0.05, right=0.95, top=0.95, wspace=None, hspace=0.35)\n",
    "\n",
    "fig.add_subplot(121)\n",
    "plt.imshow(psd_specgram[20:,:], origin = 'lower', aspect = 'auto', \n",
    "           extent = [centers_specgram[0], centers_specgram[-1], freqs_specgram[20], freqs_specgram[-1]])\n",
    "plt.title('Raw PSD')\n",
    "plt.ylabel('Frequency [Hz]')\n",
    "plt.xlabel('Time [s]')\n",
    "plt.margins(0.01, 0.05)\n",
    "\n",
    "fig.add_subplot(122)\n",
    "plt.imshow(psd_specgram_smoo[40:,:], origin = 'lower', aspect = 'auto', \n",
    "           extent = [centers_specgram[0], centers_specgram[-1], freqs_specgram[40], freqs_specgram[-1]])\n",
    "plt.title('Smoothed PSD')\n",
    "plt.ylabel('Frequency [Hz]')\n",
    "plt.xlabel('Time [s]')\n",
    "plt.margins(0.01, 0.05)\n",
    "\n",
    "plt.show()"
   ]
  },
  {
   "cell_type": "markdown",
   "metadata": {},
   "source": [
    "The smoothing in frequency domain achieved that the periodograms are now consistent estimators of the spectral density of the true signal in the background. The smoothing in time-domain averaged (with Gaussian weights, so putting more weight on the central time) the close-by periodograms, emphasising those frequencies that are more persistently present in the spectrum. The QPO is now clearly emerging from the background.\n",
    "\n",
    "However, the time-domain smoothing implies a loss of temporal resolution. Take a look at the QPO using wavelets now. The dataset is big, so choose (based on the previous exercise) a frequency window and a time window such that you can expect to find the QPO. Since we don't know the appropriate scale Q, it is necessary to try a few values. "
   ]
  },
  {
   "cell_type": "code",
   "execution_count": null,
   "metadata": {
    "collapsed": false
   },
   "outputs": [],
   "source": [
    "Q = 2000\n",
    "freq_wavelet = np.arange(800,900, 0.25)\n",
    "qpo_waveletpsd = wavelet_PSD(t = times[0:200000], h = qpo['flux'][0:200000], \n",
    "           f0 = freq_wavelet, Q = Q)"
   ]
  },
  {
   "cell_type": "code",
   "execution_count": null,
   "metadata": {
    "collapsed": false
   },
   "outputs": [],
   "source": [
    "\n",
    "plt.rcParams[\"figure.figsize\"] = [8., 8.]\n",
    "fig = plt.figure(1)\n",
    "\n",
    "plt.imshow(qpo_waveletpsd, origin = 'lower', aspect = 'auto', \n",
    "           extent = [times[0], times[200000], freq_wavelet[0], freq_wavelet[-1]])\n",
    "plt.title('Wavelet PSD')\n",
    "plt.ylabel('Frequency [Hz]')\n",
    "plt.xlabel('Time [s]')\n",
    "plt.margins(0.01, 0.05)\n",
    "\n",
    "plt.show()"
   ]
  },
  {
   "cell_type": "markdown",
   "metadata": {},
   "source": [
    "EX. 4. GAUSSIAN PROCESSES\n",
    "\n",
    "Ex. 4.1. SIMULATION\n",
    "\n",
    "Three Gaussian Process covariance kernels are implemented in the following cell. The parameter h for each means the decay rate of the correlation between observations. For the quasi-periodic kernel, this is multiplied by a periodic term (added in the exponent): the correlation is periodically strengthens and weakens."
   ]
  },
  {
   "cell_type": "code",
   "execution_count": null,
   "metadata": {
    "collapsed": true
   },
   "outputs": [],
   "source": [
    "from sklearn.gaussian_process import GaussianProcess"
   ]
  },
  {
   "cell_type": "code",
   "execution_count": null,
   "metadata": {
    "collapsed": true
   },
   "outputs": [],
   "source": [
    "## Define the three kernel functions we'll use:\n",
    "def exponential(x1, x2, h):\n",
    "    return np.exp(-0.5 * np.abs(x1 - x2) / h)\n",
    "def squared_exponential(x1, x2, h):\n",
    "    return np.exp(-0.5 * (x1 - x2) ** 2 / h ** 2)\n",
    "def quasi_periodic(x1, x2, h, l, nu):\n",
    "    return np.exp(-0.5 * (x1 - x2) ** 2 / h ** 2 - 0.5 * np.sin(2*np.pi*nu*(x1 - x2)) ** 2 / l)"
   ]
  },
  {
   "cell_type": "code",
   "execution_count": null,
   "metadata": {
    "collapsed": true
   },
   "outputs": [],
   "source": [
    "x = np.linspace(52610, 54625, 115)\n",
    "h = 50.0\n",
    "l = 0.1\n",
    "nu = 0.1\n",
    "\n",
    "mu = np.zeros(len(x))\n",
    "\n",
    "Cse = squared_exponential(x, x[:, None], h)\n",
    "Ce = exponential(x, x[:, None], h)\n",
    "Cq = quasi_periodic(x, x[:, None], h = h, l = l, nu = nu)"
   ]
  },
  {
   "cell_type": "code",
   "execution_count": null,
   "metadata": {
    "collapsed": true
   },
   "outputs": [],
   "source": [
    "qper_rdvar = np.random.multivariate_normal(mu, Cq, 3)\n",
    "ex_rdvar = np.random.multivariate_normal(mu, Ce, 3)\n",
    "sqex_rdvar = np.random.multivariate_normal(mu, Cse, 3)"
   ]
  },
  {
   "cell_type": "code",
   "execution_count": null,
   "metadata": {
    "collapsed": false
   },
   "outputs": [],
   "source": [
    "plt.rcParams[\"figure.figsize\"] = [5., 10.]\n",
    "fig = plt.figure(1)\n",
    "plt.subplots_adjust(left=0.07, bottom=0.05, right=0.95, top=0.95, wspace=None, hspace=0.35)\n",
    "\n",
    "fig.add_subplot(311)\n",
    "for ii in [0,1,2]:\n",
    "    plt.plot(x, ex_rdvar[ii], 'k', alpha=1)\n",
    "plt.title('Exponential')\n",
    "plt.xlabel('x')\n",
    "plt.ylabel('GP draw')\n",
    "plt.margins(0.01, 0.05)\n",
    "\n",
    "fig.add_subplot(312)\n",
    "for ii in [0,1,2]:\n",
    "    plt.plot(x, sqex_rdvar[ii], 'k', alpha=1)\n",
    "plt.title('Squared exponential')\n",
    "plt.xlabel('x')\n",
    "plt.ylabel('GP draw')\n",
    "plt.margins(0.01, 0.05)\n",
    "#plt.xlim(-0.1,4.)\n",
    "\n",
    "fig.add_subplot(313)\n",
    "for ii in [0,1,2]:\n",
    "    plt.plot(x, qper_rdvar[ii], 'k', alpha=1)\n",
    "plt.title('Quasi-periodic')\n",
    "plt.xlabel('x')\n",
    "plt.ylabel('GP draw')\n",
    "plt.margins(0.01, 0.05)\n",
    "\n",
    "plt.show()"
   ]
  },
  {
   "cell_type": "markdown",
   "metadata": {},
   "source": [
    "Ex. 4.2. CANDIDATE QUASAR FROM LINEAR\n",
    "\n",
    "The Ornstein-Uhlenbeck process can be applied to fit quasar data. We will use the fact that the OU process is a Gaussian process, and apply Gaussian process modelling for its light curve, both with the squared exponential and the exponential kernel."
   ]
  },
  {
   "cell_type": "code",
   "execution_count": null,
   "metadata": {
    "collapsed": true
   },
   "outputs": [],
   "source": [
    "qso = pd.read_csv(\"./data/q2803474.csv\")"
   ]
  },
  {
   "cell_type": "code",
   "execution_count": null,
   "metadata": {
    "collapsed": true
   },
   "outputs": [],
   "source": [
    "qso_gp_sqex1 = GaussianProcess(corr='squared_exponential', theta0=0.5, thetaL = 0.001, thetaU = 100)\n",
    "qso_gp_ex1 = GaussianProcess(corr='absolute_exponential', theta0=0.5, thetaL = 0.001, thetaU = 100)"
   ]
  },
  {
   "cell_type": "code",
   "execution_count": null,
   "metadata": {
    "collapsed": false
   },
   "outputs": [],
   "source": [
    "qso_gp_sqex1.fit(qso['time'].reshape(-1,1), qso['mag'].reshape(-1,1))"
   ]
  },
  {
   "cell_type": "markdown",
   "metadata": {},
   "source": [
    "The above fit failed, because the given type of process could not produce light curves passing through each point. The observations are strongly grouped: several were taken during one night, with long gaps between the clusters. Adding the nugget effect will help."
   ]
  },
  {
   "cell_type": "code",
   "execution_count": null,
   "metadata": {
    "collapsed": true
   },
   "outputs": [],
   "source": [
    "m_var = np.mean(qso['mag.error'].reshape(-1,1)**2)\n",
    "qso_gp_sqex1 = GaussianProcess(corr='squared_exponential', theta0=100, thetaL = 1, thetaU = 1000,\n",
    "                              nugget = m_var)\n",
    "qso_gp_ex1 = GaussianProcess(corr='absolute_exponential', theta0=100, thetaL = 0.001, thetaU = 1000,\n",
    "                              nugget = m_var)"
   ]
  },
  {
   "cell_type": "code",
   "execution_count": null,
   "metadata": {
    "collapsed": false
   },
   "outputs": [],
   "source": [
    "# Fit the model:\n",
    "qso_gp_sqex1.fit(qso['time'].reshape(-1,1), qso['mag'].reshape(-1,1))\n",
    "qso_gp_ex1.fit(qso['time'].reshape(-1,1), qso['mag'].reshape(-1,1))"
   ]
  },
  {
   "cell_type": "markdown",
   "metadata": {},
   "source": [
    "We can take a look at various parameters of the model (the scale parameter, the residual scatter, and the R2, for example). "
   ]
  },
  {
   "cell_type": "code",
   "execution_count": null,
   "metadata": {
    "collapsed": false
   },
   "outputs": [],
   "source": [
    "print(\"Decay parameter in the squared exp. model:\", qso_gp_sqex1.theta_)\n",
    "print(\"Decay parameter in the absolute exp. model:\", qso_gp_ex1.theta_)"
   ]
  },
  {
   "cell_type": "code",
   "execution_count": null,
   "metadata": {
    "collapsed": false
   },
   "outputs": [],
   "source": [
    "print(\"Variance in the squared exp. model:\", qso_gp_sqex1.sigma2)\n",
    "print(\"Variance in the absolute exp. model:\", qso_gp_ex1.sigma2)"
   ]
  },
  {
   "cell_type": "code",
   "execution_count": null,
   "metadata": {
    "collapsed": false
   },
   "outputs": [],
   "source": [
    "print(\"R2 in the squared exp. model:\", qso_gp_sqex1.score(qso['time'].reshape(-1,1), qso['mag'].reshape(-1,1)))\n",
    "print(\"R2 in the absolute exp. model:\",  qso_gp_ex1.score(qso['time'].reshape(-1,1), qso['mag'].reshape(-1,1)))"
   ]
  },
  {
   "cell_type": "markdown",
   "metadata": {},
   "source": [
    "Finally, we can plot the model with its confidence band."
   ]
  },
  {
   "cell_type": "code",
   "execution_count": null,
   "metadata": {
    "collapsed": true
   },
   "outputs": [],
   "source": [
    "tt = np.linspace(qso['time'].min(), qso['time'].max(), 500)\n",
    "qso_gp_sqex1_pred, qso_gp_sqex1_mse = qso_gp_sqex1.predict(tt.reshape(-1,1), eval_MSE=True)\n",
    "qso_gp_ex1_pred, qso_gp_ex1_mse = qso_gp_ex1.predict(tt.reshape(-1,1), eval_MSE=True)"
   ]
  },
  {
   "cell_type": "code",
   "execution_count": null,
   "metadata": {
    "collapsed": false
   },
   "outputs": [],
   "source": [
    "plt.rcParams[\"figure.figsize\"] = [16., 5.]\n",
    "fig = plt.figure(1)\n",
    "plt.subplots_adjust(left=0.07, bottom=0.05, right=0.95, top=0.95, wspace=None, hspace=0.35)\n",
    "\n",
    "ax = fig.add_subplot(121)\n",
    "plt.gca().invert_yaxis()\n",
    "ax.plot(tt, qso_gp_sqex1_pred, '-', color='gray')\n",
    "ax.fill_between(tt, qso_gp_sqex1_pred.reshape(len(tt)) - 2 * np.sqrt(qso_gp_sqex1_mse), \n",
    "                qso_gp_sqex1_pred.reshape(len(tt)) + 2 * np.sqrt(qso_gp_sqex1_mse), \n",
    "                color='gray', alpha=0.3)\n",
    "ax.errorbar(qso['time'], qso['mag'], qso['mag.error'], fmt='.k', ms=6)\n",
    "ax.set_xlabel('Time [d]')\n",
    "ax.set_xlabel('Magnitude')\n",
    "plt.title('Squared exponential model')\n",
    "\n",
    "ax = fig.add_subplot(122)\n",
    "plt.gca().invert_yaxis()\n",
    "ax.plot(tt, qso_gp_ex1_pred, '-', color='gray')\n",
    "ax.fill_between(tt, qso_gp_ex1_pred.reshape(len(tt)) - 2 * np.sqrt(qso_gp_ex1_mse), \n",
    "                qso_gp_ex1_pred.reshape(len(tt)) + 2 * np.sqrt(qso_gp_ex1_mse), \n",
    "                color='gray', alpha=0.3)\n",
    "ax.errorbar(qso['time'], qso['mag'], qso['mag.error'], fmt='.k', ms=6)\n",
    "ax.set_xlabel('Time [d]')\n",
    "ax.set_xlabel('Magnitude')\n",
    "plt.title('Absolute exponential model')\n",
    "\n",
    "\n",
    "#plt.xlim(-0.1,4.)\n",
    "\n",
    "plt.show()"
   ]
  },
  {
   "cell_type": "markdown",
   "metadata": {},
   "source": [
    "FURTHER IDEAS TO WORK ON\n",
    "\n",
    "Continuation of exercise 3: generalization of the wavelet spectrum to uneven sampling\n",
    "\n",
    "How would you create a generalization of the wavelet analysis for uneven sampling? The straightforward ideas are what corresponds to the Deeming method and what corresponds to the least squares method. Try to implement the first. Simulate a Morlet wavelet as signal.\n",
    "\n",
    "(a) Sample it at regular times, and compute its wavelet transform with several Q parameters (not necessarily with what you used in the simulation). \n",
    "\n",
    "(b) Sample it now at uneven times. How the naively generalized procedure performs? Compare the wavelet spectra.\n",
    "\n",
    "(c) Look at the Cepheid spectrum with it. Compare with the time-resolved GLS spectrum from 3.1. \n",
    "\n",
    "Continuation of exercise 4: how would you try to model the within-night variance other than with only the nugget effect?"
   ]
  }
 ],
 "metadata": {
  "kernelspec": {
   "display_name": "Python 2",
   "language": "python",
   "name": "python2"
  },
  "language_info": {
   "codemirror_mode": {
    "name": "ipython",
    "version": 2
   },
   "file_extension": ".py",
   "mimetype": "text/x-python",
   "name": "python",
   "nbconvert_exporter": "python",
   "pygments_lexer": "ipython2",
   "version": "2.7.11"
  }
 },
 "nbformat": 4,
 "nbformat_minor": 0
}
